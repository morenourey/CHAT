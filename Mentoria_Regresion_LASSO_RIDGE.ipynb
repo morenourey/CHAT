{
  "nbformat": 4,
  "nbformat_minor": 0,
  "metadata": {
    "colab": {
      "provenance": [],
      "include_colab_link": true
    },
    "kernelspec": {
      "name": "python3",
      "display_name": "Python 3"
    },
    "language_info": {
      "name": "python"
    }
  },
  "cells": [
    {
      "cell_type": "markdown",
      "metadata": {
        "id": "view-in-github",
        "colab_type": "text"
      },
      "source": [
        "<a href=\"https://colab.research.google.com/github/morenourey/CHAT/blob/main/Mentoria_Regresion_LASSO_RIDGE.ipynb\" target=\"_parent\"><img src=\"https://colab.research.google.com/assets/colab-badge.svg\" alt=\"Open In Colab\"/></a>"
      ]
    },
    {
      "cell_type": "code",
      "execution_count": null,
      "metadata": {
        "id": "DNaY1Ca_MXbI"
      },
      "outputs": [],
      "source": [
        "# Settings for the visualizations\n",
        "import matplotlib.pylab as plt\n",
        "%matplotlib inline\n",
        "plt.rc('font', size=12)\n",
        "plt.rc('figure', figsize = (12, 5))\n",
        "\n",
        "import seaborn as sns\n",
        "sns.set_style(\"whitegrid\")\n",
        "sns.set_context(\"notebook\", font_scale=1, rc={\"lines.linewidth\": 2,'font.family': [u'times']})"
      ]
    },
    {
      "cell_type": "code",
      "source": [
        "import numpy as np\n",
        "import pandas as pd\n",
        "\n",
        "from sklearn import datasets\n",
        "from sklearn.model_selection import train_test_split\n",
        "\n",
        "from sklearn import linear_model\n",
        "from sklearn.linear_model import LinearRegression\n",
        "\n",
        "\n",
        "from sklearn.metrics import mean_squared_error, r2_score"
      ],
      "metadata": {
        "id": "bQ6QNAaoMg3R"
      },
      "execution_count": null,
      "outputs": []
    },
    {
      "cell_type": "code",
      "source": [
        "seed = 42"
      ],
      "metadata": {
        "id": "3mZIVNbkMjjh"
      },
      "execution_count": null,
      "outputs": []
    },
    {
      "cell_type": "code",
      "source": [
        "from google.colab import drive\n",
        "drive.mount('/content/drive')"
      ],
      "metadata": {
        "colab": {
          "base_uri": "https://localhost:8080/"
        },
        "id": "2VV4wuz28_dH",
        "outputId": "9e3f3e46-86c8-40d8-fe66-a6cdafc4aa64"
      },
      "execution_count": null,
      "outputs": [
        {
          "output_type": "stream",
          "name": "stdout",
          "text": [
            "Mounted at /content/drive\n"
          ]
        }
      ]
    },
    {
      "cell_type": "code",
      "source": [
        "df_boston = pd.read_csv(\"/content/drive/MyDrive/DS/DSC/2805/stuff/boston_house_prices.csv\",header=1)\n",
        "df_boston.rename(columns={\"MEDV\": \"PRICE\"}, inplace=True)"
      ],
      "metadata": {
        "id": "ogu0rB6sM-HL"
      },
      "execution_count": null,
      "outputs": []
    },
    {
      "cell_type": "code",
      "source": [
        "boston_features = df_boston.drop(columns=['PRICE']).columns\n",
        "boston_features"
      ],
      "metadata": {
        "colab": {
          "base_uri": "https://localhost:8080/"
        },
        "id": "8o2Fh8PVMmwy",
        "outputId": "7fdb7ef2-f1ef-4e7e-aa42-04270c7aa5fb"
      },
      "execution_count": null,
      "outputs": [
        {
          "output_type": "execute_result",
          "data": {
            "text/plain": [
              "Index(['CRIM', 'ZN', 'INDUS', 'CHAS', 'NOX', 'RM', 'AGE', 'DIS', 'RAD', 'TAX',\n",
              "       'PTRATIO', 'B', 'LSTAT'],\n",
              "      dtype='object')"
            ]
          },
          "metadata": {},
          "execution_count": 8
        }
      ]
    },
    {
      "cell_type": "code",
      "source": [
        "df_boston.head()"
      ],
      "metadata": {
        "colab": {
          "base_uri": "https://localhost:8080/",
          "height": 206
        },
        "id": "AMpMkB9jNGAD",
        "outputId": "42148d84-669f-4507-e660-cdd284a356a9"
      },
      "execution_count": null,
      "outputs": [
        {
          "output_type": "execute_result",
          "data": {
            "text/plain": [
              "      CRIM    ZN  INDUS  CHAS    NOX     RM   AGE     DIS  RAD  TAX  PTRATIO  \\\n",
              "0  0.00632  18.0   2.31     0  0.538  6.575  65.2  4.0900    1  296     15.3   \n",
              "1  0.02731   0.0   7.07     0  0.469  6.421  78.9  4.9671    2  242     17.8   \n",
              "2  0.02729   0.0   7.07     0  0.469  7.185  61.1  4.9671    2  242     17.8   \n",
              "3  0.03237   0.0   2.18     0  0.458  6.998  45.8  6.0622    3  222     18.7   \n",
              "4  0.06905   0.0   2.18     0  0.458  7.147  54.2  6.0622    3  222     18.7   \n",
              "\n",
              "        B  LSTAT  PRICE  \n",
              "0  396.90   4.98   24.0  \n",
              "1  396.90   9.14   21.6  \n",
              "2  392.83   4.03   34.7  \n",
              "3  394.63   2.94   33.4  \n",
              "4  396.90   5.33   36.2  "
            ],
            "text/html": [
              "\n",
              "  <div id=\"df-c86ed30f-7917-4c34-865f-dc6bf78d4a4d\" class=\"colab-df-container\">\n",
              "    <div>\n",
              "<style scoped>\n",
              "    .dataframe tbody tr th:only-of-type {\n",
              "        vertical-align: middle;\n",
              "    }\n",
              "\n",
              "    .dataframe tbody tr th {\n",
              "        vertical-align: top;\n",
              "    }\n",
              "\n",
              "    .dataframe thead th {\n",
              "        text-align: right;\n",
              "    }\n",
              "</style>\n",
              "<table border=\"1\" class=\"dataframe\">\n",
              "  <thead>\n",
              "    <tr style=\"text-align: right;\">\n",
              "      <th></th>\n",
              "      <th>CRIM</th>\n",
              "      <th>ZN</th>\n",
              "      <th>INDUS</th>\n",
              "      <th>CHAS</th>\n",
              "      <th>NOX</th>\n",
              "      <th>RM</th>\n",
              "      <th>AGE</th>\n",
              "      <th>DIS</th>\n",
              "      <th>RAD</th>\n",
              "      <th>TAX</th>\n",
              "      <th>PTRATIO</th>\n",
              "      <th>B</th>\n",
              "      <th>LSTAT</th>\n",
              "      <th>PRICE</th>\n",
              "    </tr>\n",
              "  </thead>\n",
              "  <tbody>\n",
              "    <tr>\n",
              "      <th>0</th>\n",
              "      <td>0.00632</td>\n",
              "      <td>18.0</td>\n",
              "      <td>2.31</td>\n",
              "      <td>0</td>\n",
              "      <td>0.538</td>\n",
              "      <td>6.575</td>\n",
              "      <td>65.2</td>\n",
              "      <td>4.0900</td>\n",
              "      <td>1</td>\n",
              "      <td>296</td>\n",
              "      <td>15.3</td>\n",
              "      <td>396.90</td>\n",
              "      <td>4.98</td>\n",
              "      <td>24.0</td>\n",
              "    </tr>\n",
              "    <tr>\n",
              "      <th>1</th>\n",
              "      <td>0.02731</td>\n",
              "      <td>0.0</td>\n",
              "      <td>7.07</td>\n",
              "      <td>0</td>\n",
              "      <td>0.469</td>\n",
              "      <td>6.421</td>\n",
              "      <td>78.9</td>\n",
              "      <td>4.9671</td>\n",
              "      <td>2</td>\n",
              "      <td>242</td>\n",
              "      <td>17.8</td>\n",
              "      <td>396.90</td>\n",
              "      <td>9.14</td>\n",
              "      <td>21.6</td>\n",
              "    </tr>\n",
              "    <tr>\n",
              "      <th>2</th>\n",
              "      <td>0.02729</td>\n",
              "      <td>0.0</td>\n",
              "      <td>7.07</td>\n",
              "      <td>0</td>\n",
              "      <td>0.469</td>\n",
              "      <td>7.185</td>\n",
              "      <td>61.1</td>\n",
              "      <td>4.9671</td>\n",
              "      <td>2</td>\n",
              "      <td>242</td>\n",
              "      <td>17.8</td>\n",
              "      <td>392.83</td>\n",
              "      <td>4.03</td>\n",
              "      <td>34.7</td>\n",
              "    </tr>\n",
              "    <tr>\n",
              "      <th>3</th>\n",
              "      <td>0.03237</td>\n",
              "      <td>0.0</td>\n",
              "      <td>2.18</td>\n",
              "      <td>0</td>\n",
              "      <td>0.458</td>\n",
              "      <td>6.998</td>\n",
              "      <td>45.8</td>\n",
              "      <td>6.0622</td>\n",
              "      <td>3</td>\n",
              "      <td>222</td>\n",
              "      <td>18.7</td>\n",
              "      <td>394.63</td>\n",
              "      <td>2.94</td>\n",
              "      <td>33.4</td>\n",
              "    </tr>\n",
              "    <tr>\n",
              "      <th>4</th>\n",
              "      <td>0.06905</td>\n",
              "      <td>0.0</td>\n",
              "      <td>2.18</td>\n",
              "      <td>0</td>\n",
              "      <td>0.458</td>\n",
              "      <td>7.147</td>\n",
              "      <td>54.2</td>\n",
              "      <td>6.0622</td>\n",
              "      <td>3</td>\n",
              "      <td>222</td>\n",
              "      <td>18.7</td>\n",
              "      <td>396.90</td>\n",
              "      <td>5.33</td>\n",
              "      <td>36.2</td>\n",
              "    </tr>\n",
              "  </tbody>\n",
              "</table>\n",
              "</div>\n",
              "    <div class=\"colab-df-buttons\">\n",
              "\n",
              "  <div class=\"colab-df-container\">\n",
              "    <button class=\"colab-df-convert\" onclick=\"convertToInteractive('df-c86ed30f-7917-4c34-865f-dc6bf78d4a4d')\"\n",
              "            title=\"Convert this dataframe to an interactive table.\"\n",
              "            style=\"display:none;\">\n",
              "\n",
              "  <svg xmlns=\"http://www.w3.org/2000/svg\" height=\"24px\" viewBox=\"0 -960 960 960\">\n",
              "    <path d=\"M120-120v-720h720v720H120Zm60-500h600v-160H180v160Zm220 220h160v-160H400v160Zm0 220h160v-160H400v160ZM180-400h160v-160H180v160Zm440 0h160v-160H620v160ZM180-180h160v-160H180v160Zm440 0h160v-160H620v160Z\"/>\n",
              "  </svg>\n",
              "    </button>\n",
              "\n",
              "  <style>\n",
              "    .colab-df-container {\n",
              "      display:flex;\n",
              "      gap: 12px;\n",
              "    }\n",
              "\n",
              "    .colab-df-convert {\n",
              "      background-color: #E8F0FE;\n",
              "      border: none;\n",
              "      border-radius: 50%;\n",
              "      cursor: pointer;\n",
              "      display: none;\n",
              "      fill: #1967D2;\n",
              "      height: 32px;\n",
              "      padding: 0 0 0 0;\n",
              "      width: 32px;\n",
              "    }\n",
              "\n",
              "    .colab-df-convert:hover {\n",
              "      background-color: #E2EBFA;\n",
              "      box-shadow: 0px 1px 2px rgba(60, 64, 67, 0.3), 0px 1px 3px 1px rgba(60, 64, 67, 0.15);\n",
              "      fill: #174EA6;\n",
              "    }\n",
              "\n",
              "    .colab-df-buttons div {\n",
              "      margin-bottom: 4px;\n",
              "    }\n",
              "\n",
              "    [theme=dark] .colab-df-convert {\n",
              "      background-color: #3B4455;\n",
              "      fill: #D2E3FC;\n",
              "    }\n",
              "\n",
              "    [theme=dark] .colab-df-convert:hover {\n",
              "      background-color: #434B5C;\n",
              "      box-shadow: 0px 1px 3px 1px rgba(0, 0, 0, 0.15);\n",
              "      filter: drop-shadow(0px 1px 2px rgba(0, 0, 0, 0.3));\n",
              "      fill: #FFFFFF;\n",
              "    }\n",
              "  </style>\n",
              "\n",
              "    <script>\n",
              "      const buttonEl =\n",
              "        document.querySelector('#df-c86ed30f-7917-4c34-865f-dc6bf78d4a4d button.colab-df-convert');\n",
              "      buttonEl.style.display =\n",
              "        google.colab.kernel.accessAllowed ? 'block' : 'none';\n",
              "\n",
              "      async function convertToInteractive(key) {\n",
              "        const element = document.querySelector('#df-c86ed30f-7917-4c34-865f-dc6bf78d4a4d');\n",
              "        const dataTable =\n",
              "          await google.colab.kernel.invokeFunction('convertToInteractive',\n",
              "                                                    [key], {});\n",
              "        if (!dataTable) return;\n",
              "\n",
              "        const docLinkHtml = 'Like what you see? Visit the ' +\n",
              "          '<a target=\"_blank\" href=https://colab.research.google.com/notebooks/data_table.ipynb>data table notebook</a>'\n",
              "          + ' to learn more about interactive tables.';\n",
              "        element.innerHTML = '';\n",
              "        dataTable['output_type'] = 'display_data';\n",
              "        await google.colab.output.renderOutput(dataTable, element);\n",
              "        const docLink = document.createElement('div');\n",
              "        docLink.innerHTML = docLinkHtml;\n",
              "        element.appendChild(docLink);\n",
              "      }\n",
              "    </script>\n",
              "  </div>\n",
              "\n",
              "\n",
              "<div id=\"df-50d63ee9-ecb7-42a6-bde7-2f09b0d46ff2\">\n",
              "  <button class=\"colab-df-quickchart\" onclick=\"quickchart('df-50d63ee9-ecb7-42a6-bde7-2f09b0d46ff2')\"\n",
              "            title=\"Suggest charts\"\n",
              "            style=\"display:none;\">\n",
              "\n",
              "<svg xmlns=\"http://www.w3.org/2000/svg\" height=\"24px\"viewBox=\"0 0 24 24\"\n",
              "     width=\"24px\">\n",
              "    <g>\n",
              "        <path d=\"M19 3H5c-1.1 0-2 .9-2 2v14c0 1.1.9 2 2 2h14c1.1 0 2-.9 2-2V5c0-1.1-.9-2-2-2zM9 17H7v-7h2v7zm4 0h-2V7h2v10zm4 0h-2v-4h2v4z\"/>\n",
              "    </g>\n",
              "</svg>\n",
              "  </button>\n",
              "\n",
              "<style>\n",
              "  .colab-df-quickchart {\n",
              "      --bg-color: #E8F0FE;\n",
              "      --fill-color: #1967D2;\n",
              "      --hover-bg-color: #E2EBFA;\n",
              "      --hover-fill-color: #174EA6;\n",
              "      --disabled-fill-color: #AAA;\n",
              "      --disabled-bg-color: #DDD;\n",
              "  }\n",
              "\n",
              "  [theme=dark] .colab-df-quickchart {\n",
              "      --bg-color: #3B4455;\n",
              "      --fill-color: #D2E3FC;\n",
              "      --hover-bg-color: #434B5C;\n",
              "      --hover-fill-color: #FFFFFF;\n",
              "      --disabled-bg-color: #3B4455;\n",
              "      --disabled-fill-color: #666;\n",
              "  }\n",
              "\n",
              "  .colab-df-quickchart {\n",
              "    background-color: var(--bg-color);\n",
              "    border: none;\n",
              "    border-radius: 50%;\n",
              "    cursor: pointer;\n",
              "    display: none;\n",
              "    fill: var(--fill-color);\n",
              "    height: 32px;\n",
              "    padding: 0;\n",
              "    width: 32px;\n",
              "  }\n",
              "\n",
              "  .colab-df-quickchart:hover {\n",
              "    background-color: var(--hover-bg-color);\n",
              "    box-shadow: 0 1px 2px rgba(60, 64, 67, 0.3), 0 1px 3px 1px rgba(60, 64, 67, 0.15);\n",
              "    fill: var(--button-hover-fill-color);\n",
              "  }\n",
              "\n",
              "  .colab-df-quickchart-complete:disabled,\n",
              "  .colab-df-quickchart-complete:disabled:hover {\n",
              "    background-color: var(--disabled-bg-color);\n",
              "    fill: var(--disabled-fill-color);\n",
              "    box-shadow: none;\n",
              "  }\n",
              "\n",
              "  .colab-df-spinner {\n",
              "    border: 2px solid var(--fill-color);\n",
              "    border-color: transparent;\n",
              "    border-bottom-color: var(--fill-color);\n",
              "    animation:\n",
              "      spin 1s steps(1) infinite;\n",
              "  }\n",
              "\n",
              "  @keyframes spin {\n",
              "    0% {\n",
              "      border-color: transparent;\n",
              "      border-bottom-color: var(--fill-color);\n",
              "      border-left-color: var(--fill-color);\n",
              "    }\n",
              "    20% {\n",
              "      border-color: transparent;\n",
              "      border-left-color: var(--fill-color);\n",
              "      border-top-color: var(--fill-color);\n",
              "    }\n",
              "    30% {\n",
              "      border-color: transparent;\n",
              "      border-left-color: var(--fill-color);\n",
              "      border-top-color: var(--fill-color);\n",
              "      border-right-color: var(--fill-color);\n",
              "    }\n",
              "    40% {\n",
              "      border-color: transparent;\n",
              "      border-right-color: var(--fill-color);\n",
              "      border-top-color: var(--fill-color);\n",
              "    }\n",
              "    60% {\n",
              "      border-color: transparent;\n",
              "      border-right-color: var(--fill-color);\n",
              "    }\n",
              "    80% {\n",
              "      border-color: transparent;\n",
              "      border-right-color: var(--fill-color);\n",
              "      border-bottom-color: var(--fill-color);\n",
              "    }\n",
              "    90% {\n",
              "      border-color: transparent;\n",
              "      border-bottom-color: var(--fill-color);\n",
              "    }\n",
              "  }\n",
              "</style>\n",
              "\n",
              "  <script>\n",
              "    async function quickchart(key) {\n",
              "      const quickchartButtonEl =\n",
              "        document.querySelector('#' + key + ' button');\n",
              "      quickchartButtonEl.disabled = true;  // To prevent multiple clicks.\n",
              "      quickchartButtonEl.classList.add('colab-df-spinner');\n",
              "      try {\n",
              "        const charts = await google.colab.kernel.invokeFunction(\n",
              "            'suggestCharts', [key], {});\n",
              "      } catch (error) {\n",
              "        console.error('Error during call to suggestCharts:', error);\n",
              "      }\n",
              "      quickchartButtonEl.classList.remove('colab-df-spinner');\n",
              "      quickchartButtonEl.classList.add('colab-df-quickchart-complete');\n",
              "    }\n",
              "    (() => {\n",
              "      let quickchartButtonEl =\n",
              "        document.querySelector('#df-50d63ee9-ecb7-42a6-bde7-2f09b0d46ff2 button');\n",
              "      quickchartButtonEl.style.display =\n",
              "        google.colab.kernel.accessAllowed ? 'block' : 'none';\n",
              "    })();\n",
              "  </script>\n",
              "</div>\n",
              "    </div>\n",
              "  </div>\n"
            ],
            "application/vnd.google.colaboratory.intrinsic+json": {
              "type": "dataframe",
              "variable_name": "df_boston",
              "summary": "{\n  \"name\": \"df_boston\",\n  \"rows\": 506,\n  \"fields\": [\n    {\n      \"column\": \"CRIM\",\n      \"properties\": {\n        \"dtype\": \"number\",\n        \"std\": 8.60154510533249,\n        \"min\": 0.00632,\n        \"max\": 88.9762,\n        \"num_unique_values\": 504,\n        \"samples\": [\n          0.09178,\n          0.05644,\n          0.10574\n        ],\n        \"semantic_type\": \"\",\n        \"description\": \"\"\n      }\n    },\n    {\n      \"column\": \"ZN\",\n      \"properties\": {\n        \"dtype\": \"number\",\n        \"std\": 23.32245299451514,\n        \"min\": 0.0,\n        \"max\": 100.0,\n        \"num_unique_values\": 26,\n        \"samples\": [\n          25.0,\n          30.0,\n          18.0\n        ],\n        \"semantic_type\": \"\",\n        \"description\": \"\"\n      }\n    },\n    {\n      \"column\": \"INDUS\",\n      \"properties\": {\n        \"dtype\": \"number\",\n        \"std\": 6.860352940897585,\n        \"min\": 0.46,\n        \"max\": 27.74,\n        \"num_unique_values\": 76,\n        \"samples\": [\n          8.14,\n          1.47,\n          1.22\n        ],\n        \"semantic_type\": \"\",\n        \"description\": \"\"\n      }\n    },\n    {\n      \"column\": \"CHAS\",\n      \"properties\": {\n        \"dtype\": \"number\",\n        \"std\": 0,\n        \"min\": 0,\n        \"max\": 1,\n        \"num_unique_values\": 2,\n        \"samples\": [\n          1,\n          0\n        ],\n        \"semantic_type\": \"\",\n        \"description\": \"\"\n      }\n    },\n    {\n      \"column\": \"NOX\",\n      \"properties\": {\n        \"dtype\": \"number\",\n        \"std\": 0.11587767566755595,\n        \"min\": 0.385,\n        \"max\": 0.871,\n        \"num_unique_values\": 81,\n        \"samples\": [\n          0.401,\n          0.538\n        ],\n        \"semantic_type\": \"\",\n        \"description\": \"\"\n      }\n    },\n    {\n      \"column\": \"RM\",\n      \"properties\": {\n        \"dtype\": \"number\",\n        \"std\": 0.7026171434153233,\n        \"min\": 3.561,\n        \"max\": 8.78,\n        \"num_unique_values\": 446,\n        \"samples\": [\n          6.849,\n          4.88\n        ],\n        \"semantic_type\": \"\",\n        \"description\": \"\"\n      }\n    },\n    {\n      \"column\": \"AGE\",\n      \"properties\": {\n        \"dtype\": \"number\",\n        \"std\": 28.148861406903617,\n        \"min\": 2.9,\n        \"max\": 100.0,\n        \"num_unique_values\": 356,\n        \"samples\": [\n          51.8,\n          33.8\n        ],\n        \"semantic_type\": \"\",\n        \"description\": \"\"\n      }\n    },\n    {\n      \"column\": \"DIS\",\n      \"properties\": {\n        \"dtype\": \"number\",\n        \"std\": 2.105710126627611,\n        \"min\": 1.1296,\n        \"max\": 12.1265,\n        \"num_unique_values\": 412,\n        \"samples\": [\n          2.2955,\n          4.2515\n        ],\n        \"semantic_type\": \"\",\n        \"description\": \"\"\n      }\n    },\n    {\n      \"column\": \"RAD\",\n      \"properties\": {\n        \"dtype\": \"number\",\n        \"std\": 8,\n        \"min\": 1,\n        \"max\": 24,\n        \"num_unique_values\": 9,\n        \"samples\": [\n          7,\n          2\n        ],\n        \"semantic_type\": \"\",\n        \"description\": \"\"\n      }\n    },\n    {\n      \"column\": \"TAX\",\n      \"properties\": {\n        \"dtype\": \"number\",\n        \"std\": 168,\n        \"min\": 187,\n        \"max\": 711,\n        \"num_unique_values\": 66,\n        \"samples\": [\n          370,\n          666\n        ],\n        \"semantic_type\": \"\",\n        \"description\": \"\"\n      }\n    },\n    {\n      \"column\": \"PTRATIO\",\n      \"properties\": {\n        \"dtype\": \"number\",\n        \"std\": 2.1649455237144406,\n        \"min\": 12.6,\n        \"max\": 22.0,\n        \"num_unique_values\": 46,\n        \"samples\": [\n          19.6,\n          15.6\n        ],\n        \"semantic_type\": \"\",\n        \"description\": \"\"\n      }\n    },\n    {\n      \"column\": \"B\",\n      \"properties\": {\n        \"dtype\": \"number\",\n        \"std\": 91.29486438415783,\n        \"min\": 0.32,\n        \"max\": 396.9,\n        \"num_unique_values\": 357,\n        \"samples\": [\n          396.24,\n          395.11\n        ],\n        \"semantic_type\": \"\",\n        \"description\": \"\"\n      }\n    },\n    {\n      \"column\": \"LSTAT\",\n      \"properties\": {\n        \"dtype\": \"number\",\n        \"std\": 7.141061511348571,\n        \"min\": 1.73,\n        \"max\": 37.97,\n        \"num_unique_values\": 455,\n        \"samples\": [\n          6.15,\n          4.32\n        ],\n        \"semantic_type\": \"\",\n        \"description\": \"\"\n      }\n    },\n    {\n      \"column\": \"PRICE\",\n      \"properties\": {\n        \"dtype\": \"number\",\n        \"std\": 9.197104087379818,\n        \"min\": 5.0,\n        \"max\": 50.0,\n        \"num_unique_values\": 229,\n        \"samples\": [\n          14.1,\n          22.5\n        ],\n        \"semantic_type\": \"\",\n        \"description\": \"\"\n      }\n    }\n  ]\n}"
            }
          },
          "metadata": {},
          "execution_count": 9
        }
      ]
    },
    {
      "cell_type": "code",
      "source": [
        "X_boston = df_boston.drop(columns=['PRICE']).values\n",
        "X_boston.shape"
      ],
      "metadata": {
        "colab": {
          "base_uri": "https://localhost:8080/"
        },
        "id": "A19SVOKXNLO6",
        "outputId": "c344dbc7-3ae1-4f8d-8771-2f621ac4e874"
      },
      "execution_count": null,
      "outputs": [
        {
          "output_type": "execute_result",
          "data": {
            "text/plain": [
              "(506, 13)"
            ]
          },
          "metadata": {},
          "execution_count": 10
        }
      ]
    },
    {
      "cell_type": "code",
      "source": [
        "y_boston = df_boston.PRICE\n",
        "y_boston.shape"
      ],
      "metadata": {
        "colab": {
          "base_uri": "https://localhost:8080/"
        },
        "id": "LGhcuGLRNPSK",
        "outputId": "bfdd4361-fac2-4881-eb37-a17159880631"
      },
      "execution_count": null,
      "outputs": [
        {
          "output_type": "execute_result",
          "data": {
            "text/plain": [
              "(506,)"
            ]
          },
          "metadata": {},
          "execution_count": 11
        }
      ]
    },
    {
      "cell_type": "code",
      "source": [
        "# Train test split\n",
        "from sklearn.model_selection import train_test_split\n",
        "X_train, X_test, y_train, y_test = train_test_split(X_boston, y_boston, test_size=0.3, random_state=seed)\n",
        "\n",
        "print('Train and test sizes of X: {} {}'.format(X_train.shape, X_test.shape))\n",
        "print('Train and test sizes of y: {} {}'.format(y_train.shape, y_test.shape))"
      ],
      "metadata": {
        "id": "IPmHjhhQNQJa"
      },
      "execution_count": null,
      "outputs": []
    },
    {
      "cell_type": "code",
      "source": [
        "# Fitting a multiple linear model\n",
        "lr = LinearRegression() # Create the Linear Regression estimator\n",
        "lr.fit(X_train, y_train) # Perform the fitting\n",
        "\n",
        "\n",
        "# Regrerssion coefs\n",
        "coefs_lr = pd.Series(np.abs(lr.coef_), boston_features).sort_values()\n",
        "\n",
        "# Prediction\n",
        "y_test_pred = lr.predict(X_test)\n",
        "\n",
        "# evaluation\n",
        "mse = mean_squared_error(y_test, y_test_pred)\n",
        "r2score = lr.score(X_test, y_test)\n",
        "\n",
        "print('\\nIntercept and coefs:\\n{} {}'.format(lr.intercept_, lr.coef_))\n",
        "print('\\nMSE: {}'.format(mse))\n",
        "print('R^2 Score test: {}'.format(r2score))"
      ],
      "metadata": {
        "id": "SKNGPBDbNXGS"
      },
      "execution_count": null,
      "outputs": []
    },
    {
      "cell_type": "code",
      "source": [
        "coefs_lr.plot(kind='bar', title='Model Coefficients')"
      ],
      "metadata": {
        "id": "QCk3rDGWNciS"
      },
      "execution_count": null,
      "outputs": []
    },
    {
      "cell_type": "code",
      "source": [
        "coefs_lr"
      ],
      "metadata": {
        "id": "1BL2bSXnNfei"
      },
      "execution_count": null,
      "outputs": []
    },
    {
      "cell_type": "markdown",
      "source": [
        "Podemos ver que todos los coeficientes obtenidos son diferentes de cero, lo que significa que no se descarta ninguna variable.\n",
        "A continuación, intentaremos construir un nuevo modelo para predecir el precio utilizando los factores más importantes y descartando los no informativos. Para ello, podemos crear un regresor con LASSO, forzando coeficientes cero:"
      ],
      "metadata": {
        "id": "uvwRPl0HQToM"
      }
    },
    {
      "cell_type": "markdown",
      "source": [
        "## Regularization Models\n",
        "\n",
        "### L2 Regularization: Ridge Regression.\n",
        "\n",
        "La regresión Ridge penaliza los coeficientes si se alejan demasiado de cero, lo que obliga a que sean pequeños de forma continua. De este modo, disminuye la complejidad del modelo manteniendo todas las variables en él.\n",
        "\n",
        "$$ minimize(\\sum_{i=0}^n (y_i - \\beta_0- \\sum_{j=1}^p \\beta_jx_{ij})^2 + \\alpha\\sum_{j=1}^p \\beta_j^2) $$\n",
        "\n",
        "where $\\beta_j$ are the regression coefficients.\n",
        "\n",
        "\n",
        "### L1 Regularization: Lasso Regression\n",
        "\n",
        "A menudo, en los problemas reales, hay variables no informativas en los datos que impiden una modelización adecuada del problema y, por tanto, la construcción de un modelo de regresión correcto. En tales casos, es crucial un proceso de selección de características para seleccionar sólo las características informativas y descartar las no informativas. Esto puede lograrse mediante métodos dispersos que utilizan un enfoque de penalización, como *Lasso* (operador de selección y reducción mínima absoluta) para poner a cero algunos coeficientes del modelo (descartando así esas variables). La sparsity puede verse como una aplicación de la navaja de Occam: preferir modelos más simples a los complejos.\n",
        "\n",
        "Para ello, la regresión Lasso añade un término de regularización **$\\ell_1$-norma** a la suma de errores cuadrados de predicción (SSE).  Dado el conjunto de muestras (𝑋,𝐲), el objetivo es minimizar:\n",
        "\n",
        "$$ minimize(\\sum_{i=0}^n (y_i - \\beta_0- \\sum_{j=1}^p \\beta_jx_{ij})^2 + \\alpha\\sum_{j=1}^p|\\beta_j|)$$\n",
        "\n"
      ],
      "metadata": {
        "id": "yPziy3tlQhx8"
      }
    },
    {
      "cell_type": "markdown",
      "source": [
        "### Ridge"
      ],
      "metadata": {
        "id": "2k6q6RoORa9U"
      }
    },
    {
      "cell_type": "code",
      "source": [
        "## Ridge Regression\n",
        "ridge = linear_model.Ridge(alpha=1) # Create a Ridge regressor\n",
        "ridge.fit(X_train, y_train) # Perform the fitting\n",
        "\n",
        "# Regrerssion coefs\n",
        "coefs_ridge = pd.Series(np.abs(ridge.coef_), boston_features).sort_values()\n",
        "\n",
        "# Prediction\n",
        "y_test_pred_ridge = ridge.predict(X_test)\n",
        "\n",
        "# evaluation\n",
        "mse_ridge = mean_squared_error(y_test, y_test_pred_ridge)\n",
        "r2score_ridge = ridge.score(X_test, y_test)\n",
        "\n",
        "print('\\nIntercept and coefs:\\n{} {}'.format(ridge.intercept_, ridge.coef_))\n",
        "print('\\nMSE: {}'.format(mse_ridge))\n",
        "print('R^2 Score: {}'.format(r2score_ridge))"
      ],
      "metadata": {
        "id": "M--ZtSVHQiMy"
      },
      "execution_count": null,
      "outputs": []
    },
    {
      "cell_type": "code",
      "source": [
        "coefs_ridge.plot(kind='bar', title='Ridge Coefficients')"
      ],
      "metadata": {
        "id": "g_VhK5t8RiNr"
      },
      "execution_count": null,
      "outputs": []
    },
    {
      "cell_type": "markdown",
      "source": [
        "### Lasso\n"
      ],
      "metadata": {
        "id": "sNXChcZdRgqb"
      }
    },
    {
      "cell_type": "code",
      "source": [
        "## Lasso Regression\n",
        "lasso = linear_model.Lasso(alpha=1)\n",
        "lasso.fit(X_train, y_train)\n",
        "\n",
        "# Regrerssion coefs\n",
        "coefs_lasso = pd.Series(np.abs(lasso.coef_), boston_features).sort_values()\n",
        "\n",
        "# Prediction\n",
        "y_test_pred_lasso = lasso.predict(X_test)\n",
        "\n",
        "# evaluation\n",
        "mse_lasso = mean_squared_error(y_test, y_test_pred_lasso)\n",
        "r2score_lasso = lasso.score(X_test, y_test)\n",
        "\n",
        "\n",
        "# The coefficients\n",
        "print('\\nIntercept and coefs:\\n{} {}'.format(lasso.intercept_, lasso.coef_))\n",
        "\n",
        "# The mean squared error\n",
        "print('\\nMSE: {}'.format(mse_lasso))\n",
        "\n",
        "# The coefficient of determination: 1 is perfect prediction\n",
        "print('R^2 Score: {}'.format(r2score_lasso))"
      ],
      "metadata": {
        "id": "KHW34mcxRhxi"
      },
      "execution_count": null,
      "outputs": []
    },
    {
      "cell_type": "code",
      "source": [
        "coefs_lasso.plot(kind='bar', title='Lasso Coefficients')"
      ],
      "metadata": {
        "id": "6X1M_fvIRn8S"
      },
      "execution_count": null,
      "outputs": []
    },
    {
      "cell_type": "markdown",
      "source": [
        "#### Comparamos resultados:"
      ],
      "metadata": {
        "id": "PCk5Ot6ARtHV"
      }
    },
    {
      "cell_type": "code",
      "source": [
        "f = plt.figure(figsize=(15,5))\n",
        "ax1 = f.add_subplot(131)\n",
        "ax2 = f.add_subplot(132)\n",
        "ax3 = f.add_subplot(133)\n",
        "\n",
        "coefs_lr.plot(kind=\"barh\", title='coefs_lr', ax=ax1)\n",
        "coefs_ridge.plot(kind=\"barh\", title='coefs_ridge', ax=ax2)\n",
        "coefs_lasso.plot(kind=\"barh\", title='coefs_lasso', ax=ax3)"
      ],
      "metadata": {
        "id": "63icR8dARvRC"
      },
      "execution_count": null,
      "outputs": []
    },
    {
      "cell_type": "markdown",
      "source": [
        "En el gráfico presentado, se muestran los coeficientes de diferentes modelos de regresión: regresión lineal (LR), regresión ridge (Ridge) y regresión lasso (Lasso). La razón por la cual los coeficientes en el eje x tienen escalas distintas se debe a las características y regularizaciones propias de cada modelo.\n",
        "\n",
        "**Regresión Lineal (LR):**\n",
        "\n",
        "La regresión lineal estándar no aplica ninguna regularización. Esto significa que los coeficientes pueden tomar cualquier valor que minimice el error cuadrático medio (MSE) sin restricciones adicionales. Como resultado, los coeficientes pueden ser relativamente grandes si los datos lo permiten, como se observa en el gráfico donde el coeficiente para NOX es muy alto comparado con los demás.\n",
        "\n",
        "**Regresión Ridge:**\n",
        "\n",
        "La regresión ridge incluye una penalización L2 que agrega la suma de los cuadrados de los coeficientes al objetivo de minimización. Esta penalización reduce los valores de los coeficientes pero no los lleva exactamente a cero. La penalización controla el tamaño de los coeficientes, resultando en coeficientes más pequeños que en la regresión lineal estándar, pero aún presentes. Esto se observa en el gráfico de coef_ridge donde los coeficientes están en una escala más pequeña en comparación con los de la regresión lineal.\n",
        "\n",
        "\n",
        "**Regresión Lasso:**\n",
        "\n",
        "La regresión lasso incluye una penalización L1 que agrega la suma de los valores absolutos de los coeficientes al objetivo de minimización. Esta penalización no solo reduce los valores de los coeficientes, sino que también puede llevar algunos coeficientes exactamente a cero, efectivamente seleccionando un subconjunto de características. Debido a esta propiedad de seleccionar características, los coeficientes tienden a ser aún más pequeños o nulos, como se observa en el gráfico coef_lasso.\n"
      ],
      "metadata": {
        "id": "C6W9PaL2Sxit"
      }
    },
    {
      "cell_type": "markdown",
      "source": [
        "https://es.images.search.yahoo.com/search/images;_ylt=Awr.oNuHZ05mmuEI6CJU04lQ;_ylu=Y29sbwNpcjIEcG9zAzEEdnRpZAMEc2VjA3BpdnM-?p=regularization+ridge+lasso&fr2=piv-web&type=E210ES91213G0&fr=mcafee#id=27&iurl=https%3A%2F%2Ffavtutor.com%2Fresources%2Fimages%2Fuploads%2Fmceu_95973090761620302179448.png&action=click"
      ],
      "metadata": {
        "id": "OgnNQYUKVdPu"
      }
    },
    {
      "cell_type": "markdown",
      "source": [
        "**Contornos de la Función de Costo:**\n",
        "\n",
        "Las elipses rojas representan los contornos de la función de costo de la regresión lineal.\n",
        "La intersección de estas elipses con la región permitida por la restricción determina los valores óptimos de los coeficientes (\n",
        "𝛽\n",
        "β) en presencia de regularización.\n",
        "\n",
        "\n",
        "***Lasso:***\n",
        "\n",
        "La forma del rombo tiene vértices en los ejes, lo que significa que es más probable que se produzca una intersección en uno de los ejes, resultando en coeficientes exactamente cero.\n",
        "\n",
        "***Ridge:***\n",
        "\n",
        "La forma circular significa que la intersección es más probable en algún lugar dentro del círculo, lo que generalmente produce coeficientes diferentes de cero pero pequeños.\n",
        "\n",
        "\n",
        "**Conclusión**\n",
        "\n",
        "Lasso es útil cuando buscamos un modelo más interpretable que seleccione automáticamente un subconjunto de características.\n",
        "\n",
        "Ridge es útil cuando todas las características son relevantes y preferimos no descartar ninguna, pero deseamos reducir sus magnitudes para evitar sobreajuste.\n",
        "Ambos métodos ayudan a mejorar el rendimiento del modelo y la generalización al evitar el sobreajuste, pero lo hacen de maneras ligeramente diferentes debido a sus diferentes tipos de restricciones."
      ],
      "metadata": {
        "id": "IK6Rtco6VibF"
      }
    },
    {
      "cell_type": "code",
      "source": [
        "coefs_ridge"
      ],
      "metadata": {
        "id": "WZsLAARNU70F"
      },
      "execution_count": null,
      "outputs": []
    },
    {
      "cell_type": "code",
      "source": [
        "coefs_lasso"
      ],
      "metadata": {
        "id": "TO_cGqekVpum"
      },
      "execution_count": null,
      "outputs": []
    },
    {
      "cell_type": "code",
      "source": [
        "scores = [[r2score, mse],\n",
        "         [r2score_ridge, mse_ridge],\n",
        "         [r2score_lasso, mse_lasso]]\n",
        "df_scores = pd.DataFrame(scores, columns=[\"R2\", \"mse\"], index=[\"No regularization\", \"Ridge\", \"Lasso\"])\n",
        "df_scores"
      ],
      "metadata": {
        "id": "NHRCUvYtR5B7"
      },
      "execution_count": null,
      "outputs": []
    },
    {
      "cell_type": "markdown",
      "source": [
        "## Transform and Predict"
      ],
      "metadata": {
        "id": "pG-IuT4ESNTD"
      }
    },
    {
      "cell_type": "code",
      "source": [
        "for i, feat in enumerate(boston_features):\n",
        "    print()\n",
        "    print(feat)\n",
        "    print(\"Max {}, min {}, mean {}, and var {}\".format(np.max(X_boston[:, i]), np.min(X_boston[:, i]), np.mean(X_boston[:, i]), np.var(X_boston[:, i])))"
      ],
      "metadata": {
        "id": "NJBXhHZhSNk6"
      },
      "execution_count": null,
      "outputs": []
    },
    {
      "cell_type": "markdown",
      "source": [
        "Hay un tipo especial de ``Estimator`` llamado ``Transformer`` que transforma los datos de entrada -- por ejemplo, selecciona un subconjunto de las características o extrae nuevas características basadas en las originales.\n",
        "\n",
        "Un transformador que utilizaremos aquí es ``sklearn.preprocessing.StandardScaler``. Este transformador centra cada predictor en ``X`` para tener media cero y varianza unitaria"
      ],
      "metadata": {
        "id": "7mhEMzt4SYAM"
      }
    },
    {
      "cell_type": "code",
      "source": [
        "from sklearn.preprocessing import StandardScaler\n",
        "\n",
        "scalerX = StandardScaler().fit(X_train) # Create the transformer StandardScaler and perform the fitting for the training data\n",
        "\n",
        "X_train_norm = scalerX.transform(X_train)\n",
        "X_test_norm = scalerX.transform(X_test)\n",
        "\n",
        "print(\"\\nBefore transformation:\")\n",
        "print('Train: Max {}, min {}, mean {}, and var {}'.format(np.max(X_train), np.min(X_train), np.mean(X_train), np.var(X_train)))\n",
        "print('Test: Max {}, min {}, mean {}, and var {}'.format(np.max(X_test), np.min(X_test), np.mean(X_test), np.var(X_test)))\n",
        "\n",
        "print(\"\\nAfter transformation:\")\n",
        "print('Train: Max {}, min {}, mean {}, and var {}'.format(np.max(X_train_norm), np.min(X_train_norm), np.mean(X_train_norm), np.var(X_train_norm)))\n",
        "print('Test: Max {}, min {}, mean {}, and var {}'.format(np.max(X_test_norm), np.min(X_test_norm), np.mean(X_test_norm), np.var(X_test_norm)))"
      ],
      "metadata": {
        "id": "vrt46-b5SYOr"
      },
      "execution_count": null,
      "outputs": []
    },
    {
      "cell_type": "code",
      "source": [
        "# Train model\n",
        "lr_norm = linear_model.LinearRegression()\n",
        "ridge_norm = linear_model.Ridge(alpha=.3)\n",
        "lasso_norm = linear_model.Lasso(alpha=.3)\n",
        "\n",
        "lr_norm.fit(X_train_norm, y_train)\n",
        "ridge_norm.fit(X_train_norm, y_train)\n",
        "lasso_norm.fit(X_train_norm, y_train)\n",
        "\n",
        "coefs_lr_norm = pd.Series(np.abs(lr_norm.coef_), boston_features).sort_values()\n",
        "coefs_ridge_norm = pd.Series(np.abs(ridge_norm.coef_), boston_features).sort_values()\n",
        "coefs_lasso_norm = pd.Series(np.abs(lasso_norm.coef_), boston_features).sort_values()"
      ],
      "metadata": {
        "id": "Q5Zdtmn5Sfn8"
      },
      "execution_count": null,
      "outputs": []
    },
    {
      "cell_type": "code",
      "source": [
        "# Before normalization\n",
        "f = plt.figure(figsize=(15,5))\n",
        "ax1 = f.add_subplot(131)\n",
        "ax2 = f.add_subplot(132)\n",
        "ax3 = f.add_subplot(133)\n",
        "\n",
        "coefs_lr.plot(kind=\"barh\", title='coefs_lr', ax=ax1)\n",
        "coefs_ridge.plot(kind=\"barh\", title='coefs_ridge', ax=ax2)\n",
        "coefs_lasso.plot(kind=\"barh\", title='coefs_lasso', ax=ax3)"
      ],
      "metadata": {
        "id": "vaeZQs3eVtoc"
      },
      "execution_count": null,
      "outputs": []
    },
    {
      "cell_type": "code",
      "source": [
        "f = plt.figure(figsize=(15,5))\n",
        "ax1 = f.add_subplot(131)\n",
        "ax2 = f.add_subplot(132)\n",
        "ax3 = f.add_subplot(133)\n",
        "\n",
        "coefs_lr_norm.plot(kind=\"barh\", title='coefs_lr_norm', ax=ax1)\n",
        "coefs_ridge_norm.plot(kind=\"barh\", title='coefs_ridge_norm', ax=ax2)\n",
        "coefs_lasso_norm.plot(kind=\"barh\", title='coefs_lasso_norm', ax=ax3)"
      ],
      "metadata": {
        "id": "7IeCxqvEVuvs"
      },
      "execution_count": null,
      "outputs": []
    },
    {
      "cell_type": "code",
      "source": [
        "# Scores\n",
        "print('lr: {}'.format(lr.score(X_test, y_test)))\n",
        "print('ridge: {}'.format(ridge.score(X_test, y_test)))\n",
        "print('lasso: {}'.format(lasso.score(X_test, y_test)))\n",
        "print('lr_norm: {}'.format(lr_norm.score(X_test_norm, y_test)))\n",
        "print('ridge_norm: {}'.format(ridge_norm.score(X_test_norm, y_test)))\n",
        "print('lasso_norm: {}'.format(lasso_norm.score(X_test_norm, y_test)))"
      ],
      "metadata": {
        "id": "qU2d1st5Vw6c"
      },
      "execution_count": null,
      "outputs": []
    },
    {
      "cell_type": "markdown",
      "source": [
        "#### Interpretación de Resultados\n",
        "\n",
        "1. **Multicolinealidad Moderada**\n",
        "   - La multicolinealidad en el Boston dataset no es lo suficientemente problemática para justificar el uso de Ridge. Esto significa que las características no están tan altamente correlacionadas entre sí como para que la regularización L2 de Ridge ofrezca una mejora significativa en el rendimiento del modelo.\n",
        "\n",
        "2. **Relevancia de las Características**\n",
        "   - Todas las características del Boston dataset parecen ser relevantes para predecir la variable objetivo. La penalización L1 de Lasso está eliminando algunas de estas características importantes, lo que lleva a un peor rendimiento en comparación con la regresión lineal sin regularización.\n",
        "\n",
        "3. **Efecto de la Normalización**\n",
        "   - La normalización de los datos no cambia significativamente los resultados. Esto se debe a que la regresión lineal sin regularización ya está capturando bien las relaciones lineales en los datos. Aunque la normalización mejora ligeramente el rendimiento de Ridge y Lasso, no es suficiente para superar a la regresión lineal simple.\n",
        "\n",
        "#### Conclusión\n",
        "\n",
        "En resumen, la regresión lineal sin regularización está funcionando mejor con el Boston dataset porque:\n",
        "- La multicolinealidad no es lo suficientemente problemática como para requerir Ridge.\n",
        "- Todas las características son relevantes, por lo que Lasso está eliminando características importantes y deteriorando el rendimiento.\n",
        "- La normalización no tiene un impacto significativo porque la regresión lineal sin regularización ya captura bien las relaciones en los datos."
      ],
      "metadata": {
        "id": "m7UeiEpoWWw-"
      }
    },
    {
      "cell_type": "markdown",
      "source": [
        "### Tuning Ridge and Lasso regressors"
      ],
      "metadata": {
        "id": "2iboOSOKWzNe"
      }
    },
    {
      "cell_type": "code",
      "source": [
        "n_alphas = 100\n",
        "alphas = np.logspace(-2, 2, n_alphas)\n",
        "\n",
        "coefs_ridge = []\n",
        "r2_ridge = []\n",
        "for l in alphas:\n",
        "    regr_ridge = linear_model.Ridge(alpha=l) # Create a Ridge regressor\n",
        "    regr_ridge.fit(X_train_norm, y_train)  # Perform the fitting\n",
        "    coefs_ridge.append(regr_ridge.coef_)\n",
        "    r2_ridge.append(regr_ridge.score(X_test_norm,y_test))\n",
        "\n",
        "\n",
        "coefs_lasso = []\n",
        "r2_lasso = []\n",
        "for l in alphas:\n",
        "    regr_lasso = linear_model.Lasso(alpha=l,tol =0.001) # Create a Ridge regressor\n",
        "    regr_lasso.fit(X_train_norm, y_train)  # Perform the fitting\n",
        "    coefs_lasso.append(regr_lasso.coef_)\n",
        "    r2_lasso.append(regr_lasso.score(X_test_norm,y_test))"
      ],
      "metadata": {
        "id": "8CZgaOo3V1ZU"
      },
      "execution_count": null,
      "outputs": []
    },
    {
      "cell_type": "markdown",
      "source": [
        "α: Es el parámetro de regularización que controla la magnitud de la penalización en ambos modelos. Un\n",
        "𝛼\n",
        "α mayor implica una mayor regularización, lo que tiende a simplificar el modelo y reducir el overfitting."
      ],
      "metadata": {
        "id": "RYEj13IOa1FI"
      }
    },
    {
      "cell_type": "code",
      "source": [
        "# Display results\n",
        "\n",
        "fig, axs = plt.subplots(2, 2, figsize=(20, 20), sharey='row')\n",
        "\n",
        "\n",
        "axs[0,0].plot(alphas, np.abs(coefs_ridge))\n",
        "axs[0,0].set_xscale('log')\n",
        "axs[0,0].set_title('Ridge coefficients as a function of the regularization')\n",
        "axs[0,0].axis('tight')\n",
        "axs[0,0].set_xlabel('alpha')\n",
        "axs[0,0].set_ylabel('weights')\n",
        "axs[0,0].legend(boston_features)\n",
        "\n",
        "axs[0,1].plot(alphas, np.abs(coefs_lasso))\n",
        "axs[0,1].set_xscale('log')\n",
        "axs[0,1].set_title('Lasso coefficients as a function of the regularization')\n",
        "axs[0,1].axis('tight')\n",
        "axs[0,1].set_xlabel('alpha')\n",
        "axs[0,1].set_ylabel('weights')\n",
        "axs[0,1].legend(boston_features)\n",
        "\n",
        "axs[1,0].plot(alphas, r2_ridge)\n",
        "axs[1,0].set_xscale('log')\n",
        "axs[1,0].set_title('Ridge scores as a function of the regularization')\n",
        "axs[1,0].axis('tight')\n",
        "axs[1,0].set_xlabel('alpha')\n",
        "axs[1,0].set_ylabel('r2')\n",
        "\n",
        "axs[1,1].plot(alphas, r2_lasso)\n",
        "axs[1,1].set_xscale('log')\n",
        "axs[1,1].set_title('Lasso scores as a function of the regularization')\n",
        "axs[1,1].axis('tight')\n",
        "axs[1,1].set_xlabel('alpha')\n",
        "axs[1,1].set_ylabel('r2')\n",
        "\n",
        "\n",
        "plt.show()"
      ],
      "metadata": {
        "id": "BEOeocOfW1QF"
      },
      "execution_count": null,
      "outputs": []
    },
    {
      "cell_type": "code",
      "source": [
        "# Find optimal alphas\n",
        "best_r2_ridge = max(r2_ridge)\n",
        "max_index_ridge = r2_ridge.index(best_r2_ridge)\n",
        "best_alpha_ridge = alphas[max_index_ridge]\n",
        "print('Ridge')\n",
        "print(max_index_ridge, best_alpha_ridge, best_r2_ridge, r2_ridge[max_index_ridge])\n",
        "\n",
        "best_r2_lasso = max(r2_lasso)\n",
        "max_index_lasso = r2_lasso.index(best_r2_lasso)\n",
        "best_alpha_lasso = alphas[max_index_lasso]\n",
        "print('Lasso')\n",
        "print(max_index_lasso, best_alpha_lasso, best_r2_lasso, r2_lasso[max_index_lasso])"
      ],
      "metadata": {
        "id": "EQNlQCg1XEUw"
      },
      "execution_count": null,
      "outputs": []
    },
    {
      "cell_type": "markdown",
      "source": [
        "Esto quiere decir que, para ambos modelos, el mejor rendimiento se obtiene con un alpha de 0.01. Los modelos alcanzaron un puntaje\n",
        "𝑅\n",
        "2\n",
        "R\n",
        "2\n",
        "  de aproximadamente 0.7397 para Ridge y 0.7397 para Lasso, lo que sugiere que los dos modelos tienen un rendimiento muy similar con ese valor de alpha.\n",
        "\n",
        "El índice 0 indica que este valor de alpha fue el primer elemento en la lista de alphas que probaste. En otras palabras, ambos modelos dieron su mejor rendimiento con el primer valor de alpha que se evaluó (0.01)."
      ],
      "metadata": {
        "id": "hFhHvUZOboxa"
      }
    }
  ]
}