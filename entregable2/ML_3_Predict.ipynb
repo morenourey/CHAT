{
  "cells": [
    {
      "cell_type": "markdown",
      "metadata": {
        "colab_type": "text",
        "id": "view-in-github"
      },
      "source": [
        "<a href=\"https://colab.research.google.com/github/morenourey/CHAT/blob/main/ML_3_Predict.ipynb\" target=\"_parent\"><img src=\"https://colab.research.google.com/assets/colab-badge.svg\" alt=\"Open In Colab\"/></a>"
      ]
    },
    {
      "cell_type": "markdown",
      "metadata": {
        "id": "87Bve6QZggnT"
      },
      "source": [
        "# SUP ML 3 - PREDICT"
      ]
    },
    {
      "cell_type": "markdown",
      "metadata": {
        "id": "jTEOHHidYOV-"
      },
      "source": [
        "# Librerias"
      ]
    },
    {
      "cell_type": "code",
      "execution_count": 1,
      "metadata": {
        "id": "5Rkor61lYTQX"
      },
      "outputs": [],
      "source": [
        "import pandas as pd\n",
        "import numpy as np\n",
        "import matplotlib.pyplot as plt\n",
        "import seaborn as sns\n",
        "import pickle\n",
        "\n",
        "pd.set_option('display.max_columns',None)\n",
        "\n",
        "import warnings\n",
        "warnings.filterwarnings(\"ignore\")"
      ]
    },
    {
      "cell_type": "markdown",
      "metadata": {
        "id": "KohbVrqkJIKU"
      },
      "source": [
        "# Carga modelo"
      ]
    },
    {
      "cell_type": "markdown",
      "metadata": {
        "id": "y4ncLcUnMlT-"
      },
      "source": [
        "* Cargar el modelo\n",
        "* Obtener la lista de model features"
      ]
    },
    {
      "cell_type": "code",
      "execution_count": 2,
      "metadata": {
        "id": "StbMbwFVMjQL"
      },
      "outputs": [],
      "source": [
        "# Cargar el modelo guardado si existe\n",
        "with open('best_model.pkl', 'rb') as f:\n",
        "    model = pickle.load(f)"
      ]
    },
    {
      "cell_type": "code",
      "execution_count": 3,
      "metadata": {},
      "outputs": [
        {
          "data": {
            "text/plain": [
              "['rev',\n",
              " 'mou',\n",
              " 'totmrc',\n",
              " 'da',\n",
              " 'ovrmou',\n",
              " 'ovrrev',\n",
              " 'vceovr',\n",
              " 'datovr',\n",
              " 'roam',\n",
              " 'change_mou',\n",
              " 'change_rev',\n",
              " 'drop_vce',\n",
              " 'drop_dat',\n",
              " 'blck_vce',\n",
              " 'blck_dat',\n",
              " 'unan_vce',\n",
              " 'unan_dat',\n",
              " 'plcd_vce',\n",
              " 'plcd_dat',\n",
              " 'recv_vce',\n",
              " 'recv_sms',\n",
              " 'comp_vce',\n",
              " 'comp_dat',\n",
              " 'custcare',\n",
              " 'ccrndmou',\n",
              " 'cc_mou',\n",
              " 'inonemin',\n",
              " 'threeway',\n",
              " 'mou_cvce',\n",
              " 'mou_cdat',\n",
              " 'mou_rvce',\n",
              " 'owylis_vce',\n",
              " 'mouowylisv',\n",
              " 'iwylis_vce',\n",
              " 'mouiwylisv',\n",
              " 'peak_vce',\n",
              " 'peak_dat',\n",
              " 'mou_peav',\n",
              " 'mou_pead',\n",
              " 'opk_vce',\n",
              " 'opk_dat',\n",
              " 'mou_opkv',\n",
              " 'mou_opkd',\n",
              " 'drop_blk',\n",
              " 'attempt',\n",
              " 'complete',\n",
              " 'callfwdv',\n",
              " 'callwait',\n",
              " 'months',\n",
              " 'uniqsubs',\n",
              " 'actvsubs',\n",
              " 'totcalls',\n",
              " 'totmou',\n",
              " 'totrev',\n",
              " 'adjrev',\n",
              " 'adjmou',\n",
              " 'adjqty',\n",
              " 'avgrev',\n",
              " 'avgmou',\n",
              " 'avgqty',\n",
              " 'avg3mou',\n",
              " 'avg3qty',\n",
              " 'avg3rev',\n",
              " 'avg6mou',\n",
              " 'avg6qty',\n",
              " 'avg6rev',\n",
              " 'hnd_price',\n",
              " 'phones',\n",
              " 'models',\n",
              " 'truck',\n",
              " 'rv',\n",
              " 'lor',\n",
              " 'adults',\n",
              " 'income',\n",
              " 'numbcars',\n",
              " 'forgntvl',\n",
              " 'eqpdays',\n",
              " 'new_cell_N',\n",
              " 'new_cell_U',\n",
              " 'new_cell_Y',\n",
              " 'crclscod_A',\n",
              " 'crclscod_AA',\n",
              " 'crclscod_B',\n",
              " 'crclscod_BA',\n",
              " 'crclscod_C',\n",
              " 'crclscod_CA',\n",
              " 'crclscod_DA',\n",
              " 'crclscod_EA',\n",
              " 'crclscod_ZA',\n",
              " 'crclscod_otros',\n",
              " 'prizm_social_one_C',\n",
              " 'prizm_social_one_R',\n",
              " 'prizm_social_one_S',\n",
              " 'prizm_social_one_T',\n",
              " 'prizm_social_one_U',\n",
              " 'area_ATLANTIC SOUTH AREA',\n",
              " 'area_CALIFORNIA NORTH AREA',\n",
              " 'area_CENTRAL/SOUTH TEXAS AREA',\n",
              " 'area_CHICAGO AREA',\n",
              " 'area_DALLAS AREA',\n",
              " 'area_DC/MARYLAND/VIRGINIA AREA',\n",
              " 'area_GREAT LAKES AREA',\n",
              " 'area_HOUSTON AREA',\n",
              " 'area_LOS ANGELES AREA',\n",
              " 'area_MIDWEST AREA',\n",
              " 'area_NEW ENGLAND AREA',\n",
              " 'area_NEW YORK CITY AREA',\n",
              " 'area_NORTH FLORIDA AREA',\n",
              " 'area_NORTHWEST/ROCKY MOUNTAIN AREA',\n",
              " 'area_OHIO AREA',\n",
              " 'area_PHILADELPHIA AREA',\n",
              " 'area_SOUTH FLORIDA AREA',\n",
              " 'area_SOUTHWEST AREA',\n",
              " 'area_TENNESSEE AREA',\n",
              " 'dualband_N',\n",
              " 'dualband_T',\n",
              " 'dualband_Y',\n",
              " 'marital_A',\n",
              " 'marital_B',\n",
              " 'marital_M',\n",
              " 'marital_S',\n",
              " 'marital_U',\n",
              " 'infobase_M',\n",
              " 'infobase_None',\n",
              " 'HHstatin_A',\n",
              " 'HHstatin_B',\n",
              " 'HHstatin_C',\n",
              " 'HHstatin_G',\n",
              " 'HHstatin_H',\n",
              " 'HHstatin_I',\n",
              " 'dwllsize_A',\n",
              " 'dwllsize_B',\n",
              " 'dwllsize_C',\n",
              " 'dwllsize_D',\n",
              " 'dwllsize_J',\n",
              " 'dwllsize_K',\n",
              " 'dwllsize_N',\n",
              " 'dwllsize_O',\n",
              " 'dwllsize_otros',\n",
              " 'ethnic_B',\n",
              " 'ethnic_F',\n",
              " 'ethnic_G',\n",
              " 'ethnic_H',\n",
              " 'ethnic_I',\n",
              " 'ethnic_J',\n",
              " 'ethnic_N',\n",
              " 'ethnic_O',\n",
              " 'ethnic_R',\n",
              " 'ethnic_S',\n",
              " 'ethnic_U',\n",
              " 'ethnic_Z',\n",
              " 'ethnic_otros']"
            ]
          },
          "execution_count": 3,
          "metadata": {},
          "output_type": "execute_result"
        }
      ],
      "source": [
        "features = model.feature_names_\n",
        "features"
      ]
    },
    {
      "cell_type": "markdown",
      "metadata": {
        "id": "9MEmBvLvJA-s"
      },
      "source": [
        "# Carga PREDICT dataset"
      ]
    },
    {
      "cell_type": "code",
      "execution_count": 4,
      "metadata": {
        "id": "bjNy132SJAaF"
      },
      "outputs": [],
      "source": [
        "df_predict = pd.read_csv('telecom_churn_PREDICT.csv')"
      ]
    },
    {
      "cell_type": "code",
      "execution_count": 5,
      "metadata": {},
      "outputs": [
        {
          "name": "stdout",
          "output_type": "stream",
          "text": [
            "<class 'pandas.core.frame.DataFrame'>\n",
            "RangeIndex: 10000 entries, 0 to 9999\n",
            "Data columns (total 99 columns):\n",
            " #   Column            Non-Null Count  Dtype  \n",
            "---  ------            --------------  -----  \n",
            " 0   rev               9777 non-null   float64\n",
            " 1   mou               9777 non-null   float64\n",
            " 2   totmrc            9777 non-null   float64\n",
            " 3   da                9777 non-null   float64\n",
            " 4   ovrmou            9777 non-null   float64\n",
            " 5   ovrrev            9777 non-null   float64\n",
            " 6   vceovr            9777 non-null   float64\n",
            " 7   datovr            9777 non-null   float64\n",
            " 8   roam              9777 non-null   float64\n",
            " 9   change_mou        9704 non-null   float64\n",
            " 10  change_rev        9704 non-null   float64\n",
            " 11  drop_vce          10000 non-null  float64\n",
            " 12  drop_dat          10000 non-null  float64\n",
            " 13  blck_vce          10000 non-null  float64\n",
            " 14  blck_dat          10000 non-null  float64\n",
            " 15  unan_vce          10000 non-null  float64\n",
            " 16  unan_dat          10000 non-null  float64\n",
            " 17  plcd_vce          10000 non-null  float64\n",
            " 18  plcd_dat          10000 non-null  float64\n",
            " 19  recv_vce          10000 non-null  float64\n",
            " 20  recv_sms          10000 non-null  float64\n",
            " 21  comp_vce          10000 non-null  float64\n",
            " 22  comp_dat          10000 non-null  float64\n",
            " 23  custcare          10000 non-null  float64\n",
            " 24  ccrndmou          10000 non-null  float64\n",
            " 25  cc_mou            10000 non-null  float64\n",
            " 26  inonemin          10000 non-null  float64\n",
            " 27  threeway          10000 non-null  float64\n",
            " 28  mou_cvce          10000 non-null  float64\n",
            " 29  mou_cdat          10000 non-null  float64\n",
            " 30  mou_rvce          10000 non-null  float64\n",
            " 31  owylis_vce        10000 non-null  float64\n",
            " 32  mouowylisv        10000 non-null  float64\n",
            " 33  iwylis_vce        10000 non-null  float64\n",
            " 34  mouiwylisv        10000 non-null  float64\n",
            " 35  peak_vce          10000 non-null  float64\n",
            " 36  peak_dat          10000 non-null  float64\n",
            " 37  mou_peav          10000 non-null  float64\n",
            " 38  mou_pead          10000 non-null  float64\n",
            " 39  opk_vce           10000 non-null  float64\n",
            " 40  opk_dat           10000 non-null  float64\n",
            " 41  mou_opkv          10000 non-null  float64\n",
            " 42  mou_opkd          10000 non-null  float64\n",
            " 43  drop_blk          10000 non-null  float64\n",
            " 44  attempt           10000 non-null  float64\n",
            " 45  complete          10000 non-null  float64\n",
            " 46  callfwdv          10000 non-null  float64\n",
            " 47  callwait          10000 non-null  float64\n",
            " 48  months            10000 non-null  int64  \n",
            " 49  uniqsubs          10000 non-null  int64  \n",
            " 50  actvsubs          10000 non-null  int64  \n",
            " 51  new_cell          10000 non-null  object \n",
            " 52  crclscod          10000 non-null  object \n",
            " 53  asl_flag          10000 non-null  object \n",
            " 54  totcalls          10000 non-null  int64  \n",
            " 55  totmou            10000 non-null  float64\n",
            " 56  totrev            10000 non-null  float64\n",
            " 57  adjrev            10000 non-null  float64\n",
            " 58  adjmou            10000 non-null  float64\n",
            " 59  adjqty            10000 non-null  int64  \n",
            " 60  avgrev            10000 non-null  float64\n",
            " 61  avgmou            10000 non-null  float64\n",
            " 62  avgqty            10000 non-null  float64\n",
            " 63  avg3mou           10000 non-null  int64  \n",
            " 64  avg3qty           10000 non-null  int64  \n",
            " 65  avg3rev           10000 non-null  int64  \n",
            " 66  avg6mou           8568 non-null   float64\n",
            " 67  avg6qty           8568 non-null   float64\n",
            " 68  avg6rev           8568 non-null   float64\n",
            " 69  prizm_social_one  9149 non-null   object \n",
            " 70  area              10000 non-null  object \n",
            " 71  dualband          10000 non-null  object \n",
            " 72  refurb_new        10000 non-null  object \n",
            " 73  hnd_price         9857 non-null   float64\n",
            " 74  phones            10000 non-null  float64\n",
            " 75  models            10000 non-null  float64\n",
            " 76  hnd_webcap        9330 non-null   object \n",
            " 77  truck             9719 non-null   float64\n",
            " 78  rv                9719 non-null   float64\n",
            " 79  ownrent           5785 non-null   object \n",
            " 80  lor               6312 non-null   float64\n",
            " 81  dwlltype          6069 non-null   object \n",
            " 82  marital           9719 non-null   object \n",
            " 83  adults            7014 non-null   float64\n",
            " 84  infobase          7324 non-null   object \n",
            " 85  income            6760 non-null   float64\n",
            " 86  numbcars          4202 non-null   float64\n",
            " 87  HHstatin          5109 non-null   object \n",
            " 88  dwllsize          5456 non-null   object \n",
            " 89  forgntvl          9719 non-null   float64\n",
            " 90  ethnic            9719 non-null   object \n",
            " 91  kid0_2            9719 non-null   object \n",
            " 92  kid3_5            9719 non-null   object \n",
            " 93  kid6_10           9719 non-null   object \n",
            " 94  kid11_15          9719 non-null   object \n",
            " 95  kid16_17          9719 non-null   object \n",
            " 96  creditcd          9719 non-null   object \n",
            " 97  eqpdays           10000 non-null  float64\n",
            " 98  Customer_ID       10000 non-null  int64  \n",
            "dtypes: float64(69), int64(9), object(21)\n",
            "memory usage: 7.6+ MB\n"
          ]
        }
      ],
      "source": [
        "df_predict.info()"
      ]
    },
    {
      "cell_type": "markdown",
      "metadata": {
        "id": "3DbfLkADLbc0"
      },
      "source": [
        "# ML Preprocessing"
      ]
    },
    {
      "cell_type": "markdown",
      "metadata": {
        "id": "LmoNP1NsJeaj"
      },
      "source": [
        "Se deben realizar las mismas transformaciones que se aplicaron en el preprocessing del train:\n",
        "  * Eliminar mismas variables\n",
        "  * Imputar mismos valores a nulos\n",
        "  * Aplicar mismo encoding de categoricos\n",
        "  * ...todo lo necesario para replicar las variables con las que el modelo se entrenó\n",
        "\n",
        "NO SE DEBEN repetir:\n",
        "  * Analisis visual de los datos\n",
        "  * Analisis de correlaciones\n",
        "  * Analisis de varianza\n",
        "  * Calculo de metricas que varien con la distribución"
      ]
    },
    {
      "cell_type": "markdown",
      "metadata": {},
      "source": [
        "## Eliminar variables "
      ]
    },
    {
      "cell_type": "code",
      "execution_count": 6,
      "metadata": {
        "id": "41w7cAX4La6D"
      },
      "outputs": [
        {
          "name": "stdout",
          "output_type": "stream",
          "text": [
            "Filas duplicadas: 0\n",
            "Filas filas con identificador duplicadas: 0\n"
          ]
        }
      ],
      "source": [
        "# Detectar filas duplicadas\n",
        "print('Filas duplicadas:', df_predict.duplicated().sum()) \n",
        "print('Filas filas con identificador duplicadas:', df_predict['Customer_ID'].duplicated().sum()) "
      ]
    },
    {
      "cell_type": "code",
      "execution_count": 7,
      "metadata": {},
      "outputs": [],
      "source": [
        "# Eliminar Columnas identificadoras\n",
        "df_predict = df_predict.drop(columns=['Customer_ID'])"
      ]
    },
    {
      "cell_type": "code",
      "execution_count": 8,
      "metadata": {},
      "outputs": [],
      "source": [
        "# Eliminar filas que tienen todos sus valores vacíos:\n",
        "df_predict = df_predict.dropna(how='all')"
      ]
    },
    {
      "cell_type": "code",
      "execution_count": 9,
      "metadata": {},
      "outputs": [
        {
          "name": "stdout",
          "output_type": "stream",
          "text": [
            "<class 'pandas.core.frame.DataFrame'>\n",
            "RangeIndex: 10000 entries, 0 to 9999\n",
            "Data columns (total 98 columns):\n",
            " #   Column            Non-Null Count  Dtype  \n",
            "---  ------            --------------  -----  \n",
            " 0   rev               9777 non-null   float64\n",
            " 1   mou               9777 non-null   float64\n",
            " 2   totmrc            9777 non-null   float64\n",
            " 3   da                9777 non-null   float64\n",
            " 4   ovrmou            9777 non-null   float64\n",
            " 5   ovrrev            9777 non-null   float64\n",
            " 6   vceovr            9777 non-null   float64\n",
            " 7   datovr            9777 non-null   float64\n",
            " 8   roam              9777 non-null   float64\n",
            " 9   change_mou        9704 non-null   float64\n",
            " 10  change_rev        9704 non-null   float64\n",
            " 11  drop_vce          10000 non-null  float64\n",
            " 12  drop_dat          10000 non-null  float64\n",
            " 13  blck_vce          10000 non-null  float64\n",
            " 14  blck_dat          10000 non-null  float64\n",
            " 15  unan_vce          10000 non-null  float64\n",
            " 16  unan_dat          10000 non-null  float64\n",
            " 17  plcd_vce          10000 non-null  float64\n",
            " 18  plcd_dat          10000 non-null  float64\n",
            " 19  recv_vce          10000 non-null  float64\n",
            " 20  recv_sms          10000 non-null  float64\n",
            " 21  comp_vce          10000 non-null  float64\n",
            " 22  comp_dat          10000 non-null  float64\n",
            " 23  custcare          10000 non-null  float64\n",
            " 24  ccrndmou          10000 non-null  float64\n",
            " 25  cc_mou            10000 non-null  float64\n",
            " 26  inonemin          10000 non-null  float64\n",
            " 27  threeway          10000 non-null  float64\n",
            " 28  mou_cvce          10000 non-null  float64\n",
            " 29  mou_cdat          10000 non-null  float64\n",
            " 30  mou_rvce          10000 non-null  float64\n",
            " 31  owylis_vce        10000 non-null  float64\n",
            " 32  mouowylisv        10000 non-null  float64\n",
            " 33  iwylis_vce        10000 non-null  float64\n",
            " 34  mouiwylisv        10000 non-null  float64\n",
            " 35  peak_vce          10000 non-null  float64\n",
            " 36  peak_dat          10000 non-null  float64\n",
            " 37  mou_peav          10000 non-null  float64\n",
            " 38  mou_pead          10000 non-null  float64\n",
            " 39  opk_vce           10000 non-null  float64\n",
            " 40  opk_dat           10000 non-null  float64\n",
            " 41  mou_opkv          10000 non-null  float64\n",
            " 42  mou_opkd          10000 non-null  float64\n",
            " 43  drop_blk          10000 non-null  float64\n",
            " 44  attempt           10000 non-null  float64\n",
            " 45  complete          10000 non-null  float64\n",
            " 46  callfwdv          10000 non-null  float64\n",
            " 47  callwait          10000 non-null  float64\n",
            " 48  months            10000 non-null  int64  \n",
            " 49  uniqsubs          10000 non-null  int64  \n",
            " 50  actvsubs          10000 non-null  int64  \n",
            " 51  new_cell          10000 non-null  object \n",
            " 52  crclscod          10000 non-null  object \n",
            " 53  asl_flag          10000 non-null  object \n",
            " 54  totcalls          10000 non-null  int64  \n",
            " 55  totmou            10000 non-null  float64\n",
            " 56  totrev            10000 non-null  float64\n",
            " 57  adjrev            10000 non-null  float64\n",
            " 58  adjmou            10000 non-null  float64\n",
            " 59  adjqty            10000 non-null  int64  \n",
            " 60  avgrev            10000 non-null  float64\n",
            " 61  avgmou            10000 non-null  float64\n",
            " 62  avgqty            10000 non-null  float64\n",
            " 63  avg3mou           10000 non-null  int64  \n",
            " 64  avg3qty           10000 non-null  int64  \n",
            " 65  avg3rev           10000 non-null  int64  \n",
            " 66  avg6mou           8568 non-null   float64\n",
            " 67  avg6qty           8568 non-null   float64\n",
            " 68  avg6rev           8568 non-null   float64\n",
            " 69  prizm_social_one  9149 non-null   object \n",
            " 70  area              10000 non-null  object \n",
            " 71  dualband          10000 non-null  object \n",
            " 72  refurb_new        10000 non-null  object \n",
            " 73  hnd_price         9857 non-null   float64\n",
            " 74  phones            10000 non-null  float64\n",
            " 75  models            10000 non-null  float64\n",
            " 76  hnd_webcap        9330 non-null   object \n",
            " 77  truck             9719 non-null   float64\n",
            " 78  rv                9719 non-null   float64\n",
            " 79  ownrent           5785 non-null   object \n",
            " 80  lor               6312 non-null   float64\n",
            " 81  dwlltype          6069 non-null   object \n",
            " 82  marital           9719 non-null   object \n",
            " 83  adults            7014 non-null   float64\n",
            " 84  infobase          7324 non-null   object \n",
            " 85  income            6760 non-null   float64\n",
            " 86  numbcars          4202 non-null   float64\n",
            " 87  HHstatin          5109 non-null   object \n",
            " 88  dwllsize          5456 non-null   object \n",
            " 89  forgntvl          9719 non-null   float64\n",
            " 90  ethnic            9719 non-null   object \n",
            " 91  kid0_2            9719 non-null   object \n",
            " 92  kid3_5            9719 non-null   object \n",
            " 93  kid6_10           9719 non-null   object \n",
            " 94  kid11_15          9719 non-null   object \n",
            " 95  kid16_17          9719 non-null   object \n",
            " 96  creditcd          9719 non-null   object \n",
            " 97  eqpdays           10000 non-null  float64\n",
            "dtypes: float64(69), int64(8), object(21)\n",
            "memory usage: 7.5+ MB\n"
          ]
        }
      ],
      "source": [
        "df_predict.info()"
      ]
    },
    {
      "cell_type": "markdown",
      "metadata": {},
      "source": [
        "## Imputacion de nulos"
      ]
    },
    {
      "cell_type": "code",
      "execution_count": 21,
      "metadata": {},
      "outputs": [
        {
          "data": {
            "text/plain": [
              "numbcars    5798\n",
              "lor         3688\n",
              "income      3240\n",
              "adults      2986\n",
              "avg6rev     1432\n",
              "            ... \n",
              "mou_peav       0\n",
              "opk_vce        0\n",
              "opk_dat        0\n",
              "mou_opkv       0\n",
              "eqpdays        0\n",
              "Length: 77, dtype: int64"
            ]
          },
          "execution_count": 21,
          "metadata": {},
          "output_type": "execute_result"
        }
      ],
      "source": [
        "df_predict_num = df_predict.select_dtypes(include=['int64', 'float64'])\n",
        "df_predict_num.isna().sum().sort_values(ascending=False)"
      ]
    },
    {
      "cell_type": "markdown",
      "metadata": {},
      "source": [
        "### imputar nulos a columnas numericas"
      ]
    },
    {
      "cell_type": "code",
      "execution_count": 10,
      "metadata": {},
      "outputs": [],
      "source": [
        "def fill_num_na(df_churn_num, columnas_rellenar):\n",
        "    for col in columnas_rellenar:\n",
        "        # Proporciones calculadas\n",
        "        value_counts = df_churn_num[col].value_counts(normalize=True)\n",
        "\n",
        "        # Lista de valores para rellenar\n",
        "        fill_values = np.random.choice(value_counts.index, size=df_churn_num[col].isna().sum(), p=value_counts.values)\n",
        "\n",
        "        # Rellenando los nulos\n",
        "        df_churn_num.loc[df_churn_num[col].isna(), col] = fill_values\n",
        "\n",
        "    return df_churn_num\n",
        "\n",
        "# Columnas a rellenar\n",
        "columnas_rellenar = ['lor', 'adults', 'income', 'numbcars']\n",
        "\n",
        "# Rellenando\n",
        "df_predict = fill_num_na(df_predict, columnas_rellenar)"
      ]
    },
    {
      "cell_type": "markdown",
      "metadata": {},
      "source": [
        "### imputar nulos a columnas categoricas"
      ]
    },
    {
      "cell_type": "code",
      "execution_count": 11,
      "metadata": {},
      "outputs": [],
      "source": [
        "cat_columns = df_predict.select_dtypes(include=['object'])\n",
        "\n",
        "# Rellenar nulos de forma proporcional con los valores de la columna\n",
        "for col in df_predict:\n",
        "    if(col not in cat_columns.columns): continue\n",
        "\n",
        "    if(df_predict[col].value_counts().index.size == 1):\n",
        "        # En caso de que la columna solo tenga un mismo valor, se rellena con 'None'\n",
        "        df_predict[col] = df_predict[col].fillna('None')\n",
        "    else:\n",
        "        # Proporciones calculadas\n",
        "        value_counts = df_predict[col].value_counts(normalize=True)\n",
        "\n",
        "        # Lista de valores para rellenar\n",
        "        fill_values = np.random.choice(value_counts.index, size=df_predict[col].isna().sum(), p=value_counts.values)\n",
        "\n",
        "        # Rellenando los nulos\n",
        "        df_predict.loc[df_predict[col].isna(), col] = fill_values"
      ]
    },
    {
      "cell_type": "markdown",
      "metadata": {},
      "source": [
        "### dropear al resto"
      ]
    },
    {
      "cell_type": "code",
      "execution_count": 14,
      "metadata": {},
      "outputs": [],
      "source": [
        "df_predict.dropna(inplace=True)"
      ]
    },
    {
      "cell_type": "code",
      "execution_count": 15,
      "metadata": {},
      "outputs": [
        {
          "name": "stdout",
          "output_type": "stream",
          "text": [
            "<class 'pandas.core.frame.DataFrame'>\n",
            "Index: 7968 entries, 0 to 9993\n",
            "Data columns (total 98 columns):\n",
            " #   Column            Non-Null Count  Dtype  \n",
            "---  ------            --------------  -----  \n",
            " 0   rev               7968 non-null   float64\n",
            " 1   mou               7968 non-null   float64\n",
            " 2   totmrc            7968 non-null   float64\n",
            " 3   da                7968 non-null   float64\n",
            " 4   ovrmou            7968 non-null   float64\n",
            " 5   ovrrev            7968 non-null   float64\n",
            " 6   vceovr            7968 non-null   float64\n",
            " 7   datovr            7968 non-null   float64\n",
            " 8   roam              7968 non-null   float64\n",
            " 9   change_mou        7968 non-null   float64\n",
            " 10  change_rev        7968 non-null   float64\n",
            " 11  drop_vce          7968 non-null   float64\n",
            " 12  drop_dat          7968 non-null   float64\n",
            " 13  blck_vce          7968 non-null   float64\n",
            " 14  blck_dat          7968 non-null   float64\n",
            " 15  unan_vce          7968 non-null   float64\n",
            " 16  unan_dat          7968 non-null   float64\n",
            " 17  plcd_vce          7968 non-null   float64\n",
            " 18  plcd_dat          7968 non-null   float64\n",
            " 19  recv_vce          7968 non-null   float64\n",
            " 20  recv_sms          7968 non-null   float64\n",
            " 21  comp_vce          7968 non-null   float64\n",
            " 22  comp_dat          7968 non-null   float64\n",
            " 23  custcare          7968 non-null   float64\n",
            " 24  ccrndmou          7968 non-null   float64\n",
            " 25  cc_mou            7968 non-null   float64\n",
            " 26  inonemin          7968 non-null   float64\n",
            " 27  threeway          7968 non-null   float64\n",
            " 28  mou_cvce          7968 non-null   float64\n",
            " 29  mou_cdat          7968 non-null   float64\n",
            " 30  mou_rvce          7968 non-null   float64\n",
            " 31  owylis_vce        7968 non-null   float64\n",
            " 32  mouowylisv        7968 non-null   float64\n",
            " 33  iwylis_vce        7968 non-null   float64\n",
            " 34  mouiwylisv        7968 non-null   float64\n",
            " 35  peak_vce          7968 non-null   float64\n",
            " 36  peak_dat          7968 non-null   float64\n",
            " 37  mou_peav          7968 non-null   float64\n",
            " 38  mou_pead          7968 non-null   float64\n",
            " 39  opk_vce           7968 non-null   float64\n",
            " 40  opk_dat           7968 non-null   float64\n",
            " 41  mou_opkv          7968 non-null   float64\n",
            " 42  mou_opkd          7968 non-null   float64\n",
            " 43  drop_blk          7968 non-null   float64\n",
            " 44  attempt           7968 non-null   float64\n",
            " 45  complete          7968 non-null   float64\n",
            " 46  callfwdv          7968 non-null   float64\n",
            " 47  callwait          7968 non-null   float64\n",
            " 48  months            7968 non-null   int64  \n",
            " 49  uniqsubs          7968 non-null   int64  \n",
            " 50  actvsubs          7968 non-null   int64  \n",
            " 51  new_cell          7968 non-null   object \n",
            " 52  crclscod          7968 non-null   object \n",
            " 53  asl_flag          7968 non-null   object \n",
            " 54  totcalls          7968 non-null   int64  \n",
            " 55  totmou            7968 non-null   float64\n",
            " 56  totrev            7968 non-null   float64\n",
            " 57  adjrev            7968 non-null   float64\n",
            " 58  adjmou            7968 non-null   float64\n",
            " 59  adjqty            7968 non-null   int64  \n",
            " 60  avgrev            7968 non-null   float64\n",
            " 61  avgmou            7968 non-null   float64\n",
            " 62  avgqty            7968 non-null   float64\n",
            " 63  avg3mou           7968 non-null   int64  \n",
            " 64  avg3qty           7968 non-null   int64  \n",
            " 65  avg3rev           7968 non-null   int64  \n",
            " 66  avg6mou           7968 non-null   float64\n",
            " 67  avg6qty           7968 non-null   float64\n",
            " 68  avg6rev           7968 non-null   float64\n",
            " 69  prizm_social_one  7968 non-null   object \n",
            " 70  area              7968 non-null   object \n",
            " 71  dualband          7968 non-null   object \n",
            " 72  refurb_new        7968 non-null   object \n",
            " 73  hnd_price         7968 non-null   float64\n",
            " 74  phones            7968 non-null   float64\n",
            " 75  models            7968 non-null   float64\n",
            " 76  hnd_webcap        7968 non-null   object \n",
            " 77  truck             7968 non-null   float64\n",
            " 78  rv                7968 non-null   float64\n",
            " 79  ownrent           7968 non-null   object \n",
            " 80  lor               7968 non-null   float64\n",
            " 81  dwlltype          7968 non-null   object \n",
            " 82  marital           7968 non-null   object \n",
            " 83  adults            7968 non-null   float64\n",
            " 84  infobase          7968 non-null   object \n",
            " 85  income            7968 non-null   float64\n",
            " 86  numbcars          7968 non-null   float64\n",
            " 87  HHstatin          7968 non-null   object \n",
            " 88  dwllsize          7968 non-null   object \n",
            " 89  forgntvl          7968 non-null   float64\n",
            " 90  ethnic            7968 non-null   object \n",
            " 91  kid0_2            7968 non-null   object \n",
            " 92  kid3_5            7968 non-null   object \n",
            " 93  kid6_10           7968 non-null   object \n",
            " 94  kid11_15          7968 non-null   object \n",
            " 95  kid16_17          7968 non-null   object \n",
            " 96  creditcd          7968 non-null   object \n",
            " 97  eqpdays           7968 non-null   float64\n",
            "dtypes: float64(69), int64(8), object(21)\n",
            "memory usage: 6.0+ MB\n"
          ]
        }
      ],
      "source": [
        "df_predict.info()"
      ]
    },
    {
      "cell_type": "markdown",
      "metadata": {},
      "source": [
        "## Encodings"
      ]
    },
    {
      "cell_type": "markdown",
      "metadata": {
        "id": "cWWJHvZwLpRu"
      },
      "source": [
        "# Check model features"
      ]
    },
    {
      "cell_type": "markdown",
      "metadata": {
        "id": "5c1AMI6qLsLf"
      },
      "source": [
        "* Comprobar que tenemos en el dataset preprocesado todas las model features, de lo contrario no podremos hacer predict.\n",
        "* Ordenar las variables en mismo orden que las model features"
      ]
    },
    {
      "cell_type": "code",
      "execution_count": null,
      "metadata": {
        "id": "H7Yuoi2ULoxa"
      },
      "outputs": [],
      "source": []
    },
    {
      "cell_type": "markdown",
      "metadata": {
        "id": "vgy97kWoLKIX"
      },
      "source": [
        "# Rescaling"
      ]
    },
    {
      "cell_type": "markdown",
      "metadata": {
        "id": "Uly0zItQLOIB"
      },
      "source": [
        "* Si se entrenó el modelo con un dataset estandarizado, estandarizar con mismo scaler."
      ]
    },
    {
      "cell_type": "code",
      "execution_count": null,
      "metadata": {
        "id": "N_JoLydjLJZd"
      },
      "outputs": [],
      "source": []
    },
    {
      "cell_type": "markdown",
      "metadata": {
        "id": "MQZVI5GjR815"
      },
      "source": [
        "# PREDICT"
      ]
    },
    {
      "cell_type": "markdown",
      "metadata": {
        "id": "VO5szsPhMygE"
      },
      "source": [
        "* predict() y predict_proba()"
      ]
    },
    {
      "cell_type": "code",
      "execution_count": null,
      "metadata": {
        "id": "4a0k5mnKR8WI"
      },
      "outputs": [],
      "source": []
    },
    {
      "cell_type": "markdown",
      "metadata": {
        "id": "DGcGVB_rJUDz"
      },
      "source": [
        "# Guarda predicciones"
      ]
    },
    {
      "cell_type": "markdown",
      "metadata": {
        "id": "RBexy20LM3sd"
      },
      "source": [
        "* Guardar las predicciones en data path. Cada fila debe estar etiquetada con el ID."
      ]
    },
    {
      "cell_type": "code",
      "execution_count": null,
      "metadata": {
        "id": "_FzlcWmJJXAN"
      },
      "outputs": [],
      "source": []
    }
  ],
  "metadata": {
    "colab": {
      "include_colab_link": true,
      "provenance": [],
      "toc_visible": true
    },
    "kernelspec": {
      "display_name": "Python 3",
      "name": "python3"
    },
    "language_info": {
      "codemirror_mode": {
        "name": "ipython",
        "version": 3
      },
      "file_extension": ".py",
      "mimetype": "text/x-python",
      "name": "python",
      "nbconvert_exporter": "python",
      "pygments_lexer": "ipython3",
      "version": "3.12.3"
    }
  },
  "nbformat": 4,
  "nbformat_minor": 0
}
