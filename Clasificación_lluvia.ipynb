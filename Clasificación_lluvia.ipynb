{
  "nbformat": 4,
  "nbformat_minor": 0,
  "metadata": {
    "colab": {
      "provenance": [],
      "toc_visible": true,
      "include_colab_link": true
    },
    "kernelspec": {
      "name": "python3",
      "display_name": "Python 3"
    },
    "language_info": {
      "name": "python"
    }
  },
  "cells": [
    {
      "cell_type": "markdown",
      "metadata": {
        "id": "view-in-github",
        "colab_type": "text"
      },
      "source": [
        "<a href=\"https://colab.research.google.com/github/morenourey/CHAT/blob/main/Clasificaci%C3%B3n_lluvia.ipynb\" target=\"_parent\"><img src=\"https://colab.research.google.com/assets/colab-badge.svg\" alt=\"Open In Colab\"/></a>"
      ]
    },
    {
      "cell_type": "markdown",
      "source": [
        "# MI PRIMER TRAIN-TEST-PREDICT"
      ],
      "metadata": {
        "id": "87Bve6QZggnT"
      }
    },
    {
      "cell_type": "markdown",
      "source": [
        "Vamos a realizar nuestro primer train-test-predict. Para ello, utilizaremos datos meteorologicos de la ciudad de Madrid para hacer un modelo predictivo de PRECIPITACIONES a D+1."
      ],
      "metadata": {
        "id": "c9rWoqRIDzQz"
      }
    },
    {
      "cell_type": "markdown",
      "source": [
        "# Librerias"
      ],
      "metadata": {
        "id": "jTEOHHidYOV-"
      }
    },
    {
      "cell_type": "code",
      "source": [
        "import pandas as pd     # Manejo de dataframes\n",
        "import numpy as np      # Calculos matriciales\n",
        "import matplotlib.pyplot as plt    # Visualizacion\n",
        "import seaborn as sns              # Visualizacion\n",
        "from google.colab import drive     # Drive en Colab\n",
        "\n",
        "pd.set_option('display.max_columns',None)   # para visualizar mas columnas en un df\n",
        "\n",
        "import warnings\n",
        "warnings.filterwarnings(\"ignore\")  # inhabilita warnings"
      ],
      "metadata": {
        "id": "5Rkor61lYTQX"
      },
      "execution_count": null,
      "outputs": []
    },
    {
      "cell_type": "markdown",
      "source": [
        "# Load dataset"
      ],
      "metadata": {
        "id": "B6bkXCg5Xx4B"
      }
    },
    {
      "cell_type": "code",
      "source": [
        "drive.mount('/content/drive')"
      ],
      "metadata": {
        "id": "1FrpR9vqXtS_",
        "colab": {
          "base_uri": "https://localhost:8080/"
        },
        "outputId": "32ef6139-70ed-4e1d-c713-18ca090f134f"
      },
      "execution_count": null,
      "outputs": [
        {
          "output_type": "stream",
          "name": "stdout",
          "text": [
            "Drive already mounted at /content/drive; to attempt to forcibly remount, call drive.mount(\"/content/drive\", force_remount=True).\n"
          ]
        }
      ]
    },
    {
      "cell_type": "code",
      "source": [
        "df = pd.read_csv('/content/drive/MyDrive/TIC/Data science/Master Data Science Nuclio - profesor/Aprendizaje supervisado - Presencial/Ejercicios/Clasificación - lluvia/lluvia entrenar.csv', index_col=0)"
      ],
      "metadata": {
        "id": "NVI1YfA-lF1K"
      },
      "execution_count": null,
      "outputs": []
    },
    {
      "cell_type": "code",
      "source": [
        "df.shape"
      ],
      "metadata": {
        "id": "y_AnEzUmElrd",
        "colab": {
          "base_uri": "https://localhost:8080/"
        },
        "outputId": "01edb37b-76e9-427f-d1ce-2ff5f907978c"
      },
      "execution_count": null,
      "outputs": [
        {
          "output_type": "execute_result",
          "data": {
            "text/plain": [
              "(6812, 27)"
            ]
          },
          "metadata": {},
          "execution_count": 113
        }
      ]
    },
    {
      "cell_type": "code",
      "source": [
        "df.head()"
      ],
      "metadata": {
        "id": "PqJUAZVMFPNa",
        "colab": {
          "base_uri": "https://localhost:8080/",
          "height": 313
        },
        "outputId": "79913fd5-671b-4026-aa14-d4f84ab38ef0"
      },
      "execution_count": null,
      "outputs": [
        {
          "output_type": "execute_result",
          "data": {
            "text/plain": [
              "        fecha  temperatura_max  temperatura_med  temperatura_min  rocio_max  \\\n",
              "0  1997-01-01              7.0              4.0              2.0        5.0   \n",
              "1  1997-01-02              7.0              3.0              0.0        6.0   \n",
              "2  1997-01-03              5.0              3.0              2.0        5.0   \n",
              "3  1997-01-04              7.0              3.0             -1.0       -2.0   \n",
              "4  1997-01-05              2.0              0.0             -1.0        2.0   \n",
              "\n",
              "   rocio_med  rocio_min  humedad_max  humedad_med  humedad_min  presion_max  \\\n",
              "0        3.0        2.0        100.0         95.0         76.0         1010   \n",
              "1        3.0        0.0        100.0         92.0         71.0         1007   \n",
              "2        1.0       -1.0        100.0         85.0         70.0         1005   \n",
              "3       -3.0       -4.0         86.0         63.0         49.0         1012   \n",
              "4        0.0       -3.0        100.0         95.0         86.0         1012   \n",
              "\n",
              "   presion_med  presion_min  visibilidad_max  visibilidad_med  \\\n",
              "0         1008         1004             10.0              9.0   \n",
              "1         1003          997             10.0              9.0   \n",
              "2          999          996             10.0             10.0   \n",
              "3         1010         1005             10.0             10.0   \n",
              "4         1008         1005             10.0              5.0   \n",
              "\n",
              "   visibilidad_min  viento_max  viento_med  racha_viento_max  precipitacion  \\\n",
              "0              4.0          13           6               NaN            0.0   \n",
              "1              4.0          26           8              47.0            0.0   \n",
              "2              7.0          27          19               NaN            0.0   \n",
              "3             10.0          27          19              40.0            0.0   \n",
              "4              1.0          14           6               NaN            0.0   \n",
              "\n",
              "   nubes viento_dir  ind_lluvia  ind_nieve  ind_truenos  ind_niebla  \\\n",
              "0    6.0         SW           0          0            0           0   \n",
              "1    5.0         SE           1          0            0           0   \n",
              "2    6.0          W           1          1            0           0   \n",
              "3    2.0          W           0          0            0           0   \n",
              "4    7.0          N           0          1            0           0   \n",
              "\n",
              "   ind_granizo  \n",
              "0            0  \n",
              "1            0  \n",
              "2            0  \n",
              "3            0  \n",
              "4            0  "
            ],
            "text/html": [
              "\n",
              "  <div id=\"df-75efd9ab-b558-4263-833e-61859d46fbf8\" class=\"colab-df-container\">\n",
              "    <div>\n",
              "<style scoped>\n",
              "    .dataframe tbody tr th:only-of-type {\n",
              "        vertical-align: middle;\n",
              "    }\n",
              "\n",
              "    .dataframe tbody tr th {\n",
              "        vertical-align: top;\n",
              "    }\n",
              "\n",
              "    .dataframe thead th {\n",
              "        text-align: right;\n",
              "    }\n",
              "</style>\n",
              "<table border=\"1\" class=\"dataframe\">\n",
              "  <thead>\n",
              "    <tr style=\"text-align: right;\">\n",
              "      <th></th>\n",
              "      <th>fecha</th>\n",
              "      <th>temperatura_max</th>\n",
              "      <th>temperatura_med</th>\n",
              "      <th>temperatura_min</th>\n",
              "      <th>rocio_max</th>\n",
              "      <th>rocio_med</th>\n",
              "      <th>rocio_min</th>\n",
              "      <th>humedad_max</th>\n",
              "      <th>humedad_med</th>\n",
              "      <th>humedad_min</th>\n",
              "      <th>presion_max</th>\n",
              "      <th>presion_med</th>\n",
              "      <th>presion_min</th>\n",
              "      <th>visibilidad_max</th>\n",
              "      <th>visibilidad_med</th>\n",
              "      <th>visibilidad_min</th>\n",
              "      <th>viento_max</th>\n",
              "      <th>viento_med</th>\n",
              "      <th>racha_viento_max</th>\n",
              "      <th>precipitacion</th>\n",
              "      <th>nubes</th>\n",
              "      <th>viento_dir</th>\n",
              "      <th>ind_lluvia</th>\n",
              "      <th>ind_nieve</th>\n",
              "      <th>ind_truenos</th>\n",
              "      <th>ind_niebla</th>\n",
              "      <th>ind_granizo</th>\n",
              "    </tr>\n",
              "  </thead>\n",
              "  <tbody>\n",
              "    <tr>\n",
              "      <th>0</th>\n",
              "      <td>1997-01-01</td>\n",
              "      <td>7.0</td>\n",
              "      <td>4.0</td>\n",
              "      <td>2.0</td>\n",
              "      <td>5.0</td>\n",
              "      <td>3.0</td>\n",
              "      <td>2.0</td>\n",
              "      <td>100.0</td>\n",
              "      <td>95.0</td>\n",
              "      <td>76.0</td>\n",
              "      <td>1010</td>\n",
              "      <td>1008</td>\n",
              "      <td>1004</td>\n",
              "      <td>10.0</td>\n",
              "      <td>9.0</td>\n",
              "      <td>4.0</td>\n",
              "      <td>13</td>\n",
              "      <td>6</td>\n",
              "      <td>NaN</td>\n",
              "      <td>0.0</td>\n",
              "      <td>6.0</td>\n",
              "      <td>SW</td>\n",
              "      <td>0</td>\n",
              "      <td>0</td>\n",
              "      <td>0</td>\n",
              "      <td>0</td>\n",
              "      <td>0</td>\n",
              "    </tr>\n",
              "    <tr>\n",
              "      <th>1</th>\n",
              "      <td>1997-01-02</td>\n",
              "      <td>7.0</td>\n",
              "      <td>3.0</td>\n",
              "      <td>0.0</td>\n",
              "      <td>6.0</td>\n",
              "      <td>3.0</td>\n",
              "      <td>0.0</td>\n",
              "      <td>100.0</td>\n",
              "      <td>92.0</td>\n",
              "      <td>71.0</td>\n",
              "      <td>1007</td>\n",
              "      <td>1003</td>\n",
              "      <td>997</td>\n",
              "      <td>10.0</td>\n",
              "      <td>9.0</td>\n",
              "      <td>4.0</td>\n",
              "      <td>26</td>\n",
              "      <td>8</td>\n",
              "      <td>47.0</td>\n",
              "      <td>0.0</td>\n",
              "      <td>5.0</td>\n",
              "      <td>SE</td>\n",
              "      <td>1</td>\n",
              "      <td>0</td>\n",
              "      <td>0</td>\n",
              "      <td>0</td>\n",
              "      <td>0</td>\n",
              "    </tr>\n",
              "    <tr>\n",
              "      <th>2</th>\n",
              "      <td>1997-01-03</td>\n",
              "      <td>5.0</td>\n",
              "      <td>3.0</td>\n",
              "      <td>2.0</td>\n",
              "      <td>5.0</td>\n",
              "      <td>1.0</td>\n",
              "      <td>-1.0</td>\n",
              "      <td>100.0</td>\n",
              "      <td>85.0</td>\n",
              "      <td>70.0</td>\n",
              "      <td>1005</td>\n",
              "      <td>999</td>\n",
              "      <td>996</td>\n",
              "      <td>10.0</td>\n",
              "      <td>10.0</td>\n",
              "      <td>7.0</td>\n",
              "      <td>27</td>\n",
              "      <td>19</td>\n",
              "      <td>NaN</td>\n",
              "      <td>0.0</td>\n",
              "      <td>6.0</td>\n",
              "      <td>W</td>\n",
              "      <td>1</td>\n",
              "      <td>1</td>\n",
              "      <td>0</td>\n",
              "      <td>0</td>\n",
              "      <td>0</td>\n",
              "    </tr>\n",
              "    <tr>\n",
              "      <th>3</th>\n",
              "      <td>1997-01-04</td>\n",
              "      <td>7.0</td>\n",
              "      <td>3.0</td>\n",
              "      <td>-1.0</td>\n",
              "      <td>-2.0</td>\n",
              "      <td>-3.0</td>\n",
              "      <td>-4.0</td>\n",
              "      <td>86.0</td>\n",
              "      <td>63.0</td>\n",
              "      <td>49.0</td>\n",
              "      <td>1012</td>\n",
              "      <td>1010</td>\n",
              "      <td>1005</td>\n",
              "      <td>10.0</td>\n",
              "      <td>10.0</td>\n",
              "      <td>10.0</td>\n",
              "      <td>27</td>\n",
              "      <td>19</td>\n",
              "      <td>40.0</td>\n",
              "      <td>0.0</td>\n",
              "      <td>2.0</td>\n",
              "      <td>W</td>\n",
              "      <td>0</td>\n",
              "      <td>0</td>\n",
              "      <td>0</td>\n",
              "      <td>0</td>\n",
              "      <td>0</td>\n",
              "    </tr>\n",
              "    <tr>\n",
              "      <th>4</th>\n",
              "      <td>1997-01-05</td>\n",
              "      <td>2.0</td>\n",
              "      <td>0.0</td>\n",
              "      <td>-1.0</td>\n",
              "      <td>2.0</td>\n",
              "      <td>0.0</td>\n",
              "      <td>-3.0</td>\n",
              "      <td>100.0</td>\n",
              "      <td>95.0</td>\n",
              "      <td>86.0</td>\n",
              "      <td>1012</td>\n",
              "      <td>1008</td>\n",
              "      <td>1005</td>\n",
              "      <td>10.0</td>\n",
              "      <td>5.0</td>\n",
              "      <td>1.0</td>\n",
              "      <td>14</td>\n",
              "      <td>6</td>\n",
              "      <td>NaN</td>\n",
              "      <td>0.0</td>\n",
              "      <td>7.0</td>\n",
              "      <td>N</td>\n",
              "      <td>0</td>\n",
              "      <td>1</td>\n",
              "      <td>0</td>\n",
              "      <td>0</td>\n",
              "      <td>0</td>\n",
              "    </tr>\n",
              "  </tbody>\n",
              "</table>\n",
              "</div>\n",
              "    <div class=\"colab-df-buttons\">\n",
              "\n",
              "  <div class=\"colab-df-container\">\n",
              "    <button class=\"colab-df-convert\" onclick=\"convertToInteractive('df-75efd9ab-b558-4263-833e-61859d46fbf8')\"\n",
              "            title=\"Convert this dataframe to an interactive table.\"\n",
              "            style=\"display:none;\">\n",
              "\n",
              "  <svg xmlns=\"http://www.w3.org/2000/svg\" height=\"24px\" viewBox=\"0 -960 960 960\">\n",
              "    <path d=\"M120-120v-720h720v720H120Zm60-500h600v-160H180v160Zm220 220h160v-160H400v160Zm0 220h160v-160H400v160ZM180-400h160v-160H180v160Zm440 0h160v-160H620v160ZM180-180h160v-160H180v160Zm440 0h160v-160H620v160Z\"/>\n",
              "  </svg>\n",
              "    </button>\n",
              "\n",
              "  <style>\n",
              "    .colab-df-container {\n",
              "      display:flex;\n",
              "      gap: 12px;\n",
              "    }\n",
              "\n",
              "    .colab-df-convert {\n",
              "      background-color: #E8F0FE;\n",
              "      border: none;\n",
              "      border-radius: 50%;\n",
              "      cursor: pointer;\n",
              "      display: none;\n",
              "      fill: #1967D2;\n",
              "      height: 32px;\n",
              "      padding: 0 0 0 0;\n",
              "      width: 32px;\n",
              "    }\n",
              "\n",
              "    .colab-df-convert:hover {\n",
              "      background-color: #E2EBFA;\n",
              "      box-shadow: 0px 1px 2px rgba(60, 64, 67, 0.3), 0px 1px 3px 1px rgba(60, 64, 67, 0.15);\n",
              "      fill: #174EA6;\n",
              "    }\n",
              "\n",
              "    .colab-df-buttons div {\n",
              "      margin-bottom: 4px;\n",
              "    }\n",
              "\n",
              "    [theme=dark] .colab-df-convert {\n",
              "      background-color: #3B4455;\n",
              "      fill: #D2E3FC;\n",
              "    }\n",
              "\n",
              "    [theme=dark] .colab-df-convert:hover {\n",
              "      background-color: #434B5C;\n",
              "      box-shadow: 0px 1px 3px 1px rgba(0, 0, 0, 0.15);\n",
              "      filter: drop-shadow(0px 1px 2px rgba(0, 0, 0, 0.3));\n",
              "      fill: #FFFFFF;\n",
              "    }\n",
              "  </style>\n",
              "\n",
              "    <script>\n",
              "      const buttonEl =\n",
              "        document.querySelector('#df-75efd9ab-b558-4263-833e-61859d46fbf8 button.colab-df-convert');\n",
              "      buttonEl.style.display =\n",
              "        google.colab.kernel.accessAllowed ? 'block' : 'none';\n",
              "\n",
              "      async function convertToInteractive(key) {\n",
              "        const element = document.querySelector('#df-75efd9ab-b558-4263-833e-61859d46fbf8');\n",
              "        const dataTable =\n",
              "          await google.colab.kernel.invokeFunction('convertToInteractive',\n",
              "                                                    [key], {});\n",
              "        if (!dataTable) return;\n",
              "\n",
              "        const docLinkHtml = 'Like what you see? Visit the ' +\n",
              "          '<a target=\"_blank\" href=https://colab.research.google.com/notebooks/data_table.ipynb>data table notebook</a>'\n",
              "          + ' to learn more about interactive tables.';\n",
              "        element.innerHTML = '';\n",
              "        dataTable['output_type'] = 'display_data';\n",
              "        await google.colab.output.renderOutput(dataTable, element);\n",
              "        const docLink = document.createElement('div');\n",
              "        docLink.innerHTML = docLinkHtml;\n",
              "        element.appendChild(docLink);\n",
              "      }\n",
              "    </script>\n",
              "  </div>\n",
              "\n",
              "\n",
              "<div id=\"df-18e60ed0-a3fc-491a-abfa-0715a34a71a5\">\n",
              "  <button class=\"colab-df-quickchart\" onclick=\"quickchart('df-18e60ed0-a3fc-491a-abfa-0715a34a71a5')\"\n",
              "            title=\"Suggest charts\"\n",
              "            style=\"display:none;\">\n",
              "\n",
              "<svg xmlns=\"http://www.w3.org/2000/svg\" height=\"24px\"viewBox=\"0 0 24 24\"\n",
              "     width=\"24px\">\n",
              "    <g>\n",
              "        <path d=\"M19 3H5c-1.1 0-2 .9-2 2v14c0 1.1.9 2 2 2h14c1.1 0 2-.9 2-2V5c0-1.1-.9-2-2-2zM9 17H7v-7h2v7zm4 0h-2V7h2v10zm4 0h-2v-4h2v4z\"/>\n",
              "    </g>\n",
              "</svg>\n",
              "  </button>\n",
              "\n",
              "<style>\n",
              "  .colab-df-quickchart {\n",
              "      --bg-color: #E8F0FE;\n",
              "      --fill-color: #1967D2;\n",
              "      --hover-bg-color: #E2EBFA;\n",
              "      --hover-fill-color: #174EA6;\n",
              "      --disabled-fill-color: #AAA;\n",
              "      --disabled-bg-color: #DDD;\n",
              "  }\n",
              "\n",
              "  [theme=dark] .colab-df-quickchart {\n",
              "      --bg-color: #3B4455;\n",
              "      --fill-color: #D2E3FC;\n",
              "      --hover-bg-color: #434B5C;\n",
              "      --hover-fill-color: #FFFFFF;\n",
              "      --disabled-bg-color: #3B4455;\n",
              "      --disabled-fill-color: #666;\n",
              "  }\n",
              "\n",
              "  .colab-df-quickchart {\n",
              "    background-color: var(--bg-color);\n",
              "    border: none;\n",
              "    border-radius: 50%;\n",
              "    cursor: pointer;\n",
              "    display: none;\n",
              "    fill: var(--fill-color);\n",
              "    height: 32px;\n",
              "    padding: 0;\n",
              "    width: 32px;\n",
              "  }\n",
              "\n",
              "  .colab-df-quickchart:hover {\n",
              "    background-color: var(--hover-bg-color);\n",
              "    box-shadow: 0 1px 2px rgba(60, 64, 67, 0.3), 0 1px 3px 1px rgba(60, 64, 67, 0.15);\n",
              "    fill: var(--button-hover-fill-color);\n",
              "  }\n",
              "\n",
              "  .colab-df-quickchart-complete:disabled,\n",
              "  .colab-df-quickchart-complete:disabled:hover {\n",
              "    background-color: var(--disabled-bg-color);\n",
              "    fill: var(--disabled-fill-color);\n",
              "    box-shadow: none;\n",
              "  }\n",
              "\n",
              "  .colab-df-spinner {\n",
              "    border: 2px solid var(--fill-color);\n",
              "    border-color: transparent;\n",
              "    border-bottom-color: var(--fill-color);\n",
              "    animation:\n",
              "      spin 1s steps(1) infinite;\n",
              "  }\n",
              "\n",
              "  @keyframes spin {\n",
              "    0% {\n",
              "      border-color: transparent;\n",
              "      border-bottom-color: var(--fill-color);\n",
              "      border-left-color: var(--fill-color);\n",
              "    }\n",
              "    20% {\n",
              "      border-color: transparent;\n",
              "      border-left-color: var(--fill-color);\n",
              "      border-top-color: var(--fill-color);\n",
              "    }\n",
              "    30% {\n",
              "      border-color: transparent;\n",
              "      border-left-color: var(--fill-color);\n",
              "      border-top-color: var(--fill-color);\n",
              "      border-right-color: var(--fill-color);\n",
              "    }\n",
              "    40% {\n",
              "      border-color: transparent;\n",
              "      border-right-color: var(--fill-color);\n",
              "      border-top-color: var(--fill-color);\n",
              "    }\n",
              "    60% {\n",
              "      border-color: transparent;\n",
              "      border-right-color: var(--fill-color);\n",
              "    }\n",
              "    80% {\n",
              "      border-color: transparent;\n",
              "      border-right-color: var(--fill-color);\n",
              "      border-bottom-color: var(--fill-color);\n",
              "    }\n",
              "    90% {\n",
              "      border-color: transparent;\n",
              "      border-bottom-color: var(--fill-color);\n",
              "    }\n",
              "  }\n",
              "</style>\n",
              "\n",
              "  <script>\n",
              "    async function quickchart(key) {\n",
              "      const quickchartButtonEl =\n",
              "        document.querySelector('#' + key + ' button');\n",
              "      quickchartButtonEl.disabled = true;  // To prevent multiple clicks.\n",
              "      quickchartButtonEl.classList.add('colab-df-spinner');\n",
              "      try {\n",
              "        const charts = await google.colab.kernel.invokeFunction(\n",
              "            'suggestCharts', [key], {});\n",
              "      } catch (error) {\n",
              "        console.error('Error during call to suggestCharts:', error);\n",
              "      }\n",
              "      quickchartButtonEl.classList.remove('colab-df-spinner');\n",
              "      quickchartButtonEl.classList.add('colab-df-quickchart-complete');\n",
              "    }\n",
              "    (() => {\n",
              "      let quickchartButtonEl =\n",
              "        document.querySelector('#df-18e60ed0-a3fc-491a-abfa-0715a34a71a5 button');\n",
              "      quickchartButtonEl.style.display =\n",
              "        google.colab.kernel.accessAllowed ? 'block' : 'none';\n",
              "    })();\n",
              "  </script>\n",
              "</div>\n",
              "    </div>\n",
              "  </div>\n"
            ],
            "application/vnd.google.colaboratory.intrinsic+json": {
              "type": "dataframe",
              "variable_name": "df"
            }
          },
          "metadata": {},
          "execution_count": 114
        }
      ]
    },
    {
      "cell_type": "code",
      "source": [
        "df.fecha.min(), df.fecha.max()"
      ],
      "metadata": {
        "id": "9QIlJe2LG-4a",
        "colab": {
          "base_uri": "https://localhost:8080/"
        },
        "outputId": "4e2a35ab-6e7a-43e4-977c-16ffe3149905"
      },
      "execution_count": null,
      "outputs": [
        {
          "output_type": "execute_result",
          "data": {
            "text/plain": [
              "('1997-01-01', '2015-12-31')"
            ]
          },
          "metadata": {},
          "execution_count": 115
        }
      ]
    },
    {
      "cell_type": "markdown",
      "source": [
        "Tenemos un historico de 1997 hasta 2015 de todo el parte meteorologico diario. Como queremos construir un modelo capaz de predecir si llueve al dia siguiente (D+1), utilizaremos la funcion **shift()** para desplazar 1 fila (=1 dia) cada valor de 'ind_lluvia' en el dataset."
      ],
      "metadata": {
        "id": "7nBg4MQGGNZB"
      }
    },
    {
      "cell_type": "code",
      "source": [
        "df.set_index('fecha', inplace=True)"
      ],
      "metadata": {
        "id": "-8j05P3PFjGp"
      },
      "execution_count": null,
      "outputs": []
    },
    {
      "cell_type": "code",
      "source": [
        "df.sort_index(inplace=True)"
      ],
      "metadata": {
        "id": "pJuUeMivHq2S"
      },
      "execution_count": null,
      "outputs": []
    },
    {
      "cell_type": "code",
      "source": [
        "df.info()"
      ],
      "metadata": {
        "id": "wArduklhavyv",
        "colab": {
          "base_uri": "https://localhost:8080/"
        },
        "outputId": "a200b2d3-fdba-464c-a9c9-b49f42d1d565"
      },
      "execution_count": null,
      "outputs": [
        {
          "output_type": "stream",
          "name": "stdout",
          "text": [
            "<class 'pandas.core.frame.DataFrame'>\n",
            "Index: 6812 entries, 1997-01-01 to 2015-12-31\n",
            "Data columns (total 26 columns):\n",
            " #   Column            Non-Null Count  Dtype  \n",
            "---  ------            --------------  -----  \n",
            " 0   temperatura_max   6810 non-null   float64\n",
            " 1   temperatura_med   6809 non-null   float64\n",
            " 2   temperatura_min   6810 non-null   float64\n",
            " 3   rocio_max         6810 non-null   float64\n",
            " 4   rocio_med         6810 non-null   float64\n",
            " 5   rocio_min         6810 non-null   float64\n",
            " 6   humedad_max       6810 non-null   float64\n",
            " 7   humedad_med       6810 non-null   float64\n",
            " 8   humedad_min       6810 non-null   float64\n",
            " 9   presion_max       6812 non-null   int64  \n",
            " 10  presion_med       6812 non-null   int64  \n",
            " 11  presion_min       6812 non-null   int64  \n",
            " 12  visibilidad_max   5872 non-null   float64\n",
            " 13  visibilidad_med   5872 non-null   float64\n",
            " 14  visibilidad_min   5872 non-null   float64\n",
            " 15  viento_max        6812 non-null   int64  \n",
            " 16  viento_med        6812 non-null   int64  \n",
            " 17  racha_viento_max  3506 non-null   float64\n",
            " 18  precipitacion     6812 non-null   float64\n",
            " 19  nubes             5440 non-null   float64\n",
            " 20  viento_dir        6812 non-null   object \n",
            " 21  ind_lluvia        6812 non-null   int64  \n",
            " 22  ind_nieve         6812 non-null   int64  \n",
            " 23  ind_truenos       6812 non-null   int64  \n",
            " 24  ind_niebla        6812 non-null   int64  \n",
            " 25  ind_granizo       6812 non-null   int64  \n",
            "dtypes: float64(15), int64(10), object(1)\n",
            "memory usage: 1.4+ MB\n"
          ]
        }
      ]
    },
    {
      "cell_type": "code",
      "source": [
        "df['lluvia_D+1'] = df['ind_lluvia'].shift(-1)"
      ],
      "metadata": {
        "id": "xBbk82_DHtr-"
      },
      "execution_count": null,
      "outputs": []
    },
    {
      "cell_type": "code",
      "source": [
        "df.head()"
      ],
      "metadata": {
        "id": "-MRaZSaWIUXR",
        "colab": {
          "base_uri": "https://localhost:8080/",
          "height": 344
        },
        "outputId": "af90ff41-767b-405b-9880-f5ea0fd3f4f8"
      },
      "execution_count": null,
      "outputs": [
        {
          "output_type": "execute_result",
          "data": {
            "text/plain": [
              "            temperatura_max  temperatura_med  temperatura_min  rocio_max  \\\n",
              "fecha                                                                      \n",
              "1997-01-01              7.0              4.0              2.0        5.0   \n",
              "1997-01-02              7.0              3.0              0.0        6.0   \n",
              "1997-01-03              5.0              3.0              2.0        5.0   \n",
              "1997-01-04              7.0              3.0             -1.0       -2.0   \n",
              "1997-01-05              2.0              0.0             -1.0        2.0   \n",
              "\n",
              "            rocio_med  rocio_min  humedad_max  humedad_med  humedad_min  \\\n",
              "fecha                                                                     \n",
              "1997-01-01        3.0        2.0        100.0         95.0         76.0   \n",
              "1997-01-02        3.0        0.0        100.0         92.0         71.0   \n",
              "1997-01-03        1.0       -1.0        100.0         85.0         70.0   \n",
              "1997-01-04       -3.0       -4.0         86.0         63.0         49.0   \n",
              "1997-01-05        0.0       -3.0        100.0         95.0         86.0   \n",
              "\n",
              "            presion_max  presion_med  presion_min  visibilidad_max  \\\n",
              "fecha                                                                \n",
              "1997-01-01         1010         1008         1004             10.0   \n",
              "1997-01-02         1007         1003          997             10.0   \n",
              "1997-01-03         1005          999          996             10.0   \n",
              "1997-01-04         1012         1010         1005             10.0   \n",
              "1997-01-05         1012         1008         1005             10.0   \n",
              "\n",
              "            visibilidad_med  visibilidad_min  viento_max  viento_med  \\\n",
              "fecha                                                                  \n",
              "1997-01-01              9.0              4.0          13           6   \n",
              "1997-01-02              9.0              4.0          26           8   \n",
              "1997-01-03             10.0              7.0          27          19   \n",
              "1997-01-04             10.0             10.0          27          19   \n",
              "1997-01-05              5.0              1.0          14           6   \n",
              "\n",
              "            racha_viento_max  precipitacion  nubes viento_dir  ind_lluvia  \\\n",
              "fecha                                                                       \n",
              "1997-01-01               NaN            0.0    6.0         SW           0   \n",
              "1997-01-02              47.0            0.0    5.0         SE           1   \n",
              "1997-01-03               NaN            0.0    6.0          W           1   \n",
              "1997-01-04              40.0            0.0    2.0          W           0   \n",
              "1997-01-05               NaN            0.0    7.0          N           0   \n",
              "\n",
              "            ind_nieve  ind_truenos  ind_niebla  ind_granizo  lluvia_D+1  \n",
              "fecha                                                                    \n",
              "1997-01-01          0            0           0            0         1.0  \n",
              "1997-01-02          0            0           0            0         1.0  \n",
              "1997-01-03          1            0           0            0         0.0  \n",
              "1997-01-04          0            0           0            0         0.0  \n",
              "1997-01-05          1            0           0            0         0.0  "
            ],
            "text/html": [
              "\n",
              "  <div id=\"df-56aad320-cba9-4997-9020-3b324dbe8f07\" class=\"colab-df-container\">\n",
              "    <div>\n",
              "<style scoped>\n",
              "    .dataframe tbody tr th:only-of-type {\n",
              "        vertical-align: middle;\n",
              "    }\n",
              "\n",
              "    .dataframe tbody tr th {\n",
              "        vertical-align: top;\n",
              "    }\n",
              "\n",
              "    .dataframe thead th {\n",
              "        text-align: right;\n",
              "    }\n",
              "</style>\n",
              "<table border=\"1\" class=\"dataframe\">\n",
              "  <thead>\n",
              "    <tr style=\"text-align: right;\">\n",
              "      <th></th>\n",
              "      <th>temperatura_max</th>\n",
              "      <th>temperatura_med</th>\n",
              "      <th>temperatura_min</th>\n",
              "      <th>rocio_max</th>\n",
              "      <th>rocio_med</th>\n",
              "      <th>rocio_min</th>\n",
              "      <th>humedad_max</th>\n",
              "      <th>humedad_med</th>\n",
              "      <th>humedad_min</th>\n",
              "      <th>presion_max</th>\n",
              "      <th>presion_med</th>\n",
              "      <th>presion_min</th>\n",
              "      <th>visibilidad_max</th>\n",
              "      <th>visibilidad_med</th>\n",
              "      <th>visibilidad_min</th>\n",
              "      <th>viento_max</th>\n",
              "      <th>viento_med</th>\n",
              "      <th>racha_viento_max</th>\n",
              "      <th>precipitacion</th>\n",
              "      <th>nubes</th>\n",
              "      <th>viento_dir</th>\n",
              "      <th>ind_lluvia</th>\n",
              "      <th>ind_nieve</th>\n",
              "      <th>ind_truenos</th>\n",
              "      <th>ind_niebla</th>\n",
              "      <th>ind_granizo</th>\n",
              "      <th>lluvia_D+1</th>\n",
              "    </tr>\n",
              "    <tr>\n",
              "      <th>fecha</th>\n",
              "      <th></th>\n",
              "      <th></th>\n",
              "      <th></th>\n",
              "      <th></th>\n",
              "      <th></th>\n",
              "      <th></th>\n",
              "      <th></th>\n",
              "      <th></th>\n",
              "      <th></th>\n",
              "      <th></th>\n",
              "      <th></th>\n",
              "      <th></th>\n",
              "      <th></th>\n",
              "      <th></th>\n",
              "      <th></th>\n",
              "      <th></th>\n",
              "      <th></th>\n",
              "      <th></th>\n",
              "      <th></th>\n",
              "      <th></th>\n",
              "      <th></th>\n",
              "      <th></th>\n",
              "      <th></th>\n",
              "      <th></th>\n",
              "      <th></th>\n",
              "      <th></th>\n",
              "      <th></th>\n",
              "    </tr>\n",
              "  </thead>\n",
              "  <tbody>\n",
              "    <tr>\n",
              "      <th>1997-01-01</th>\n",
              "      <td>7.0</td>\n",
              "      <td>4.0</td>\n",
              "      <td>2.0</td>\n",
              "      <td>5.0</td>\n",
              "      <td>3.0</td>\n",
              "      <td>2.0</td>\n",
              "      <td>100.0</td>\n",
              "      <td>95.0</td>\n",
              "      <td>76.0</td>\n",
              "      <td>1010</td>\n",
              "      <td>1008</td>\n",
              "      <td>1004</td>\n",
              "      <td>10.0</td>\n",
              "      <td>9.0</td>\n",
              "      <td>4.0</td>\n",
              "      <td>13</td>\n",
              "      <td>6</td>\n",
              "      <td>NaN</td>\n",
              "      <td>0.0</td>\n",
              "      <td>6.0</td>\n",
              "      <td>SW</td>\n",
              "      <td>0</td>\n",
              "      <td>0</td>\n",
              "      <td>0</td>\n",
              "      <td>0</td>\n",
              "      <td>0</td>\n",
              "      <td>1.0</td>\n",
              "    </tr>\n",
              "    <tr>\n",
              "      <th>1997-01-02</th>\n",
              "      <td>7.0</td>\n",
              "      <td>3.0</td>\n",
              "      <td>0.0</td>\n",
              "      <td>6.0</td>\n",
              "      <td>3.0</td>\n",
              "      <td>0.0</td>\n",
              "      <td>100.0</td>\n",
              "      <td>92.0</td>\n",
              "      <td>71.0</td>\n",
              "      <td>1007</td>\n",
              "      <td>1003</td>\n",
              "      <td>997</td>\n",
              "      <td>10.0</td>\n",
              "      <td>9.0</td>\n",
              "      <td>4.0</td>\n",
              "      <td>26</td>\n",
              "      <td>8</td>\n",
              "      <td>47.0</td>\n",
              "      <td>0.0</td>\n",
              "      <td>5.0</td>\n",
              "      <td>SE</td>\n",
              "      <td>1</td>\n",
              "      <td>0</td>\n",
              "      <td>0</td>\n",
              "      <td>0</td>\n",
              "      <td>0</td>\n",
              "      <td>1.0</td>\n",
              "    </tr>\n",
              "    <tr>\n",
              "      <th>1997-01-03</th>\n",
              "      <td>5.0</td>\n",
              "      <td>3.0</td>\n",
              "      <td>2.0</td>\n",
              "      <td>5.0</td>\n",
              "      <td>1.0</td>\n",
              "      <td>-1.0</td>\n",
              "      <td>100.0</td>\n",
              "      <td>85.0</td>\n",
              "      <td>70.0</td>\n",
              "      <td>1005</td>\n",
              "      <td>999</td>\n",
              "      <td>996</td>\n",
              "      <td>10.0</td>\n",
              "      <td>10.0</td>\n",
              "      <td>7.0</td>\n",
              "      <td>27</td>\n",
              "      <td>19</td>\n",
              "      <td>NaN</td>\n",
              "      <td>0.0</td>\n",
              "      <td>6.0</td>\n",
              "      <td>W</td>\n",
              "      <td>1</td>\n",
              "      <td>1</td>\n",
              "      <td>0</td>\n",
              "      <td>0</td>\n",
              "      <td>0</td>\n",
              "      <td>0.0</td>\n",
              "    </tr>\n",
              "    <tr>\n",
              "      <th>1997-01-04</th>\n",
              "      <td>7.0</td>\n",
              "      <td>3.0</td>\n",
              "      <td>-1.0</td>\n",
              "      <td>-2.0</td>\n",
              "      <td>-3.0</td>\n",
              "      <td>-4.0</td>\n",
              "      <td>86.0</td>\n",
              "      <td>63.0</td>\n",
              "      <td>49.0</td>\n",
              "      <td>1012</td>\n",
              "      <td>1010</td>\n",
              "      <td>1005</td>\n",
              "      <td>10.0</td>\n",
              "      <td>10.0</td>\n",
              "      <td>10.0</td>\n",
              "      <td>27</td>\n",
              "      <td>19</td>\n",
              "      <td>40.0</td>\n",
              "      <td>0.0</td>\n",
              "      <td>2.0</td>\n",
              "      <td>W</td>\n",
              "      <td>0</td>\n",
              "      <td>0</td>\n",
              "      <td>0</td>\n",
              "      <td>0</td>\n",
              "      <td>0</td>\n",
              "      <td>0.0</td>\n",
              "    </tr>\n",
              "    <tr>\n",
              "      <th>1997-01-05</th>\n",
              "      <td>2.0</td>\n",
              "      <td>0.0</td>\n",
              "      <td>-1.0</td>\n",
              "      <td>2.0</td>\n",
              "      <td>0.0</td>\n",
              "      <td>-3.0</td>\n",
              "      <td>100.0</td>\n",
              "      <td>95.0</td>\n",
              "      <td>86.0</td>\n",
              "      <td>1012</td>\n",
              "      <td>1008</td>\n",
              "      <td>1005</td>\n",
              "      <td>10.0</td>\n",
              "      <td>5.0</td>\n",
              "      <td>1.0</td>\n",
              "      <td>14</td>\n",
              "      <td>6</td>\n",
              "      <td>NaN</td>\n",
              "      <td>0.0</td>\n",
              "      <td>7.0</td>\n",
              "      <td>N</td>\n",
              "      <td>0</td>\n",
              "      <td>1</td>\n",
              "      <td>0</td>\n",
              "      <td>0</td>\n",
              "      <td>0</td>\n",
              "      <td>0.0</td>\n",
              "    </tr>\n",
              "  </tbody>\n",
              "</table>\n",
              "</div>\n",
              "    <div class=\"colab-df-buttons\">\n",
              "\n",
              "  <div class=\"colab-df-container\">\n",
              "    <button class=\"colab-df-convert\" onclick=\"convertToInteractive('df-56aad320-cba9-4997-9020-3b324dbe8f07')\"\n",
              "            title=\"Convert this dataframe to an interactive table.\"\n",
              "            style=\"display:none;\">\n",
              "\n",
              "  <svg xmlns=\"http://www.w3.org/2000/svg\" height=\"24px\" viewBox=\"0 -960 960 960\">\n",
              "    <path d=\"M120-120v-720h720v720H120Zm60-500h600v-160H180v160Zm220 220h160v-160H400v160Zm0 220h160v-160H400v160ZM180-400h160v-160H180v160Zm440 0h160v-160H620v160ZM180-180h160v-160H180v160Zm440 0h160v-160H620v160Z\"/>\n",
              "  </svg>\n",
              "    </button>\n",
              "\n",
              "  <style>\n",
              "    .colab-df-container {\n",
              "      display:flex;\n",
              "      gap: 12px;\n",
              "    }\n",
              "\n",
              "    .colab-df-convert {\n",
              "      background-color: #E8F0FE;\n",
              "      border: none;\n",
              "      border-radius: 50%;\n",
              "      cursor: pointer;\n",
              "      display: none;\n",
              "      fill: #1967D2;\n",
              "      height: 32px;\n",
              "      padding: 0 0 0 0;\n",
              "      width: 32px;\n",
              "    }\n",
              "\n",
              "    .colab-df-convert:hover {\n",
              "      background-color: #E2EBFA;\n",
              "      box-shadow: 0px 1px 2px rgba(60, 64, 67, 0.3), 0px 1px 3px 1px rgba(60, 64, 67, 0.15);\n",
              "      fill: #174EA6;\n",
              "    }\n",
              "\n",
              "    .colab-df-buttons div {\n",
              "      margin-bottom: 4px;\n",
              "    }\n",
              "\n",
              "    [theme=dark] .colab-df-convert {\n",
              "      background-color: #3B4455;\n",
              "      fill: #D2E3FC;\n",
              "    }\n",
              "\n",
              "    [theme=dark] .colab-df-convert:hover {\n",
              "      background-color: #434B5C;\n",
              "      box-shadow: 0px 1px 3px 1px rgba(0, 0, 0, 0.15);\n",
              "      filter: drop-shadow(0px 1px 2px rgba(0, 0, 0, 0.3));\n",
              "      fill: #FFFFFF;\n",
              "    }\n",
              "  </style>\n",
              "\n",
              "    <script>\n",
              "      const buttonEl =\n",
              "        document.querySelector('#df-56aad320-cba9-4997-9020-3b324dbe8f07 button.colab-df-convert');\n",
              "      buttonEl.style.display =\n",
              "        google.colab.kernel.accessAllowed ? 'block' : 'none';\n",
              "\n",
              "      async function convertToInteractive(key) {\n",
              "        const element = document.querySelector('#df-56aad320-cba9-4997-9020-3b324dbe8f07');\n",
              "        const dataTable =\n",
              "          await google.colab.kernel.invokeFunction('convertToInteractive',\n",
              "                                                    [key], {});\n",
              "        if (!dataTable) return;\n",
              "\n",
              "        const docLinkHtml = 'Like what you see? Visit the ' +\n",
              "          '<a target=\"_blank\" href=https://colab.research.google.com/notebooks/data_table.ipynb>data table notebook</a>'\n",
              "          + ' to learn more about interactive tables.';\n",
              "        element.innerHTML = '';\n",
              "        dataTable['output_type'] = 'display_data';\n",
              "        await google.colab.output.renderOutput(dataTable, element);\n",
              "        const docLink = document.createElement('div');\n",
              "        docLink.innerHTML = docLinkHtml;\n",
              "        element.appendChild(docLink);\n",
              "      }\n",
              "    </script>\n",
              "  </div>\n",
              "\n",
              "\n",
              "<div id=\"df-16069576-4b30-4db5-9285-13c61bd92122\">\n",
              "  <button class=\"colab-df-quickchart\" onclick=\"quickchart('df-16069576-4b30-4db5-9285-13c61bd92122')\"\n",
              "            title=\"Suggest charts\"\n",
              "            style=\"display:none;\">\n",
              "\n",
              "<svg xmlns=\"http://www.w3.org/2000/svg\" height=\"24px\"viewBox=\"0 0 24 24\"\n",
              "     width=\"24px\">\n",
              "    <g>\n",
              "        <path d=\"M19 3H5c-1.1 0-2 .9-2 2v14c0 1.1.9 2 2 2h14c1.1 0 2-.9 2-2V5c0-1.1-.9-2-2-2zM9 17H7v-7h2v7zm4 0h-2V7h2v10zm4 0h-2v-4h2v4z\"/>\n",
              "    </g>\n",
              "</svg>\n",
              "  </button>\n",
              "\n",
              "<style>\n",
              "  .colab-df-quickchart {\n",
              "      --bg-color: #E8F0FE;\n",
              "      --fill-color: #1967D2;\n",
              "      --hover-bg-color: #E2EBFA;\n",
              "      --hover-fill-color: #174EA6;\n",
              "      --disabled-fill-color: #AAA;\n",
              "      --disabled-bg-color: #DDD;\n",
              "  }\n",
              "\n",
              "  [theme=dark] .colab-df-quickchart {\n",
              "      --bg-color: #3B4455;\n",
              "      --fill-color: #D2E3FC;\n",
              "      --hover-bg-color: #434B5C;\n",
              "      --hover-fill-color: #FFFFFF;\n",
              "      --disabled-bg-color: #3B4455;\n",
              "      --disabled-fill-color: #666;\n",
              "  }\n",
              "\n",
              "  .colab-df-quickchart {\n",
              "    background-color: var(--bg-color);\n",
              "    border: none;\n",
              "    border-radius: 50%;\n",
              "    cursor: pointer;\n",
              "    display: none;\n",
              "    fill: var(--fill-color);\n",
              "    height: 32px;\n",
              "    padding: 0;\n",
              "    width: 32px;\n",
              "  }\n",
              "\n",
              "  .colab-df-quickchart:hover {\n",
              "    background-color: var(--hover-bg-color);\n",
              "    box-shadow: 0 1px 2px rgba(60, 64, 67, 0.3), 0 1px 3px 1px rgba(60, 64, 67, 0.15);\n",
              "    fill: var(--button-hover-fill-color);\n",
              "  }\n",
              "\n",
              "  .colab-df-quickchart-complete:disabled,\n",
              "  .colab-df-quickchart-complete:disabled:hover {\n",
              "    background-color: var(--disabled-bg-color);\n",
              "    fill: var(--disabled-fill-color);\n",
              "    box-shadow: none;\n",
              "  }\n",
              "\n",
              "  .colab-df-spinner {\n",
              "    border: 2px solid var(--fill-color);\n",
              "    border-color: transparent;\n",
              "    border-bottom-color: var(--fill-color);\n",
              "    animation:\n",
              "      spin 1s steps(1) infinite;\n",
              "  }\n",
              "\n",
              "  @keyframes spin {\n",
              "    0% {\n",
              "      border-color: transparent;\n",
              "      border-bottom-color: var(--fill-color);\n",
              "      border-left-color: var(--fill-color);\n",
              "    }\n",
              "    20% {\n",
              "      border-color: transparent;\n",
              "      border-left-color: var(--fill-color);\n",
              "      border-top-color: var(--fill-color);\n",
              "    }\n",
              "    30% {\n",
              "      border-color: transparent;\n",
              "      border-left-color: var(--fill-color);\n",
              "      border-top-color: var(--fill-color);\n",
              "      border-right-color: var(--fill-color);\n",
              "    }\n",
              "    40% {\n",
              "      border-color: transparent;\n",
              "      border-right-color: var(--fill-color);\n",
              "      border-top-color: var(--fill-color);\n",
              "    }\n",
              "    60% {\n",
              "      border-color: transparent;\n",
              "      border-right-color: var(--fill-color);\n",
              "    }\n",
              "    80% {\n",
              "      border-color: transparent;\n",
              "      border-right-color: var(--fill-color);\n",
              "      border-bottom-color: var(--fill-color);\n",
              "    }\n",
              "    90% {\n",
              "      border-color: transparent;\n",
              "      border-bottom-color: var(--fill-color);\n",
              "    }\n",
              "  }\n",
              "</style>\n",
              "\n",
              "  <script>\n",
              "    async function quickchart(key) {\n",
              "      const quickchartButtonEl =\n",
              "        document.querySelector('#' + key + ' button');\n",
              "      quickchartButtonEl.disabled = true;  // To prevent multiple clicks.\n",
              "      quickchartButtonEl.classList.add('colab-df-spinner');\n",
              "      try {\n",
              "        const charts = await google.colab.kernel.invokeFunction(\n",
              "            'suggestCharts', [key], {});\n",
              "      } catch (error) {\n",
              "        console.error('Error during call to suggestCharts:', error);\n",
              "      }\n",
              "      quickchartButtonEl.classList.remove('colab-df-spinner');\n",
              "      quickchartButtonEl.classList.add('colab-df-quickchart-complete');\n",
              "    }\n",
              "    (() => {\n",
              "      let quickchartButtonEl =\n",
              "        document.querySelector('#df-16069576-4b30-4db5-9285-13c61bd92122 button');\n",
              "      quickchartButtonEl.style.display =\n",
              "        google.colab.kernel.accessAllowed ? 'block' : 'none';\n",
              "    })();\n",
              "  </script>\n",
              "</div>\n",
              "    </div>\n",
              "  </div>\n"
            ],
            "application/vnd.google.colaboratory.intrinsic+json": {
              "type": "dataframe",
              "variable_name": "df"
            }
          },
          "metadata": {},
          "execution_count": 120
        }
      ]
    },
    {
      "cell_type": "markdown",
      "source": [
        "# ML Preprocessing (express)"
      ],
      "metadata": {
        "id": "5FJFFxHaJfLl"
      }
    },
    {
      "cell_type": "markdown",
      "source": [
        "* Pulimos nulos y categóricos (type object), lo minimo para poder modelizar.\n",
        "* **IMPORTANTE:** Obviaremos la parte de analisis exhaustivo de los datos (EDA), corrección de formatos, gestión de altas correlaciones y bajas varianzas para no demorarnos en el preprocessing pero son steps que se deben realizar para garantizar las condiciones óptimas en el entrenamiento."
      ],
      "metadata": {
        "id": "VbK3iHLvJudQ"
      }
    },
    {
      "cell_type": "markdown",
      "source": [
        "## Eliminar duplicados"
      ],
      "metadata": {
        "id": "C8CYYDJz41UC"
      }
    },
    {
      "cell_type": "code",
      "source": [
        "# Check duplicados\n",
        "len(df.index.unique())==len(df.index)"
      ],
      "metadata": {
        "id": "kWb8Tt9yaP-Y",
        "colab": {
          "base_uri": "https://localhost:8080/"
        },
        "outputId": "b99c2b0d-f7ad-46c3-f05c-f6961023ffa5"
      },
      "execution_count": null,
      "outputs": [
        {
          "output_type": "execute_result",
          "data": {
            "text/plain": [
              "True"
            ]
          },
          "metadata": {},
          "execution_count": 121
        }
      ]
    },
    {
      "cell_type": "markdown",
      "source": [
        "## Imputar nulos"
      ],
      "metadata": {
        "id": "H1P0WvNHOnpw"
      }
    },
    {
      "cell_type": "code",
      "source": [
        "df.isna().sum()"
      ],
      "metadata": {
        "id": "dP1WzkzoJekh",
        "colab": {
          "base_uri": "https://localhost:8080/"
        },
        "outputId": "d6dd912f-3d4b-4ced-a32a-6df502b06470"
      },
      "execution_count": null,
      "outputs": [
        {
          "output_type": "execute_result",
          "data": {
            "text/plain": [
              "temperatura_max        2\n",
              "temperatura_med        3\n",
              "temperatura_min        2\n",
              "rocio_max              2\n",
              "rocio_med              2\n",
              "rocio_min              2\n",
              "humedad_max            2\n",
              "humedad_med            2\n",
              "humedad_min            2\n",
              "presion_max            0\n",
              "presion_med            0\n",
              "presion_min            0\n",
              "visibilidad_max      940\n",
              "visibilidad_med      940\n",
              "visibilidad_min      940\n",
              "viento_max             0\n",
              "viento_med             0\n",
              "racha_viento_max    3306\n",
              "precipitacion          0\n",
              "nubes               1372\n",
              "viento_dir             0\n",
              "ind_lluvia             0\n",
              "ind_nieve              0\n",
              "ind_truenos            0\n",
              "ind_niebla             0\n",
              "ind_granizo            0\n",
              "lluvia_D+1             1\n",
              "dtype: int64"
            ]
          },
          "metadata": {},
          "execution_count": 122
        }
      ]
    },
    {
      "cell_type": "code",
      "source": [
        "# Eliminamos filas sin TARGET informado (seria contraproducente imputar valores al target del que queremos aprender!)\n",
        "df.dropna(axis=0, subset=['lluvia_D+1'], inplace=True)"
      ],
      "metadata": {
        "id": "5czfL26QLRfy"
      },
      "execution_count": null,
      "outputs": []
    },
    {
      "cell_type": "code",
      "source": [
        "# Parece que hay 3 registros sin la temperatura ni la humedad informada, como son MUY POCOS registros optamos por eliminarlos en lugar de imputar un valor (que dios nos perdone!)\n",
        "df.dropna(axis=0, subset=['temperatura_med'], inplace=True)"
      ],
      "metadata": {
        "id": "7Txyy_lzMGNp"
      },
      "execution_count": null,
      "outputs": []
    },
    {
      "cell_type": "code",
      "source": [
        "#\n",
        "cols_null = list(df.columns[df.isna().sum() >0])\n",
        "cols_null"
      ],
      "metadata": {
        "id": "Y64nSn1pMVDJ",
        "colab": {
          "base_uri": "https://localhost:8080/"
        },
        "outputId": "9bba68cf-6eea-47ab-8a4f-5aecb18eb59e"
      },
      "execution_count": null,
      "outputs": [
        {
          "output_type": "execute_result",
          "data": {
            "text/plain": [
              "['visibilidad_max',\n",
              " 'visibilidad_med',\n",
              " 'visibilidad_min',\n",
              " 'racha_viento_max',\n",
              " 'nubes']"
            ]
          },
          "metadata": {},
          "execution_count": 125
        }
      ]
    },
    {
      "cell_type": "code",
      "source": [
        "for col in cols_null:\n",
        "  df[col] = df[col].fillna(method='ffill')"
      ],
      "metadata": {
        "id": "RisSWGlQNeAR"
      },
      "execution_count": null,
      "outputs": []
    },
    {
      "cell_type": "code",
      "source": [
        "df.head()"
      ],
      "metadata": {
        "id": "UkwKpMntWM0_",
        "colab": {
          "base_uri": "https://localhost:8080/",
          "height": 344
        },
        "outputId": "ac50b5e2-6467-4531-95af-2f111fe7c46a"
      },
      "execution_count": null,
      "outputs": [
        {
          "output_type": "execute_result",
          "data": {
            "text/plain": [
              "            temperatura_max  temperatura_med  temperatura_min  rocio_max  \\\n",
              "fecha                                                                      \n",
              "1997-01-01              7.0              4.0              2.0        5.0   \n",
              "1997-01-02              7.0              3.0              0.0        6.0   \n",
              "1997-01-03              5.0              3.0              2.0        5.0   \n",
              "1997-01-04              7.0              3.0             -1.0       -2.0   \n",
              "1997-01-05              2.0              0.0             -1.0        2.0   \n",
              "\n",
              "            rocio_med  rocio_min  humedad_max  humedad_med  humedad_min  \\\n",
              "fecha                                                                     \n",
              "1997-01-01        3.0        2.0        100.0         95.0         76.0   \n",
              "1997-01-02        3.0        0.0        100.0         92.0         71.0   \n",
              "1997-01-03        1.0       -1.0        100.0         85.0         70.0   \n",
              "1997-01-04       -3.0       -4.0         86.0         63.0         49.0   \n",
              "1997-01-05        0.0       -3.0        100.0         95.0         86.0   \n",
              "\n",
              "            presion_max  presion_med  presion_min  visibilidad_max  \\\n",
              "fecha                                                                \n",
              "1997-01-01         1010         1008         1004             10.0   \n",
              "1997-01-02         1007         1003          997             10.0   \n",
              "1997-01-03         1005          999          996             10.0   \n",
              "1997-01-04         1012         1010         1005             10.0   \n",
              "1997-01-05         1012         1008         1005             10.0   \n",
              "\n",
              "            visibilidad_med  visibilidad_min  viento_max  viento_med  \\\n",
              "fecha                                                                  \n",
              "1997-01-01              9.0              4.0          13           6   \n",
              "1997-01-02              9.0              4.0          26           8   \n",
              "1997-01-03             10.0              7.0          27          19   \n",
              "1997-01-04             10.0             10.0          27          19   \n",
              "1997-01-05              5.0              1.0          14           6   \n",
              "\n",
              "            racha_viento_max  precipitacion  nubes viento_dir  ind_lluvia  \\\n",
              "fecha                                                                       \n",
              "1997-01-01               NaN            0.0    6.0         SW           0   \n",
              "1997-01-02              47.0            0.0    5.0         SE           1   \n",
              "1997-01-03              47.0            0.0    6.0          W           1   \n",
              "1997-01-04              40.0            0.0    2.0          W           0   \n",
              "1997-01-05              40.0            0.0    7.0          N           0   \n",
              "\n",
              "            ind_nieve  ind_truenos  ind_niebla  ind_granizo  lluvia_D+1  \n",
              "fecha                                                                    \n",
              "1997-01-01          0            0           0            0         1.0  \n",
              "1997-01-02          0            0           0            0         1.0  \n",
              "1997-01-03          1            0           0            0         0.0  \n",
              "1997-01-04          0            0           0            0         0.0  \n",
              "1997-01-05          1            0           0            0         0.0  "
            ],
            "text/html": [
              "\n",
              "  <div id=\"df-03667718-bfd2-413c-9e00-a4dbad038692\" class=\"colab-df-container\">\n",
              "    <div>\n",
              "<style scoped>\n",
              "    .dataframe tbody tr th:only-of-type {\n",
              "        vertical-align: middle;\n",
              "    }\n",
              "\n",
              "    .dataframe tbody tr th {\n",
              "        vertical-align: top;\n",
              "    }\n",
              "\n",
              "    .dataframe thead th {\n",
              "        text-align: right;\n",
              "    }\n",
              "</style>\n",
              "<table border=\"1\" class=\"dataframe\">\n",
              "  <thead>\n",
              "    <tr style=\"text-align: right;\">\n",
              "      <th></th>\n",
              "      <th>temperatura_max</th>\n",
              "      <th>temperatura_med</th>\n",
              "      <th>temperatura_min</th>\n",
              "      <th>rocio_max</th>\n",
              "      <th>rocio_med</th>\n",
              "      <th>rocio_min</th>\n",
              "      <th>humedad_max</th>\n",
              "      <th>humedad_med</th>\n",
              "      <th>humedad_min</th>\n",
              "      <th>presion_max</th>\n",
              "      <th>presion_med</th>\n",
              "      <th>presion_min</th>\n",
              "      <th>visibilidad_max</th>\n",
              "      <th>visibilidad_med</th>\n",
              "      <th>visibilidad_min</th>\n",
              "      <th>viento_max</th>\n",
              "      <th>viento_med</th>\n",
              "      <th>racha_viento_max</th>\n",
              "      <th>precipitacion</th>\n",
              "      <th>nubes</th>\n",
              "      <th>viento_dir</th>\n",
              "      <th>ind_lluvia</th>\n",
              "      <th>ind_nieve</th>\n",
              "      <th>ind_truenos</th>\n",
              "      <th>ind_niebla</th>\n",
              "      <th>ind_granizo</th>\n",
              "      <th>lluvia_D+1</th>\n",
              "    </tr>\n",
              "    <tr>\n",
              "      <th>fecha</th>\n",
              "      <th></th>\n",
              "      <th></th>\n",
              "      <th></th>\n",
              "      <th></th>\n",
              "      <th></th>\n",
              "      <th></th>\n",
              "      <th></th>\n",
              "      <th></th>\n",
              "      <th></th>\n",
              "      <th></th>\n",
              "      <th></th>\n",
              "      <th></th>\n",
              "      <th></th>\n",
              "      <th></th>\n",
              "      <th></th>\n",
              "      <th></th>\n",
              "      <th></th>\n",
              "      <th></th>\n",
              "      <th></th>\n",
              "      <th></th>\n",
              "      <th></th>\n",
              "      <th></th>\n",
              "      <th></th>\n",
              "      <th></th>\n",
              "      <th></th>\n",
              "      <th></th>\n",
              "      <th></th>\n",
              "    </tr>\n",
              "  </thead>\n",
              "  <tbody>\n",
              "    <tr>\n",
              "      <th>1997-01-01</th>\n",
              "      <td>7.0</td>\n",
              "      <td>4.0</td>\n",
              "      <td>2.0</td>\n",
              "      <td>5.0</td>\n",
              "      <td>3.0</td>\n",
              "      <td>2.0</td>\n",
              "      <td>100.0</td>\n",
              "      <td>95.0</td>\n",
              "      <td>76.0</td>\n",
              "      <td>1010</td>\n",
              "      <td>1008</td>\n",
              "      <td>1004</td>\n",
              "      <td>10.0</td>\n",
              "      <td>9.0</td>\n",
              "      <td>4.0</td>\n",
              "      <td>13</td>\n",
              "      <td>6</td>\n",
              "      <td>NaN</td>\n",
              "      <td>0.0</td>\n",
              "      <td>6.0</td>\n",
              "      <td>SW</td>\n",
              "      <td>0</td>\n",
              "      <td>0</td>\n",
              "      <td>0</td>\n",
              "      <td>0</td>\n",
              "      <td>0</td>\n",
              "      <td>1.0</td>\n",
              "    </tr>\n",
              "    <tr>\n",
              "      <th>1997-01-02</th>\n",
              "      <td>7.0</td>\n",
              "      <td>3.0</td>\n",
              "      <td>0.0</td>\n",
              "      <td>6.0</td>\n",
              "      <td>3.0</td>\n",
              "      <td>0.0</td>\n",
              "      <td>100.0</td>\n",
              "      <td>92.0</td>\n",
              "      <td>71.0</td>\n",
              "      <td>1007</td>\n",
              "      <td>1003</td>\n",
              "      <td>997</td>\n",
              "      <td>10.0</td>\n",
              "      <td>9.0</td>\n",
              "      <td>4.0</td>\n",
              "      <td>26</td>\n",
              "      <td>8</td>\n",
              "      <td>47.0</td>\n",
              "      <td>0.0</td>\n",
              "      <td>5.0</td>\n",
              "      <td>SE</td>\n",
              "      <td>1</td>\n",
              "      <td>0</td>\n",
              "      <td>0</td>\n",
              "      <td>0</td>\n",
              "      <td>0</td>\n",
              "      <td>1.0</td>\n",
              "    </tr>\n",
              "    <tr>\n",
              "      <th>1997-01-03</th>\n",
              "      <td>5.0</td>\n",
              "      <td>3.0</td>\n",
              "      <td>2.0</td>\n",
              "      <td>5.0</td>\n",
              "      <td>1.0</td>\n",
              "      <td>-1.0</td>\n",
              "      <td>100.0</td>\n",
              "      <td>85.0</td>\n",
              "      <td>70.0</td>\n",
              "      <td>1005</td>\n",
              "      <td>999</td>\n",
              "      <td>996</td>\n",
              "      <td>10.0</td>\n",
              "      <td>10.0</td>\n",
              "      <td>7.0</td>\n",
              "      <td>27</td>\n",
              "      <td>19</td>\n",
              "      <td>47.0</td>\n",
              "      <td>0.0</td>\n",
              "      <td>6.0</td>\n",
              "      <td>W</td>\n",
              "      <td>1</td>\n",
              "      <td>1</td>\n",
              "      <td>0</td>\n",
              "      <td>0</td>\n",
              "      <td>0</td>\n",
              "      <td>0.0</td>\n",
              "    </tr>\n",
              "    <tr>\n",
              "      <th>1997-01-04</th>\n",
              "      <td>7.0</td>\n",
              "      <td>3.0</td>\n",
              "      <td>-1.0</td>\n",
              "      <td>-2.0</td>\n",
              "      <td>-3.0</td>\n",
              "      <td>-4.0</td>\n",
              "      <td>86.0</td>\n",
              "      <td>63.0</td>\n",
              "      <td>49.0</td>\n",
              "      <td>1012</td>\n",
              "      <td>1010</td>\n",
              "      <td>1005</td>\n",
              "      <td>10.0</td>\n",
              "      <td>10.0</td>\n",
              "      <td>10.0</td>\n",
              "      <td>27</td>\n",
              "      <td>19</td>\n",
              "      <td>40.0</td>\n",
              "      <td>0.0</td>\n",
              "      <td>2.0</td>\n",
              "      <td>W</td>\n",
              "      <td>0</td>\n",
              "      <td>0</td>\n",
              "      <td>0</td>\n",
              "      <td>0</td>\n",
              "      <td>0</td>\n",
              "      <td>0.0</td>\n",
              "    </tr>\n",
              "    <tr>\n",
              "      <th>1997-01-05</th>\n",
              "      <td>2.0</td>\n",
              "      <td>0.0</td>\n",
              "      <td>-1.0</td>\n",
              "      <td>2.0</td>\n",
              "      <td>0.0</td>\n",
              "      <td>-3.0</td>\n",
              "      <td>100.0</td>\n",
              "      <td>95.0</td>\n",
              "      <td>86.0</td>\n",
              "      <td>1012</td>\n",
              "      <td>1008</td>\n",
              "      <td>1005</td>\n",
              "      <td>10.0</td>\n",
              "      <td>5.0</td>\n",
              "      <td>1.0</td>\n",
              "      <td>14</td>\n",
              "      <td>6</td>\n",
              "      <td>40.0</td>\n",
              "      <td>0.0</td>\n",
              "      <td>7.0</td>\n",
              "      <td>N</td>\n",
              "      <td>0</td>\n",
              "      <td>1</td>\n",
              "      <td>0</td>\n",
              "      <td>0</td>\n",
              "      <td>0</td>\n",
              "      <td>0.0</td>\n",
              "    </tr>\n",
              "  </tbody>\n",
              "</table>\n",
              "</div>\n",
              "    <div class=\"colab-df-buttons\">\n",
              "\n",
              "  <div class=\"colab-df-container\">\n",
              "    <button class=\"colab-df-convert\" onclick=\"convertToInteractive('df-03667718-bfd2-413c-9e00-a4dbad038692')\"\n",
              "            title=\"Convert this dataframe to an interactive table.\"\n",
              "            style=\"display:none;\">\n",
              "\n",
              "  <svg xmlns=\"http://www.w3.org/2000/svg\" height=\"24px\" viewBox=\"0 -960 960 960\">\n",
              "    <path d=\"M120-120v-720h720v720H120Zm60-500h600v-160H180v160Zm220 220h160v-160H400v160Zm0 220h160v-160H400v160ZM180-400h160v-160H180v160Zm440 0h160v-160H620v160ZM180-180h160v-160H180v160Zm440 0h160v-160H620v160Z\"/>\n",
              "  </svg>\n",
              "    </button>\n",
              "\n",
              "  <style>\n",
              "    .colab-df-container {\n",
              "      display:flex;\n",
              "      gap: 12px;\n",
              "    }\n",
              "\n",
              "    .colab-df-convert {\n",
              "      background-color: #E8F0FE;\n",
              "      border: none;\n",
              "      border-radius: 50%;\n",
              "      cursor: pointer;\n",
              "      display: none;\n",
              "      fill: #1967D2;\n",
              "      height: 32px;\n",
              "      padding: 0 0 0 0;\n",
              "      width: 32px;\n",
              "    }\n",
              "\n",
              "    .colab-df-convert:hover {\n",
              "      background-color: #E2EBFA;\n",
              "      box-shadow: 0px 1px 2px rgba(60, 64, 67, 0.3), 0px 1px 3px 1px rgba(60, 64, 67, 0.15);\n",
              "      fill: #174EA6;\n",
              "    }\n",
              "\n",
              "    .colab-df-buttons div {\n",
              "      margin-bottom: 4px;\n",
              "    }\n",
              "\n",
              "    [theme=dark] .colab-df-convert {\n",
              "      background-color: #3B4455;\n",
              "      fill: #D2E3FC;\n",
              "    }\n",
              "\n",
              "    [theme=dark] .colab-df-convert:hover {\n",
              "      background-color: #434B5C;\n",
              "      box-shadow: 0px 1px 3px 1px rgba(0, 0, 0, 0.15);\n",
              "      filter: drop-shadow(0px 1px 2px rgba(0, 0, 0, 0.3));\n",
              "      fill: #FFFFFF;\n",
              "    }\n",
              "  </style>\n",
              "\n",
              "    <script>\n",
              "      const buttonEl =\n",
              "        document.querySelector('#df-03667718-bfd2-413c-9e00-a4dbad038692 button.colab-df-convert');\n",
              "      buttonEl.style.display =\n",
              "        google.colab.kernel.accessAllowed ? 'block' : 'none';\n",
              "\n",
              "      async function convertToInteractive(key) {\n",
              "        const element = document.querySelector('#df-03667718-bfd2-413c-9e00-a4dbad038692');\n",
              "        const dataTable =\n",
              "          await google.colab.kernel.invokeFunction('convertToInteractive',\n",
              "                                                    [key], {});\n",
              "        if (!dataTable) return;\n",
              "\n",
              "        const docLinkHtml = 'Like what you see? Visit the ' +\n",
              "          '<a target=\"_blank\" href=https://colab.research.google.com/notebooks/data_table.ipynb>data table notebook</a>'\n",
              "          + ' to learn more about interactive tables.';\n",
              "        element.innerHTML = '';\n",
              "        dataTable['output_type'] = 'display_data';\n",
              "        await google.colab.output.renderOutput(dataTable, element);\n",
              "        const docLink = document.createElement('div');\n",
              "        docLink.innerHTML = docLinkHtml;\n",
              "        element.appendChild(docLink);\n",
              "      }\n",
              "    </script>\n",
              "  </div>\n",
              "\n",
              "\n",
              "<div id=\"df-6c624209-790f-4136-9bd3-ab8e8ad55954\">\n",
              "  <button class=\"colab-df-quickchart\" onclick=\"quickchart('df-6c624209-790f-4136-9bd3-ab8e8ad55954')\"\n",
              "            title=\"Suggest charts\"\n",
              "            style=\"display:none;\">\n",
              "\n",
              "<svg xmlns=\"http://www.w3.org/2000/svg\" height=\"24px\"viewBox=\"0 0 24 24\"\n",
              "     width=\"24px\">\n",
              "    <g>\n",
              "        <path d=\"M19 3H5c-1.1 0-2 .9-2 2v14c0 1.1.9 2 2 2h14c1.1 0 2-.9 2-2V5c0-1.1-.9-2-2-2zM9 17H7v-7h2v7zm4 0h-2V7h2v10zm4 0h-2v-4h2v4z\"/>\n",
              "    </g>\n",
              "</svg>\n",
              "  </button>\n",
              "\n",
              "<style>\n",
              "  .colab-df-quickchart {\n",
              "      --bg-color: #E8F0FE;\n",
              "      --fill-color: #1967D2;\n",
              "      --hover-bg-color: #E2EBFA;\n",
              "      --hover-fill-color: #174EA6;\n",
              "      --disabled-fill-color: #AAA;\n",
              "      --disabled-bg-color: #DDD;\n",
              "  }\n",
              "\n",
              "  [theme=dark] .colab-df-quickchart {\n",
              "      --bg-color: #3B4455;\n",
              "      --fill-color: #D2E3FC;\n",
              "      --hover-bg-color: #434B5C;\n",
              "      --hover-fill-color: #FFFFFF;\n",
              "      --disabled-bg-color: #3B4455;\n",
              "      --disabled-fill-color: #666;\n",
              "  }\n",
              "\n",
              "  .colab-df-quickchart {\n",
              "    background-color: var(--bg-color);\n",
              "    border: none;\n",
              "    border-radius: 50%;\n",
              "    cursor: pointer;\n",
              "    display: none;\n",
              "    fill: var(--fill-color);\n",
              "    height: 32px;\n",
              "    padding: 0;\n",
              "    width: 32px;\n",
              "  }\n",
              "\n",
              "  .colab-df-quickchart:hover {\n",
              "    background-color: var(--hover-bg-color);\n",
              "    box-shadow: 0 1px 2px rgba(60, 64, 67, 0.3), 0 1px 3px 1px rgba(60, 64, 67, 0.15);\n",
              "    fill: var(--button-hover-fill-color);\n",
              "  }\n",
              "\n",
              "  .colab-df-quickchart-complete:disabled,\n",
              "  .colab-df-quickchart-complete:disabled:hover {\n",
              "    background-color: var(--disabled-bg-color);\n",
              "    fill: var(--disabled-fill-color);\n",
              "    box-shadow: none;\n",
              "  }\n",
              "\n",
              "  .colab-df-spinner {\n",
              "    border: 2px solid var(--fill-color);\n",
              "    border-color: transparent;\n",
              "    border-bottom-color: var(--fill-color);\n",
              "    animation:\n",
              "      spin 1s steps(1) infinite;\n",
              "  }\n",
              "\n",
              "  @keyframes spin {\n",
              "    0% {\n",
              "      border-color: transparent;\n",
              "      border-bottom-color: var(--fill-color);\n",
              "      border-left-color: var(--fill-color);\n",
              "    }\n",
              "    20% {\n",
              "      border-color: transparent;\n",
              "      border-left-color: var(--fill-color);\n",
              "      border-top-color: var(--fill-color);\n",
              "    }\n",
              "    30% {\n",
              "      border-color: transparent;\n",
              "      border-left-color: var(--fill-color);\n",
              "      border-top-color: var(--fill-color);\n",
              "      border-right-color: var(--fill-color);\n",
              "    }\n",
              "    40% {\n",
              "      border-color: transparent;\n",
              "      border-right-color: var(--fill-color);\n",
              "      border-top-color: var(--fill-color);\n",
              "    }\n",
              "    60% {\n",
              "      border-color: transparent;\n",
              "      border-right-color: var(--fill-color);\n",
              "    }\n",
              "    80% {\n",
              "      border-color: transparent;\n",
              "      border-right-color: var(--fill-color);\n",
              "      border-bottom-color: var(--fill-color);\n",
              "    }\n",
              "    90% {\n",
              "      border-color: transparent;\n",
              "      border-bottom-color: var(--fill-color);\n",
              "    }\n",
              "  }\n",
              "</style>\n",
              "\n",
              "  <script>\n",
              "    async function quickchart(key) {\n",
              "      const quickchartButtonEl =\n",
              "        document.querySelector('#' + key + ' button');\n",
              "      quickchartButtonEl.disabled = true;  // To prevent multiple clicks.\n",
              "      quickchartButtonEl.classList.add('colab-df-spinner');\n",
              "      try {\n",
              "        const charts = await google.colab.kernel.invokeFunction(\n",
              "            'suggestCharts', [key], {});\n",
              "      } catch (error) {\n",
              "        console.error('Error during call to suggestCharts:', error);\n",
              "      }\n",
              "      quickchartButtonEl.classList.remove('colab-df-spinner');\n",
              "      quickchartButtonEl.classList.add('colab-df-quickchart-complete');\n",
              "    }\n",
              "    (() => {\n",
              "      let quickchartButtonEl =\n",
              "        document.querySelector('#df-6c624209-790f-4136-9bd3-ab8e8ad55954 button');\n",
              "      quickchartButtonEl.style.display =\n",
              "        google.colab.kernel.accessAllowed ? 'block' : 'none';\n",
              "    })();\n",
              "  </script>\n",
              "</div>\n",
              "    </div>\n",
              "  </div>\n"
            ],
            "application/vnd.google.colaboratory.intrinsic+json": {
              "type": "dataframe",
              "variable_name": "df"
            }
          },
          "metadata": {},
          "execution_count": 129
        }
      ]
    },
    {
      "cell_type": "code",
      "source": [
        "print('Total nulos:',df.isna().sum().sum() )"
      ],
      "metadata": {
        "id": "sZoAZvSrOEfC",
        "colab": {
          "base_uri": "https://localhost:8080/"
        },
        "outputId": "8c7102ee-fc01-4c73-cf21-6b5bbb3aba4a"
      },
      "execution_count": null,
      "outputs": [
        {
          "output_type": "stream",
          "name": "stdout",
          "text": [
            "Total nulos: 1\n"
          ]
        }
      ]
    },
    {
      "cell_type": "code",
      "source": [
        "for col in cols_null:\n",
        "  df[col] = df[col].fillna(method='bfill')"
      ],
      "metadata": {
        "id": "VMFdtAwxdGFE"
      },
      "execution_count": null,
      "outputs": []
    },
    {
      "cell_type": "code",
      "source": [
        "print('Total nulos:',df.isna().sum().sum() )"
      ],
      "metadata": {
        "id": "5xi11SopeFYZ",
        "colab": {
          "base_uri": "https://localhost:8080/"
        },
        "outputId": "6445a7bb-66ab-4b23-aced-5538a23a7fad"
      },
      "execution_count": null,
      "outputs": [
        {
          "output_type": "stream",
          "name": "stdout",
          "text": [
            "Total nulos: 0\n"
          ]
        }
      ]
    },
    {
      "cell_type": "markdown",
      "source": [
        "## Encoding categoricos"
      ],
      "metadata": {
        "id": "wbPLSKpgOxS3"
      }
    },
    {
      "cell_type": "markdown",
      "source": [
        "Para encodear categoricos 2  opciones:\n",
        "* One-Hot-Encoding\n",
        "* Ordinal Encoding (si tiene un sentido ordinal)"
      ],
      "metadata": {
        "id": "KEZhveqj6Wj0"
      }
    },
    {
      "cell_type": "code",
      "source": [
        "categories = list(df.select_dtypes(include='object').columns)\n",
        "print('Variables categoricas a encodear:', categories)"
      ],
      "metadata": {
        "id": "fJlarv1aOwsC",
        "colab": {
          "base_uri": "https://localhost:8080/"
        },
        "outputId": "da251ed7-ae74-4491-9716-a035deb50c82"
      },
      "execution_count": null,
      "outputs": [
        {
          "output_type": "stream",
          "name": "stdout",
          "text": [
            "Variables categoricas a encodear: ['viento_dir']\n"
          ]
        }
      ]
    },
    {
      "cell_type": "code",
      "source": [
        "df['viento_dir'].value_counts()"
      ],
      "metadata": {
        "id": "5q5kMbGseKBS",
        "colab": {
          "base_uri": "https://localhost:8080/"
        },
        "outputId": "e99e61ea-9315-4a55-9c9c-c7d90e6af1ce"
      },
      "execution_count": null,
      "outputs": [
        {
          "output_type": "execute_result",
          "data": {
            "text/plain": [
              "viento_dir\n",
              "N     1964\n",
              "SW    1133\n",
              "W      978\n",
              "NE     809\n",
              "NW     731\n",
              "S      605\n",
              "SE     326\n",
              "E      262\n",
              "Name: count, dtype: int64"
            ]
          },
          "metadata": {},
          "execution_count": 134
        }
      ]
    },
    {
      "cell_type": "code",
      "source": [
        "# One Hot Encoding\n",
        "df = pd.get_dummies(df, columns=categories)"
      ],
      "metadata": {
        "id": "v8isumi8Pn7J"
      },
      "execution_count": null,
      "outputs": []
    },
    {
      "cell_type": "code",
      "source": [
        "categories = list(df.select_dtypes(include='object').columns)\n",
        "print('Total categoricas:', len(categories))"
      ],
      "metadata": {
        "id": "Esjsk61XPtIr",
        "colab": {
          "base_uri": "https://localhost:8080/"
        },
        "outputId": "646bf128-a880-4422-a99c-aaf3fcd34c8e"
      },
      "execution_count": null,
      "outputs": [
        {
          "output_type": "stream",
          "name": "stdout",
          "text": [
            "Total categoricas: 0\n"
          ]
        }
      ]
    },
    {
      "cell_type": "code",
      "source": [
        "df.head(3)"
      ],
      "metadata": {
        "id": "RRIyVVPtQDCu",
        "colab": {
          "base_uri": "https://localhost:8080/",
          "height": 247
        },
        "outputId": "262af26f-b8ff-4f85-f8ac-912289b92865"
      },
      "execution_count": null,
      "outputs": [
        {
          "output_type": "execute_result",
          "data": {
            "text/plain": [
              "            temperatura_max  temperatura_med  temperatura_min  rocio_max  \\\n",
              "fecha                                                                      \n",
              "1997-01-01              7.0              4.0              2.0        5.0   \n",
              "1997-01-02              7.0              3.0              0.0        6.0   \n",
              "1997-01-03              5.0              3.0              2.0        5.0   \n",
              "\n",
              "            rocio_med  rocio_min  humedad_max  humedad_med  humedad_min  \\\n",
              "fecha                                                                     \n",
              "1997-01-01        3.0        2.0        100.0         95.0         76.0   \n",
              "1997-01-02        3.0        0.0        100.0         92.0         71.0   \n",
              "1997-01-03        1.0       -1.0        100.0         85.0         70.0   \n",
              "\n",
              "            presion_max  presion_med  presion_min  visibilidad_max  \\\n",
              "fecha                                                                \n",
              "1997-01-01         1010         1008         1004             10.0   \n",
              "1997-01-02         1007         1003          997             10.0   \n",
              "1997-01-03         1005          999          996             10.0   \n",
              "\n",
              "            visibilidad_med  visibilidad_min  viento_max  viento_med  \\\n",
              "fecha                                                                  \n",
              "1997-01-01              9.0              4.0          13           6   \n",
              "1997-01-02              9.0              4.0          26           8   \n",
              "1997-01-03             10.0              7.0          27          19   \n",
              "\n",
              "            racha_viento_max  precipitacion  nubes  ind_lluvia  ind_nieve  \\\n",
              "fecha                                                                       \n",
              "1997-01-01              47.0            0.0    6.0           0          0   \n",
              "1997-01-02              47.0            0.0    5.0           1          0   \n",
              "1997-01-03              47.0            0.0    6.0           1          1   \n",
              "\n",
              "            ind_truenos  ind_niebla  ind_granizo  lluvia_D+1  viento_dir_E  \\\n",
              "fecha                                                                        \n",
              "1997-01-01            0           0            0         1.0         False   \n",
              "1997-01-02            0           0            0         1.0         False   \n",
              "1997-01-03            0           0            0         0.0         False   \n",
              "\n",
              "            viento_dir_N  viento_dir_NE  viento_dir_NW  viento_dir_S  \\\n",
              "fecha                                                                  \n",
              "1997-01-01         False          False          False         False   \n",
              "1997-01-02         False          False          False         False   \n",
              "1997-01-03         False          False          False         False   \n",
              "\n",
              "            viento_dir_SE  viento_dir_SW  viento_dir_W  \n",
              "fecha                                                   \n",
              "1997-01-01          False           True         False  \n",
              "1997-01-02           True          False         False  \n",
              "1997-01-03          False          False          True  "
            ],
            "text/html": [
              "\n",
              "  <div id=\"df-9f174ea5-79aa-44bc-b905-bf07428b2fe0\" class=\"colab-df-container\">\n",
              "    <div>\n",
              "<style scoped>\n",
              "    .dataframe tbody tr th:only-of-type {\n",
              "        vertical-align: middle;\n",
              "    }\n",
              "\n",
              "    .dataframe tbody tr th {\n",
              "        vertical-align: top;\n",
              "    }\n",
              "\n",
              "    .dataframe thead th {\n",
              "        text-align: right;\n",
              "    }\n",
              "</style>\n",
              "<table border=\"1\" class=\"dataframe\">\n",
              "  <thead>\n",
              "    <tr style=\"text-align: right;\">\n",
              "      <th></th>\n",
              "      <th>temperatura_max</th>\n",
              "      <th>temperatura_med</th>\n",
              "      <th>temperatura_min</th>\n",
              "      <th>rocio_max</th>\n",
              "      <th>rocio_med</th>\n",
              "      <th>rocio_min</th>\n",
              "      <th>humedad_max</th>\n",
              "      <th>humedad_med</th>\n",
              "      <th>humedad_min</th>\n",
              "      <th>presion_max</th>\n",
              "      <th>presion_med</th>\n",
              "      <th>presion_min</th>\n",
              "      <th>visibilidad_max</th>\n",
              "      <th>visibilidad_med</th>\n",
              "      <th>visibilidad_min</th>\n",
              "      <th>viento_max</th>\n",
              "      <th>viento_med</th>\n",
              "      <th>racha_viento_max</th>\n",
              "      <th>precipitacion</th>\n",
              "      <th>nubes</th>\n",
              "      <th>ind_lluvia</th>\n",
              "      <th>ind_nieve</th>\n",
              "      <th>ind_truenos</th>\n",
              "      <th>ind_niebla</th>\n",
              "      <th>ind_granizo</th>\n",
              "      <th>lluvia_D+1</th>\n",
              "      <th>viento_dir_E</th>\n",
              "      <th>viento_dir_N</th>\n",
              "      <th>viento_dir_NE</th>\n",
              "      <th>viento_dir_NW</th>\n",
              "      <th>viento_dir_S</th>\n",
              "      <th>viento_dir_SE</th>\n",
              "      <th>viento_dir_SW</th>\n",
              "      <th>viento_dir_W</th>\n",
              "    </tr>\n",
              "    <tr>\n",
              "      <th>fecha</th>\n",
              "      <th></th>\n",
              "      <th></th>\n",
              "      <th></th>\n",
              "      <th></th>\n",
              "      <th></th>\n",
              "      <th></th>\n",
              "      <th></th>\n",
              "      <th></th>\n",
              "      <th></th>\n",
              "      <th></th>\n",
              "      <th></th>\n",
              "      <th></th>\n",
              "      <th></th>\n",
              "      <th></th>\n",
              "      <th></th>\n",
              "      <th></th>\n",
              "      <th></th>\n",
              "      <th></th>\n",
              "      <th></th>\n",
              "      <th></th>\n",
              "      <th></th>\n",
              "      <th></th>\n",
              "      <th></th>\n",
              "      <th></th>\n",
              "      <th></th>\n",
              "      <th></th>\n",
              "      <th></th>\n",
              "      <th></th>\n",
              "      <th></th>\n",
              "      <th></th>\n",
              "      <th></th>\n",
              "      <th></th>\n",
              "      <th></th>\n",
              "      <th></th>\n",
              "    </tr>\n",
              "  </thead>\n",
              "  <tbody>\n",
              "    <tr>\n",
              "      <th>1997-01-01</th>\n",
              "      <td>7.0</td>\n",
              "      <td>4.0</td>\n",
              "      <td>2.0</td>\n",
              "      <td>5.0</td>\n",
              "      <td>3.0</td>\n",
              "      <td>2.0</td>\n",
              "      <td>100.0</td>\n",
              "      <td>95.0</td>\n",
              "      <td>76.0</td>\n",
              "      <td>1010</td>\n",
              "      <td>1008</td>\n",
              "      <td>1004</td>\n",
              "      <td>10.0</td>\n",
              "      <td>9.0</td>\n",
              "      <td>4.0</td>\n",
              "      <td>13</td>\n",
              "      <td>6</td>\n",
              "      <td>47.0</td>\n",
              "      <td>0.0</td>\n",
              "      <td>6.0</td>\n",
              "      <td>0</td>\n",
              "      <td>0</td>\n",
              "      <td>0</td>\n",
              "      <td>0</td>\n",
              "      <td>0</td>\n",
              "      <td>1.0</td>\n",
              "      <td>False</td>\n",
              "      <td>False</td>\n",
              "      <td>False</td>\n",
              "      <td>False</td>\n",
              "      <td>False</td>\n",
              "      <td>False</td>\n",
              "      <td>True</td>\n",
              "      <td>False</td>\n",
              "    </tr>\n",
              "    <tr>\n",
              "      <th>1997-01-02</th>\n",
              "      <td>7.0</td>\n",
              "      <td>3.0</td>\n",
              "      <td>0.0</td>\n",
              "      <td>6.0</td>\n",
              "      <td>3.0</td>\n",
              "      <td>0.0</td>\n",
              "      <td>100.0</td>\n",
              "      <td>92.0</td>\n",
              "      <td>71.0</td>\n",
              "      <td>1007</td>\n",
              "      <td>1003</td>\n",
              "      <td>997</td>\n",
              "      <td>10.0</td>\n",
              "      <td>9.0</td>\n",
              "      <td>4.0</td>\n",
              "      <td>26</td>\n",
              "      <td>8</td>\n",
              "      <td>47.0</td>\n",
              "      <td>0.0</td>\n",
              "      <td>5.0</td>\n",
              "      <td>1</td>\n",
              "      <td>0</td>\n",
              "      <td>0</td>\n",
              "      <td>0</td>\n",
              "      <td>0</td>\n",
              "      <td>1.0</td>\n",
              "      <td>False</td>\n",
              "      <td>False</td>\n",
              "      <td>False</td>\n",
              "      <td>False</td>\n",
              "      <td>False</td>\n",
              "      <td>True</td>\n",
              "      <td>False</td>\n",
              "      <td>False</td>\n",
              "    </tr>\n",
              "    <tr>\n",
              "      <th>1997-01-03</th>\n",
              "      <td>5.0</td>\n",
              "      <td>3.0</td>\n",
              "      <td>2.0</td>\n",
              "      <td>5.0</td>\n",
              "      <td>1.0</td>\n",
              "      <td>-1.0</td>\n",
              "      <td>100.0</td>\n",
              "      <td>85.0</td>\n",
              "      <td>70.0</td>\n",
              "      <td>1005</td>\n",
              "      <td>999</td>\n",
              "      <td>996</td>\n",
              "      <td>10.0</td>\n",
              "      <td>10.0</td>\n",
              "      <td>7.0</td>\n",
              "      <td>27</td>\n",
              "      <td>19</td>\n",
              "      <td>47.0</td>\n",
              "      <td>0.0</td>\n",
              "      <td>6.0</td>\n",
              "      <td>1</td>\n",
              "      <td>1</td>\n",
              "      <td>0</td>\n",
              "      <td>0</td>\n",
              "      <td>0</td>\n",
              "      <td>0.0</td>\n",
              "      <td>False</td>\n",
              "      <td>False</td>\n",
              "      <td>False</td>\n",
              "      <td>False</td>\n",
              "      <td>False</td>\n",
              "      <td>False</td>\n",
              "      <td>False</td>\n",
              "      <td>True</td>\n",
              "    </tr>\n",
              "  </tbody>\n",
              "</table>\n",
              "</div>\n",
              "    <div class=\"colab-df-buttons\">\n",
              "\n",
              "  <div class=\"colab-df-container\">\n",
              "    <button class=\"colab-df-convert\" onclick=\"convertToInteractive('df-9f174ea5-79aa-44bc-b905-bf07428b2fe0')\"\n",
              "            title=\"Convert this dataframe to an interactive table.\"\n",
              "            style=\"display:none;\">\n",
              "\n",
              "  <svg xmlns=\"http://www.w3.org/2000/svg\" height=\"24px\" viewBox=\"0 -960 960 960\">\n",
              "    <path d=\"M120-120v-720h720v720H120Zm60-500h600v-160H180v160Zm220 220h160v-160H400v160Zm0 220h160v-160H400v160ZM180-400h160v-160H180v160Zm440 0h160v-160H620v160ZM180-180h160v-160H180v160Zm440 0h160v-160H620v160Z\"/>\n",
              "  </svg>\n",
              "    </button>\n",
              "\n",
              "  <style>\n",
              "    .colab-df-container {\n",
              "      display:flex;\n",
              "      gap: 12px;\n",
              "    }\n",
              "\n",
              "    .colab-df-convert {\n",
              "      background-color: #E8F0FE;\n",
              "      border: none;\n",
              "      border-radius: 50%;\n",
              "      cursor: pointer;\n",
              "      display: none;\n",
              "      fill: #1967D2;\n",
              "      height: 32px;\n",
              "      padding: 0 0 0 0;\n",
              "      width: 32px;\n",
              "    }\n",
              "\n",
              "    .colab-df-convert:hover {\n",
              "      background-color: #E2EBFA;\n",
              "      box-shadow: 0px 1px 2px rgba(60, 64, 67, 0.3), 0px 1px 3px 1px rgba(60, 64, 67, 0.15);\n",
              "      fill: #174EA6;\n",
              "    }\n",
              "\n",
              "    .colab-df-buttons div {\n",
              "      margin-bottom: 4px;\n",
              "    }\n",
              "\n",
              "    [theme=dark] .colab-df-convert {\n",
              "      background-color: #3B4455;\n",
              "      fill: #D2E3FC;\n",
              "    }\n",
              "\n",
              "    [theme=dark] .colab-df-convert:hover {\n",
              "      background-color: #434B5C;\n",
              "      box-shadow: 0px 1px 3px 1px rgba(0, 0, 0, 0.15);\n",
              "      filter: drop-shadow(0px 1px 2px rgba(0, 0, 0, 0.3));\n",
              "      fill: #FFFFFF;\n",
              "    }\n",
              "  </style>\n",
              "\n",
              "    <script>\n",
              "      const buttonEl =\n",
              "        document.querySelector('#df-9f174ea5-79aa-44bc-b905-bf07428b2fe0 button.colab-df-convert');\n",
              "      buttonEl.style.display =\n",
              "        google.colab.kernel.accessAllowed ? 'block' : 'none';\n",
              "\n",
              "      async function convertToInteractive(key) {\n",
              "        const element = document.querySelector('#df-9f174ea5-79aa-44bc-b905-bf07428b2fe0');\n",
              "        const dataTable =\n",
              "          await google.colab.kernel.invokeFunction('convertToInteractive',\n",
              "                                                    [key], {});\n",
              "        if (!dataTable) return;\n",
              "\n",
              "        const docLinkHtml = 'Like what you see? Visit the ' +\n",
              "          '<a target=\"_blank\" href=https://colab.research.google.com/notebooks/data_table.ipynb>data table notebook</a>'\n",
              "          + ' to learn more about interactive tables.';\n",
              "        element.innerHTML = '';\n",
              "        dataTable['output_type'] = 'display_data';\n",
              "        await google.colab.output.renderOutput(dataTable, element);\n",
              "        const docLink = document.createElement('div');\n",
              "        docLink.innerHTML = docLinkHtml;\n",
              "        element.appendChild(docLink);\n",
              "      }\n",
              "    </script>\n",
              "  </div>\n",
              "\n",
              "\n",
              "<div id=\"df-707783e4-fa19-4ac8-bf7f-95705866c7bc\">\n",
              "  <button class=\"colab-df-quickchart\" onclick=\"quickchart('df-707783e4-fa19-4ac8-bf7f-95705866c7bc')\"\n",
              "            title=\"Suggest charts\"\n",
              "            style=\"display:none;\">\n",
              "\n",
              "<svg xmlns=\"http://www.w3.org/2000/svg\" height=\"24px\"viewBox=\"0 0 24 24\"\n",
              "     width=\"24px\">\n",
              "    <g>\n",
              "        <path d=\"M19 3H5c-1.1 0-2 .9-2 2v14c0 1.1.9 2 2 2h14c1.1 0 2-.9 2-2V5c0-1.1-.9-2-2-2zM9 17H7v-7h2v7zm4 0h-2V7h2v10zm4 0h-2v-4h2v4z\"/>\n",
              "    </g>\n",
              "</svg>\n",
              "  </button>\n",
              "\n",
              "<style>\n",
              "  .colab-df-quickchart {\n",
              "      --bg-color: #E8F0FE;\n",
              "      --fill-color: #1967D2;\n",
              "      --hover-bg-color: #E2EBFA;\n",
              "      --hover-fill-color: #174EA6;\n",
              "      --disabled-fill-color: #AAA;\n",
              "      --disabled-bg-color: #DDD;\n",
              "  }\n",
              "\n",
              "  [theme=dark] .colab-df-quickchart {\n",
              "      --bg-color: #3B4455;\n",
              "      --fill-color: #D2E3FC;\n",
              "      --hover-bg-color: #434B5C;\n",
              "      --hover-fill-color: #FFFFFF;\n",
              "      --disabled-bg-color: #3B4455;\n",
              "      --disabled-fill-color: #666;\n",
              "  }\n",
              "\n",
              "  .colab-df-quickchart {\n",
              "    background-color: var(--bg-color);\n",
              "    border: none;\n",
              "    border-radius: 50%;\n",
              "    cursor: pointer;\n",
              "    display: none;\n",
              "    fill: var(--fill-color);\n",
              "    height: 32px;\n",
              "    padding: 0;\n",
              "    width: 32px;\n",
              "  }\n",
              "\n",
              "  .colab-df-quickchart:hover {\n",
              "    background-color: var(--hover-bg-color);\n",
              "    box-shadow: 0 1px 2px rgba(60, 64, 67, 0.3), 0 1px 3px 1px rgba(60, 64, 67, 0.15);\n",
              "    fill: var(--button-hover-fill-color);\n",
              "  }\n",
              "\n",
              "  .colab-df-quickchart-complete:disabled,\n",
              "  .colab-df-quickchart-complete:disabled:hover {\n",
              "    background-color: var(--disabled-bg-color);\n",
              "    fill: var(--disabled-fill-color);\n",
              "    box-shadow: none;\n",
              "  }\n",
              "\n",
              "  .colab-df-spinner {\n",
              "    border: 2px solid var(--fill-color);\n",
              "    border-color: transparent;\n",
              "    border-bottom-color: var(--fill-color);\n",
              "    animation:\n",
              "      spin 1s steps(1) infinite;\n",
              "  }\n",
              "\n",
              "  @keyframes spin {\n",
              "    0% {\n",
              "      border-color: transparent;\n",
              "      border-bottom-color: var(--fill-color);\n",
              "      border-left-color: var(--fill-color);\n",
              "    }\n",
              "    20% {\n",
              "      border-color: transparent;\n",
              "      border-left-color: var(--fill-color);\n",
              "      border-top-color: var(--fill-color);\n",
              "    }\n",
              "    30% {\n",
              "      border-color: transparent;\n",
              "      border-left-color: var(--fill-color);\n",
              "      border-top-color: var(--fill-color);\n",
              "      border-right-color: var(--fill-color);\n",
              "    }\n",
              "    40% {\n",
              "      border-color: transparent;\n",
              "      border-right-color: var(--fill-color);\n",
              "      border-top-color: var(--fill-color);\n",
              "    }\n",
              "    60% {\n",
              "      border-color: transparent;\n",
              "      border-right-color: var(--fill-color);\n",
              "    }\n",
              "    80% {\n",
              "      border-color: transparent;\n",
              "      border-right-color: var(--fill-color);\n",
              "      border-bottom-color: var(--fill-color);\n",
              "    }\n",
              "    90% {\n",
              "      border-color: transparent;\n",
              "      border-bottom-color: var(--fill-color);\n",
              "    }\n",
              "  }\n",
              "</style>\n",
              "\n",
              "  <script>\n",
              "    async function quickchart(key) {\n",
              "      const quickchartButtonEl =\n",
              "        document.querySelector('#' + key + ' button');\n",
              "      quickchartButtonEl.disabled = true;  // To prevent multiple clicks.\n",
              "      quickchartButtonEl.classList.add('colab-df-spinner');\n",
              "      try {\n",
              "        const charts = await google.colab.kernel.invokeFunction(\n",
              "            'suggestCharts', [key], {});\n",
              "      } catch (error) {\n",
              "        console.error('Error during call to suggestCharts:', error);\n",
              "      }\n",
              "      quickchartButtonEl.classList.remove('colab-df-spinner');\n",
              "      quickchartButtonEl.classList.add('colab-df-quickchart-complete');\n",
              "    }\n",
              "    (() => {\n",
              "      let quickchartButtonEl =\n",
              "        document.querySelector('#df-707783e4-fa19-4ac8-bf7f-95705866c7bc button');\n",
              "      quickchartButtonEl.style.display =\n",
              "        google.colab.kernel.accessAllowed ? 'block' : 'none';\n",
              "    })();\n",
              "  </script>\n",
              "</div>\n",
              "    </div>\n",
              "  </div>\n"
            ],
            "application/vnd.google.colaboratory.intrinsic+json": {
              "type": "dataframe",
              "variable_name": "df"
            }
          },
          "metadata": {},
          "execution_count": 137
        }
      ]
    },
    {
      "cell_type": "markdown",
      "source": [
        "# MODELO"
      ],
      "metadata": {
        "id": "-aFbnSgrT9HI"
      }
    },
    {
      "cell_type": "markdown",
      "source": [
        "Ya tenemos los datos limpios (*clean data*) para poder modelizar. Vamos ahora a practicar un flujo simple de **TRAIN-TEST-PREDICT**:"
      ],
      "metadata": {
        "id": "Dz70m_xXMhIB"
      }
    },
    {
      "cell_type": "markdown",
      "source": [
        "![FLUJO-ML-SIMPLE.PNG](data:image/png;base64,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)"
      ],
      "metadata": {
        "id": "0XQaWNZ9MVKY"
      }
    },
    {
      "cell_type": "markdown",
      "source": [
        "## Split X-y"
      ],
      "metadata": {
        "id": "bKOXwZAxUhxF"
      }
    },
    {
      "cell_type": "code",
      "source": [
        "target = 'lluvia_D+1'"
      ],
      "metadata": {
        "id": "NFxQ_0Zwm_xd"
      },
      "execution_count": null,
      "outputs": []
    },
    {
      "cell_type": "code",
      "source": [
        "# En clasificación, el target es booleano (True/False)\n",
        "df[target] = df[target].astype('bool')"
      ],
      "metadata": {
        "id": "Q0aMzLq4Sj9F"
      },
      "execution_count": null,
      "outputs": []
    },
    {
      "cell_type": "code",
      "source": [
        "features = [i for i in df.columns if i != target]"
      ],
      "metadata": {
        "id": "wBqMO8JcQge0"
      },
      "execution_count": null,
      "outputs": []
    },
    {
      "cell_type": "code",
      "source": [
        "y = df[target]\n",
        "X = df[features]"
      ],
      "metadata": {
        "id": "N-Pm_ao_Uttp"
      },
      "execution_count": null,
      "outputs": []
    },
    {
      "cell_type": "markdown",
      "source": [
        "## Target: distribucion"
      ],
      "metadata": {
        "id": "l_BZ3003nAZj"
      }
    },
    {
      "cell_type": "code",
      "source": [
        "y.value_counts()     # Distribucion"
      ],
      "metadata": {
        "id": "eeQOKg00TCnB",
        "colab": {
          "base_uri": "https://localhost:8080/"
        },
        "outputId": "5475ab92-96fa-4dbe-bba3-788746351eb9"
      },
      "execution_count": null,
      "outputs": [
        {
          "output_type": "execute_result",
          "data": {
            "text/plain": [
              "lluvia_D+1\n",
              "False    5308\n",
              "True     1500\n",
              "Name: count, dtype: int64"
            ]
          },
          "metadata": {},
          "execution_count": 142
        }
      ]
    },
    {
      "cell_type": "code",
      "source": [
        "y.value_counts() / df.shape[0]  # Distribucion en %"
      ],
      "metadata": {
        "id": "JKFXGRVtTGjo",
        "colab": {
          "base_uri": "https://localhost:8080/"
        },
        "outputId": "9e09da4e-a1f8-4b26-d648-438380737c64"
      },
      "execution_count": null,
      "outputs": [
        {
          "output_type": "execute_result",
          "data": {
            "text/plain": [
              "lluvia_D+1\n",
              "False    0.779671\n",
              "True     0.220329\n",
              "Name: count, dtype: float64"
            ]
          },
          "metadata": {},
          "execution_count": 143
        }
      ]
    },
    {
      "cell_type": "code",
      "source": [
        "sns.countplot(x=y)\n",
        "plt.title('TARGET DISTRIBUTION: '+target)\n",
        "plt.show()"
      ],
      "metadata": {
        "id": "8QrhGh-BtQcw",
        "colab": {
          "base_uri": "https://localhost:8080/",
          "height": 472
        },
        "outputId": "083f6702-dd43-4a92-9054-da4400e10f72"
      },
      "execution_count": null,
      "outputs": [
        {
          "output_type": "display_data",
          "data": {
            "text/plain": [
              "<Figure size 640x480 with 1 Axes>"
            ],
            "image/png": "[encoded data removed]"
          },
          "metadata": {}
        }
      ]
    },
    {
      "cell_type": "markdown",
      "source": [
        "## Split train-test"
      ],
      "metadata": {
        "id": "FsVMBOTnhuVa"
      }
    },
    {
      "cell_type": "markdown",
      "source": [
        "Para separar los datos entre TRAIN-TEST tenemos 2 opciones:\n",
        "* **HOLDOUT**, utilizaremos ultimos dias para TEST. La más coherente si el objetivo del modelo es hacer predicciones a futuro.\n",
        "* **RANDOM HOLDOUT**, utilizando un set random de observaciones para TEST. Cuando el componente temporal en la prediccion no es importante."
      ],
      "metadata": {
        "id": "WmR2CDtQThVg"
      }
    },
    {
      "cell_type": "code",
      "source": [
        "from sklearn.model_selection import train_test_split"
      ],
      "metadata": {
        "id": "M0atLDHUUZL5"
      },
      "execution_count": null,
      "outputs": []
    },
    {
      "cell_type": "code",
      "source": [
        "# HOLDOUT\n",
        "X_train, X_test, y_train, y_test = train_test_split(\n",
        "                                        X,\n",
        "                                        y,\n",
        "                                        test_size = 0.30, # tamaño del split aleatorio\n",
        "                                        shuffle = False,\n",
        "                                        #stratify=y\n",
        "                                    )"
      ],
      "metadata": {
        "id": "VjjKnOmchtYs"
      },
      "execution_count": null,
      "outputs": []
    },
    {
      "cell_type": "code",
      "source": [
        "print('Train data instances:', len(y_train))\n",
        "print('Test data instances:', len(y_test))"
      ],
      "metadata": {
        "id": "RZl9xW4N5sKq",
        "colab": {
          "base_uri": "https://localhost:8080/"
        },
        "outputId": "c69cd876-0e1d-43e2-dca8-c0402d1a8592"
      },
      "execution_count": null,
      "outputs": [
        {
          "output_type": "stream",
          "name": "stdout",
          "text": [
            "Train data instances: 4765\n",
            "Test data instances: 2043\n"
          ]
        }
      ]
    },
    {
      "cell_type": "code",
      "source": [
        "sns.countplot(x=y_train)\n",
        "plt.title('TARGET DISTRIBUTION: Train')\n",
        "plt.show()"
      ],
      "metadata": {
        "id": "gzTz8Kt9_GyW",
        "colab": {
          "base_uri": "https://localhost:8080/",
          "height": 472
        },
        "outputId": "8741dc09-8f89-4f3f-b73c-7846fd746327"
      },
      "execution_count": null,
      "outputs": [
        {
          "output_type": "display_data",
          "data": {
            "text/plain": [
              "<Figure size 640x480 with 1 Axes>"
            ],
            "image/png": "[encoded data removed]"
          },
          "metadata": {}
        }
      ]
    },
    {
      "cell_type": "code",
      "source": [
        "y_train.value_counts() / len(y_train)  # Distribucion en %"
      ],
      "metadata": {
        "id": "RsTwrgEIc5DC",
        "colab": {
          "base_uri": "https://localhost:8080/"
        },
        "outputId": "c3b6942b-0c4a-4c68-9f2c-8ddce5963170"
      },
      "execution_count": null,
      "outputs": [
        {
          "output_type": "execute_result",
          "data": {
            "text/plain": [
              "lluvia_D+1\n",
              "False    0.783211\n",
              "True     0.216789\n",
              "Name: count, dtype: float64"
            ]
          },
          "metadata": {},
          "execution_count": 149
        }
      ]
    },
    {
      "cell_type": "code",
      "source": [
        "y_test.value_counts() / len(y_test)  # Distribucion en %"
      ],
      "metadata": {
        "id": "ELGbPKird0T4",
        "colab": {
          "base_uri": "https://localhost:8080/"
        },
        "outputId": "04e787ab-f406-44b3-c38b-b375bea67e1c"
      },
      "execution_count": null,
      "outputs": [
        {
          "output_type": "execute_result",
          "data": {
            "text/plain": [
              "lluvia_D+1\n",
              "False    0.771415\n",
              "True     0.228585\n",
              "Name: count, dtype: float64"
            ]
          },
          "metadata": {},
          "execution_count": 150
        }
      ]
    },
    {
      "cell_type": "markdown",
      "source": [
        "## Rescaling"
      ],
      "metadata": {
        "id": "g-D0mhZ-H6wB"
      }
    },
    {
      "cell_type": "markdown",
      "source": [
        "¿Vamos a entrenar un modelo lineal o de distancias? -> NO. Por lo que no es necesario estandarizar los datos."
      ],
      "metadata": {
        "id": "mBvNQQFRH9if"
      }
    },
    {
      "cell_type": "markdown",
      "source": [
        "## TRAIN"
      ],
      "metadata": {
        "id": "9_cVOcePkmJM"
      }
    },
    {
      "cell_type": "markdown",
      "source": [
        "Vamos a implementar el algoritmo Gradient Boosting Classifier (GBM) para entrenar un modelo de CLASIFICACIÓN, entrenando con los datos de TRAIN. Veremos más adelante como funcionan los distintos algoritmos ML. Utilizaremos algoritmos distribuidos a través de librerias de Python, principalmente scikit-learn."
      ],
      "metadata": {
        "id": "Pir3V284jCPA"
      }
    },
    {
      "cell_type": "code",
      "source": [
        "from sklearn.ensemble import GradientBoostingClassifier"
      ],
      "metadata": {
        "id": "GIYDbxRo6tVb"
      },
      "execution_count": null,
      "outputs": []
    },
    {
      "cell_type": "code",
      "source": [
        "model = GradientBoostingClassifier()  # declara el algoritmo del modelo ML -> Algoritmo ML + Datos = Modelo ML"
      ],
      "metadata": {
        "id": "i7e0MtjYkWnu"
      },
      "execution_count": null,
      "outputs": []
    },
    {
      "cell_type": "code",
      "source": [
        "model.fit(X_train, y_train)           # fit(): entrena el modelo ML con los datos de train"
      ],
      "metadata": {
        "id": "pMXXDtNk62Pz",
        "colab": {
          "base_uri": "https://localhost:8080/",
          "height": 75
        },
        "outputId": "72b74302-e464-41fc-a7d4-9c0ab75c90af"
      },
      "execution_count": null,
      "outputs": [
        {
          "output_type": "execute_result",
          "data": {
            "text/plain": [
              "GradientBoostingClassifier()"
            ],
            "text/html": [
              "<style>#sk-container-id-2 {color: black;background-color: white;}#sk-container-id-2 pre{padding: 0;}#sk-container-id-2 div.sk-toggleable {background-color: white;}#sk-container-id-2 label.sk-toggleable__label {cursor: pointer;display: block;width: 100%;margin-bottom: 0;padding: 0.3em;box-sizing: border-box;text-align: center;}#sk-container-id-2 label.sk-toggleable__label-arrow:before {content: \"▸\";float: left;margin-right: 0.25em;color: #696969;}#sk-container-id-2 label.sk-toggleable__label-arrow:hover:before {color: black;}#sk-container-id-2 div.sk-estimator:hover label.sk-toggleable__label-arrow:before {color: black;}#sk-container-id-2 div.sk-toggleable__content {max-height: 0;max-width: 0;overflow: hidden;text-align: left;background-color: #f0f8ff;}#sk-container-id-2 div.sk-toggleable__content pre {margin: 0.2em;color: black;border-radius: 0.25em;background-color: #f0f8ff;}#sk-container-id-2 input.sk-toggleable__control:checked~div.sk-toggleable__content {max-height: 200px;max-width: 100%;overflow: auto;}#sk-container-id-2 input.sk-toggleable__control:checked~label.sk-toggleable__label-arrow:before {content: \"▾\";}#sk-container-id-2 div.sk-estimator input.sk-toggleable__control:checked~label.sk-toggleable__label {background-color: #d4ebff;}#sk-container-id-2 div.sk-label input.sk-toggleable__control:checked~label.sk-toggleable__label {background-color: #d4ebff;}#sk-container-id-2 input.sk-hidden--visually {border: 0;clip: rect(1px 1px 1px 1px);clip: rect(1px, 1px, 1px, 1px);height: 1px;margin: -1px;overflow: hidden;padding: 0;position: absolute;width: 1px;}#sk-container-id-2 div.sk-estimator {font-family: monospace;background-color: #f0f8ff;border: 1px dotted black;border-radius: 0.25em;box-sizing: border-box;margin-bottom: 0.5em;}#sk-container-id-2 div.sk-estimator:hover {background-color: #d4ebff;}#sk-container-id-2 div.sk-parallel-item::after {content: \"\";width: 100%;border-bottom: 1px solid gray;flex-grow: 1;}#sk-container-id-2 div.sk-label:hover label.sk-toggleable__label {background-color: #d4ebff;}#sk-container-id-2 div.sk-serial::before {content: \"\";position: absolute;border-left: 1px solid gray;box-sizing: border-box;top: 0;bottom: 0;left: 50%;z-index: 0;}#sk-container-id-2 div.sk-serial {display: flex;flex-direction: column;align-items: center;background-color: white;padding-right: 0.2em;padding-left: 0.2em;position: relative;}#sk-container-id-2 div.sk-item {position: relative;z-index: 1;}#sk-container-id-2 div.sk-parallel {display: flex;align-items: stretch;justify-content: center;background-color: white;position: relative;}#sk-container-id-2 div.sk-item::before, #sk-container-id-2 div.sk-parallel-item::before {content: \"\";position: absolute;border-left: 1px solid gray;box-sizing: border-box;top: 0;bottom: 0;left: 50%;z-index: -1;}#sk-container-id-2 div.sk-parallel-item {display: flex;flex-direction: column;z-index: 1;position: relative;background-color: white;}#sk-container-id-2 div.sk-parallel-item:first-child::after {align-self: flex-end;width: 50%;}#sk-container-id-2 div.sk-parallel-item:last-child::after {align-self: flex-start;width: 50%;}#sk-container-id-2 div.sk-parallel-item:only-child::after {width: 0;}#sk-container-id-2 div.sk-dashed-wrapped {border: 1px dashed gray;margin: 0 0.4em 0.5em 0.4em;box-sizing: border-box;padding-bottom: 0.4em;background-color: white;}#sk-container-id-2 div.sk-label label {font-family: monospace;font-weight: bold;display: inline-block;line-height: 1.2em;}#sk-container-id-2 div.sk-label-container {text-align: center;}#sk-container-id-2 div.sk-container {/* jupyter's `normalize.less` sets `[hidden] { display: none; }` but bootstrap.min.css set `[hidden] { display: none !important; }` so we also need the `!important` here to be able to override the default hidden behavior on the sphinx rendered scikit-learn.org. See: https://github.com/scikit-learn/scikit-learn/issues/21755 */display: inline-block !important;position: relative;}#sk-container-id-2 div.sk-text-repr-fallback {display: none;}</style><div id=\"sk-container-id-2\" class=\"sk-top-container\"><div class=\"sk-text-repr-fallback\"><pre>GradientBoostingClassifier()</pre><b>In a Jupyter environment, please rerun this cell to show the HTML representation or trust the notebook. <br />On GitHub, the HTML representation is unable to render, please try loading this page with nbviewer.org.</b></div><div class=\"sk-container\" hidden><div class=\"sk-item\"><div class=\"sk-estimator sk-toggleable\"><input class=\"sk-toggleable__control sk-hidden--visually\" id=\"sk-estimator-id-2\" type=\"checkbox\" checked><label for=\"sk-estimator-id-2\" class=\"sk-toggleable__label sk-toggleable__label-arrow\">GradientBoostingClassifier</label><div class=\"sk-toggleable__content\"><pre>GradientBoostingClassifier()</pre></div></div></div></div></div>"
            ]
          },
          "metadata": {},
          "execution_count": 153
        }
      ]
    },
    {
      "cell_type": "code",
      "source": [
        "model.predict(X_test)"
      ],
      "metadata": {
        "id": "0h5fz-ibhQEb",
        "colab": {
          "base_uri": "https://localhost:8080/"
        },
        "outputId": "ce12c2f5-c721-493c-8429-83ee6b05c7cf"
      },
      "execution_count": null,
      "outputs": [
        {
          "output_type": "execute_result",
          "data": {
            "text/plain": [
              "array([False, False, False, ..., False, False, False])"
            ]
          },
          "metadata": {},
          "execution_count": 154
        }
      ]
    },
    {
      "cell_type": "code",
      "source": [
        "model.predict_proba(X_test)[:,1]"
      ],
      "metadata": {
        "id": "MfKjN-7vhcW4",
        "colab": {
          "base_uri": "https://localhost:8080/"
        },
        "outputId": "24029a5d-bf24-4c5f-9550-05656f70c1b2"
      },
      "execution_count": null,
      "outputs": [
        {
          "output_type": "execute_result",
          "data": {
            "text/plain": [
              "array([0.15365371, 0.06866585, 0.0378469 , ..., 0.16182493, 0.15695005,\n",
              "       0.10620938])"
            ]
          },
          "metadata": {},
          "execution_count": 155
        }
      ]
    },
    {
      "cell_type": "code",
      "source": [
        "X_show = X_test.copy()\n",
        "X_show[\"target_real\"] = y_test\n",
        "X_show[\"prediccion\"] = model.predict(X_test)\n",
        "X_show[\"prediccion_proba\"] = model.predict_proba(X_test)[:,1]\n",
        "X_show.head(15)"
      ],
      "metadata": {
        "colab": {
          "base_uri": "https://localhost:8080/",
          "height": 832
        },
        "id": "3lrOjWvdy8bH",
        "outputId": "72bce4ca-2889-4a22-9d26-b531d71a76e3"
      },
      "execution_count": null,
      "outputs": [
        {
          "output_type": "execute_result",
          "data": {
            "text/plain": [
              "            temperatura_max  temperatura_med  temperatura_min  rocio_max  \\\n",
              "fecha                                                                      \n",
              "2010-05-28             22.0             17.0             13.0       13.0   \n",
              "2010-05-29             27.0             18.0             10.0       11.0   \n",
              "2010-05-30             30.0             21.0             12.0       11.0   \n",
              "2010-05-31             31.0             22.0             14.0       13.0   \n",
              "2010-06-01             32.0             23.0             16.0       13.0   \n",
              "2010-06-02             30.0             24.0             18.0       11.0   \n",
              "2010-06-03             32.0             23.0             16.0       11.0   \n",
              "2010-06-04             33.0             24.0             15.0       11.0   \n",
              "2010-06-05             34.0             26.0             17.0       15.0   \n",
              "2010-06-06             31.0             23.0             17.0       13.0   \n",
              "2010-06-07             30.0             23.0             16.0       15.0   \n",
              "2010-06-08             26.0             21.0             16.0       13.0   \n",
              "2010-06-09             18.0             16.0             13.0       15.0   \n",
              "2010-06-10             20.0             17.0             13.0       13.0   \n",
              "2010-06-11             20.0             17.0             13.0       12.0   \n",
              "\n",
              "            rocio_med  rocio_min  humedad_max  humedad_med  humedad_min  \\\n",
              "fecha                                                                     \n",
              "2010-05-28       10.0        5.0         94.0         62.0         33.0   \n",
              "2010-05-29        8.0        3.0         94.0         53.0         21.0   \n",
              "2010-05-30        9.0        8.0         82.0         48.0         25.0   \n",
              "2010-05-31       11.0        9.0         82.0         48.0         25.0   \n",
              "2010-06-01       11.0        7.0         77.0         45.0         21.0   \n",
              "2010-06-02        9.0        7.0         64.0         43.0         23.0   \n",
              "2010-06-03        9.0        7.0         68.0         40.0         21.0   \n",
              "2010-06-04        8.0        5.0         72.0         38.0         17.0   \n",
              "2010-06-05       11.0        8.0         64.0         41.0         20.0   \n",
              "2010-06-06        7.0       -2.0         68.0         37.0         12.0   \n",
              "2010-06-07       10.0        1.0         82.0         48.0         15.0   \n",
              "2010-06-08        8.0        5.0         82.0         47.0         28.0   \n",
              "2010-06-09       13.0       12.0        100.0         89.0         77.0   \n",
              "2010-06-10       11.0        9.0         88.0         72.0         49.0   \n",
              "2010-06-11       11.0        8.0         88.0         69.0         49.0   \n",
              "\n",
              "            presion_max  presion_med  presion_min  visibilidad_max  \\\n",
              "fecha                                                                \n",
              "2010-05-28         1020         1016         1014             10.0   \n",
              "2010-05-29         1024         1022         1020             10.0   \n",
              "2010-05-30         1026         1024         1022             10.0   \n",
              "2010-05-31         1024         1022         1019             10.0   \n",
              "2010-06-01         1020         1017         1015             10.0   \n",
              "2010-06-02         1017         1015         1013             10.0   \n",
              "2010-06-03         1014         1013         1011             10.0   \n",
              "2010-06-04         1018         1017         1015             10.0   \n",
              "2010-06-05         1019         1017         1015             10.0   \n",
              "2010-06-06         1017         1016         1014             10.0   \n",
              "2010-06-07         1016         1014         1011             10.0   \n",
              "2010-06-08         1011         1009         1007             10.0   \n",
              "2010-06-09         1008         1003          999             10.0   \n",
              "2010-06-10         1010         1005         1002             10.0   \n",
              "2010-06-11         1014         1012         1010             10.0   \n",
              "\n",
              "            visibilidad_med  visibilidad_min  viento_max  viento_med  \\\n",
              "fecha                                                                  \n",
              "2010-05-28             10.0             10.0          16          10   \n",
              "2010-05-29             10.0             10.0          16           6   \n",
              "2010-05-30             10.0             10.0          16           5   \n",
              "2010-05-31             10.0             10.0          21           6   \n",
              "2010-06-01             10.0             10.0          23           8   \n",
              "2010-06-02             10.0             10.0          13           8   \n",
              "2010-06-03             10.0             10.0          13           6   \n",
              "2010-06-04             10.0             10.0          19           8   \n",
              "2010-06-05             10.0             10.0          19           6   \n",
              "2010-06-06             10.0             10.0          24           6   \n",
              "2010-06-07             10.0             10.0          27          11   \n",
              "2010-06-08             10.0             10.0          37          19   \n",
              "2010-06-09              9.0              2.0          32          19   \n",
              "2010-06-10             10.0             10.0          29          23   \n",
              "2010-06-11             10.0              9.0          29          18   \n",
              "\n",
              "            racha_viento_max  precipitacion  nubes  ind_lluvia  ind_nieve  \\\n",
              "fecha                                                                       \n",
              "2010-05-28              53.0            0.0    3.0           0          0   \n",
              "2010-05-29              24.0            0.0    2.0           0          0   \n",
              "2010-05-30              24.0            0.0    1.0           0          0   \n",
              "2010-05-31              24.0            0.0    1.0           0          0   \n",
              "2010-06-01              24.0            0.0    1.0           0          0   \n",
              "2010-06-02              24.0            0.0    1.0           0          0   \n",
              "2010-06-03              24.0            0.0    1.0           0          0   \n",
              "2010-06-04              45.0            0.0    1.0           0          0   \n",
              "2010-06-05              52.0            0.0    1.0           0          0   \n",
              "2010-06-06              58.0            0.0    1.0           0          0   \n",
              "2010-06-07              52.0            0.0    1.0           0          0   \n",
              "2010-06-08              60.0            0.0    3.0           1          0   \n",
              "2010-06-09              42.0            0.0    6.0           1          0   \n",
              "2010-06-10              58.0            0.0    4.0           1          0   \n",
              "2010-06-11              52.0            0.0    2.0           1          0   \n",
              "\n",
              "            ind_truenos  ind_niebla  ind_granizo  viento_dir_E  viento_dir_N  \\\n",
              "fecha                                                                          \n",
              "2010-05-28            0           0            0         False         False   \n",
              "2010-05-29            0           0            0         False         False   \n",
              "2010-05-30            0           0            0         False          True   \n",
              "2010-05-31            0           0            0         False          True   \n",
              "2010-06-01            0           0            0         False         False   \n",
              "2010-06-02            0           0            0         False         False   \n",
              "2010-06-03            0           0            0         False          True   \n",
              "2010-06-04            0           0            0         False         False   \n",
              "2010-06-05            0           0            0         False         False   \n",
              "2010-06-06            0           0            0         False         False   \n",
              "2010-06-07            0           0            0         False         False   \n",
              "2010-06-08            0           0            0         False         False   \n",
              "2010-06-09            0           0            0         False         False   \n",
              "2010-06-10            0           0            0         False         False   \n",
              "2010-06-11            0           0            0         False         False   \n",
              "\n",
              "            viento_dir_NE  viento_dir_NW  viento_dir_S  viento_dir_SE  \\\n",
              "fecha                                                                   \n",
              "2010-05-28           True          False         False          False   \n",
              "2010-05-29          False           True         False          False   \n",
              "2010-05-30          False          False         False          False   \n",
              "2010-05-31          False          False         False          False   \n",
              "2010-06-01          False           True         False          False   \n",
              "2010-06-02           True          False         False          False   \n",
              "2010-06-03          False          False         False          False   \n",
              "2010-06-04           True          False         False          False   \n",
              "2010-06-05          False          False         False          False   \n",
              "2010-06-06          False          False         False          False   \n",
              "2010-06-07          False          False         False          False   \n",
              "2010-06-08          False          False         False          False   \n",
              "2010-06-09          False          False          True          False   \n",
              "2010-06-10          False          False         False          False   \n",
              "2010-06-11          False          False         False          False   \n",
              "\n",
              "            viento_dir_SW  viento_dir_W  target_real  prediccion  \\\n",
              "fecha                                                              \n",
              "2010-05-28          False         False        False       False   \n",
              "2010-05-29          False         False        False       False   \n",
              "2010-05-30          False         False        False       False   \n",
              "2010-05-31          False         False        False       False   \n",
              "2010-06-01          False         False        False       False   \n",
              "2010-06-02          False         False        False       False   \n",
              "2010-06-03          False         False        False       False   \n",
              "2010-06-04          False         False        False       False   \n",
              "2010-06-05          False          True        False       False   \n",
              "2010-06-06           True         False        False       False   \n",
              "2010-06-07           True         False         True       False   \n",
              "2010-06-08           True         False         True       False   \n",
              "2010-06-09          False         False         True        True   \n",
              "2010-06-10           True         False         True        True   \n",
              "2010-06-11           True         False         True       False   \n",
              "\n",
              "            prediccion_proba  \n",
              "fecha                         \n",
              "2010-05-28          0.153654  \n",
              "2010-05-29          0.068666  \n",
              "2010-05-30          0.037847  \n",
              "2010-05-31          0.050429  \n",
              "2010-06-01          0.065571  \n",
              "2010-06-02          0.146770  \n",
              "2010-06-03          0.115748  \n",
              "2010-06-04          0.056481  \n",
              "2010-06-05          0.068197  \n",
              "2010-06-06          0.042616  \n",
              "2010-06-07          0.074500  \n",
              "2010-06-08          0.485345  \n",
              "2010-06-09          0.783772  \n",
              "2010-06-10          0.607434  \n",
              "2010-06-11          0.447028  "
            ],
            "text/html": [
              "\n",
              "  <div id=\"df-c574ec7b-4006-4236-87ad-3cb7cf3a2971\" class=\"colab-df-container\">\n",
              "    <div>\n",
              "<style scoped>\n",
              "    .dataframe tbody tr th:only-of-type {\n",
              "        vertical-align: middle;\n",
              "    }\n",
              "\n",
              "    .dataframe tbody tr th {\n",
              "        vertical-align: top;\n",
              "    }\n",
              "\n",
              "    .dataframe thead th {\n",
              "        text-align: right;\n",
              "    }\n",
              "</style>\n",
              "<table border=\"1\" class=\"dataframe\">\n",
              "  <thead>\n",
              "    <tr style=\"text-align: right;\">\n",
              "      <th></th>\n",
              "      <th>temperatura_max</th>\n",
              "      <th>temperatura_med</th>\n",
              "      <th>temperatura_min</th>\n",
              "      <th>rocio_max</th>\n",
              "      <th>rocio_med</th>\n",
              "      <th>rocio_min</th>\n",
              "      <th>humedad_max</th>\n",
              "      <th>humedad_med</th>\n",
              "      <th>humedad_min</th>\n",
              "      <th>presion_max</th>\n",
              "      <th>presion_med</th>\n",
              "      <th>presion_min</th>\n",
              "      <th>visibilidad_max</th>\n",
              "      <th>visibilidad_med</th>\n",
              "      <th>visibilidad_min</th>\n",
              "      <th>viento_max</th>\n",
              "      <th>viento_med</th>\n",
              "      <th>racha_viento_max</th>\n",
              "      <th>precipitacion</th>\n",
              "      <th>nubes</th>\n",
              "      <th>ind_lluvia</th>\n",
              "      <th>ind_nieve</th>\n",
              "      <th>ind_truenos</th>\n",
              "      <th>ind_niebla</th>\n",
              "      <th>ind_granizo</th>\n",
              "      <th>viento_dir_E</th>\n",
              "      <th>viento_dir_N</th>\n",
              "      <th>viento_dir_NE</th>\n",
              "      <th>viento_dir_NW</th>\n",
              "      <th>viento_dir_S</th>\n",
              "      <th>viento_dir_SE</th>\n",
              "      <th>viento_dir_SW</th>\n",
              "      <th>viento_dir_W</th>\n",
              "      <th>target_real</th>\n",
              "      <th>prediccion</th>\n",
              "      <th>prediccion_proba</th>\n",
              "    </tr>\n",
              "    <tr>\n",
              "      <th>fecha</th>\n",
              "      <th></th>\n",
              "      <th></th>\n",
              "      <th></th>\n",
              "      <th></th>\n",
              "      <th></th>\n",
              "      <th></th>\n",
              "      <th></th>\n",
              "      <th></th>\n",
              "      <th></th>\n",
              "      <th></th>\n",
              "      <th></th>\n",
              "      <th></th>\n",
              "      <th></th>\n",
              "      <th></th>\n",
              "      <th></th>\n",
              "      <th></th>\n",
              "      <th></th>\n",
              "      <th></th>\n",
              "      <th></th>\n",
              "      <th></th>\n",
              "      <th></th>\n",
              "      <th></th>\n",
              "      <th></th>\n",
              "      <th></th>\n",
              "      <th></th>\n",
              "      <th></th>\n",
              "      <th></th>\n",
              "      <th></th>\n",
              "      <th></th>\n",
              "      <th></th>\n",
              "      <th></th>\n",
              "      <th></th>\n",
              "      <th></th>\n",
              "      <th></th>\n",
              "      <th></th>\n",
              "      <th></th>\n",
              "    </tr>\n",
              "  </thead>\n",
              "  <tbody>\n",
              "    <tr>\n",
              "      <th>2010-05-28</th>\n",
              "      <td>22.0</td>\n",
              "      <td>17.0</td>\n",
              "      <td>13.0</td>\n",
              "      <td>13.0</td>\n",
              "      <td>10.0</td>\n",
              "      <td>5.0</td>\n",
              "      <td>94.0</td>\n",
              "      <td>62.0</td>\n",
              "      <td>33.0</td>\n",
              "      <td>1020</td>\n",
              "      <td>1016</td>\n",
              "      <td>1014</td>\n",
              "      <td>10.0</td>\n",
              "      <td>10.0</td>\n",
              "      <td>10.0</td>\n",
              "      <td>16</td>\n",
              "      <td>10</td>\n",
              "      <td>53.0</td>\n",
              "      <td>0.0</td>\n",
              "      <td>3.0</td>\n",
              "      <td>0</td>\n",
              "      <td>0</td>\n",
              "      <td>0</td>\n",
              "      <td>0</td>\n",
              "      <td>0</td>\n",
              "      <td>False</td>\n",
              "      <td>False</td>\n",
              "      <td>True</td>\n",
              "      <td>False</td>\n",
              "      <td>False</td>\n",
              "      <td>False</td>\n",
              "      <td>False</td>\n",
              "      <td>False</td>\n",
              "      <td>False</td>\n",
              "      <td>False</td>\n",
              "      <td>0.153654</td>\n",
              "    </tr>\n",
              "    <tr>\n",
              "      <th>2010-05-29</th>\n",
              "      <td>27.0</td>\n",
              "      <td>18.0</td>\n",
              "      <td>10.0</td>\n",
              "      <td>11.0</td>\n",
              "      <td>8.0</td>\n",
              "      <td>3.0</td>\n",
              "      <td>94.0</td>\n",
              "      <td>53.0</td>\n",
              "      <td>21.0</td>\n",
              "      <td>1024</td>\n",
              "      <td>1022</td>\n",
              "      <td>1020</td>\n",
              "      <td>10.0</td>\n",
              "      <td>10.0</td>\n",
              "      <td>10.0</td>\n",
              "      <td>16</td>\n",
              "      <td>6</td>\n",
              "      <td>24.0</td>\n",
              "      <td>0.0</td>\n",
              "      <td>2.0</td>\n",
              "      <td>0</td>\n",
              "      <td>0</td>\n",
              "      <td>0</td>\n",
              "      <td>0</td>\n",
              "      <td>0</td>\n",
              "      <td>False</td>\n",
              "      <td>False</td>\n",
              "      <td>False</td>\n",
              "      <td>True</td>\n",
              "      <td>False</td>\n",
              "      <td>False</td>\n",
              "      <td>False</td>\n",
              "      <td>False</td>\n",
              "      <td>False</td>\n",
              "      <td>False</td>\n",
              "      <td>0.068666</td>\n",
              "    </tr>\n",
              "    <tr>\n",
              "      <th>2010-05-30</th>\n",
              "      <td>30.0</td>\n",
              "      <td>21.0</td>\n",
              "      <td>12.0</td>\n",
              "      <td>11.0</td>\n",
              "      <td>9.0</td>\n",
              "      <td>8.0</td>\n",
              "      <td>82.0</td>\n",
              "      <td>48.0</td>\n",
              "      <td>25.0</td>\n",
              "      <td>1026</td>\n",
              "      <td>1024</td>\n",
              "      <td>1022</td>\n",
              "      <td>10.0</td>\n",
              "      <td>10.0</td>\n",
              "      <td>10.0</td>\n",
              "      <td>16</td>\n",
              "      <td>5</td>\n",
              "      <td>24.0</td>\n",
              "      <td>0.0</td>\n",
              "      <td>1.0</td>\n",
              "      <td>0</td>\n",
              "      <td>0</td>\n",
              "      <td>0</td>\n",
              "      <td>0</td>\n",
              "      <td>0</td>\n",
              "      <td>False</td>\n",
              "      <td>True</td>\n",
              "      <td>False</td>\n",
              "      <td>False</td>\n",
              "      <td>False</td>\n",
              "      <td>False</td>\n",
              "      <td>False</td>\n",
              "      <td>False</td>\n",
              "      <td>False</td>\n",
              "      <td>False</td>\n",
              "      <td>0.037847</td>\n",
              "    </tr>\n",
              "    <tr>\n",
              "      <th>2010-05-31</th>\n",
              "      <td>31.0</td>\n",
              "      <td>22.0</td>\n",
              "      <td>14.0</td>\n",
              "      <td>13.0</td>\n",
              "      <td>11.0</td>\n",
              "      <td>9.0</td>\n",
              "      <td>82.0</td>\n",
              "      <td>48.0</td>\n",
              "      <td>25.0</td>\n",
              "      <td>1024</td>\n",
              "      <td>1022</td>\n",
              "      <td>1019</td>\n",
              "      <td>10.0</td>\n",
              "      <td>10.0</td>\n",
              "      <td>10.0</td>\n",
              "      <td>21</td>\n",
              "      <td>6</td>\n",
              "      <td>24.0</td>\n",
              "      <td>0.0</td>\n",
              "      <td>1.0</td>\n",
              "      <td>0</td>\n",
              "      <td>0</td>\n",
              "      <td>0</td>\n",
              "      <td>0</td>\n",
              "      <td>0</td>\n",
              "      <td>False</td>\n",
              "      <td>True</td>\n",
              "      <td>False</td>\n",
              "      <td>False</td>\n",
              "      <td>False</td>\n",
              "      <td>False</td>\n",
              "      <td>False</td>\n",
              "      <td>False</td>\n",
              "      <td>False</td>\n",
              "      <td>False</td>\n",
              "      <td>0.050429</td>\n",
              "    </tr>\n",
              "    <tr>\n",
              "      <th>2010-06-01</th>\n",
              "      <td>32.0</td>\n",
              "      <td>23.0</td>\n",
              "      <td>16.0</td>\n",
              "      <td>13.0</td>\n",
              "      <td>11.0</td>\n",
              "      <td>7.0</td>\n",
              "      <td>77.0</td>\n",
              "      <td>45.0</td>\n",
              "      <td>21.0</td>\n",
              "      <td>1020</td>\n",
              "      <td>1017</td>\n",
              "      <td>1015</td>\n",
              "      <td>10.0</td>\n",
              "      <td>10.0</td>\n",
              "      <td>10.0</td>\n",
              "      <td>23</td>\n",
              "      <td>8</td>\n",
              "      <td>24.0</td>\n",
              "      <td>0.0</td>\n",
              "      <td>1.0</td>\n",
              "      <td>0</td>\n",
              "      <td>0</td>\n",
              "      <td>0</td>\n",
              "      <td>0</td>\n",
              "      <td>0</td>\n",
              "      <td>False</td>\n",
              "      <td>False</td>\n",
              "      <td>False</td>\n",
              "      <td>True</td>\n",
              "      <td>False</td>\n",
              "      <td>False</td>\n",
              "      <td>False</td>\n",
              "      <td>False</td>\n",
              "      <td>False</td>\n",
              "      <td>False</td>\n",
              "      <td>0.065571</td>\n",
              "    </tr>\n",
              "    <tr>\n",
              "      <th>2010-06-02</th>\n",
              "      <td>30.0</td>\n",
              "      <td>24.0</td>\n",
              "      <td>18.0</td>\n",
              "      <td>11.0</td>\n",
              "      <td>9.0</td>\n",
              "      <td>7.0</td>\n",
              "      <td>64.0</td>\n",
              "      <td>43.0</td>\n",
              "      <td>23.0</td>\n",
              "      <td>1017</td>\n",
              "      <td>1015</td>\n",
              "      <td>1013</td>\n",
              "      <td>10.0</td>\n",
              "      <td>10.0</td>\n",
              "      <td>10.0</td>\n",
              "      <td>13</td>\n",
              "      <td>8</td>\n",
              "      <td>24.0</td>\n",
              "      <td>0.0</td>\n",
              "      <td>1.0</td>\n",
              "      <td>0</td>\n",
              "      <td>0</td>\n",
              "      <td>0</td>\n",
              "      <td>0</td>\n",
              "      <td>0</td>\n",
              "      <td>False</td>\n",
              "      <td>False</td>\n",
              "      <td>True</td>\n",
              "      <td>False</td>\n",
              "      <td>False</td>\n",
              "      <td>False</td>\n",
              "      <td>False</td>\n",
              "      <td>False</td>\n",
              "      <td>False</td>\n",
              "      <td>False</td>\n",
              "      <td>0.146770</td>\n",
              "    </tr>\n",
              "    <tr>\n",
              "      <th>2010-06-03</th>\n",
              "      <td>32.0</td>\n",
              "      <td>23.0</td>\n",
              "      <td>16.0</td>\n",
              "      <td>11.0</td>\n",
              "      <td>9.0</td>\n",
              "      <td>7.0</td>\n",
              "      <td>68.0</td>\n",
              "      <td>40.0</td>\n",
              "      <td>21.0</td>\n",
              "      <td>1014</td>\n",
              "      <td>1013</td>\n",
              "      <td>1011</td>\n",
              "      <td>10.0</td>\n",
              "      <td>10.0</td>\n",
              "      <td>10.0</td>\n",
              "      <td>13</td>\n",
              "      <td>6</td>\n",
              "      <td>24.0</td>\n",
              "      <td>0.0</td>\n",
              "      <td>1.0</td>\n",
              "      <td>0</td>\n",
              "      <td>0</td>\n",
              "      <td>0</td>\n",
              "      <td>0</td>\n",
              "      <td>0</td>\n",
              "      <td>False</td>\n",
              "      <td>True</td>\n",
              "      <td>False</td>\n",
              "      <td>False</td>\n",
              "      <td>False</td>\n",
              "      <td>False</td>\n",
              "      <td>False</td>\n",
              "      <td>False</td>\n",
              "      <td>False</td>\n",
              "      <td>False</td>\n",
              "      <td>0.115748</td>\n",
              "    </tr>\n",
              "    <tr>\n",
              "      <th>2010-06-04</th>\n",
              "      <td>33.0</td>\n",
              "      <td>24.0</td>\n",
              "      <td>15.0</td>\n",
              "      <td>11.0</td>\n",
              "      <td>8.0</td>\n",
              "      <td>5.0</td>\n",
              "      <td>72.0</td>\n",
              "      <td>38.0</td>\n",
              "      <td>17.0</td>\n",
              "      <td>1018</td>\n",
              "      <td>1017</td>\n",
              "      <td>1015</td>\n",
              "      <td>10.0</td>\n",
              "      <td>10.0</td>\n",
              "      <td>10.0</td>\n",
              "      <td>19</td>\n",
              "      <td>8</td>\n",
              "      <td>45.0</td>\n",
              "      <td>0.0</td>\n",
              "      <td>1.0</td>\n",
              "      <td>0</td>\n",
              "      <td>0</td>\n",
              "      <td>0</td>\n",
              "      <td>0</td>\n",
              "      <td>0</td>\n",
              "      <td>False</td>\n",
              "      <td>False</td>\n",
              "      <td>True</td>\n",
              "      <td>False</td>\n",
              "      <td>False</td>\n",
              "      <td>False</td>\n",
              "      <td>False</td>\n",
              "      <td>False</td>\n",
              "      <td>False</td>\n",
              "      <td>False</td>\n",
              "      <td>0.056481</td>\n",
              "    </tr>\n",
              "    <tr>\n",
              "      <th>2010-06-05</th>\n",
              "      <td>34.0</td>\n",
              "      <td>26.0</td>\n",
              "      <td>17.0</td>\n",
              "      <td>15.0</td>\n",
              "      <td>11.0</td>\n",
              "      <td>8.0</td>\n",
              "      <td>64.0</td>\n",
              "      <td>41.0</td>\n",
              "      <td>20.0</td>\n",
              "      <td>1019</td>\n",
              "      <td>1017</td>\n",
              "      <td>1015</td>\n",
              "      <td>10.0</td>\n",
              "      <td>10.0</td>\n",
              "      <td>10.0</td>\n",
              "      <td>19</td>\n",
              "      <td>6</td>\n",
              "      <td>52.0</td>\n",
              "      <td>0.0</td>\n",
              "      <td>1.0</td>\n",
              "      <td>0</td>\n",
              "      <td>0</td>\n",
              "      <td>0</td>\n",
              "      <td>0</td>\n",
              "      <td>0</td>\n",
              "      <td>False</td>\n",
              "      <td>False</td>\n",
              "      <td>False</td>\n",
              "      <td>False</td>\n",
              "      <td>False</td>\n",
              "      <td>False</td>\n",
              "      <td>False</td>\n",
              "      <td>True</td>\n",
              "      <td>False</td>\n",
              "      <td>False</td>\n",
              "      <td>0.068197</td>\n",
              "    </tr>\n",
              "    <tr>\n",
              "      <th>2010-06-06</th>\n",
              "      <td>31.0</td>\n",
              "      <td>23.0</td>\n",
              "      <td>17.0</td>\n",
              "      <td>13.0</td>\n",
              "      <td>7.0</td>\n",
              "      <td>-2.0</td>\n",
              "      <td>68.0</td>\n",
              "      <td>37.0</td>\n",
              "      <td>12.0</td>\n",
              "      <td>1017</td>\n",
              "      <td>1016</td>\n",
              "      <td>1014</td>\n",
              "      <td>10.0</td>\n",
              "      <td>10.0</td>\n",
              "      <td>10.0</td>\n",
              "      <td>24</td>\n",
              "      <td>6</td>\n",
              "      <td>58.0</td>\n",
              "      <td>0.0</td>\n",
              "      <td>1.0</td>\n",
              "      <td>0</td>\n",
              "      <td>0</td>\n",
              "      <td>0</td>\n",
              "      <td>0</td>\n",
              "      <td>0</td>\n",
              "      <td>False</td>\n",
              "      <td>False</td>\n",
              "      <td>False</td>\n",
              "      <td>False</td>\n",
              "      <td>False</td>\n",
              "      <td>False</td>\n",
              "      <td>True</td>\n",
              "      <td>False</td>\n",
              "      <td>False</td>\n",
              "      <td>False</td>\n",
              "      <td>0.042616</td>\n",
              "    </tr>\n",
              "    <tr>\n",
              "      <th>2010-06-07</th>\n",
              "      <td>30.0</td>\n",
              "      <td>23.0</td>\n",
              "      <td>16.0</td>\n",
              "      <td>15.0</td>\n",
              "      <td>10.0</td>\n",
              "      <td>1.0</td>\n",
              "      <td>82.0</td>\n",
              "      <td>48.0</td>\n",
              "      <td>15.0</td>\n",
              "      <td>1016</td>\n",
              "      <td>1014</td>\n",
              "      <td>1011</td>\n",
              "      <td>10.0</td>\n",
              "      <td>10.0</td>\n",
              "      <td>10.0</td>\n",
              "      <td>27</td>\n",
              "      <td>11</td>\n",
              "      <td>52.0</td>\n",
              "      <td>0.0</td>\n",
              "      <td>1.0</td>\n",
              "      <td>0</td>\n",
              "      <td>0</td>\n",
              "      <td>0</td>\n",
              "      <td>0</td>\n",
              "      <td>0</td>\n",
              "      <td>False</td>\n",
              "      <td>False</td>\n",
              "      <td>False</td>\n",
              "      <td>False</td>\n",
              "      <td>False</td>\n",
              "      <td>False</td>\n",
              "      <td>True</td>\n",
              "      <td>False</td>\n",
              "      <td>True</td>\n",
              "      <td>False</td>\n",
              "      <td>0.074500</td>\n",
              "    </tr>\n",
              "    <tr>\n",
              "      <th>2010-06-08</th>\n",
              "      <td>26.0</td>\n",
              "      <td>21.0</td>\n",
              "      <td>16.0</td>\n",
              "      <td>13.0</td>\n",
              "      <td>8.0</td>\n",
              "      <td>5.0</td>\n",
              "      <td>82.0</td>\n",
              "      <td>47.0</td>\n",
              "      <td>28.0</td>\n",
              "      <td>1011</td>\n",
              "      <td>1009</td>\n",
              "      <td>1007</td>\n",
              "      <td>10.0</td>\n",
              "      <td>10.0</td>\n",
              "      <td>10.0</td>\n",
              "      <td>37</td>\n",
              "      <td>19</td>\n",
              "      <td>60.0</td>\n",
              "      <td>0.0</td>\n",
              "      <td>3.0</td>\n",
              "      <td>1</td>\n",
              "      <td>0</td>\n",
              "      <td>0</td>\n",
              "      <td>0</td>\n",
              "      <td>0</td>\n",
              "      <td>False</td>\n",
              "      <td>False</td>\n",
              "      <td>False</td>\n",
              "      <td>False</td>\n",
              "      <td>False</td>\n",
              "      <td>False</td>\n",
              "      <td>True</td>\n",
              "      <td>False</td>\n",
              "      <td>True</td>\n",
              "      <td>False</td>\n",
              "      <td>0.485345</td>\n",
              "    </tr>\n",
              "    <tr>\n",
              "      <th>2010-06-09</th>\n",
              "      <td>18.0</td>\n",
              "      <td>16.0</td>\n",
              "      <td>13.0</td>\n",
              "      <td>15.0</td>\n",
              "      <td>13.0</td>\n",
              "      <td>12.0</td>\n",
              "      <td>100.0</td>\n",
              "      <td>89.0</td>\n",
              "      <td>77.0</td>\n",
              "      <td>1008</td>\n",
              "      <td>1003</td>\n",
              "      <td>999</td>\n",
              "      <td>10.0</td>\n",
              "      <td>9.0</td>\n",
              "      <td>2.0</td>\n",
              "      <td>32</td>\n",
              "      <td>19</td>\n",
              "      <td>42.0</td>\n",
              "      <td>0.0</td>\n",
              "      <td>6.0</td>\n",
              "      <td>1</td>\n",
              "      <td>0</td>\n",
              "      <td>0</td>\n",
              "      <td>0</td>\n",
              "      <td>0</td>\n",
              "      <td>False</td>\n",
              "      <td>False</td>\n",
              "      <td>False</td>\n",
              "      <td>False</td>\n",
              "      <td>True</td>\n",
              "      <td>False</td>\n",
              "      <td>False</td>\n",
              "      <td>False</td>\n",
              "      <td>True</td>\n",
              "      <td>True</td>\n",
              "      <td>0.783772</td>\n",
              "    </tr>\n",
              "    <tr>\n",
              "      <th>2010-06-10</th>\n",
              "      <td>20.0</td>\n",
              "      <td>17.0</td>\n",
              "      <td>13.0</td>\n",
              "      <td>13.0</td>\n",
              "      <td>11.0</td>\n",
              "      <td>9.0</td>\n",
              "      <td>88.0</td>\n",
              "      <td>72.0</td>\n",
              "      <td>49.0</td>\n",
              "      <td>1010</td>\n",
              "      <td>1005</td>\n",
              "      <td>1002</td>\n",
              "      <td>10.0</td>\n",
              "      <td>10.0</td>\n",
              "      <td>10.0</td>\n",
              "      <td>29</td>\n",
              "      <td>23</td>\n",
              "      <td>58.0</td>\n",
              "      <td>0.0</td>\n",
              "      <td>4.0</td>\n",
              "      <td>1</td>\n",
              "      <td>0</td>\n",
              "      <td>0</td>\n",
              "      <td>0</td>\n",
              "      <td>0</td>\n",
              "      <td>False</td>\n",
              "      <td>False</td>\n",
              "      <td>False</td>\n",
              "      <td>False</td>\n",
              "      <td>False</td>\n",
              "      <td>False</td>\n",
              "      <td>True</td>\n",
              "      <td>False</td>\n",
              "      <td>True</td>\n",
              "      <td>True</td>\n",
              "      <td>0.607434</td>\n",
              "    </tr>\n",
              "    <tr>\n",
              "      <th>2010-06-11</th>\n",
              "      <td>20.0</td>\n",
              "      <td>17.0</td>\n",
              "      <td>13.0</td>\n",
              "      <td>12.0</td>\n",
              "      <td>11.0</td>\n",
              "      <td>8.0</td>\n",
              "      <td>88.0</td>\n",
              "      <td>69.0</td>\n",
              "      <td>49.0</td>\n",
              "      <td>1014</td>\n",
              "      <td>1012</td>\n",
              "      <td>1010</td>\n",
              "      <td>10.0</td>\n",
              "      <td>10.0</td>\n",
              "      <td>9.0</td>\n",
              "      <td>29</td>\n",
              "      <td>18</td>\n",
              "      <td>52.0</td>\n",
              "      <td>0.0</td>\n",
              "      <td>2.0</td>\n",
              "      <td>1</td>\n",
              "      <td>0</td>\n",
              "      <td>0</td>\n",
              "      <td>0</td>\n",
              "      <td>0</td>\n",
              "      <td>False</td>\n",
              "      <td>False</td>\n",
              "      <td>False</td>\n",
              "      <td>False</td>\n",
              "      <td>False</td>\n",
              "      <td>False</td>\n",
              "      <td>True</td>\n",
              "      <td>False</td>\n",
              "      <td>True</td>\n",
              "      <td>False</td>\n",
              "      <td>0.447028</td>\n",
              "    </tr>\n",
              "  </tbody>\n",
              "</table>\n",
              "</div>\n",
              "    <div class=\"colab-df-buttons\">\n",
              "\n",
              "  <div class=\"colab-df-container\">\n",
              "    <button class=\"colab-df-convert\" onclick=\"convertToInteractive('df-c574ec7b-4006-4236-87ad-3cb7cf3a2971')\"\n",
              "            title=\"Convert this dataframe to an interactive table.\"\n",
              "            style=\"display:none;\">\n",
              "\n",
              "  <svg xmlns=\"http://www.w3.org/2000/svg\" height=\"24px\" viewBox=\"0 -960 960 960\">\n",
              "    <path d=\"M120-120v-720h720v720H120Zm60-500h600v-160H180v160Zm220 220h160v-160H400v160Zm0 220h160v-160H400v160ZM180-400h160v-160H180v160Zm440 0h160v-160H620v160ZM180-180h160v-160H180v160Zm440 0h160v-160H620v160Z\"/>\n",
              "  </svg>\n",
              "    </button>\n",
              "\n",
              "  <style>\n",
              "    .colab-df-container {\n",
              "      display:flex;\n",
              "      gap: 12px;\n",
              "    }\n",
              "\n",
              "    .colab-df-convert {\n",
              "      background-color: #E8F0FE;\n",
              "      border: none;\n",
              "      border-radius: 50%;\n",
              "      cursor: pointer;\n",
              "      display: none;\n",
              "      fill: #1967D2;\n",
              "      height: 32px;\n",
              "      padding: 0 0 0 0;\n",
              "      width: 32px;\n",
              "    }\n",
              "\n",
              "    .colab-df-convert:hover {\n",
              "      background-color: #E2EBFA;\n",
              "      box-shadow: 0px 1px 2px rgba(60, 64, 67, 0.3), 0px 1px 3px 1px rgba(60, 64, 67, 0.15);\n",
              "      fill: #174EA6;\n",
              "    }\n",
              "\n",
              "    .colab-df-buttons div {\n",
              "      margin-bottom: 4px;\n",
              "    }\n",
              "\n",
              "    [theme=dark] .colab-df-convert {\n",
              "      background-color: #3B4455;\n",
              "      fill: #D2E3FC;\n",
              "    }\n",
              "\n",
              "    [theme=dark] .colab-df-convert:hover {\n",
              "      background-color: #434B5C;\n",
              "      box-shadow: 0px 1px 3px 1px rgba(0, 0, 0, 0.15);\n",
              "      filter: drop-shadow(0px 1px 2px rgba(0, 0, 0, 0.3));\n",
              "      fill: #FFFFFF;\n",
              "    }\n",
              "  </style>\n",
              "\n",
              "    <script>\n",
              "      const buttonEl =\n",
              "        document.querySelector('#df-c574ec7b-4006-4236-87ad-3cb7cf3a2971 button.colab-df-convert');\n",
              "      buttonEl.style.display =\n",
              "        google.colab.kernel.accessAllowed ? 'block' : 'none';\n",
              "\n",
              "      async function convertToInteractive(key) {\n",
              "        const element = document.querySelector('#df-c574ec7b-4006-4236-87ad-3cb7cf3a2971');\n",
              "        const dataTable =\n",
              "          await google.colab.kernel.invokeFunction('convertToInteractive',\n",
              "                                                    [key], {});\n",
              "        if (!dataTable) return;\n",
              "\n",
              "        const docLinkHtml = 'Like what you see? Visit the ' +\n",
              "          '<a target=\"_blank\" href=https://colab.research.google.com/notebooks/data_table.ipynb>data table notebook</a>'\n",
              "          + ' to learn more about interactive tables.';\n",
              "        element.innerHTML = '';\n",
              "        dataTable['output_type'] = 'display_data';\n",
              "        await google.colab.output.renderOutput(dataTable, element);\n",
              "        const docLink = document.createElement('div');\n",
              "        docLink.innerHTML = docLinkHtml;\n",
              "        element.appendChild(docLink);\n",
              "      }\n",
              "    </script>\n",
              "  </div>\n",
              "\n",
              "\n",
              "<div id=\"df-8f031f8f-9425-4578-af01-5ee57c954ecd\">\n",
              "  <button class=\"colab-df-quickchart\" onclick=\"quickchart('df-8f031f8f-9425-4578-af01-5ee57c954ecd')\"\n",
              "            title=\"Suggest charts\"\n",
              "            style=\"display:none;\">\n",
              "\n",
              "<svg xmlns=\"http://www.w3.org/2000/svg\" height=\"24px\"viewBox=\"0 0 24 24\"\n",
              "     width=\"24px\">\n",
              "    <g>\n",
              "        <path d=\"M19 3H5c-1.1 0-2 .9-2 2v14c0 1.1.9 2 2 2h14c1.1 0 2-.9 2-2V5c0-1.1-.9-2-2-2zM9 17H7v-7h2v7zm4 0h-2V7h2v10zm4 0h-2v-4h2v4z\"/>\n",
              "    </g>\n",
              "</svg>\n",
              "  </button>\n",
              "\n",
              "<style>\n",
              "  .colab-df-quickchart {\n",
              "      --bg-color: #E8F0FE;\n",
              "      --fill-color: #1967D2;\n",
              "      --hover-bg-color: #E2EBFA;\n",
              "      --hover-fill-color: #174EA6;\n",
              "      --disabled-fill-color: #AAA;\n",
              "      --disabled-bg-color: #DDD;\n",
              "  }\n",
              "\n",
              "  [theme=dark] .colab-df-quickchart {\n",
              "      --bg-color: #3B4455;\n",
              "      --fill-color: #D2E3FC;\n",
              "      --hover-bg-color: #434B5C;\n",
              "      --hover-fill-color: #FFFFFF;\n",
              "      --disabled-bg-color: #3B4455;\n",
              "      --disabled-fill-color: #666;\n",
              "  }\n",
              "\n",
              "  .colab-df-quickchart {\n",
              "    background-color: var(--bg-color);\n",
              "    border: none;\n",
              "    border-radius: 50%;\n",
              "    cursor: pointer;\n",
              "    display: none;\n",
              "    fill: var(--fill-color);\n",
              "    height: 32px;\n",
              "    padding: 0;\n",
              "    width: 32px;\n",
              "  }\n",
              "\n",
              "  .colab-df-quickchart:hover {\n",
              "    background-color: var(--hover-bg-color);\n",
              "    box-shadow: 0 1px 2px rgba(60, 64, 67, 0.3), 0 1px 3px 1px rgba(60, 64, 67, 0.15);\n",
              "    fill: var(--button-hover-fill-color);\n",
              "  }\n",
              "\n",
              "  .colab-df-quickchart-complete:disabled,\n",
              "  .colab-df-quickchart-complete:disabled:hover {\n",
              "    background-color: var(--disabled-bg-color);\n",
              "    fill: var(--disabled-fill-color);\n",
              "    box-shadow: none;\n",
              "  }\n",
              "\n",
              "  .colab-df-spinner {\n",
              "    border: 2px solid var(--fill-color);\n",
              "    border-color: transparent;\n",
              "    border-bottom-color: var(--fill-color);\n",
              "    animation:\n",
              "      spin 1s steps(1) infinite;\n",
              "  }\n",
              "\n",
              "  @keyframes spin {\n",
              "    0% {\n",
              "      border-color: transparent;\n",
              "      border-bottom-color: var(--fill-color);\n",
              "      border-left-color: var(--fill-color);\n",
              "    }\n",
              "    20% {\n",
              "      border-color: transparent;\n",
              "      border-left-color: var(--fill-color);\n",
              "      border-top-color: var(--fill-color);\n",
              "    }\n",
              "    30% {\n",
              "      border-color: transparent;\n",
              "      border-left-color: var(--fill-color);\n",
              "      border-top-color: var(--fill-color);\n",
              "      border-right-color: var(--fill-color);\n",
              "    }\n",
              "    40% {\n",
              "      border-color: transparent;\n",
              "      border-right-color: var(--fill-color);\n",
              "      border-top-color: var(--fill-color);\n",
              "    }\n",
              "    60% {\n",
              "      border-color: transparent;\n",
              "      border-right-color: var(--fill-color);\n",
              "    }\n",
              "    80% {\n",
              "      border-color: transparent;\n",
              "      border-right-color: var(--fill-color);\n",
              "      border-bottom-color: var(--fill-color);\n",
              "    }\n",
              "    90% {\n",
              "      border-color: transparent;\n",
              "      border-bottom-color: var(--fill-color);\n",
              "    }\n",
              "  }\n",
              "</style>\n",
              "\n",
              "  <script>\n",
              "    async function quickchart(key) {\n",
              "      const quickchartButtonEl =\n",
              "        document.querySelector('#' + key + ' button');\n",
              "      quickchartButtonEl.disabled = true;  // To prevent multiple clicks.\n",
              "      quickchartButtonEl.classList.add('colab-df-spinner');\n",
              "      try {\n",
              "        const charts = await google.colab.kernel.invokeFunction(\n",
              "            'suggestCharts', [key], {});\n",
              "      } catch (error) {\n",
              "        console.error('Error during call to suggestCharts:', error);\n",
              "      }\n",
              "      quickchartButtonEl.classList.remove('colab-df-spinner');\n",
              "      quickchartButtonEl.classList.add('colab-df-quickchart-complete');\n",
              "    }\n",
              "    (() => {\n",
              "      let quickchartButtonEl =\n",
              "        document.querySelector('#df-8f031f8f-9425-4578-af01-5ee57c954ecd button');\n",
              "      quickchartButtonEl.style.display =\n",
              "        google.colab.kernel.accessAllowed ? 'block' : 'none';\n",
              "    })();\n",
              "  </script>\n",
              "</div>\n",
              "    </div>\n",
              "  </div>\n"
            ],
            "application/vnd.google.colaboratory.intrinsic+json": {
              "type": "dataframe",
              "variable_name": "X_show"
            }
          },
          "metadata": {},
          "execution_count": 156
        }
      ]
    },
    {
      "cell_type": "markdown",
      "source": [
        "## TEST"
      ],
      "metadata": {
        "id": "ux3A88WyM-49"
      }
    },
    {
      "cell_type": "markdown",
      "source": [
        "Para evaluar el performance del modelo comparamos el dato real (y) con la prediccion (y_pred), a la hora de evaluar mediremos el performance en TRAIN y TEST:\n",
        "* El error en TEST es el error que estimamos se producirá en el PREDICT.\n",
        "* La comparativa TRAIN vs TEST nos ayuda a identificar posible OVERFITTING en el ajuste.<br><br>\n",
        "Las principales métricas de EVALUACIÓN en CLASIFICACIÓN son:\n",
        "* **AUC y ROC Cruve**\n",
        "* Confusion Matrix\n",
        "* Accuracy, precision, recall, F1-score"
      ],
      "metadata": {
        "id": "PJkXGYm473cE"
      }
    },
    {
      "cell_type": "code",
      "source": [
        "y_train_pred = model.predict(X_train)                        # predicciones del modelo en los datos de TRAIN\n",
        "y_test_pred = model.predict(X_test)                          # predicciones del modelo en los datos de TEST"
      ],
      "metadata": {
        "id": "Wbd9gQgBFjfJ"
      },
      "execution_count": null,
      "outputs": []
    },
    {
      "cell_type": "code",
      "source": [
        "y_train_pred_proba = model.predict_proba(X_train)[:, 1]      # probabilidad de éxito (1) segun el modelo en los datos de TRAIN\n",
        "y_test_pred_proba = model.predict_proba(X_test)[:, 1]        # probabilidad de éxito (1) segun el modelo en los datos de TEST"
      ],
      "metadata": {
        "id": "CcrLRiGy7rRa"
      },
      "execution_count": null,
      "outputs": []
    },
    {
      "cell_type": "markdown",
      "source": [
        "* AUC"
      ],
      "metadata": {
        "id": "FHvk8JG1-DrY"
      }
    },
    {
      "cell_type": "code",
      "source": [
        "from sklearn.metrics import roc_auc_score"
      ],
      "metadata": {
        "id": "Sv880c8e-WWA"
      },
      "execution_count": null,
      "outputs": []
    },
    {
      "cell_type": "code",
      "source": [
        "auc_train = roc_auc_score(y_train, y_train_pred_proba)      # AUC en TRAIN\n",
        "auc_test = roc_auc_score(y_test, y_test_pred_proba)         # AUC en TEST"
      ],
      "metadata": {
        "id": "6is1l0dw-BjP"
      },
      "execution_count": null,
      "outputs": []
    },
    {
      "cell_type": "code",
      "source": [
        "print('AUC Train:', round(auc_train,4))\n",
        "print('AUC Test:', round(auc_test,4))"
      ],
      "metadata": {
        "id": "LiK6lrMD-oNq",
        "colab": {
          "base_uri": "https://localhost:8080/"
        },
        "outputId": "e5e3c7c8-c7e0-4359-98e1-c6aff0eab1aa"
      },
      "execution_count": null,
      "outputs": [
        {
          "output_type": "stream",
          "name": "stdout",
          "text": [
            "AUC Train: 0.8676\n",
            "AUC Test: 0.7904\n"
          ]
        }
      ]
    },
    {
      "cell_type": "markdown",
      "source": [
        "* ROC Curve"
      ],
      "metadata": {
        "id": "UgM9duCUKIHK"
      }
    },
    {
      "cell_type": "code",
      "source": [
        "from sklearn.metrics import roc_curve"
      ],
      "metadata": {
        "id": "ECp34mksKXmj"
      },
      "execution_count": null,
      "outputs": []
    },
    {
      "cell_type": "code",
      "source": [
        "# metrics for ROC\n",
        "fpr_train, tpr_train, _ = roc_curve(y_train, y_train_pred_proba)\n",
        "fpr_test, tpr_test, _ = roc_curve(y_test, y_test_pred_proba)"
      ],
      "metadata": {
        "id": "N946A3ziD8_i"
      },
      "execution_count": null,
      "outputs": []
    },
    {
      "cell_type": "code",
      "source": [
        "#Plot\n",
        "plt.figure(figsize=[10,8])\n",
        "plt.plot(fpr_train, tpr_train, label='TRAIN - AUC: {:.4f}'.format(auc_train))\n",
        "plt.plot(fpr_test, tpr_test, label='TEST - AUC: {:.4f}'.format(auc_test))\n",
        "plt.title('ROC Curve')\n",
        "plt.plot([0,0,1],[0,1,1], color='green', linestyle='--', linewidth=0.5, label='Ideal')\n",
        "plt.plot([0, 1], [0, 1], color='black', linestyle='--', linewidth=0.5, label='Random')\n",
        "plt.xlabel('False Positive Rate')\n",
        "plt.ylabel('True Positive Rate')\n",
        "plt.legend(loc=\"lower right\")\n",
        "plt.show()"
      ],
      "metadata": {
        "id": "EYGiwGV1KWsS",
        "colab": {
          "base_uri": "https://localhost:8080/",
          "height": 718
        },
        "outputId": "7c32a6be-1af1-443d-d8e8-1929c42e10f0"
      },
      "execution_count": null,
      "outputs": [
        {
          "output_type": "display_data",
          "data": {
            "text/plain": [
              "<Figure size 1000x800 with 1 Axes>"
            ],
            "image/png": "[encoded data removed]"
          },
          "metadata": {}
        }
      ]
    },
    {
      "cell_type": "markdown",
      "source": [
        "* Confusion Matrix"
      ],
      "metadata": {
        "id": "tWE1E6shSsxo"
      }
    },
    {
      "cell_type": "code",
      "source": [
        "from sklearn.metrics import confusion_matrix, ConfusionMatrixDisplay"
      ],
      "metadata": {
        "id": "yaGw7tvyUk0s"
      },
      "execution_count": null,
      "outputs": []
    },
    {
      "cell_type": "code",
      "source": [
        "cm_test = confusion_matrix(y_test, y_test_pred)"
      ],
      "metadata": {
        "id": "c3_sGeaGUB4V"
      },
      "execution_count": null,
      "outputs": []
    },
    {
      "cell_type": "code",
      "source": [
        "ConfusionMatrixDisplay(confusion_matrix=cm_test/len(y_test)).plot(colorbar = False, cmap = 'Blues')\n",
        "plt.title('Confusion Matrix TEST (%)')\n",
        "plt.plot()"
      ],
      "metadata": {
        "id": "cmvFmx4aV_CK",
        "colab": {
          "base_uri": "https://localhost:8080/",
          "height": 489
        },
        "outputId": "2fa4dd62-0eb9-4d56-b922-5a1b9885c682"
      },
      "execution_count": null,
      "outputs": [
        {
          "output_type": "execute_result",
          "data": {
            "text/plain": [
              "[]"
            ]
          },
          "metadata": {},
          "execution_count": 167
        },
        {
          "output_type": "display_data",
          "data": {
            "text/plain": [
              "<Figure size 640x480 with 1 Axes>"
            ],
            "image/png": "[encoded data removed]"
          },
          "metadata": {}
        }
      ]
    },
    {
      "cell_type": "markdown",
      "source": [
        "* Accuracy, Precision, Recall y F1-Score"
      ],
      "metadata": {
        "id": "9CeapIXTZ076"
      }
    },
    {
      "cell_type": "code",
      "source": [
        "cm_test"
      ],
      "metadata": {
        "id": "tQt_wywFfvgD",
        "colab": {
          "base_uri": "https://localhost:8080/"
        },
        "outputId": "3bc69b74-0fb0-4848-8a25-385baedf836d"
      },
      "execution_count": null,
      "outputs": [
        {
          "output_type": "execute_result",
          "data": {
            "text/plain": [
              "array([[1489,   87],\n",
              "       [ 315,  152]])"
            ]
          },
          "metadata": {},
          "execution_count": 168
        }
      ]
    },
    {
      "cell_type": "code",
      "source": [
        "TN = cm_test[0,0]\n",
        "TP = cm_test[1,1]\n",
        "FP = cm_test[0,1]\n",
        "FN = cm_test[1,0]\n",
        "total = len(y_test)"
      ],
      "metadata": {
        "id": "G4Er77ukZ0Gz"
      },
      "execution_count": null,
      "outputs": []
    },
    {
      "cell_type": "code",
      "source": [
        "# Rellenar\n",
        "accuracy_test = (TN+TP)/total\n",
        "precision_test = TP/(TP+FP)\n",
        "recall_test = TP/(TP+FN)\n",
        "f1_test = 2/(1/recall_test + 1/precision_test)"
      ],
      "metadata": {
        "id": "EXxvtoyLbBtC"
      },
      "execution_count": null,
      "outputs": []
    },
    {
      "cell_type": "code",
      "source": [
        "print('Accuracy:',round(accuracy_test,4))\n",
        "print('Precision:',round(precision_test,4))\n",
        "print('Recall:',round(recall_test,4))\n",
        "print('F1-score:',round(f1_test,4))"
      ],
      "metadata": {
        "id": "N4gZkWIFby6c",
        "colab": {
          "base_uri": "https://localhost:8080/"
        },
        "outputId": "6d77553a-2885-4921-8635-bb089d48a420"
      },
      "execution_count": null,
      "outputs": [
        {
          "output_type": "stream",
          "name": "stdout",
          "text": [
            "Accuracy: 0.8032\n",
            "Precision: 0.636\n",
            "Recall: 0.3255\n",
            "F1-score: 0.4306\n"
          ]
        }
      ]
    },
    {
      "cell_type": "markdown",
      "source": [
        "O directamente de sklearn:"
      ],
      "metadata": {
        "id": "DyOU502Ld8J_"
      }
    },
    {
      "cell_type": "code",
      "source": [
        "from sklearn.metrics import accuracy_score, precision_score, recall_score, f1_score\n",
        "\n",
        "print('Accuracy:', round( accuracy_score(y_test, y_test_pred),4))\n",
        "print('Precision:', round( precision_score(y_test, y_test_pred), 4))\n",
        "print('Recall:', round( recall_score(y_test, y_test_pred), 4))\n",
        "print('F1-score:', round(f1_score(y_test, y_test_pred), 4))"
      ],
      "metadata": {
        "id": "6oJSwYxdbOJC",
        "colab": {
          "base_uri": "https://localhost:8080/"
        },
        "outputId": "da4befa0-e756-4ad2-a243-a345c3ebf745"
      },
      "execution_count": null,
      "outputs": [
        {
          "output_type": "stream",
          "name": "stdout",
          "text": [
            "Accuracy: 0.8032\n",
            "Precision: 0.636\n",
            "Recall: 0.3255\n",
            "F1-score: 0.4306\n"
          ]
        }
      ]
    },
    {
      "cell_type": "markdown",
      "source": [
        "## Interpretabilidad"
      ],
      "metadata": {
        "id": "5Pv_t0-Jhdhe"
      }
    },
    {
      "cell_type": "markdown",
      "source": [
        "* Además de la evaluación del performance del modelo, es importante interpretar cual es la definición del modelo tras entrenarse. Es crucial entender cuales son las variables más determinantes en el modelo a la hora de realizar una predicción.\n",
        "* A la hora de interpretar un modelo utilizaremos:\n",
        "  * **SHAP values** en modelos de ARBOLES DE DECISION\n",
        "  * Coeficientes en modelos LINEALES"
      ],
      "metadata": {
        "id": "G9HBorJAhpGT"
      }
    },
    {
      "cell_type": "code",
      "source": [
        "pip install shap"
      ],
      "metadata": {
        "id": "paGIw7acBttC",
        "colab": {
          "base_uri": "https://localhost:8080/"
        },
        "outputId": "da032d92-6fef-4b9f-b0fa-a6a2622ae405"
      },
      "execution_count": null,
      "outputs": [
        {
          "output_type": "stream",
          "name": "stdout",
          "text": [
            "Requirement already satisfied: shap in /usr/local/lib/python3.10/dist-packages (0.45.1)\n",
            "Requirement already satisfied: numpy in /usr/local/lib/python3.10/dist-packages (from shap) (1.25.2)\n",
            "Requirement already satisfied: scipy in /usr/local/lib/python3.10/dist-packages (from shap) (1.11.4)\n",
            "Requirement already satisfied: scikit-learn in /usr/local/lib/python3.10/dist-packages (from shap) (1.2.2)\n",
            "Requirement already satisfied: pandas in /usr/local/lib/python3.10/dist-packages (from shap) (2.0.3)\n",
            "Requirement already satisfied: tqdm>=4.27.0 in /usr/local/lib/python3.10/dist-packages (from shap) (4.66.4)\n",
            "Requirement already satisfied: packaging>20.9 in /usr/local/lib/python3.10/dist-packages (from shap) (24.0)\n",
            "Requirement already satisfied: slicer==0.0.8 in /usr/local/lib/python3.10/dist-packages (from shap) (0.0.8)\n",
            "Requirement already satisfied: numba in /usr/local/lib/python3.10/dist-packages (from shap) (0.58.1)\n",
            "Requirement already satisfied: cloudpickle in /usr/local/lib/python3.10/dist-packages (from shap) (2.2.1)\n",
            "Requirement already satisfied: llvmlite<0.42,>=0.41.0dev0 in /usr/local/lib/python3.10/dist-packages (from numba->shap) (0.41.1)\n",
            "Requirement already satisfied: python-dateutil>=2.8.2 in /usr/local/lib/python3.10/dist-packages (from pandas->shap) (2.8.2)\n",
            "Requirement already satisfied: pytz>=2020.1 in /usr/local/lib/python3.10/dist-packages (from pandas->shap) (2023.4)\n",
            "Requirement already satisfied: tzdata>=2022.1 in /usr/local/lib/python3.10/dist-packages (from pandas->shap) (2024.1)\n",
            "Requirement already satisfied: joblib>=1.1.1 in /usr/local/lib/python3.10/dist-packages (from scikit-learn->shap) (1.4.2)\n",
            "Requirement already satisfied: threadpoolctl>=2.0.0 in /usr/local/lib/python3.10/dist-packages (from scikit-learn->shap) (3.5.0)\n",
            "Requirement already satisfied: six>=1.5 in /usr/local/lib/python3.10/dist-packages (from python-dateutil>=2.8.2->pandas->shap) (1.16.0)\n"
          ]
        }
      ]
    },
    {
      "cell_type": "code",
      "source": [
        "import shap"
      ],
      "metadata": {
        "id": "9gpsm7GDBrjx"
      },
      "execution_count": null,
      "outputs": []
    },
    {
      "cell_type": "code",
      "source": [
        "#SHAP value: peso en el output final\n",
        "explainer = shap.TreeExplainer(model)\n",
        "shap_values = explainer.shap_values(X_test)\n",
        "plt.title('SHAP values')\n",
        "shap.summary_plot(shap_values, X_test, plot_type=\"bar\", max_display=20)"
      ],
      "metadata": {
        "id": "9UX6MxolBfhh",
        "colab": {
          "base_uri": "https://localhost:8080/",
          "height": 957
        },
        "outputId": "a69570ca-687b-4622-d708-8293d863aed4"
      },
      "execution_count": null,
      "outputs": [
        {
          "output_type": "display_data",
          "data": {
            "text/plain": [
              "<Figure size 800x950 with 1 Axes>"
            ],
            "image/png": "[encoded data removed]"
          },
          "metadata": {}
        }
      ]
    },
    {
      "cell_type": "markdown",
      "source": [
        "Los SHAP values nos indican ademas el sentido del impacto que tiene la variable en la predicción (positivo/negativo):\n",
        "* Rojo a la derecha = POSITIVO (+)\n",
        "* Rojo a la izquierda = NEGATIVO (-)"
      ],
      "metadata": {
        "id": "hqCpJT3sLE9s"
      }
    },
    {
      "cell_type": "code",
      "source": [
        "shap.summary_plot(shap_values, X_test)"
      ],
      "metadata": {
        "id": "XdlX1__TCkNU",
        "colab": {
          "base_uri": "https://localhost:8080/",
          "height": 957
        },
        "outputId": "56a9a780-2d6a-47f3-c2a4-de8f6058eb3b"
      },
      "execution_count": null,
      "outputs": [
        {
          "output_type": "display_data",
          "data": {
            "text/plain": [
              "<Figure size 800x950 with 2 Axes>"
            ],
            "image/png": "[encoded data removed]"
          },
          "metadata": {}
        }
      ]
    },
    {
      "cell_type": "markdown",
      "source": [
        "## Guardar modelo"
      ],
      "metadata": {
        "id": "UlcDN5eT4BHA"
      }
    },
    {
      "cell_type": "code",
      "source": [
        "import pickle\n",
        "pickle.dump(model, open('/content/drive/MyDrive/TIC/Data science/Master Data Science Nuclio - profesor/Aprendizaje supervisado - Presencial/Ejercicios/Clasificación - lluvia/modelo_entrenado.pkl', 'wb'))"
      ],
      "metadata": {
        "id": "AM-wBDG64Aam"
      },
      "execution_count": null,
      "outputs": []
    },
    {
      "cell_type": "markdown",
      "source": [
        "# PREDICT"
      ],
      "metadata": {
        "id": "YuUK6XbjhJlc"
      }
    },
    {
      "cell_type": "markdown",
      "source": [
        "## Cargar nuevos datos"
      ],
      "metadata": {
        "id": "YLN2MPGjcHrb"
      }
    },
    {
      "cell_type": "markdown",
      "source": [
        "En la practica habria que aplicar de vuelta las mismas tecnicas de preprocessing aplicadas anteriormente para limpiar los nuevos datos. A modo didáctico, trabajaremos directamente con una muestra ya preprocesada para hacer el predict."
      ],
      "metadata": {
        "id": "jkGxviFIeeob"
      }
    },
    {
      "cell_type": "code",
      "source": [
        "sample_predict = pd.read_csv('/content/drive/MyDrive/TIC/Data science/Master Data Science Nuclio - profesor/Aprendizaje supervisado - Presencial/Ejercicios/Clasificación - lluvia/lluvia predecir.csv',index_col=0)\n",
        "sample_predict.T"
      ],
      "metadata": {
        "id": "gw2IUh8VN4bk",
        "colab": {
          "base_uri": "https://localhost:8080/",
          "height": 1000
        },
        "outputId": "75d5d884-4b58-458d-fa30-68097acf9442"
      },
      "execution_count": null,
      "outputs": [
        {
          "output_type": "execute_result",
          "data": {
            "text/plain": [
              "                  2022-12-28\n",
              "temperatura_max        15.00\n",
              "temperatura_med         8.00\n",
              "temperatura_min         2.00\n",
              "rocio_max               8.00\n",
              "rocio_med               4.00\n",
              "rocio_min               1.00\n",
              "humedad_max           100.00\n",
              "humedad_med            78.00\n",
              "humedad_min            34.00\n",
              "presion_max          1031.00\n",
              "presion_med          1027.00\n",
              "presion_min          1023.00\n",
              "visibilidad_max        31.00\n",
              "visibilidad_med        14.00\n",
              "visibilidad_min         8.00\n",
              "viento_max             27.00\n",
              "viento_med              8.00\n",
              "racha_viento_max       45.00\n",
              "precipitacion           0.51\n",
              "nubes                   7.00\n",
              "ind_lluvia              1.00\n",
              "ind_nieve               0.00\n",
              "ind_truenos             0.00\n",
              "ind_niebla              0.00\n",
              "ind_granizo             0.00\n",
              "viento_dir_E            0.00\n",
              "viento_dir_N            0.00\n",
              "viento_dir_NE           0.00\n",
              "viento_dir_NW           0.00\n",
              "viento_dir_S            0.00\n",
              "viento_dir_SE           0.00\n",
              "viento_dir_SW           1.00\n",
              "viento_dir_W            0.00"
            ],
            "text/html": [
              "\n",
              "  <div id=\"df-a7e310ca-9fc4-4c03-ac15-c919a9fe6c32\" class=\"colab-df-container\">\n",
              "    <div>\n",
              "<style scoped>\n",
              "    .dataframe tbody tr th:only-of-type {\n",
              "        vertical-align: middle;\n",
              "    }\n",
              "\n",
              "    .dataframe tbody tr th {\n",
              "        vertical-align: top;\n",
              "    }\n",
              "\n",
              "    .dataframe thead th {\n",
              "        text-align: right;\n",
              "    }\n",
              "</style>\n",
              "<table border=\"1\" class=\"dataframe\">\n",
              "  <thead>\n",
              "    <tr style=\"text-align: right;\">\n",
              "      <th></th>\n",
              "      <th>2022-12-28</th>\n",
              "    </tr>\n",
              "  </thead>\n",
              "  <tbody>\n",
              "    <tr>\n",
              "      <th>temperatura_max</th>\n",
              "      <td>15.00</td>\n",
              "    </tr>\n",
              "    <tr>\n",
              "      <th>temperatura_med</th>\n",
              "      <td>8.00</td>\n",
              "    </tr>\n",
              "    <tr>\n",
              "      <th>temperatura_min</th>\n",
              "      <td>2.00</td>\n",
              "    </tr>\n",
              "    <tr>\n",
              "      <th>rocio_max</th>\n",
              "      <td>8.00</td>\n",
              "    </tr>\n",
              "    <tr>\n",
              "      <th>rocio_med</th>\n",
              "      <td>4.00</td>\n",
              "    </tr>\n",
              "    <tr>\n",
              "      <th>rocio_min</th>\n",
              "      <td>1.00</td>\n",
              "    </tr>\n",
              "    <tr>\n",
              "      <th>humedad_max</th>\n",
              "      <td>100.00</td>\n",
              "    </tr>\n",
              "    <tr>\n",
              "      <th>humedad_med</th>\n",
              "      <td>78.00</td>\n",
              "    </tr>\n",
              "    <tr>\n",
              "      <th>humedad_min</th>\n",
              "      <td>34.00</td>\n",
              "    </tr>\n",
              "    <tr>\n",
              "      <th>presion_max</th>\n",
              "      <td>1031.00</td>\n",
              "    </tr>\n",
              "    <tr>\n",
              "      <th>presion_med</th>\n",
              "      <td>1027.00</td>\n",
              "    </tr>\n",
              "    <tr>\n",
              "      <th>presion_min</th>\n",
              "      <td>1023.00</td>\n",
              "    </tr>\n",
              "    <tr>\n",
              "      <th>visibilidad_max</th>\n",
              "      <td>31.00</td>\n",
              "    </tr>\n",
              "    <tr>\n",
              "      <th>visibilidad_med</th>\n",
              "      <td>14.00</td>\n",
              "    </tr>\n",
              "    <tr>\n",
              "      <th>visibilidad_min</th>\n",
              "      <td>8.00</td>\n",
              "    </tr>\n",
              "    <tr>\n",
              "      <th>viento_max</th>\n",
              "      <td>27.00</td>\n",
              "    </tr>\n",
              "    <tr>\n",
              "      <th>viento_med</th>\n",
              "      <td>8.00</td>\n",
              "    </tr>\n",
              "    <tr>\n",
              "      <th>racha_viento_max</th>\n",
              "      <td>45.00</td>\n",
              "    </tr>\n",
              "    <tr>\n",
              "      <th>precipitacion</th>\n",
              "      <td>0.51</td>\n",
              "    </tr>\n",
              "    <tr>\n",
              "      <th>nubes</th>\n",
              "      <td>7.00</td>\n",
              "    </tr>\n",
              "    <tr>\n",
              "      <th>ind_lluvia</th>\n",
              "      <td>1.00</td>\n",
              "    </tr>\n",
              "    <tr>\n",
              "      <th>ind_nieve</th>\n",
              "      <td>0.00</td>\n",
              "    </tr>\n",
              "    <tr>\n",
              "      <th>ind_truenos</th>\n",
              "      <td>0.00</td>\n",
              "    </tr>\n",
              "    <tr>\n",
              "      <th>ind_niebla</th>\n",
              "      <td>0.00</td>\n",
              "    </tr>\n",
              "    <tr>\n",
              "      <th>ind_granizo</th>\n",
              "      <td>0.00</td>\n",
              "    </tr>\n",
              "    <tr>\n",
              "      <th>viento_dir_E</th>\n",
              "      <td>0.00</td>\n",
              "    </tr>\n",
              "    <tr>\n",
              "      <th>viento_dir_N</th>\n",
              "      <td>0.00</td>\n",
              "    </tr>\n",
              "    <tr>\n",
              "      <th>viento_dir_NE</th>\n",
              "      <td>0.00</td>\n",
              "    </tr>\n",
              "    <tr>\n",
              "      <th>viento_dir_NW</th>\n",
              "      <td>0.00</td>\n",
              "    </tr>\n",
              "    <tr>\n",
              "      <th>viento_dir_S</th>\n",
              "      <td>0.00</td>\n",
              "    </tr>\n",
              "    <tr>\n",
              "      <th>viento_dir_SE</th>\n",
              "      <td>0.00</td>\n",
              "    </tr>\n",
              "    <tr>\n",
              "      <th>viento_dir_SW</th>\n",
              "      <td>1.00</td>\n",
              "    </tr>\n",
              "    <tr>\n",
              "      <th>viento_dir_W</th>\n",
              "      <td>0.00</td>\n",
              "    </tr>\n",
              "  </tbody>\n",
              "</table>\n",
              "</div>\n",
              "    <div class=\"colab-df-buttons\">\n",
              "\n",
              "  <div class=\"colab-df-container\">\n",
              "    <button class=\"colab-df-convert\" onclick=\"convertToInteractive('df-a7e310ca-9fc4-4c03-ac15-c919a9fe6c32')\"\n",
              "            title=\"Convert this dataframe to an interactive table.\"\n",
              "            style=\"display:none;\">\n",
              "\n",
              "  <svg xmlns=\"http://www.w3.org/2000/svg\" height=\"24px\" viewBox=\"0 -960 960 960\">\n",
              "    <path d=\"M120-120v-720h720v720H120Zm60-500h600v-160H180v160Zm220 220h160v-160H400v160Zm0 220h160v-160H400v160ZM180-400h160v-160H180v160Zm440 0h160v-160H620v160ZM180-180h160v-160H180v160Zm440 0h160v-160H620v160Z\"/>\n",
              "  </svg>\n",
              "    </button>\n",
              "\n",
              "  <style>\n",
              "    .colab-df-container {\n",
              "      display:flex;\n",
              "      gap: 12px;\n",
              "    }\n",
              "\n",
              "    .colab-df-convert {\n",
              "      background-color: #E8F0FE;\n",
              "      border: none;\n",
              "      border-radius: 50%;\n",
              "      cursor: pointer;\n",
              "      display: none;\n",
              "      fill: #1967D2;\n",
              "      height: 32px;\n",
              "      padding: 0 0 0 0;\n",
              "      width: 32px;\n",
              "    }\n",
              "\n",
              "    .colab-df-convert:hover {\n",
              "      background-color: #E2EBFA;\n",
              "      box-shadow: 0px 1px 2px rgba(60, 64, 67, 0.3), 0px 1px 3px 1px rgba(60, 64, 67, 0.15);\n",
              "      fill: #174EA6;\n",
              "    }\n",
              "\n",
              "    .colab-df-buttons div {\n",
              "      margin-bottom: 4px;\n",
              "    }\n",
              "\n",
              "    [theme=dark] .colab-df-convert {\n",
              "      background-color: #3B4455;\n",
              "      fill: #D2E3FC;\n",
              "    }\n",
              "\n",
              "    [theme=dark] .colab-df-convert:hover {\n",
              "      background-color: #434B5C;\n",
              "      box-shadow: 0px 1px 3px 1px rgba(0, 0, 0, 0.15);\n",
              "      filter: drop-shadow(0px 1px 2px rgba(0, 0, 0, 0.3));\n",
              "      fill: #FFFFFF;\n",
              "    }\n",
              "  </style>\n",
              "\n",
              "    <script>\n",
              "      const buttonEl =\n",
              "        document.querySelector('#df-a7e310ca-9fc4-4c03-ac15-c919a9fe6c32 button.colab-df-convert');\n",
              "      buttonEl.style.display =\n",
              "        google.colab.kernel.accessAllowed ? 'block' : 'none';\n",
              "\n",
              "      async function convertToInteractive(key) {\n",
              "        const element = document.querySelector('#df-a7e310ca-9fc4-4c03-ac15-c919a9fe6c32');\n",
              "        const dataTable =\n",
              "          await google.colab.kernel.invokeFunction('convertToInteractive',\n",
              "                                                    [key], {});\n",
              "        if (!dataTable) return;\n",
              "\n",
              "        const docLinkHtml = 'Like what you see? Visit the ' +\n",
              "          '<a target=\"_blank\" href=https://colab.research.google.com/notebooks/data_table.ipynb>data table notebook</a>'\n",
              "          + ' to learn more about interactive tables.';\n",
              "        element.innerHTML = '';\n",
              "        dataTable['output_type'] = 'display_data';\n",
              "        await google.colab.output.renderOutput(dataTable, element);\n",
              "        const docLink = document.createElement('div');\n",
              "        docLink.innerHTML = docLinkHtml;\n",
              "        element.appendChild(docLink);\n",
              "      }\n",
              "    </script>\n",
              "  </div>\n",
              "\n",
              "\n",
              "<div id=\"df-5c318666-0ecf-4e45-867b-f97a13ef93bd\">\n",
              "  <button class=\"colab-df-quickchart\" onclick=\"quickchart('df-5c318666-0ecf-4e45-867b-f97a13ef93bd')\"\n",
              "            title=\"Suggest charts\"\n",
              "            style=\"display:none;\">\n",
              "\n",
              "<svg xmlns=\"http://www.w3.org/2000/svg\" height=\"24px\"viewBox=\"0 0 24 24\"\n",
              "     width=\"24px\">\n",
              "    <g>\n",
              "        <path d=\"M19 3H5c-1.1 0-2 .9-2 2v14c0 1.1.9 2 2 2h14c1.1 0 2-.9 2-2V5c0-1.1-.9-2-2-2zM9 17H7v-7h2v7zm4 0h-2V7h2v10zm4 0h-2v-4h2v4z\"/>\n",
              "    </g>\n",
              "</svg>\n",
              "  </button>\n",
              "\n",
              "<style>\n",
              "  .colab-df-quickchart {\n",
              "      --bg-color: #E8F0FE;\n",
              "      --fill-color: #1967D2;\n",
              "      --hover-bg-color: #E2EBFA;\n",
              "      --hover-fill-color: #174EA6;\n",
              "      --disabled-fill-color: #AAA;\n",
              "      --disabled-bg-color: #DDD;\n",
              "  }\n",
              "\n",
              "  [theme=dark] .colab-df-quickchart {\n",
              "      --bg-color: #3B4455;\n",
              "      --fill-color: #D2E3FC;\n",
              "      --hover-bg-color: #434B5C;\n",
              "      --hover-fill-color: #FFFFFF;\n",
              "      --disabled-bg-color: #3B4455;\n",
              "      --disabled-fill-color: #666;\n",
              "  }\n",
              "\n",
              "  .colab-df-quickchart {\n",
              "    background-color: var(--bg-color);\n",
              "    border: none;\n",
              "    border-radius: 50%;\n",
              "    cursor: pointer;\n",
              "    display: none;\n",
              "    fill: var(--fill-color);\n",
              "    height: 32px;\n",
              "    padding: 0;\n",
              "    width: 32px;\n",
              "  }\n",
              "\n",
              "  .colab-df-quickchart:hover {\n",
              "    background-color: var(--hover-bg-color);\n",
              "    box-shadow: 0 1px 2px rgba(60, 64, 67, 0.3), 0 1px 3px 1px rgba(60, 64, 67, 0.15);\n",
              "    fill: var(--button-hover-fill-color);\n",
              "  }\n",
              "\n",
              "  .colab-df-quickchart-complete:disabled,\n",
              "  .colab-df-quickchart-complete:disabled:hover {\n",
              "    background-color: var(--disabled-bg-color);\n",
              "    fill: var(--disabled-fill-color);\n",
              "    box-shadow: none;\n",
              "  }\n",
              "\n",
              "  .colab-df-spinner {\n",
              "    border: 2px solid var(--fill-color);\n",
              "    border-color: transparent;\n",
              "    border-bottom-color: var(--fill-color);\n",
              "    animation:\n",
              "      spin 1s steps(1) infinite;\n",
              "  }\n",
              "\n",
              "  @keyframes spin {\n",
              "    0% {\n",
              "      border-color: transparent;\n",
              "      border-bottom-color: var(--fill-color);\n",
              "      border-left-color: var(--fill-color);\n",
              "    }\n",
              "    20% {\n",
              "      border-color: transparent;\n",
              "      border-left-color: var(--fill-color);\n",
              "      border-top-color: var(--fill-color);\n",
              "    }\n",
              "    30% {\n",
              "      border-color: transparent;\n",
              "      border-left-color: var(--fill-color);\n",
              "      border-top-color: var(--fill-color);\n",
              "      border-right-color: var(--fill-color);\n",
              "    }\n",
              "    40% {\n",
              "      border-color: transparent;\n",
              "      border-right-color: var(--fill-color);\n",
              "      border-top-color: var(--fill-color);\n",
              "    }\n",
              "    60% {\n",
              "      border-color: transparent;\n",
              "      border-right-color: var(--fill-color);\n",
              "    }\n",
              "    80% {\n",
              "      border-color: transparent;\n",
              "      border-right-color: var(--fill-color);\n",
              "      border-bottom-color: var(--fill-color);\n",
              "    }\n",
              "    90% {\n",
              "      border-color: transparent;\n",
              "      border-bottom-color: var(--fill-color);\n",
              "    }\n",
              "  }\n",
              "</style>\n",
              "\n",
              "  <script>\n",
              "    async function quickchart(key) {\n",
              "      const quickchartButtonEl =\n",
              "        document.querySelector('#' + key + ' button');\n",
              "      quickchartButtonEl.disabled = true;  // To prevent multiple clicks.\n",
              "      quickchartButtonEl.classList.add('colab-df-spinner');\n",
              "      try {\n",
              "        const charts = await google.colab.kernel.invokeFunction(\n",
              "            'suggestCharts', [key], {});\n",
              "      } catch (error) {\n",
              "        console.error('Error during call to suggestCharts:', error);\n",
              "      }\n",
              "      quickchartButtonEl.classList.remove('colab-df-spinner');\n",
              "      quickchartButtonEl.classList.add('colab-df-quickchart-complete');\n",
              "    }\n",
              "    (() => {\n",
              "      let quickchartButtonEl =\n",
              "        document.querySelector('#df-5c318666-0ecf-4e45-867b-f97a13ef93bd button');\n",
              "      quickchartButtonEl.style.display =\n",
              "        google.colab.kernel.accessAllowed ? 'block' : 'none';\n",
              "    })();\n",
              "  </script>\n",
              "</div>\n",
              "    </div>\n",
              "  </div>\n"
            ],
            "application/vnd.google.colaboratory.intrinsic+json": {
              "type": "dataframe",
              "summary": "{\n  \"name\": \"sample_predict\",\n  \"rows\": 33,\n  \"fields\": [\n    {\n      \"column\": \"2022-12-28\",\n      \"properties\": {\n        \"dtype\": \"number\",\n        \"std\": 296.87481397633724,\n        \"min\": 0.0,\n        \"max\": 1031.0,\n        \"num_unique_values\": 18,\n        \"samples\": [\n          15.0,\n          8.0,\n          1031.0\n        ],\n        \"semantic_type\": \"\",\n        \"description\": \"\"\n      }\n    }\n  ]\n}"
            }
          },
          "metadata": {},
          "execution_count": 178
        }
      ]
    },
    {
      "cell_type": "markdown",
      "source": [
        "## Cargar modelo"
      ],
      "metadata": {
        "id": "tZO77R1phU4D"
      }
    },
    {
      "cell_type": "code",
      "source": [
        "import pickle\n",
        "model = pickle.load(open('/content/drive/MyDrive/TIC/Data science/Master Data Science Nuclio - profesor/Aprendizaje supervisado - Presencial/Ejercicios/Clasificación - lluvia/modelo_entrenado.pkl', 'rb'))"
      ],
      "metadata": {
        "id": "KE59D78rhIor"
      },
      "execution_count": null,
      "outputs": []
    },
    {
      "cell_type": "code",
      "source": [
        "# Check features matched features model\n",
        "features_predict = list(sample_predict.columns)\n",
        "model_features = list(model.feature_names_in_)"
      ],
      "metadata": {
        "id": "poDLdfLTTdHl"
      },
      "execution_count": null,
      "outputs": []
    },
    {
      "cell_type": "code",
      "source": [
        "model.feature_names_in_"
      ],
      "metadata": {
        "id": "fSPXYSoPnhZX",
        "colab": {
          "base_uri": "https://localhost:8080/"
        },
        "outputId": "97d30144-9ca6-4c39-8988-2d8750cfa357"
      },
      "execution_count": null,
      "outputs": [
        {
          "output_type": "execute_result",
          "data": {
            "text/plain": [
              "array(['temperatura_max', 'temperatura_med', 'temperatura_min',\n",
              "       'rocio_max', 'rocio_med', 'rocio_min', 'humedad_max',\n",
              "       'humedad_med', 'humedad_min', 'presion_max', 'presion_med',\n",
              "       'presion_min', 'visibilidad_max', 'visibilidad_med',\n",
              "       'visibilidad_min', 'viento_max', 'viento_med', 'racha_viento_max',\n",
              "       'precipitacion', 'nubes', 'ind_lluvia', 'ind_nieve', 'ind_truenos',\n",
              "       'ind_niebla', 'ind_granizo', 'viento_dir_E', 'viento_dir_N',\n",
              "       'viento_dir_NE', 'viento_dir_NW', 'viento_dir_S', 'viento_dir_SE',\n",
              "       'viento_dir_SW', 'viento_dir_W'], dtype=object)"
            ]
          },
          "metadata": {},
          "execution_count": 181
        }
      ]
    },
    {
      "cell_type": "code",
      "source": [
        "features_predict == model_features"
      ],
      "metadata": {
        "id": "nbEA8NYgT0ru",
        "colab": {
          "base_uri": "https://localhost:8080/"
        },
        "outputId": "970fd4a5-4ca9-479a-8711-ff01094bcdea"
      },
      "execution_count": null,
      "outputs": [
        {
          "output_type": "execute_result",
          "data": {
            "text/plain": [
              "True"
            ]
          },
          "metadata": {},
          "execution_count": 182
        }
      ]
    },
    {
      "cell_type": "markdown",
      "source": [
        "## ¿Mañana llueve?"
      ],
      "metadata": {
        "id": "B5o9zglkhfLO"
      }
    },
    {
      "cell_type": "code",
      "source": [
        "predict = model.predict(sample_predict)[0]"
      ],
      "metadata": {
        "id": "afchwan4gsXW"
      },
      "execution_count": null,
      "outputs": []
    },
    {
      "cell_type": "code",
      "source": [
        "predict_proba = model.predict_proba(sample_predict)[:,1][0]"
      ],
      "metadata": {
        "id": "Em_TXnbphnQ6"
      },
      "execution_count": null,
      "outputs": []
    },
    {
      "cell_type": "code",
      "source": [
        "print('Mañana llueve:',predict)\n",
        "print('Probabilidad de lluvia: {:.2%}'.format(predict_proba))"
      ],
      "metadata": {
        "id": "e8Mqm1oZhulu",
        "colab": {
          "base_uri": "https://localhost:8080/"
        },
        "outputId": "6db4465b-b685-4fc1-88df-61e56d4782a2"
      },
      "execution_count": null,
      "outputs": [
        {
          "output_type": "stream",
          "name": "stdout",
          "text": [
            "Mañana llueve: False\n",
            "Probabilidad de lluvia: 16.18%\n"
          ]
        }
      ]
    },
    {
      "cell_type": "code",
      "source": [],
      "metadata": {
        "id": "5-veiJG2MTQp"
      },
      "execution_count": null,
      "outputs": []
    }
  ]
}