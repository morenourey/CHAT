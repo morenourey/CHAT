{
  "nbformat": 4,
  "nbformat_minor": 0,
  "metadata": {
    "colab": {
      "provenance": [],
      "toc_visible": true,
      "include_colab_link": true
    },
    "kernelspec": {
      "name": "python3",
      "display_name": "Python 3"
    },
    "language_info": {
      "name": "python"
    }
  },
  "cells": [
    {
      "cell_type": "markdown",
      "metadata": {
        "id": "view-in-github",
        "colab_type": "text"
      },
      "source": [
        "<a href=\"https://colab.research.google.com/github/morenourey/CHAT/blob/main/ML_3_Predict.ipynb\" target=\"_parent\"><img src=\"https://colab.research.google.com/assets/colab-badge.svg\" alt=\"Open In Colab\"/></a>"
      ]
    },
    {
      "cell_type": "markdown",
      "source": [
        "# SUP ML 3 - PREDICT"
      ],
      "metadata": {
        "id": "87Bve6QZggnT"
      }
    },
    {
      "cell_type": "markdown",
      "source": [
        "# Librerias"
      ],
      "metadata": {
        "id": "jTEOHHidYOV-"
      }
    },
    {
      "cell_type": "code",
      "source": [
        "import pandas as pd\n",
        "import numpy as np\n",
        "import matplotlib.pyplot as plt\n",
        "import seaborn as sns\n",
        "\n",
        "pd.set_option('display.max_columns',None)\n",
        "\n",
        "import warnings\n",
        "warnings.filterwarnings(\"ignore\")"
      ],
      "metadata": {
        "id": "5Rkor61lYTQX"
      },
      "execution_count": null,
      "outputs": []
    },
    {
      "cell_type": "markdown",
      "source": [
        "# Carga modelo"
      ],
      "metadata": {
        "id": "KohbVrqkJIKU"
      }
    },
    {
      "cell_type": "markdown",
      "source": [
        "* Cargar el modelo\n",
        "* Obtener la lista de model features"
      ],
      "metadata": {
        "id": "y4ncLcUnMlT-"
      }
    },
    {
      "cell_type": "code",
      "source": [],
      "metadata": {
        "id": "StbMbwFVMjQL"
      },
      "execution_count": null,
      "outputs": []
    },
    {
      "cell_type": "markdown",
      "source": [
        "# Carga PREDICT dataset"
      ],
      "metadata": {
        "id": "9MEmBvLvJA-s"
      }
    },
    {
      "cell_type": "code",
      "source": [],
      "metadata": {
        "id": "bjNy132SJAaF"
      },
      "execution_count": null,
      "outputs": []
    },
    {
      "cell_type": "markdown",
      "source": [
        "# ML Preprocessing"
      ],
      "metadata": {
        "id": "3DbfLkADLbc0"
      }
    },
    {
      "cell_type": "markdown",
      "source": [
        "Se deben realizar las mismas transformaciones que se aplicaron en el preprocessing del train:\n",
        "  * Eliminar mismas variables\n",
        "  * Imputar mismos valores a nulos\n",
        "  * Aplicar mismo encoding de categoricos\n",
        "  * ...todo lo necesario para replicar las variables con las que el modelo se entrenó\n",
        "\n",
        "NO SE DEBEN repetir:\n",
        "  * Analisis visual de los datos\n",
        "  * Analisis de correlaciones\n",
        "  * Analisis de varianza\n",
        "  * Calculo de metricas que varien con la distribución"
      ],
      "metadata": {
        "id": "LmoNP1NsJeaj"
      }
    },
    {
      "cell_type": "code",
      "source": [],
      "metadata": {
        "id": "41w7cAX4La6D"
      },
      "execution_count": null,
      "outputs": []
    },
    {
      "cell_type": "markdown",
      "source": [
        "# Check model features"
      ],
      "metadata": {
        "id": "cWWJHvZwLpRu"
      }
    },
    {
      "cell_type": "markdown",
      "source": [
        "* Comprobar que tenemos en el dataset preprocesado todas las model features, de lo contrario no podremos hacer predict.\n",
        "* Ordenar las variables en mismo orden que las model features"
      ],
      "metadata": {
        "id": "5c1AMI6qLsLf"
      }
    },
    {
      "cell_type": "code",
      "source": [],
      "metadata": {
        "id": "H7Yuoi2ULoxa"
      },
      "execution_count": null,
      "outputs": []
    },
    {
      "cell_type": "markdown",
      "source": [
        "# Rescaling"
      ],
      "metadata": {
        "id": "vgy97kWoLKIX"
      }
    },
    {
      "cell_type": "markdown",
      "source": [
        "* Si se entrenó el modelo con un dataset estandarizado, estandarizar con mismo scaler."
      ],
      "metadata": {
        "id": "Uly0zItQLOIB"
      }
    },
    {
      "cell_type": "code",
      "source": [],
      "metadata": {
        "id": "N_JoLydjLJZd"
      },
      "execution_count": null,
      "outputs": []
    },
    {
      "cell_type": "markdown",
      "source": [
        "# PREDICT"
      ],
      "metadata": {
        "id": "MQZVI5GjR815"
      }
    },
    {
      "cell_type": "markdown",
      "source": [
        "* predict() y predict_proba()"
      ],
      "metadata": {
        "id": "VO5szsPhMygE"
      }
    },
    {
      "cell_type": "code",
      "source": [],
      "metadata": {
        "id": "4a0k5mnKR8WI"
      },
      "execution_count": null,
      "outputs": []
    },
    {
      "cell_type": "markdown",
      "source": [
        "# Guarda predicciones"
      ],
      "metadata": {
        "id": "DGcGVB_rJUDz"
      }
    },
    {
      "cell_type": "markdown",
      "source": [
        "* Guardar las predicciones en data path. Cada fila debe estar etiquetada con el ID."
      ],
      "metadata": {
        "id": "RBexy20LM3sd"
      }
    },
    {
      "cell_type": "code",
      "source": [],
      "metadata": {
        "id": "_FzlcWmJJXAN"
      },
      "execution_count": null,
      "outputs": []
    }
  ]
}