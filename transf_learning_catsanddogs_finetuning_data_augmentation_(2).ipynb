{
  "nbformat": 4,
  "nbformat_minor": 0,
  "metadata": {
    "accelerator": "GPU",
    "colab": {
      "provenance": [],
      "include_colab_link": true
    },
    "kernelspec": {
      "display_name": "Python 3",
      "language": "python",
      "name": "python3"
    },
    "language_info": {
      "codemirror_mode": {
        "name": "ipython",
        "version": 3
      },
      "file_extension": ".py",
      "mimetype": "text/x-python",
      "name": "python",
      "nbconvert_exporter": "python",
      "pygments_lexer": "ipython3",
      "version": "3.8.5"
    }
  },
  "cells": [
    {
      "cell_type": "markdown",
      "metadata": {
        "id": "view-in-github",
        "colab_type": "text"
      },
      "source": [
        "<a href=\"https://colab.research.google.com/github/morenourey/ENTREGABLES/blob/main/transf_learning_catsanddogs_finetuning_data_augmentation_(2).ipynb\" target=\"_parent\"><img src=\"https://colab.research.google.com/assets/colab-badge.svg\" alt=\"Open In Colab\"/></a>"
      ]
    },
    {
      "cell_type": "markdown",
      "metadata": {
        "id": "WrS_ZVRj4Hrb"
      },
      "source": [
        "![Nuclio logo](https://nuclio.school/wp-content/uploads/2018/12/nucleoDS-newBlack.png)\n",
        "\n",
        "#Transfer Learning con la técnica de Fine Tuning"
      ]
    },
    {
      "cell_type": "markdown",
      "metadata": {
        "id": "XsWCs2GtMPAw"
      },
      "source": [
        "# Connectar a Drive"
      ]
    },
    {
      "cell_type": "code",
      "metadata": {
        "colab": {
          "base_uri": "https://localhost:8080/"
        },
        "id": "E6Jk6GTVMDW_",
        "outputId": "7eeea977-711e-44f3-dbd1-333fa699aa0f"
      },
      "source": [
        "from google.colab import drive\n",
        "drive.mount('/content/drive')"
      ],
      "execution_count": 1,
      "outputs": [
        {
          "output_type": "stream",
          "name": "stdout",
          "text": [
            "Mounted at /content/drive\n"
          ]
        }
      ]
    },
    {
      "cell_type": "markdown",
      "metadata": {
        "id": "N5FTXWKIM1Dx"
      },
      "source": [
        "# Librerias"
      ]
    },
    {
      "cell_type": "code",
      "metadata": {
        "id": "7YO-qvTSM3kX"
      },
      "source": [
        "from tensorflow import keras as ks\n",
        "from tensorflow.keras.callbacks import EarlyStopping, ModelCheckpoint\n",
        "from tensorflow.keras.regularizers import l2\n",
        "\n",
        "import numpy as np\n",
        "import pandas as pd\n",
        "import matplotlib.pyplot as plt\n",
        "import random\n",
        "import os\n",
        "\n",
        "from tensorflow.keras.applications import vgg16\n",
        "from tensorflow.keras.models import Model, load_model"
      ],
      "execution_count": 2,
      "outputs": []
    },
    {
      "cell_type": "markdown",
      "metadata": {
        "id": "IuGCNtaSOEPV"
      },
      "source": [
        "# Variables de entorno\n",
        "\n",
        "<font color=\"#FF0000\">Aquí definireis vuestra ruta del proyecto de perros y Gatos</font>"
      ]
    },
    {
      "cell_type": "code",
      "metadata": {
        "id": "7K7GC8BQOHV9"
      },
      "source": [
        "ANCHO_IMAGEN = 150\n",
        "ALTURA_IMAGEN=150\n",
        "IMAGE_SIZE = (ANCHO_IMAGEN, ALTURA_IMAGEN)\n",
        "CANALES_IMAGENES = 3\n",
        "\n",
        "ruta_archivos = '/content/drive/MyDrive/NUCLIO/'"
      ],
      "execution_count": 3,
      "outputs": []
    },
    {
      "cell_type": "markdown",
      "metadata": {
        "id": "CavLXOtgOTyb"
      },
      "source": [
        "# Cargaremos datos en NPZ\n"
      ]
    },
    {
      "cell_type": "code",
      "metadata": {
        "id": "dzVhzbmqOZ7i"
      },
      "source": [
        "dict_npz = np.load(ruta_archivos+'xy_train_img.npz')\n",
        "x_train_img = dict_npz['x']\n",
        "y_train_img = dict_npz['y']\n",
        "\n",
        "dict_npz = np.load(ruta_archivos+'xy_test_img.npz')\n",
        "x_test_img = dict_npz['x']\n",
        "y_test_img = dict_npz['y']\n",
        "\n",
        "dict_npz = np.load(ruta_archivos+'xy_val_img.npz')\n",
        "x_val_img = dict_npz['x']\n",
        "y_val_img = dict_npz['y']"
      ],
      "execution_count": 4,
      "outputs": []
    },
    {
      "cell_type": "code",
      "metadata": {
        "id": "VsjYQW0OPCFL"
      },
      "source": [
        "x_train_scaled = x_train_img / 255.\n",
        "x_test_scaled = x_test_img / 255.\n",
        "x_val_scaled = x_val_img / 255."
      ],
      "execution_count": 5,
      "outputs": []
    },
    {
      "cell_type": "markdown",
      "metadata": {
        "id": "WF_SnUJNPtZ5"
      },
      "source": [
        "# Montamos la Red Neuronal\n",
        "\n",
        "## Cargar la parte de extraccion de features de VGG16"
      ]
    },
    {
      "cell_type": "code",
      "metadata": {
        "id": "sBi8HNOBP1V2",
        "outputId": "b210948e-97a9-408c-cf56-c256ebe15b63",
        "colab": {
          "base_uri": "https://localhost:8080/"
        }
      },
      "source": [
        "vgg = vgg16.VGG16(include_top=False, weights='imagenet', input_shape=(ANCHO_IMAGEN, ALTURA_IMAGEN, CANALES_IMAGENES))"
      ],
      "execution_count": 6,
      "outputs": [
        {
          "output_type": "stream",
          "name": "stdout",
          "text": [
            "Downloading data from https://storage.googleapis.com/tensorflow/keras-applications/vgg16/vgg16_weights_tf_dim_ordering_tf_kernels_notop.h5\n",
            "58889256/58889256 [==============================] - 0s 0us/step\n"
          ]
        }
      ]
    },
    {
      "cell_type": "code",
      "metadata": {
        "colab": {
          "base_uri": "https://localhost:8080/"
        },
        "id": "FMTMdgQ9QvfS",
        "outputId": "2aa10d5e-3292-4be4-94fc-dc0bcc9b03b7"
      },
      "source": [
        "vgg.summary()"
      ],
      "execution_count": 7,
      "outputs": [
        {
          "output_type": "stream",
          "name": "stdout",
          "text": [
            "Model: \"vgg16\"\n",
            "_________________________________________________________________\n",
            " Layer (type)                Output Shape              Param #   \n",
            "=================================================================\n",
            " input_1 (InputLayer)        [(None, 150, 150, 3)]     0         \n",
            "                                                                 \n",
            " block1_conv1 (Conv2D)       (None, 150, 150, 64)      1792      \n",
            "                                                                 \n",
            " block1_conv2 (Conv2D)       (None, 150, 150, 64)      36928     \n",
            "                                                                 \n",
            " block1_pool (MaxPooling2D)  (None, 75, 75, 64)        0         \n",
            "                                                                 \n",
            " block2_conv1 (Conv2D)       (None, 75, 75, 128)       73856     \n",
            "                                                                 \n",
            " block2_conv2 (Conv2D)       (None, 75, 75, 128)       147584    \n",
            "                                                                 \n",
            " block2_pool (MaxPooling2D)  (None, 37, 37, 128)       0         \n",
            "                                                                 \n",
            " block3_conv1 (Conv2D)       (None, 37, 37, 256)       295168    \n",
            "                                                                 \n",
            " block3_conv2 (Conv2D)       (None, 37, 37, 256)       590080    \n",
            "                                                                 \n",
            " block3_conv3 (Conv2D)       (None, 37, 37, 256)       590080    \n",
            "                                                                 \n",
            " block3_pool (MaxPooling2D)  (None, 18, 18, 256)       0         \n",
            "                                                                 \n",
            " block4_conv1 (Conv2D)       (None, 18, 18, 512)       1180160   \n",
            "                                                                 \n",
            " block4_conv2 (Conv2D)       (None, 18, 18, 512)       2359808   \n",
            "                                                                 \n",
            " block4_conv3 (Conv2D)       (None, 18, 18, 512)       2359808   \n",
            "                                                                 \n",
            " block4_pool (MaxPooling2D)  (None, 9, 9, 512)         0         \n",
            "                                                                 \n",
            " block5_conv1 (Conv2D)       (None, 9, 9, 512)         2359808   \n",
            "                                                                 \n",
            " block5_conv2 (Conv2D)       (None, 9, 9, 512)         2359808   \n",
            "                                                                 \n",
            " block5_conv3 (Conv2D)       (None, 9, 9, 512)         2359808   \n",
            "                                                                 \n",
            " block5_pool (MaxPooling2D)  (None, 4, 4, 512)         0         \n",
            "                                                                 \n",
            "=================================================================\n",
            "Total params: 14714688 (56.13 MB)\n",
            "Trainable params: 14714688 (56.13 MB)\n",
            "Non-trainable params: 0 (0.00 Byte)\n",
            "_________________________________________________________________\n"
          ]
        }
      ]
    },
    {
      "cell_type": "markdown",
      "metadata": {
        "id": "DyLyT1BiGOPz"
      },
      "source": [
        "Como se puede ver en el summary, no tenemos capa Flatten de salida, así que creamos una Flatten basandonos en el output de la red neurona vgg. Y con Model() enganchamos una con la otra."
      ]
    },
    {
      "cell_type": "code",
      "metadata": {
        "id": "jm6mjIf8RD6z"
      },
      "source": [
        "output = vgg.layers[-1].output\n",
        "new_output_layer = ks.layers.Flatten()(output)\n",
        "vgg_model = Model(vgg.input, new_output_layer)"
      ],
      "execution_count": null,
      "outputs": []
    },
    {
      "cell_type": "code",
      "metadata": {
        "colab": {
          "base_uri": "https://localhost:8080/"
        },
        "id": "WYrm_LhjR3e_",
        "outputId": "dacffe4b-4fb2-4739-8610-a85042decf3d"
      },
      "source": [
        "vgg_model.summary()"
      ],
      "execution_count": null,
      "outputs": [
        {
          "output_type": "stream",
          "text": [
            "Model: \"model\"\n",
            "_________________________________________________________________\n",
            "Layer (type)                 Output Shape              Param #   \n",
            "=================================================================\n",
            "input_1 (InputLayer)         [(None, 150, 150, 3)]     0         \n",
            "_________________________________________________________________\n",
            "block1_conv1 (Conv2D)        (None, 150, 150, 64)      1792      \n",
            "_________________________________________________________________\n",
            "block1_conv2 (Conv2D)        (None, 150, 150, 64)      36928     \n",
            "_________________________________________________________________\n",
            "block1_pool (MaxPooling2D)   (None, 75, 75, 64)        0         \n",
            "_________________________________________________________________\n",
            "block2_conv1 (Conv2D)        (None, 75, 75, 128)       73856     \n",
            "_________________________________________________________________\n",
            "block2_conv2 (Conv2D)        (None, 75, 75, 128)       147584    \n",
            "_________________________________________________________________\n",
            "block2_pool (MaxPooling2D)   (None, 37, 37, 128)       0         \n",
            "_________________________________________________________________\n",
            "block3_conv1 (Conv2D)        (None, 37, 37, 256)       295168    \n",
            "_________________________________________________________________\n",
            "block3_conv2 (Conv2D)        (None, 37, 37, 256)       590080    \n",
            "_________________________________________________________________\n",
            "block3_conv3 (Conv2D)        (None, 37, 37, 256)       590080    \n",
            "_________________________________________________________________\n",
            "block3_pool (MaxPooling2D)   (None, 18, 18, 256)       0         \n",
            "_________________________________________________________________\n",
            "block4_conv1 (Conv2D)        (None, 18, 18, 512)       1180160   \n",
            "_________________________________________________________________\n",
            "block4_conv2 (Conv2D)        (None, 18, 18, 512)       2359808   \n",
            "_________________________________________________________________\n",
            "block4_conv3 (Conv2D)        (None, 18, 18, 512)       2359808   \n",
            "_________________________________________________________________\n",
            "block4_pool (MaxPooling2D)   (None, 9, 9, 512)         0         \n",
            "_________________________________________________________________\n",
            "block5_conv1 (Conv2D)        (None, 9, 9, 512)         2359808   \n",
            "_________________________________________________________________\n",
            "block5_conv2 (Conv2D)        (None, 9, 9, 512)         2359808   \n",
            "_________________________________________________________________\n",
            "block5_conv3 (Conv2D)        (None, 9, 9, 512)         2359808   \n",
            "_________________________________________________________________\n",
            "block5_pool (MaxPooling2D)   (None, 4, 4, 512)         0         \n",
            "_________________________________________________________________\n",
            "flatten (Flatten)            (None, 8192)              0         \n",
            "=================================================================\n",
            "Total params: 14,714,688\n",
            "Trainable params: 14,714,688\n",
            "Non-trainable params: 0\n",
            "_________________________________________________________________\n"
          ],
          "name": "stdout"
        }
      ]
    },
    {
      "cell_type": "markdown",
      "metadata": {
        "id": "Zs6U8vf2GeNJ"
      },
      "source": [
        "Veamos si son entrenables o no dichas capas"
      ]
    },
    {
      "cell_type": "code",
      "metadata": {
        "id": "gv8dAyCqK8ET",
        "outputId": "860a8c59-1c70-4956-de44-48b67d29c9ec",
        "colab": {
          "base_uri": "https://localhost:8080/"
        }
      },
      "source": [
        "print(\"Is model trainable?\", vgg_model.trainable)"
      ],
      "execution_count": null,
      "outputs": [
        {
          "output_type": "stream",
          "text": [
            "Is model trainable? True\n"
          ],
          "name": "stdout"
        }
      ]
    },
    {
      "cell_type": "code",
      "metadata": {
        "id": "6FJHwZxrHG57",
        "outputId": "ecfcecec-0d45-4d7c-97be-0f2fdaebfde8",
        "colab": {
          "base_uri": "https://localhost:8080/",
          "height": 676
        }
      },
      "source": [
        "pd.set_option('max_colwidth', None)\n",
        "layers = [(layer, layer.name, layer.trainable) for layer in vgg_model.layers]\n",
        "pd.DataFrame(layers, columns=['Layer Type', 'Layer Name', 'Layer Trainable'])"
      ],
      "execution_count": null,
      "outputs": [
        {
          "output_type": "execute_result",
          "data": {
            "text/html": [
              "<div>\n",
              "<style scoped>\n",
              "    .dataframe tbody tr th:only-of-type {\n",
              "        vertical-align: middle;\n",
              "    }\n",
              "\n",
              "    .dataframe tbody tr th {\n",
              "        vertical-align: top;\n",
              "    }\n",
              "\n",
              "    .dataframe thead th {\n",
              "        text-align: right;\n",
              "    }\n",
              "</style>\n",
              "<table border=\"1\" class=\"dataframe\">\n",
              "  <thead>\n",
              "    <tr style=\"text-align: right;\">\n",
              "      <th></th>\n",
              "      <th>Layer Type</th>\n",
              "      <th>Layer Name</th>\n",
              "      <th>Layer Trainable</th>\n",
              "    </tr>\n",
              "  </thead>\n",
              "  <tbody>\n",
              "    <tr>\n",
              "      <th>0</th>\n",
              "      <td>&lt;tensorflow.python.keras.engine.input_layer.InputLayer object at 0x7fabe836aad0&gt;</td>\n",
              "      <td>input_1</td>\n",
              "      <td>True</td>\n",
              "    </tr>\n",
              "    <tr>\n",
              "      <th>1</th>\n",
              "      <td>&lt;tensorflow.python.keras.layers.convolutional.Conv2D object at 0x7fabda071690&gt;</td>\n",
              "      <td>block1_conv1</td>\n",
              "      <td>True</td>\n",
              "    </tr>\n",
              "    <tr>\n",
              "      <th>2</th>\n",
              "      <td>&lt;tensorflow.python.keras.layers.convolutional.Conv2D object at 0x7fabd93836d0&gt;</td>\n",
              "      <td>block1_conv2</td>\n",
              "      <td>True</td>\n",
              "    </tr>\n",
              "    <tr>\n",
              "      <th>3</th>\n",
              "      <td>&lt;tensorflow.python.keras.layers.pooling.MaxPooling2D object at 0x7fabd93c1590&gt;</td>\n",
              "      <td>block1_pool</td>\n",
              "      <td>True</td>\n",
              "    </tr>\n",
              "    <tr>\n",
              "      <th>4</th>\n",
              "      <td>&lt;tensorflow.python.keras.layers.convolutional.Conv2D object at 0x7fabdfe60050&gt;</td>\n",
              "      <td>block2_conv1</td>\n",
              "      <td>True</td>\n",
              "    </tr>\n",
              "    <tr>\n",
              "      <th>5</th>\n",
              "      <td>&lt;tensorflow.python.keras.layers.convolutional.Conv2D object at 0x7fabdfed0f50&gt;</td>\n",
              "      <td>block2_conv2</td>\n",
              "      <td>True</td>\n",
              "    </tr>\n",
              "    <tr>\n",
              "      <th>6</th>\n",
              "      <td>&lt;tensorflow.python.keras.layers.pooling.MaxPooling2D object at 0x7fabd82ca850&gt;</td>\n",
              "      <td>block2_pool</td>\n",
              "      <td>True</td>\n",
              "    </tr>\n",
              "    <tr>\n",
              "      <th>7</th>\n",
              "      <td>&lt;tensorflow.python.keras.layers.convolutional.Conv2D object at 0x7fabd82e6590&gt;</td>\n",
              "      <td>block3_conv1</td>\n",
              "      <td>True</td>\n",
              "    </tr>\n",
              "    <tr>\n",
              "      <th>8</th>\n",
              "      <td>&lt;tensorflow.python.keras.layers.convolutional.Conv2D object at 0x7fabd0171650&gt;</td>\n",
              "      <td>block3_conv2</td>\n",
              "      <td>True</td>\n",
              "    </tr>\n",
              "    <tr>\n",
              "      <th>9</th>\n",
              "      <td>&lt;tensorflow.python.keras.layers.convolutional.Conv2D object at 0x7fabd017c850&gt;</td>\n",
              "      <td>block3_conv3</td>\n",
              "      <td>True</td>\n",
              "    </tr>\n",
              "    <tr>\n",
              "      <th>10</th>\n",
              "      <td>&lt;tensorflow.python.keras.layers.pooling.MaxPooling2D object at 0x7fabd01711d0&gt;</td>\n",
              "      <td>block3_pool</td>\n",
              "      <td>True</td>\n",
              "    </tr>\n",
              "    <tr>\n",
              "      <th>11</th>\n",
              "      <td>&lt;tensorflow.python.keras.layers.convolutional.Conv2D object at 0x7fabd01848d0&gt;</td>\n",
              "      <td>block4_conv1</td>\n",
              "      <td>True</td>\n",
              "    </tr>\n",
              "    <tr>\n",
              "      <th>12</th>\n",
              "      <td>&lt;tensorflow.python.keras.layers.convolutional.Conv2D object at 0x7fabd018d090&gt;</td>\n",
              "      <td>block4_conv2</td>\n",
              "      <td>True</td>\n",
              "    </tr>\n",
              "    <tr>\n",
              "      <th>13</th>\n",
              "      <td>&lt;tensorflow.python.keras.layers.convolutional.Conv2D object at 0x7fabd0194710&gt;</td>\n",
              "      <td>block4_conv3</td>\n",
              "      <td>True</td>\n",
              "    </tr>\n",
              "    <tr>\n",
              "      <th>14</th>\n",
              "      <td>&lt;tensorflow.python.keras.layers.pooling.MaxPooling2D object at 0x7fabd0184990&gt;</td>\n",
              "      <td>block4_pool</td>\n",
              "      <td>True</td>\n",
              "    </tr>\n",
              "    <tr>\n",
              "      <th>15</th>\n",
              "      <td>&lt;tensorflow.python.keras.layers.convolutional.Conv2D object at 0x7fabd019ad90&gt;</td>\n",
              "      <td>block5_conv1</td>\n",
              "      <td>True</td>\n",
              "    </tr>\n",
              "    <tr>\n",
              "      <th>16</th>\n",
              "      <td>&lt;tensorflow.python.keras.layers.convolutional.Conv2D object at 0x7fabd0127510&gt;</td>\n",
              "      <td>block5_conv2</td>\n",
              "      <td>True</td>\n",
              "    </tr>\n",
              "    <tr>\n",
              "      <th>17</th>\n",
              "      <td>&lt;tensorflow.python.keras.layers.convolutional.Conv2D object at 0x7fabd019b0d0&gt;</td>\n",
              "      <td>block5_conv3</td>\n",
              "      <td>True</td>\n",
              "    </tr>\n",
              "    <tr>\n",
              "      <th>18</th>\n",
              "      <td>&lt;tensorflow.python.keras.layers.pooling.MaxPooling2D object at 0x7fabd012f350&gt;</td>\n",
              "      <td>block5_pool</td>\n",
              "      <td>True</td>\n",
              "    </tr>\n",
              "    <tr>\n",
              "      <th>19</th>\n",
              "      <td>&lt;tensorflow.python.keras.layers.core.Flatten object at 0x7fabd013c450&gt;</td>\n",
              "      <td>flatten</td>\n",
              "      <td>True</td>\n",
              "    </tr>\n",
              "  </tbody>\n",
              "</table>\n",
              "</div>"
            ],
            "text/plain": [
              "                                                                          Layer Type  ... Layer Trainable\n",
              "0   <tensorflow.python.keras.engine.input_layer.InputLayer object at 0x7fabe836aad0>  ...            True\n",
              "1     <tensorflow.python.keras.layers.convolutional.Conv2D object at 0x7fabda071690>  ...            True\n",
              "2     <tensorflow.python.keras.layers.convolutional.Conv2D object at 0x7fabd93836d0>  ...            True\n",
              "3     <tensorflow.python.keras.layers.pooling.MaxPooling2D object at 0x7fabd93c1590>  ...            True\n",
              "4     <tensorflow.python.keras.layers.convolutional.Conv2D object at 0x7fabdfe60050>  ...            True\n",
              "5     <tensorflow.python.keras.layers.convolutional.Conv2D object at 0x7fabdfed0f50>  ...            True\n",
              "6     <tensorflow.python.keras.layers.pooling.MaxPooling2D object at 0x7fabd82ca850>  ...            True\n",
              "7     <tensorflow.python.keras.layers.convolutional.Conv2D object at 0x7fabd82e6590>  ...            True\n",
              "8     <tensorflow.python.keras.layers.convolutional.Conv2D object at 0x7fabd0171650>  ...            True\n",
              "9     <tensorflow.python.keras.layers.convolutional.Conv2D object at 0x7fabd017c850>  ...            True\n",
              "10    <tensorflow.python.keras.layers.pooling.MaxPooling2D object at 0x7fabd01711d0>  ...            True\n",
              "11    <tensorflow.python.keras.layers.convolutional.Conv2D object at 0x7fabd01848d0>  ...            True\n",
              "12    <tensorflow.python.keras.layers.convolutional.Conv2D object at 0x7fabd018d090>  ...            True\n",
              "13    <tensorflow.python.keras.layers.convolutional.Conv2D object at 0x7fabd0194710>  ...            True\n",
              "14    <tensorflow.python.keras.layers.pooling.MaxPooling2D object at 0x7fabd0184990>  ...            True\n",
              "15    <tensorflow.python.keras.layers.convolutional.Conv2D object at 0x7fabd019ad90>  ...            True\n",
              "16    <tensorflow.python.keras.layers.convolutional.Conv2D object at 0x7fabd0127510>  ...            True\n",
              "17    <tensorflow.python.keras.layers.convolutional.Conv2D object at 0x7fabd019b0d0>  ...            True\n",
              "18    <tensorflow.python.keras.layers.pooling.MaxPooling2D object at 0x7fabd012f350>  ...            True\n",
              "19            <tensorflow.python.keras.layers.core.Flatten object at 0x7fabd013c450>  ...            True\n",
              "\n",
              "[20 rows x 3 columns]"
            ]
          },
          "metadata": {
            "tags": []
          },
          "execution_count": 11
        }
      ]
    },
    {
      "cell_type": "markdown",
      "metadata": {
        "id": "8hIiMkD8GFqb"
      },
      "source": [
        "Vamos a activar como entrenables solo las convoluciones del bloque 4 para abajo, de ahí que hagamos el siguiente bucle."
      ]
    },
    {
      "cell_type": "code",
      "metadata": {
        "id": "qmSzCmK1SK7c"
      },
      "source": [
        "entrenable = False\n",
        "\n",
        "for layer in vgg_model.layers:\n",
        "  if layer.name == 'block4_conv1':\n",
        "    entrenable = True\n",
        "  layer.trainable = entrenable"
      ],
      "execution_count": null,
      "outputs": []
    },
    {
      "cell_type": "code",
      "metadata": {
        "colab": {
          "base_uri": "https://localhost:8080/",
          "height": 676
        },
        "id": "1Xr76uANSfx7",
        "outputId": "6c6314b1-bccf-4138-a74f-7bcdc3b3d51b"
      },
      "source": [
        "pd.set_option('max_colwidth', None)\n",
        "layers = [(layer, layer.name, layer.trainable) for layer in vgg_model.layers]\n",
        "pd.DataFrame(layers, columns=['Layer Type', 'Layer Name', 'Layer Trainable'])"
      ],
      "execution_count": null,
      "outputs": [
        {
          "output_type": "execute_result",
          "data": {
            "text/html": [
              "<div>\n",
              "<style scoped>\n",
              "    .dataframe tbody tr th:only-of-type {\n",
              "        vertical-align: middle;\n",
              "    }\n",
              "\n",
              "    .dataframe tbody tr th {\n",
              "        vertical-align: top;\n",
              "    }\n",
              "\n",
              "    .dataframe thead th {\n",
              "        text-align: right;\n",
              "    }\n",
              "</style>\n",
              "<table border=\"1\" class=\"dataframe\">\n",
              "  <thead>\n",
              "    <tr style=\"text-align: right;\">\n",
              "      <th></th>\n",
              "      <th>Layer Type</th>\n",
              "      <th>Layer Name</th>\n",
              "      <th>Layer Trainable</th>\n",
              "    </tr>\n",
              "  </thead>\n",
              "  <tbody>\n",
              "    <tr>\n",
              "      <th>0</th>\n",
              "      <td>&lt;tensorflow.python.keras.engine.input_layer.InputLayer object at 0x7fabe836aad0&gt;</td>\n",
              "      <td>input_1</td>\n",
              "      <td>False</td>\n",
              "    </tr>\n",
              "    <tr>\n",
              "      <th>1</th>\n",
              "      <td>&lt;tensorflow.python.keras.layers.convolutional.Conv2D object at 0x7fabda071690&gt;</td>\n",
              "      <td>block1_conv1</td>\n",
              "      <td>False</td>\n",
              "    </tr>\n",
              "    <tr>\n",
              "      <th>2</th>\n",
              "      <td>&lt;tensorflow.python.keras.layers.convolutional.Conv2D object at 0x7fabd93836d0&gt;</td>\n",
              "      <td>block1_conv2</td>\n",
              "      <td>False</td>\n",
              "    </tr>\n",
              "    <tr>\n",
              "      <th>3</th>\n",
              "      <td>&lt;tensorflow.python.keras.layers.pooling.MaxPooling2D object at 0x7fabd93c1590&gt;</td>\n",
              "      <td>block1_pool</td>\n",
              "      <td>False</td>\n",
              "    </tr>\n",
              "    <tr>\n",
              "      <th>4</th>\n",
              "      <td>&lt;tensorflow.python.keras.layers.convolutional.Conv2D object at 0x7fabdfe60050&gt;</td>\n",
              "      <td>block2_conv1</td>\n",
              "      <td>False</td>\n",
              "    </tr>\n",
              "    <tr>\n",
              "      <th>5</th>\n",
              "      <td>&lt;tensorflow.python.keras.layers.convolutional.Conv2D object at 0x7fabdfed0f50&gt;</td>\n",
              "      <td>block2_conv2</td>\n",
              "      <td>False</td>\n",
              "    </tr>\n",
              "    <tr>\n",
              "      <th>6</th>\n",
              "      <td>&lt;tensorflow.python.keras.layers.pooling.MaxPooling2D object at 0x7fabd82ca850&gt;</td>\n",
              "      <td>block2_pool</td>\n",
              "      <td>False</td>\n",
              "    </tr>\n",
              "    <tr>\n",
              "      <th>7</th>\n",
              "      <td>&lt;tensorflow.python.keras.layers.convolutional.Conv2D object at 0x7fabd82e6590&gt;</td>\n",
              "      <td>block3_conv1</td>\n",
              "      <td>False</td>\n",
              "    </tr>\n",
              "    <tr>\n",
              "      <th>8</th>\n",
              "      <td>&lt;tensorflow.python.keras.layers.convolutional.Conv2D object at 0x7fabd0171650&gt;</td>\n",
              "      <td>block3_conv2</td>\n",
              "      <td>False</td>\n",
              "    </tr>\n",
              "    <tr>\n",
              "      <th>9</th>\n",
              "      <td>&lt;tensorflow.python.keras.layers.convolutional.Conv2D object at 0x7fabd017c850&gt;</td>\n",
              "      <td>block3_conv3</td>\n",
              "      <td>False</td>\n",
              "    </tr>\n",
              "    <tr>\n",
              "      <th>10</th>\n",
              "      <td>&lt;tensorflow.python.keras.layers.pooling.MaxPooling2D object at 0x7fabd01711d0&gt;</td>\n",
              "      <td>block3_pool</td>\n",
              "      <td>False</td>\n",
              "    </tr>\n",
              "    <tr>\n",
              "      <th>11</th>\n",
              "      <td>&lt;tensorflow.python.keras.layers.convolutional.Conv2D object at 0x7fabd01848d0&gt;</td>\n",
              "      <td>block4_conv1</td>\n",
              "      <td>True</td>\n",
              "    </tr>\n",
              "    <tr>\n",
              "      <th>12</th>\n",
              "      <td>&lt;tensorflow.python.keras.layers.convolutional.Conv2D object at 0x7fabd018d090&gt;</td>\n",
              "      <td>block4_conv2</td>\n",
              "      <td>True</td>\n",
              "    </tr>\n",
              "    <tr>\n",
              "      <th>13</th>\n",
              "      <td>&lt;tensorflow.python.keras.layers.convolutional.Conv2D object at 0x7fabd0194710&gt;</td>\n",
              "      <td>block4_conv3</td>\n",
              "      <td>True</td>\n",
              "    </tr>\n",
              "    <tr>\n",
              "      <th>14</th>\n",
              "      <td>&lt;tensorflow.python.keras.layers.pooling.MaxPooling2D object at 0x7fabd0184990&gt;</td>\n",
              "      <td>block4_pool</td>\n",
              "      <td>True</td>\n",
              "    </tr>\n",
              "    <tr>\n",
              "      <th>15</th>\n",
              "      <td>&lt;tensorflow.python.keras.layers.convolutional.Conv2D object at 0x7fabd019ad90&gt;</td>\n",
              "      <td>block5_conv1</td>\n",
              "      <td>True</td>\n",
              "    </tr>\n",
              "    <tr>\n",
              "      <th>16</th>\n",
              "      <td>&lt;tensorflow.python.keras.layers.convolutional.Conv2D object at 0x7fabd0127510&gt;</td>\n",
              "      <td>block5_conv2</td>\n",
              "      <td>True</td>\n",
              "    </tr>\n",
              "    <tr>\n",
              "      <th>17</th>\n",
              "      <td>&lt;tensorflow.python.keras.layers.convolutional.Conv2D object at 0x7fabd019b0d0&gt;</td>\n",
              "      <td>block5_conv3</td>\n",
              "      <td>True</td>\n",
              "    </tr>\n",
              "    <tr>\n",
              "      <th>18</th>\n",
              "      <td>&lt;tensorflow.python.keras.layers.pooling.MaxPooling2D object at 0x7fabd012f350&gt;</td>\n",
              "      <td>block5_pool</td>\n",
              "      <td>True</td>\n",
              "    </tr>\n",
              "    <tr>\n",
              "      <th>19</th>\n",
              "      <td>&lt;tensorflow.python.keras.layers.core.Flatten object at 0x7fabd013c450&gt;</td>\n",
              "      <td>flatten</td>\n",
              "      <td>True</td>\n",
              "    </tr>\n",
              "  </tbody>\n",
              "</table>\n",
              "</div>"
            ],
            "text/plain": [
              "                                                                          Layer Type  ... Layer Trainable\n",
              "0   <tensorflow.python.keras.engine.input_layer.InputLayer object at 0x7fabe836aad0>  ...           False\n",
              "1     <tensorflow.python.keras.layers.convolutional.Conv2D object at 0x7fabda071690>  ...           False\n",
              "2     <tensorflow.python.keras.layers.convolutional.Conv2D object at 0x7fabd93836d0>  ...           False\n",
              "3     <tensorflow.python.keras.layers.pooling.MaxPooling2D object at 0x7fabd93c1590>  ...           False\n",
              "4     <tensorflow.python.keras.layers.convolutional.Conv2D object at 0x7fabdfe60050>  ...           False\n",
              "5     <tensorflow.python.keras.layers.convolutional.Conv2D object at 0x7fabdfed0f50>  ...           False\n",
              "6     <tensorflow.python.keras.layers.pooling.MaxPooling2D object at 0x7fabd82ca850>  ...           False\n",
              "7     <tensorflow.python.keras.layers.convolutional.Conv2D object at 0x7fabd82e6590>  ...           False\n",
              "8     <tensorflow.python.keras.layers.convolutional.Conv2D object at 0x7fabd0171650>  ...           False\n",
              "9     <tensorflow.python.keras.layers.convolutional.Conv2D object at 0x7fabd017c850>  ...           False\n",
              "10    <tensorflow.python.keras.layers.pooling.MaxPooling2D object at 0x7fabd01711d0>  ...           False\n",
              "11    <tensorflow.python.keras.layers.convolutional.Conv2D object at 0x7fabd01848d0>  ...            True\n",
              "12    <tensorflow.python.keras.layers.convolutional.Conv2D object at 0x7fabd018d090>  ...            True\n",
              "13    <tensorflow.python.keras.layers.convolutional.Conv2D object at 0x7fabd0194710>  ...            True\n",
              "14    <tensorflow.python.keras.layers.pooling.MaxPooling2D object at 0x7fabd0184990>  ...            True\n",
              "15    <tensorflow.python.keras.layers.convolutional.Conv2D object at 0x7fabd019ad90>  ...            True\n",
              "16    <tensorflow.python.keras.layers.convolutional.Conv2D object at 0x7fabd0127510>  ...            True\n",
              "17    <tensorflow.python.keras.layers.convolutional.Conv2D object at 0x7fabd019b0d0>  ...            True\n",
              "18    <tensorflow.python.keras.layers.pooling.MaxPooling2D object at 0x7fabd012f350>  ...            True\n",
              "19            <tensorflow.python.keras.layers.core.Flatten object at 0x7fabd013c450>  ...            True\n",
              "\n",
              "[20 rows x 3 columns]"
            ]
          },
          "metadata": {
            "tags": []
          },
          "execution_count": 13
        }
      ]
    },
    {
      "cell_type": "markdown",
      "metadata": {
        "id": "xO4I17PxUVOS"
      },
      "source": [
        "# Montemos la red de VGG16 + Clasificación\n"
      ]
    },
    {
      "cell_type": "code",
      "metadata": {
        "colab": {
          "base_uri": "https://localhost:8080/"
        },
        "id": "Ro2wPiG1UZX0",
        "outputId": "bc7e8ead-91ff-4215-efc3-6508fdfb2d26"
      },
      "source": [
        "input_shape = vgg_model.output_shape[1]\n",
        "\n",
        "print('Tamaño de entrada:', input_shape)"
      ],
      "execution_count": null,
      "outputs": [
        {
          "output_type": "stream",
          "text": [
            "Tamaño de entrada: 8192\n"
          ],
          "name": "stdout"
        }
      ]
    },
    {
      "cell_type": "code",
      "metadata": {
        "colab": {
          "base_uri": "https://localhost:8080/"
        },
        "id": "2qDwi_ELUwHg",
        "outputId": "41c0d2be-9c5a-4d6a-d072-3ae806097b3e"
      },
      "source": [
        "model_with_vgg = ks.Sequential()\n",
        "\n",
        "model_with_vgg.add(vgg_model)\n",
        "model_with_vgg.add(ks.layers.Dense(512, activation='relu', input_shape=(input_shape,)))\n",
        "model_with_vgg.add(ks.layers.Dropout(0.3))\n",
        "model_with_vgg.add(ks.layers.Dense(512, activation='relu'))\n",
        "model_with_vgg.add(ks.layers.Dropout(0.3))\n",
        "model_with_vgg.add(ks.layers.Dense(1, activation='sigmoid'))\n",
        "\n",
        "model_with_vgg.summary()"
      ],
      "execution_count": null,
      "outputs": [
        {
          "output_type": "stream",
          "text": [
            "Model: \"sequential\"\n",
            "_________________________________________________________________\n",
            "Layer (type)                 Output Shape              Param #   \n",
            "=================================================================\n",
            "model (Functional)           (None, 8192)              14714688  \n",
            "_________________________________________________________________\n",
            "dense (Dense)                (None, 512)               4194816   \n",
            "_________________________________________________________________\n",
            "dropout (Dropout)            (None, 512)               0         \n",
            "_________________________________________________________________\n",
            "dense_1 (Dense)              (None, 512)               262656    \n",
            "_________________________________________________________________\n",
            "dropout_1 (Dropout)          (None, 512)               0         \n",
            "_________________________________________________________________\n",
            "dense_2 (Dense)              (None, 1)                 513       \n",
            "=================================================================\n",
            "Total params: 19,172,673\n",
            "Trainable params: 17,437,185\n",
            "Non-trainable params: 1,735,488\n",
            "_________________________________________________________________\n"
          ],
          "name": "stdout"
        }
      ]
    },
    {
      "cell_type": "markdown",
      "metadata": {
        "id": "BgyjckmLWGV5"
      },
      "source": [
        "# Creamos un optimizador\n",
        "\n",
        "Como la red es muy compleja (más de 17 millones de parámetros), necesitamos un learning rate muy bajo, por eso creamos un Adam específico con un learning rate de 0.00002 (2e-5)"
      ]
    },
    {
      "cell_type": "code",
      "metadata": {
        "id": "2D-G7bQ2WKZL"
      },
      "source": [
        "from tensorflow.keras.optimizers import Adam, SGD"
      ],
      "execution_count": null,
      "outputs": []
    },
    {
      "cell_type": "code",
      "metadata": {
        "id": "_lv5_11kWaP0"
      },
      "source": [
        "new_adam = Adam(learning_rate=2e-5)\n",
        "new_sgd = SGD(learning_rate=2e-5, momentum=0.9)\n"
      ],
      "execution_count": null,
      "outputs": []
    },
    {
      "cell_type": "code",
      "metadata": {
        "id": "JGPweTyGWwiA"
      },
      "source": [
        "model_with_vgg.compile(loss='binary_crossentropy', optimizer=new_sgd, metrics=['accuracy'])"
      ],
      "execution_count": null,
      "outputs": []
    },
    {
      "cell_type": "markdown",
      "metadata": {
        "id": "3bFrHu2sXCQB"
      },
      "source": [
        "# Early stopping!!\n",
        "Montamos la monitorización del error de validación con paciencia de 5"
      ]
    },
    {
      "cell_type": "code",
      "metadata": {
        "id": "20hx0uQFXA08"
      },
      "source": [
        "earlystop = EarlyStopping(monitor='val_loss', patience=20)"
      ],
      "execution_count": null,
      "outputs": []
    },
    {
      "cell_type": "markdown",
      "metadata": {
        "id": "rH-807oFOLTU"
      },
      "source": []
    },
    {
      "cell_type": "markdown",
      "metadata": {
        "id": "XZKWdR2Na3Mm"
      },
      "source": [
        "# Model Checkpoint\n",
        "Montamos la monitorización para ir guardando el mejor modelo del entrenamiento con mejor accuracy de validacion"
      ]
    },
    {
      "cell_type": "code",
      "metadata": {
        "id": "pvV2t_SuOeGe"
      },
      "source": [
        "modelcheckpoint = ModelCheckpoint('/tmp/chkpoint', monitor='val_accuracy', save_best_only=True)"
      ],
      "execution_count": null,
      "outputs": []
    },
    {
      "cell_type": "markdown",
      "metadata": {
        "id": "6sCOQagoO6gD"
      },
      "source": [
        "# Preprocesamos las etiquetas con el LabelEncoder\n",
        "\n",
        "Hay que recordar que las etiquetas han de tener el formato [value1, value2, ... valueN] porque el ImageDataGenerator no sabe que hacer si las etiquetas son [[value1], [value2],... [valueN]]\n",
        "\n",
        "¡En ese caso hay que hacer un .ravel() al array!"
      ]
    },
    {
      "cell_type": "code",
      "metadata": {
        "id": "0xNzsi3Sa89O"
      },
      "source": [
        "from sklearn.preprocessing import LabelEncoder\n",
        "\n",
        "le = LabelEncoder()\n",
        "le.fit(y_train_img)\n",
        "y_train_encoded = le.transform(y_train_img)\n",
        "y_val_encoded = le.transform(y_val_img)\n",
        "y_test_encoded = le.transform(y_test_img)"
      ],
      "execution_count": null,
      "outputs": []
    },
    {
      "cell_type": "code",
      "metadata": {
        "colab": {
          "base_uri": "https://localhost:8080/"
        },
        "id": "Rx2qT33pbWfy",
        "outputId": "172508da-b2f2-4fd8-9a52-002e51953f4d"
      },
      "source": [
        "print(np.array(y_train_img))\n",
        "print(np.array(y_train_encoded))\n",
        "\n",
        "y_train_encoded"
      ],
      "execution_count": null,
      "outputs": [
        {
          "output_type": "stream",
          "text": [
            "['cat' 'cat' 'cat' ... 'dog' 'dog' 'dog']\n",
            "[0 0 0 ... 1 1 1]\n"
          ],
          "name": "stdout"
        },
        {
          "output_type": "execute_result",
          "data": {
            "text/plain": [
              "array([0, 0, 0, ..., 1, 1, 1])"
            ]
          },
          "metadata": {
            "tags": []
          },
          "execution_count": 22
        }
      ]
    },
    {
      "cell_type": "markdown",
      "metadata": {
        "id": "CpS9N9yPw4oX"
      },
      "source": [
        "## Data Augmentation\n",
        "\n",
        "Como la red es muy compleja hemos de ir con cuidado con el batch_size de los generadores de imagenes, que no superen los 32 elementos"
      ]
    },
    {
      "cell_type": "code",
      "metadata": {
        "id": "Q5P3JRqUw8B2"
      },
      "source": [
        "from tensorflow.keras.preprocessing.image import ImageDataGenerator\n",
        "\n",
        "train_datagen = ImageDataGenerator(\n",
        "    rescale=1./255,\n",
        "    rotation_range=15,\n",
        "    shear_range=0.2,\n",
        "    zoom_range=0.3,\n",
        "    horizontal_flip=True,\n",
        "    width_shift_range=0.2,\n",
        "    height_shift_range=0.2,\n",
        "    fill_mode='nearest'\n",
        "    )\n",
        "\n",
        "train_generator = train_datagen.flow(\n",
        "    x_train_img,\n",
        "    y_train_encoded,\n",
        "    batch_size=30\n",
        ")"
      ],
      "execution_count": null,
      "outputs": []
    },
    {
      "cell_type": "code",
      "metadata": {
        "id": "HICf1VGixjP0"
      },
      "source": [
        "validation_datagen = ImageDataGenerator(\n",
        "    rescale=1./255\n",
        "    )\n",
        "validation_generator = validation_datagen.flow(\n",
        "    x_val_img,\n",
        "    y_val_encoded,\n",
        "    batch_size=20\n",
        ")\n"
      ],
      "execution_count": null,
      "outputs": []
    },
    {
      "cell_type": "markdown",
      "metadata": {
        "id": "I5ewPTEFXOPb"
      },
      "source": [
        "# Entrenar\n",
        "\n",
        "Al montar el data augmentation los steps per epochs y los validation steps hay que definirlos:\n",
        "\n",
        "steps_per_epochs = total imagenes / batch_size del train generator = 5000 / 30 = 167<br>\n",
        "validation_steps = total imagenes validacion / batch_size del validation generator = 1000 / 20 = 50"
      ]
    },
    {
      "cell_type": "code",
      "metadata": {
        "colab": {
          "base_uri": "https://localhost:8080/"
        },
        "id": "9nLdIY2UXY4s",
        "outputId": "98c805a4-885d-427e-e3b8-890ce466e4ad"
      },
      "source": [
        "history = model_with_vgg.fit(train_generator, epochs=200, steps_per_epoch=167,\n",
        "                             callbacks=[modelcheckpoint, earlystop],\n",
        "                             validation_data=validation_generator, validation_steps=50)"
      ],
      "execution_count": null,
      "outputs": [
        {
          "output_type": "stream",
          "text": [
            "Epoch 1/200\n",
            "167/167 [==============================] - 71s 213ms/step - loss: 0.7280 - accuracy: 0.5028 - val_loss: 0.6754 - val_accuracy: 0.5730\n",
            "INFO:tensorflow:Assets written to: /tmp/chkpoint/assets\n",
            "Epoch 2/200\n",
            "167/167 [==============================] - 34s 202ms/step - loss: 0.7028 - accuracy: 0.5292 - val_loss: 0.6337 - val_accuracy: 0.7190\n",
            "INFO:tensorflow:Assets written to: /tmp/chkpoint/assets\n",
            "Epoch 3/200\n",
            "167/167 [==============================] - 34s 203ms/step - loss: 0.6742 - accuracy: 0.5728 - val_loss: 0.5922 - val_accuracy: 0.7910\n",
            "INFO:tensorflow:Assets written to: /tmp/chkpoint/assets\n",
            "Epoch 4/200\n",
            "167/167 [==============================] - 34s 201ms/step - loss: 0.6368 - accuracy: 0.6382 - val_loss: 0.5429 - val_accuracy: 0.8200\n",
            "INFO:tensorflow:Assets written to: /tmp/chkpoint/assets\n",
            "Epoch 5/200\n",
            "167/167 [==============================] - 35s 207ms/step - loss: 0.6098 - accuracy: 0.6710 - val_loss: 0.4914 - val_accuracy: 0.8260\n",
            "INFO:tensorflow:Assets written to: /tmp/chkpoint/assets\n",
            "Epoch 6/200\n",
            "167/167 [==============================] - 34s 202ms/step - loss: 0.5560 - accuracy: 0.7250 - val_loss: 0.4478 - val_accuracy: 0.8250\n",
            "Epoch 7/200\n",
            "167/167 [==============================] - 35s 206ms/step - loss: 0.5112 - accuracy: 0.7612 - val_loss: 0.3960 - val_accuracy: 0.8450\n",
            "INFO:tensorflow:Assets written to: /tmp/chkpoint/assets\n",
            "Epoch 8/200\n",
            "167/167 [==============================] - 34s 203ms/step - loss: 0.4720 - accuracy: 0.7884 - val_loss: 0.3682 - val_accuracy: 0.8520\n",
            "INFO:tensorflow:Assets written to: /tmp/chkpoint/assets\n",
            "Epoch 9/200\n",
            "167/167 [==============================] - 35s 206ms/step - loss: 0.4416 - accuracy: 0.8000 - val_loss: 0.3312 - val_accuracy: 0.8740\n",
            "INFO:tensorflow:Assets written to: /tmp/chkpoint/assets\n",
            "Epoch 10/200\n",
            "167/167 [==============================] - 34s 202ms/step - loss: 0.4137 - accuracy: 0.8100 - val_loss: 0.2945 - val_accuracy: 0.8910\n",
            "INFO:tensorflow:Assets written to: /tmp/chkpoint/assets\n",
            "Epoch 11/200\n",
            "167/167 [==============================] - 34s 204ms/step - loss: 0.3824 - accuracy: 0.8348 - val_loss: 0.2794 - val_accuracy: 0.8900\n",
            "Epoch 12/200\n",
            "167/167 [==============================] - 34s 202ms/step - loss: 0.3641 - accuracy: 0.8434 - val_loss: 0.2544 - val_accuracy: 0.9020\n",
            "INFO:tensorflow:Assets written to: /tmp/chkpoint/assets\n",
            "Epoch 13/200\n",
            "167/167 [==============================] - 35s 207ms/step - loss: 0.3400 - accuracy: 0.8580 - val_loss: 0.2351 - val_accuracy: 0.9090\n",
            "INFO:tensorflow:Assets written to: /tmp/chkpoint/assets\n",
            "Epoch 14/200\n",
            "167/167 [==============================] - 34s 202ms/step - loss: 0.3286 - accuracy: 0.8590 - val_loss: 0.2393 - val_accuracy: 0.9000\n",
            "Epoch 15/200\n",
            "167/167 [==============================] - 35s 207ms/step - loss: 0.3117 - accuracy: 0.8712 - val_loss: 0.2196 - val_accuracy: 0.9170\n",
            "INFO:tensorflow:Assets written to: /tmp/chkpoint/assets\n",
            "Epoch 16/200\n",
            "167/167 [==============================] - 34s 202ms/step - loss: 0.3056 - accuracy: 0.8768 - val_loss: 0.2138 - val_accuracy: 0.9170\n",
            "Epoch 17/200\n",
            "167/167 [==============================] - 35s 208ms/step - loss: 0.2964 - accuracy: 0.8800 - val_loss: 0.2374 - val_accuracy: 0.9100\n",
            "Epoch 18/200\n",
            "167/167 [==============================] - 34s 205ms/step - loss: 0.2920 - accuracy: 0.8750 - val_loss: 0.2022 - val_accuracy: 0.9180\n",
            "INFO:tensorflow:Assets written to: /tmp/chkpoint/assets\n",
            "Epoch 19/200\n",
            "167/167 [==============================] - 34s 203ms/step - loss: 0.2802 - accuracy: 0.8844 - val_loss: 0.2226 - val_accuracy: 0.9200\n",
            "INFO:tensorflow:Assets written to: /tmp/chkpoint/assets\n",
            "Epoch 20/200\n",
            "167/167 [==============================] - 34s 204ms/step - loss: 0.2770 - accuracy: 0.8872 - val_loss: 0.1869 - val_accuracy: 0.9270\n",
            "INFO:tensorflow:Assets written to: /tmp/chkpoint/assets\n",
            "Epoch 21/200\n",
            "167/167 [==============================] - 34s 204ms/step - loss: 0.2609 - accuracy: 0.8950 - val_loss: 0.1870 - val_accuracy: 0.9270\n",
            "Epoch 22/200\n",
            "167/167 [==============================] - 34s 203ms/step - loss: 0.2524 - accuracy: 0.8972 - val_loss: 0.1791 - val_accuracy: 0.9290\n",
            "INFO:tensorflow:Assets written to: /tmp/chkpoint/assets\n",
            "Epoch 23/200\n",
            "167/167 [==============================] - 35s 206ms/step - loss: 0.2491 - accuracy: 0.8964 - val_loss: 0.1876 - val_accuracy: 0.9280\n",
            "Epoch 24/200\n",
            "167/167 [==============================] - 34s 202ms/step - loss: 0.2381 - accuracy: 0.9050 - val_loss: 0.1964 - val_accuracy: 0.9270\n",
            "Epoch 25/200\n",
            "167/167 [==============================] - 35s 208ms/step - loss: 0.2390 - accuracy: 0.8976 - val_loss: 0.2165 - val_accuracy: 0.9280\n",
            "Epoch 26/200\n",
            "167/167 [==============================] - 35s 206ms/step - loss: 0.2295 - accuracy: 0.9078 - val_loss: 0.1713 - val_accuracy: 0.9320\n",
            "INFO:tensorflow:Assets written to: /tmp/chkpoint/assets\n",
            "Epoch 27/200\n",
            "167/167 [==============================] - 34s 201ms/step - loss: 0.2291 - accuracy: 0.9064 - val_loss: 0.1643 - val_accuracy: 0.9340\n",
            "INFO:tensorflow:Assets written to: /tmp/chkpoint/assets\n",
            "Epoch 28/200\n",
            "167/167 [==============================] - 35s 207ms/step - loss: 0.2158 - accuracy: 0.9122 - val_loss: 0.1982 - val_accuracy: 0.9280\n",
            "Epoch 29/200\n",
            "167/167 [==============================] - 34s 202ms/step - loss: 0.2073 - accuracy: 0.9200 - val_loss: 0.1695 - val_accuracy: 0.9370\n",
            "INFO:tensorflow:Assets written to: /tmp/chkpoint/assets\n",
            "Epoch 30/200\n",
            "167/167 [==============================] - 34s 204ms/step - loss: 0.2141 - accuracy: 0.9126 - val_loss: 0.1774 - val_accuracy: 0.9350\n",
            "Epoch 31/200\n",
            "167/167 [==============================] - 34s 203ms/step - loss: 0.2024 - accuracy: 0.9228 - val_loss: 0.1554 - val_accuracy: 0.9430\n",
            "INFO:tensorflow:Assets written to: /tmp/chkpoint/assets\n",
            "Epoch 32/200\n",
            "167/167 [==============================] - 34s 204ms/step - loss: 0.2097 - accuracy: 0.9202 - val_loss: 0.1587 - val_accuracy: 0.9420\n",
            "Epoch 33/200\n",
            "167/167 [==============================] - 34s 204ms/step - loss: 0.2037 - accuracy: 0.9148 - val_loss: 0.1650 - val_accuracy: 0.9400\n",
            "Epoch 34/200\n",
            "167/167 [==============================] - 34s 202ms/step - loss: 0.1916 - accuracy: 0.9262 - val_loss: 0.1920 - val_accuracy: 0.9320\n",
            "Epoch 35/200\n",
            "167/167 [==============================] - 34s 205ms/step - loss: 0.1902 - accuracy: 0.9236 - val_loss: 0.1531 - val_accuracy: 0.9420\n",
            "Epoch 36/200\n",
            "167/167 [==============================] - 35s 207ms/step - loss: 0.1923 - accuracy: 0.9206 - val_loss: 0.1535 - val_accuracy: 0.9440\n",
            "INFO:tensorflow:Assets written to: /tmp/chkpoint/assets\n",
            "Epoch 37/200\n",
            "167/167 [==============================] - 34s 202ms/step - loss: 0.1802 - accuracy: 0.9298 - val_loss: 0.1531 - val_accuracy: 0.9460\n",
            "INFO:tensorflow:Assets written to: /tmp/chkpoint/assets\n",
            "Epoch 38/200\n",
            "167/167 [==============================] - 35s 207ms/step - loss: 0.1834 - accuracy: 0.9266 - val_loss: 0.1556 - val_accuracy: 0.9430\n",
            "Epoch 39/200\n",
            "167/167 [==============================] - 34s 201ms/step - loss: 0.1868 - accuracy: 0.9238 - val_loss: 0.1475 - val_accuracy: 0.9440\n",
            "Epoch 40/200\n",
            "167/167 [==============================] - 35s 208ms/step - loss: 0.1817 - accuracy: 0.9228 - val_loss: 0.1537 - val_accuracy: 0.9440\n",
            "Epoch 41/200\n",
            "167/167 [==============================] - 34s 201ms/step - loss: 0.1838 - accuracy: 0.9272 - val_loss: 0.1475 - val_accuracy: 0.9430\n",
            "Epoch 42/200\n",
            "167/167 [==============================] - 35s 207ms/step - loss: 0.1784 - accuracy: 0.9286 - val_loss: 0.1446 - val_accuracy: 0.9420\n",
            "Epoch 43/200\n",
            "167/167 [==============================] - 34s 201ms/step - loss: 0.1734 - accuracy: 0.9302 - val_loss: 0.2032 - val_accuracy: 0.9280\n",
            "Epoch 44/200\n",
            "167/167 [==============================] - 34s 206ms/step - loss: 0.1645 - accuracy: 0.9302 - val_loss: 0.1455 - val_accuracy: 0.9450\n",
            "Epoch 45/200\n",
            "167/167 [==============================] - 35s 206ms/step - loss: 0.1712 - accuracy: 0.9298 - val_loss: 0.1566 - val_accuracy: 0.9420\n",
            "Epoch 46/200\n",
            "167/167 [==============================] - 34s 201ms/step - loss: 0.1613 - accuracy: 0.9370 - val_loss: 0.1377 - val_accuracy: 0.9490\n",
            "INFO:tensorflow:Assets written to: /tmp/chkpoint/assets\n",
            "Epoch 47/200\n",
            "167/167 [==============================] - 34s 205ms/step - loss: 0.1611 - accuracy: 0.9382 - val_loss: 0.1439 - val_accuracy: 0.9440\n",
            "Epoch 48/200\n",
            "167/167 [==============================] - 34s 202ms/step - loss: 0.1621 - accuracy: 0.9350 - val_loss: 0.1865 - val_accuracy: 0.9360\n",
            "Epoch 49/200\n",
            "167/167 [==============================] - 35s 207ms/step - loss: 0.1533 - accuracy: 0.9402 - val_loss: 0.1924 - val_accuracy: 0.9360\n",
            "Epoch 50/200\n",
            "167/167 [==============================] - 34s 203ms/step - loss: 0.1573 - accuracy: 0.9380 - val_loss: 0.1524 - val_accuracy: 0.9440\n",
            "Epoch 51/200\n",
            "167/167 [==============================] - 34s 203ms/step - loss: 0.1598 - accuracy: 0.9386 - val_loss: 0.1378 - val_accuracy: 0.9480\n",
            "Epoch 52/200\n",
            "167/167 [==============================] - 34s 203ms/step - loss: 0.1460 - accuracy: 0.9396 - val_loss: 0.1492 - val_accuracy: 0.9470\n",
            "Epoch 53/200\n",
            "167/167 [==============================] - 34s 204ms/step - loss: 0.1463 - accuracy: 0.9420 - val_loss: 0.1545 - val_accuracy: 0.9460\n",
            "Epoch 54/200\n",
            "167/167 [==============================] - 34s 204ms/step - loss: 0.1363 - accuracy: 0.9452 - val_loss: 0.1544 - val_accuracy: 0.9430\n",
            "Epoch 55/200\n",
            "167/167 [==============================] - 35s 206ms/step - loss: 0.1607 - accuracy: 0.9346 - val_loss: 0.1919 - val_accuracy: 0.9330\n",
            "Epoch 56/200\n",
            "167/167 [==============================] - 34s 204ms/step - loss: 0.1406 - accuracy: 0.9446 - val_loss: 0.1486 - val_accuracy: 0.9470\n",
            "Epoch 57/200\n",
            "167/167 [==============================] - 35s 207ms/step - loss: 0.1444 - accuracy: 0.9400 - val_loss: 0.1372 - val_accuracy: 0.9460\n",
            "Epoch 58/200\n",
            "167/167 [==============================] - 34s 204ms/step - loss: 0.1382 - accuracy: 0.9472 - val_loss: 0.1358 - val_accuracy: 0.9470\n",
            "Epoch 59/200\n",
            "167/167 [==============================] - 34s 205ms/step - loss: 0.1376 - accuracy: 0.9462 - val_loss: 0.1361 - val_accuracy: 0.9460\n",
            "Epoch 60/200\n",
            "167/167 [==============================] - 34s 204ms/step - loss: 0.1312 - accuracy: 0.9494 - val_loss: 0.1568 - val_accuracy: 0.9490\n",
            "Epoch 61/200\n",
            "167/167 [==============================] - 35s 207ms/step - loss: 0.1301 - accuracy: 0.9498 - val_loss: 0.1353 - val_accuracy: 0.9440\n",
            "Epoch 62/200\n",
            "167/167 [==============================] - 34s 203ms/step - loss: 0.1333 - accuracy: 0.9490 - val_loss: 0.1343 - val_accuracy: 0.9470\n",
            "Epoch 63/200\n",
            "167/167 [==============================] - 35s 208ms/step - loss: 0.1312 - accuracy: 0.9492 - val_loss: 0.1390 - val_accuracy: 0.9510\n",
            "INFO:tensorflow:Assets written to: /tmp/chkpoint/assets\n",
            "Epoch 64/200\n",
            "167/167 [==============================] - 35s 210ms/step - loss: 0.1300 - accuracy: 0.9518 - val_loss: 0.1475 - val_accuracy: 0.9510\n",
            "Epoch 65/200\n",
            "167/167 [==============================] - 34s 203ms/step - loss: 0.1322 - accuracy: 0.9474 - val_loss: 0.1463 - val_accuracy: 0.9480\n",
            "Epoch 66/200\n",
            "167/167 [==============================] - 35s 210ms/step - loss: 0.1320 - accuracy: 0.9514 - val_loss: 0.1374 - val_accuracy: 0.9500\n",
            "Epoch 67/200\n",
            "167/167 [==============================] - 34s 205ms/step - loss: 0.1221 - accuracy: 0.9524 - val_loss: 0.1499 - val_accuracy: 0.9520\n",
            "INFO:tensorflow:Assets written to: /tmp/chkpoint/assets\n",
            "Epoch 68/200\n",
            "167/167 [==============================] - 35s 209ms/step - loss: 0.1301 - accuracy: 0.9506 - val_loss: 0.1375 - val_accuracy: 0.9480\n",
            "Epoch 69/200\n",
            "167/167 [==============================] - 34s 204ms/step - loss: 0.1215 - accuracy: 0.9524 - val_loss: 0.1750 - val_accuracy: 0.9420\n",
            "Epoch 70/200\n",
            "167/167 [==============================] - 35s 208ms/step - loss: 0.1235 - accuracy: 0.9516 - val_loss: 0.2261 - val_accuracy: 0.9220\n",
            "Epoch 71/200\n",
            "167/167 [==============================] - 34s 206ms/step - loss: 0.1224 - accuracy: 0.9534 - val_loss: 0.1665 - val_accuracy: 0.9490\n",
            "Epoch 72/200\n",
            "167/167 [==============================] - 34s 205ms/step - loss: 0.1234 - accuracy: 0.9496 - val_loss: 0.1406 - val_accuracy: 0.9510\n",
            "Epoch 73/200\n",
            "167/167 [==============================] - 35s 207ms/step - loss: 0.1140 - accuracy: 0.9548 - val_loss: 0.1468 - val_accuracy: 0.9510\n",
            "Epoch 74/200\n",
            "167/167 [==============================] - 35s 208ms/step - loss: 0.1209 - accuracy: 0.9546 - val_loss: 0.1346 - val_accuracy: 0.9530\n",
            "INFO:tensorflow:Assets written to: /tmp/chkpoint/assets\n",
            "Epoch 75/200\n",
            "167/167 [==============================] - 34s 204ms/step - loss: 0.1143 - accuracy: 0.9548 - val_loss: 0.1337 - val_accuracy: 0.9500\n",
            "Epoch 76/200\n",
            "167/167 [==============================] - 35s 208ms/step - loss: 0.1122 - accuracy: 0.9562 - val_loss: 0.1454 - val_accuracy: 0.9520\n",
            "Epoch 77/200\n",
            "167/167 [==============================] - 34s 204ms/step - loss: 0.1213 - accuracy: 0.9540 - val_loss: 0.1400 - val_accuracy: 0.9520\n",
            "Epoch 78/200\n",
            "167/167 [==============================] - 35s 208ms/step - loss: 0.1190 - accuracy: 0.9538 - val_loss: 0.1481 - val_accuracy: 0.9490\n",
            "Epoch 79/200\n",
            "167/167 [==============================] - 34s 203ms/step - loss: 0.1100 - accuracy: 0.9616 - val_loss: 0.1335 - val_accuracy: 0.9500\n",
            "Epoch 80/200\n",
            "167/167 [==============================] - 35s 207ms/step - loss: 0.1108 - accuracy: 0.9560 - val_loss: 0.1306 - val_accuracy: 0.9530\n",
            "Epoch 81/200\n",
            "167/167 [==============================] - 34s 204ms/step - loss: 0.1202 - accuracy: 0.9538 - val_loss: 0.1309 - val_accuracy: 0.9530\n",
            "Epoch 82/200\n",
            "167/167 [==============================] - 35s 208ms/step - loss: 0.1126 - accuracy: 0.9576 - val_loss: 0.1702 - val_accuracy: 0.9460\n",
            "Epoch 83/200\n",
            "167/167 [==============================] - 35s 208ms/step - loss: 0.1096 - accuracy: 0.9582 - val_loss: 0.1306 - val_accuracy: 0.9520\n",
            "Epoch 84/200\n",
            "167/167 [==============================] - 34s 205ms/step - loss: 0.1064 - accuracy: 0.9594 - val_loss: 0.1596 - val_accuracy: 0.9520\n",
            "Epoch 85/200\n",
            "167/167 [==============================] - 35s 207ms/step - loss: 0.1025 - accuracy: 0.9592 - val_loss: 0.1359 - val_accuracy: 0.9500\n",
            "Epoch 86/200\n",
            "167/167 [==============================] - 34s 205ms/step - loss: 0.1078 - accuracy: 0.9580 - val_loss: 0.1759 - val_accuracy: 0.9410\n",
            "Epoch 87/200\n",
            "167/167 [==============================] - 34s 206ms/step - loss: 0.1004 - accuracy: 0.9606 - val_loss: 0.1797 - val_accuracy: 0.9470\n",
            "Epoch 88/200\n",
            "167/167 [==============================] - 34s 206ms/step - loss: 0.1006 - accuracy: 0.9616 - val_loss: 0.1308 - val_accuracy: 0.9510\n",
            "Epoch 89/200\n",
            "167/167 [==============================] - 34s 205ms/step - loss: 0.1025 - accuracy: 0.9610 - val_loss: 0.1297 - val_accuracy: 0.9560\n",
            "INFO:tensorflow:Assets written to: /tmp/chkpoint/assets\n",
            "Epoch 90/200\n",
            "167/167 [==============================] - 35s 208ms/step - loss: 0.0959 - accuracy: 0.9652 - val_loss: 0.1465 - val_accuracy: 0.9540\n",
            "Epoch 91/200\n",
            "167/167 [==============================] - 34s 206ms/step - loss: 0.1091 - accuracy: 0.9582 - val_loss: 0.1552 - val_accuracy: 0.9500\n",
            "Epoch 92/200\n",
            "167/167 [==============================] - 35s 209ms/step - loss: 0.0961 - accuracy: 0.9632 - val_loss: 0.1881 - val_accuracy: 0.9430\n",
            "Epoch 93/200\n",
            "167/167 [==============================] - 35s 208ms/step - loss: 0.1004 - accuracy: 0.9626 - val_loss: 0.1872 - val_accuracy: 0.9480\n",
            "Epoch 94/200\n",
            "167/167 [==============================] - 34s 203ms/step - loss: 0.0944 - accuracy: 0.9654 - val_loss: 0.1318 - val_accuracy: 0.9540\n",
            "Epoch 95/200\n",
            "167/167 [==============================] - 35s 208ms/step - loss: 0.0941 - accuracy: 0.9620 - val_loss: 0.1806 - val_accuracy: 0.9460\n",
            "Epoch 96/200\n",
            "167/167 [==============================] - 34s 204ms/step - loss: 0.0950 - accuracy: 0.9642 - val_loss: 0.2138 - val_accuracy: 0.9340\n",
            "Epoch 97/200\n",
            "167/167 [==============================] - 35s 209ms/step - loss: 0.0902 - accuracy: 0.9664 - val_loss: 0.1335 - val_accuracy: 0.9550\n",
            "Epoch 98/200\n",
            "167/167 [==============================] - 34s 204ms/step - loss: 0.0893 - accuracy: 0.9666 - val_loss: 0.1682 - val_accuracy: 0.9500\n",
            "Epoch 99/200\n",
            "167/167 [==============================] - 35s 208ms/step - loss: 0.0930 - accuracy: 0.9664 - val_loss: 0.1519 - val_accuracy: 0.9540\n",
            "Epoch 100/200\n",
            "167/167 [==============================] - 34s 203ms/step - loss: 0.0896 - accuracy: 0.9630 - val_loss: 0.1668 - val_accuracy: 0.9490\n",
            "Epoch 101/200\n",
            "167/167 [==============================] - 35s 208ms/step - loss: 0.0919 - accuracy: 0.9650 - val_loss: 0.1478 - val_accuracy: 0.9520\n",
            "Epoch 102/200\n",
            "167/167 [==============================] - 35s 207ms/step - loss: 0.0998 - accuracy: 0.9616 - val_loss: 0.1586 - val_accuracy: 0.9510\n",
            "Epoch 103/200\n",
            "167/167 [==============================] - 34s 204ms/step - loss: 0.0893 - accuracy: 0.9680 - val_loss: 0.1540 - val_accuracy: 0.9530\n",
            "Epoch 104/200\n",
            "167/167 [==============================] - 35s 207ms/step - loss: 0.0862 - accuracy: 0.9694 - val_loss: 0.1335 - val_accuracy: 0.9570\n",
            "INFO:tensorflow:Assets written to: /tmp/chkpoint/assets\n",
            "Epoch 105/200\n",
            "167/167 [==============================] - 34s 205ms/step - loss: 0.0799 - accuracy: 0.9696 - val_loss: 0.1370 - val_accuracy: 0.9590\n",
            "INFO:tensorflow:Assets written to: /tmp/chkpoint/assets\n",
            "Epoch 106/200\n",
            "167/167 [==============================] - 34s 204ms/step - loss: 0.0898 - accuracy: 0.9638 - val_loss: 0.1380 - val_accuracy: 0.9560\n",
            "Epoch 107/200\n",
            "167/167 [==============================] - 35s 206ms/step - loss: 0.0834 - accuracy: 0.9696 - val_loss: 0.1977 - val_accuracy: 0.9410\n",
            "Epoch 108/200\n",
            "167/167 [==============================] - 34s 201ms/step - loss: 0.0847 - accuracy: 0.9682 - val_loss: 0.1440 - val_accuracy: 0.9530\n",
            "Epoch 109/200\n",
            "167/167 [==============================] - 34s 206ms/step - loss: 0.0815 - accuracy: 0.9672 - val_loss: 0.1551 - val_accuracy: 0.9520\n"
          ],
          "name": "stdout"
        }
      ]
    },
    {
      "cell_type": "markdown",
      "metadata": {
        "id": "ZQsE9c4TqbhH"
      },
      "source": [
        "# Recuperamos el mejor modelo del checkpoint y lo guardamos\n"
      ]
    },
    {
      "cell_type": "code",
      "metadata": {
        "id": "B8XZzVKzPltr",
        "outputId": "39b84336-662e-4fb8-ac1b-b1efad332fe4",
        "colab": {
          "base_uri": "https://localhost:8080/"
        }
      },
      "source": [
        "model_with_vgg.load_weights('/tmp/chkpoint')"
      ],
      "execution_count": null,
      "outputs": [
        {
          "output_type": "execute_result",
          "data": {
            "text/plain": [
              "<tensorflow.python.training.tracking.util.CheckpointLoadStatus at 0x7fa8f5ed6610>"
            ]
          },
          "metadata": {
            "tags": []
          },
          "execution_count": 26
        }
      ]
    },
    {
      "cell_type": "code",
      "metadata": {
        "id": "eGUzLSmrqbhI"
      },
      "source": [
        "model_with_vgg.save(ruta_archivos+\"model_with_finetunning_transfer_learning_vgg16_plus_data_augmentation.h5\")"
      ],
      "execution_count": null,
      "outputs": []
    },
    {
      "cell_type": "markdown",
      "metadata": {
        "id": "igs38dfdqbhI"
      },
      "source": [
        "# Carguemos el modelo con  Transfer Learning sin data augmentation\n",
        "\n",
        "Aquí recogeremos el modelo y los datos de XY pasados por VGG16 post procesados guardados en NPZ"
      ]
    },
    {
      "cell_type": "code",
      "metadata": {
        "id": "CzQuxzN1qbhJ"
      },
      "source": [
        "model_vgg16_fine_tuning = load_model(ruta_archivos+\"model_with_finetunning_transfer_learning_vgg16.h5\")\n"
      ],
      "execution_count": null,
      "outputs": []
    },
    {
      "cell_type": "markdown",
      "metadata": {
        "id": "EAxPYpB3qbhK"
      },
      "source": [
        "# Miremos que tal rinde el modelo en errores y accuracy"
      ]
    },
    {
      "cell_type": "code",
      "metadata": {
        "colab": {
          "base_uri": "https://localhost:8080/",
          "height": 545
        },
        "id": "eQJPpXTRqbhK",
        "outputId": "d157d617-d0bb-416d-d241-b51bf0c10cb8"
      },
      "source": [
        "plt.title('Cross Entropy Loss')\n",
        "plt.plot(history.history['loss'], color='blue', label='train')\n",
        "plt.plot(history.history['val_loss'], color='orange', label='test')\n",
        "plt.show()\n",
        "\n",
        "plt.title('Classification Accuracy')\n",
        "plt.plot(history.history['accuracy'], color='blue', label='train')\n",
        "plt.plot(history.history['val_accuracy'], color='orange', label='test')\n",
        "plt.show()"
      ],
      "execution_count": null,
      "outputs": [
        {
          "output_type": "display_data",
          "data": {
            "image/png": "[encoded data removed]",
            "text/plain": [
              "<Figure size 432x288 with 1 Axes>"
            ]
          },
          "metadata": {
            "tags": [],
            "needs_background": "light"
          }
        },
        {
          "output_type": "display_data",
          "data": {
            "image/png": "[encoded data removed]",
            "text/plain": [
              "<Figure size 432x288 with 1 Axes>"
            ]
          },
          "metadata": {
            "tags": [],
            "needs_background": "light"
          }
        }
      ]
    },
    {
      "cell_type": "code",
      "metadata": {
        "colab": {
          "base_uri": "https://localhost:8080/"
        },
        "id": "GnqgDgElqbhL",
        "outputId": "b084cdfe-6398-4e7c-d29f-08a5babdb007"
      },
      "source": [
        "_, acc = model_with_vgg.evaluate(x_test_scaled, y_test_encoded, verbose=0)\n",
        "print('Modelo con Fine Tunning Transfer Learning con Data Augmentation> %.3f' % (acc * 100.0))\n",
        "\n",
        "_, acc = model_vgg16_fine_tuning.evaluate(x_test_scaled, y_test_encoded, verbose=0)\n",
        "print('Modelo con Fine Tuning Transfer Learning sin Data Augmentaion> %.3f' % (acc * 100.0))"
      ],
      "execution_count": null,
      "outputs": [
        {
          "output_type": "stream",
          "text": [
            "Modelo con Fine Tunning Transfer Learning con Data Augmentation> 95.800\n",
            "Modelo con Fine Tuning Transfer Learning sin Data Augmentaion> 95.600\n"
          ],
          "name": "stdout"
        }
      ]
    }
  ]
}