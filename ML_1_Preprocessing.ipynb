{
  "nbformat": 4,
  "nbformat_minor": 0,
  "metadata": {
    "colab": {
      "provenance": [],
      "include_colab_link": true
    },
    "kernelspec": {
      "name": "python3",
      "display_name": "Python 3"
    },
    "language_info": {
      "name": "python"
    }
  },
  "cells": [
    {
      "cell_type": "markdown",
      "metadata": {
        "id": "view-in-github",
        "colab_type": "text"
      },
      "source": [
        "<a href=\"https://colab.research.google.com/github/morenourey/CHAT/blob/main/ML_1_Preprocessing.ipynb\" target=\"_parent\"><img src=\"https://colab.research.google.com/assets/colab-badge.svg\" alt=\"Open In Colab\"/></a>"
      ]
    },
    {
      "cell_type": "markdown",
      "source": [
        "# SUP ML 1 - PREPROCESSING"
      ],
      "metadata": {
        "id": "87Bve6QZggnT"
      }
    },
    {
      "cell_type": "markdown",
      "source": [
        "# Librerias"
      ],
      "metadata": {
        "id": "jTEOHHidYOV-"
      }
    },
    {
      "cell_type": "code",
      "source": [
        "import pandas as pd\n",
        "import numpy as np\n",
        "import matplotlib.pyplot as plt\n",
        "import seaborn as sns\n",
        "\n",
        "pd.set_option('display.max_columns',None)\n",
        "\n",
        "import warnings\n",
        "warnings.filterwarnings(\"ignore\")"
      ],
      "metadata": {
        "id": "5Rkor61lYTQX"
      },
      "execution_count": 1,
      "outputs": []
    },
    {
      "cell_type": "code",
      "source": [
        "# fechas\n",
        "from datetime import datetime\n",
        "\n",
        "# gráficos\n",
        "import seaborn as sns\n",
        "import matplotlib.pyplot as plt\n",
        "\n",
        "# preprocessing\n",
        "from sklearn.model_selection import train_test_split\n",
        "from sklearn.preprocessing import StandardScaler, Normalizer, MinMaxScaler\n",
        "from sklearn.preprocessing import PolynomialFeatures\n",
        "\n",
        "# algoritmos de clasificación\n",
        "from sklearn.svm import SVC\n",
        "from sklearn.linear_model import LogisticRegression, RidgeClassifier\n",
        "from sklearn.tree import DecisionTreeClassifier\n",
        "from sklearn.ensemble import RandomForestClassifier, GradientBoostingClassifier\n",
        "from xgboost import XGBClassifier\n",
        "from catboost import CatBoostClassifier\n",
        "\n",
        "# algoritmos de regresión\n",
        "from sklearn.linear_model import LinearRegression, Ridge, Lasso, ElasticNet, SGDRegressor\n",
        "from sklearn.tree import DecisionTreeRegressor\n",
        "from sklearn.ensemble import RandomForestRegressor, GradientBoostingRegressor\n",
        "from xgboost import XGBRegressor\n",
        "from catboost import CatBoostRegressor\n",
        "\n",
        "# métricas\n",
        "import sklearn.metrics as metrics\n",
        "\n",
        "# hiperparametrización\n",
        "from sklearn.model_selection import GridSearchCV\n",
        "\n",
        "# TensorFlow y tf.keras\n",
        "import tensorflow as tf\n",
        "from tensorflow import keras\n",
        "\n",
        "import xgboost as xgb\n",
        "\n",
        "from numpy import random\n",
        "random.seed(42)"
      ],
      "metadata": {
        "id": "p8RdphdJiSdS"
      },
      "execution_count": 24,
      "outputs": []
    },
    {
      "cell_type": "code",
      "source": [
        "pip install catboost"
      ],
      "metadata": {
        "colab": {
          "base_uri": "https://localhost:8080/"
        },
        "id": "KPpuqRrjUL5B",
        "outputId": "63297fd4-5783-44b1-b53a-8388633e20ca"
      },
      "execution_count": 2,
      "outputs": [
        {
          "output_type": "stream",
          "name": "stdout",
          "text": [
            "Collecting catboost\n",
            "  Downloading catboost-1.2.5-cp310-cp310-manylinux2014_x86_64.whl (98.2 MB)\n",
            "\u001b[2K     \u001b[90m━━━━━━━━━━━━━━━━━━━━━━━━━━━━━━━━━━━━━━━━\u001b[0m \u001b[32m98.2/98.2 MB\u001b[0m \u001b[31m8.9 MB/s\u001b[0m eta \u001b[36m0:00:00\u001b[0m\n",
            "\u001b[?25hRequirement already satisfied: graphviz in /usr/local/lib/python3.10/dist-packages (from catboost) (0.20.3)\n",
            "Requirement already satisfied: matplotlib in /usr/local/lib/python3.10/dist-packages (from catboost) (3.7.1)\n",
            "Requirement already satisfied: numpy>=1.16.0 in /usr/local/lib/python3.10/dist-packages (from catboost) (1.25.2)\n",
            "Requirement already satisfied: pandas>=0.24 in /usr/local/lib/python3.10/dist-packages (from catboost) (2.0.3)\n",
            "Requirement already satisfied: scipy in /usr/local/lib/python3.10/dist-packages (from catboost) (1.11.4)\n",
            "Requirement already satisfied: plotly in /usr/local/lib/python3.10/dist-packages (from catboost) (5.15.0)\n",
            "Requirement already satisfied: six in /usr/local/lib/python3.10/dist-packages (from catboost) (1.16.0)\n",
            "Requirement already satisfied: python-dateutil>=2.8.2 in /usr/local/lib/python3.10/dist-packages (from pandas>=0.24->catboost) (2.8.2)\n",
            "Requirement already satisfied: pytz>=2020.1 in /usr/local/lib/python3.10/dist-packages (from pandas>=0.24->catboost) (2023.4)\n",
            "Requirement already satisfied: tzdata>=2022.1 in /usr/local/lib/python3.10/dist-packages (from pandas>=0.24->catboost) (2024.1)\n",
            "Requirement already satisfied: contourpy>=1.0.1 in /usr/local/lib/python3.10/dist-packages (from matplotlib->catboost) (1.2.1)\n",
            "Requirement already satisfied: cycler>=0.10 in /usr/local/lib/python3.10/dist-packages (from matplotlib->catboost) (0.12.1)\n",
            "Requirement already satisfied: fonttools>=4.22.0 in /usr/local/lib/python3.10/dist-packages (from matplotlib->catboost) (4.51.0)\n",
            "Requirement already satisfied: kiwisolver>=1.0.1 in /usr/local/lib/python3.10/dist-packages (from matplotlib->catboost) (1.4.5)\n",
            "Requirement already satisfied: packaging>=20.0 in /usr/local/lib/python3.10/dist-packages (from matplotlib->catboost) (24.0)\n",
            "Requirement already satisfied: pillow>=6.2.0 in /usr/local/lib/python3.10/dist-packages (from matplotlib->catboost) (9.4.0)\n",
            "Requirement already satisfied: pyparsing>=2.3.1 in /usr/local/lib/python3.10/dist-packages (from matplotlib->catboost) (3.1.2)\n",
            "Requirement already satisfied: tenacity>=6.2.0 in /usr/local/lib/python3.10/dist-packages (from plotly->catboost) (8.3.0)\n",
            "Installing collected packages: catboost\n",
            "Successfully installed catboost-1.2.5\n"
          ]
        }
      ]
    },
    {
      "cell_type": "code",
      "source": [
        "from google.colab import drive\n",
        "drive.mount('/content/drive')"
      ],
      "metadata": {
        "colab": {
          "base_uri": "https://localhost:8080/"
        },
        "id": "cqPennNlUadm",
        "outputId": "20db5a61-7631-40d6-f07b-5bb6b6ac62b1"
      },
      "execution_count": 3,
      "outputs": [
        {
          "output_type": "stream",
          "name": "stdout",
          "text": [
            "Mounted at /content/drive\n"
          ]
        }
      ]
    },
    {
      "cell_type": "code",
      "source": [
        "df = pd.read_csv('/content/drive/MyDrive/NUCLIO/telecom_churn_TRAINTEST.csv')"
      ],
      "metadata": {
        "id": "xqFionqVUuIf"
      },
      "execution_count": 4,
      "outputs": []
    },
    {
      "cell_type": "markdown",
      "source": [
        "# Importar train data"
      ],
      "metadata": {
        "id": "B6bkXCg5Xx4B"
      }
    },
    {
      "cell_type": "code",
      "source": [
        "from google.colab import drive\n",
        "drive.mount('/content/drive')"
      ],
      "metadata": {
        "id": "PROwBaoRpp6a",
        "colab": {
          "base_uri": "https://localhost:8080/"
        },
        "outputId": "4c3672b7-554d-49b3-c513-34929bebba6f"
      },
      "execution_count": 5,
      "outputs": [
        {
          "output_type": "stream",
          "name": "stdout",
          "text": [
            "Drive already mounted at /content/drive; to attempt to forcibly remount, call drive.mount(\"/content/drive\", force_remount=True).\n"
          ]
        }
      ]
    },
    {
      "cell_type": "code",
      "source": [
        "df = pd.read_csv('/content/drive/MyDrive/NUCLIO/telecom_churn_TRAINTEST.csv')"
      ],
      "metadata": {
        "id": "ArKmlsecVC40"
      },
      "execution_count": 6,
      "outputs": []
    },
    {
      "cell_type": "code",
      "source": [
        "df.info()"
      ],
      "metadata": {
        "colab": {
          "base_uri": "https://localhost:8080/"
        },
        "id": "9MwE0CGdWCdR",
        "outputId": "a7b7ffd9-57fa-457b-b9b5-b751d5ef4da9"
      },
      "execution_count": 11,
      "outputs": [
        {
          "output_type": "stream",
          "name": "stdout",
          "text": [
            "<class 'pandas.core.frame.DataFrame'>\n",
            "RangeIndex: 90000 entries, 0 to 89999\n",
            "Data columns (total 100 columns):\n",
            " #   Column            Non-Null Count  Dtype  \n",
            "---  ------            --------------  -----  \n",
            " 0   rev               89866 non-null  float64\n",
            " 1   mou               89866 non-null  float64\n",
            " 2   totmrc            89866 non-null  float64\n",
            " 3   da                89866 non-null  float64\n",
            " 4   ovrmou            89866 non-null  float64\n",
            " 5   ovrrev            89866 non-null  float64\n",
            " 6   vceovr            89866 non-null  float64\n",
            " 7   datovr            89866 non-null  float64\n",
            " 8   roam              89866 non-null  float64\n",
            " 9   change_mou        89405 non-null  float64\n",
            " 10  change_rev        89405 non-null  float64\n",
            " 11  drop_vce          90000 non-null  float64\n",
            " 12  drop_dat          90000 non-null  float64\n",
            " 13  blck_vce          90000 non-null  float64\n",
            " 14  blck_dat          90000 non-null  float64\n",
            " 15  unan_vce          90000 non-null  float64\n",
            " 16  unan_dat          90000 non-null  float64\n",
            " 17  plcd_vce          90000 non-null  float64\n",
            " 18  plcd_dat          90000 non-null  float64\n",
            " 19  recv_vce          90000 non-null  float64\n",
            " 20  recv_sms          90000 non-null  float64\n",
            " 21  comp_vce          90000 non-null  float64\n",
            " 22  comp_dat          90000 non-null  float64\n",
            " 23  custcare          90000 non-null  float64\n",
            " 24  ccrndmou          90000 non-null  float64\n",
            " 25  cc_mou            90000 non-null  float64\n",
            " 26  inonemin          90000 non-null  float64\n",
            " 27  threeway          90000 non-null  float64\n",
            " 28  mou_cvce          90000 non-null  float64\n",
            " 29  mou_cdat          90000 non-null  float64\n",
            " 30  mou_rvce          90000 non-null  float64\n",
            " 31  owylis_vce        90000 non-null  float64\n",
            " 32  mouowylisv        90000 non-null  float64\n",
            " 33  iwylis_vce        90000 non-null  float64\n",
            " 34  mouiwylisv        90000 non-null  float64\n",
            " 35  peak_vce          90000 non-null  float64\n",
            " 36  peak_dat          90000 non-null  float64\n",
            " 37  mou_peav          90000 non-null  float64\n",
            " 38  mou_pead          90000 non-null  float64\n",
            " 39  opk_vce           90000 non-null  float64\n",
            " 40  opk_dat           90000 non-null  float64\n",
            " 41  mou_opkv          90000 non-null  float64\n",
            " 42  mou_opkd          90000 non-null  float64\n",
            " 43  drop_blk          90000 non-null  float64\n",
            " 44  attempt           90000 non-null  float64\n",
            " 45  complete          90000 non-null  float64\n",
            " 46  callfwdv          90000 non-null  float64\n",
            " 47  callwait          90000 non-null  float64\n",
            " 48  churn             90000 non-null  int64  \n",
            " 49  months            90000 non-null  int64  \n",
            " 50  uniqsubs          90000 non-null  int64  \n",
            " 51  actvsubs          90000 non-null  int64  \n",
            " 52  new_cell          90000 non-null  object \n",
            " 53  crclscod          90000 non-null  object \n",
            " 54  asl_flag          90000 non-null  object \n",
            " 55  totcalls          90000 non-null  int64  \n",
            " 56  totmou            90000 non-null  float64\n",
            " 57  totrev            90000 non-null  float64\n",
            " 58  adjrev            90000 non-null  float64\n",
            " 59  adjmou            90000 non-null  float64\n",
            " 60  adjqty            90000 non-null  int64  \n",
            " 61  avgrev            90000 non-null  float64\n",
            " 62  avgmou            90000 non-null  float64\n",
            " 63  avgqty            90000 non-null  float64\n",
            " 64  avg3mou           90000 non-null  int64  \n",
            " 65  avg3qty           90000 non-null  int64  \n",
            " 66  avg3rev           90000 non-null  int64  \n",
            " 67  avg6mou           88593 non-null  float64\n",
            " 68  avg6qty           88593 non-null  float64\n",
            " 69  avg6rev           88593 non-null  float64\n",
            " 70  prizm_social_one  83463 non-null  object \n",
            " 71  area              89960 non-null  object \n",
            " 72  dualband          89999 non-null  object \n",
            " 73  refurb_new        89999 non-null  object \n",
            " 74  hnd_price         89296 non-null  float64\n",
            " 75  phones            89999 non-null  float64\n",
            " 76  models            89999 non-null  float64\n",
            " 77  hnd_webcap        80481 non-null  object \n",
            " 78  truck             88549 non-null  float64\n",
            " 79  rv                88549 non-null  float64\n",
            " 80  ownrent           60509 non-null  object \n",
            " 81  lor               63498 non-null  float64\n",
            " 82  dwlltype          62022 non-null  object \n",
            " 83  marital           88549 non-null  object \n",
            " 84  adults            69967 non-null  float64\n",
            " 85  infobase          70597 non-null  object \n",
            " 86  income            67804 non-null  float64\n",
            " 87  numbcars          46432 non-null  float64\n",
            " 88  HHstatin          56968 non-null  object \n",
            " 89  dwllsize          56236 non-null  object \n",
            " 90  forgntvl          88549 non-null  float64\n",
            " 91  ethnic            88549 non-null  object \n",
            " 92  kid0_2            88549 non-null  object \n",
            " 93  kid3_5            88549 non-null  object \n",
            " 94  kid6_10           88549 non-null  object \n",
            " 95  kid11_15          88549 non-null  object \n",
            " 96  kid16_17          88549 non-null  object \n",
            " 97  creditcd          88549 non-null  object \n",
            " 98  eqpdays           89999 non-null  float64\n",
            " 99  Customer_ID       90000 non-null  int64  \n",
            "dtypes: float64(69), int64(10), object(21)\n",
            "memory usage: 68.7+ MB\n"
          ]
        }
      ]
    },
    {
      "cell_type": "code",
      "source": [
        "columnas_categoricas = df.select_dtypes(include=['object']).columns.tolist()\n",
        "for columna in columnas_categoricas:\n",
        "    print(df[columna].value_counts().to_string().replace('\\n', '\\n\\t'))\n",
        "    print(\"\\n\")"
      ],
      "metadata": {
        "colab": {
          "base_uri": "https://localhost:8080/"
        },
        "id": "2GdHlxdsV9gS",
        "outputId": "34ac202b-b838-4cfa-dbff-06dcb36dc4d2"
      },
      "execution_count": 12,
      "outputs": [
        {
          "output_type": "stream",
          "name": "stdout",
          "text": [
            "new_cell\n",
            "\tU    58812\n",
            "\tY    18114\n",
            "\tN    13074\n",
            "\n",
            "\n",
            "crclscod\n",
            "\tAA    34152\n",
            "\tA     15602\n",
            "\tBA    11270\n",
            "\tCA     7389\n",
            "\tEA     5521\n",
            "\tB      3743\n",
            "\tDA     3201\n",
            "\tZA     3177\n",
            "\tC      1418\n",
            "\tA2      771\n",
            "\tU       429\n",
            "\tE       330\n",
            "\tE4      305\n",
            "\tGA      265\n",
            "\tD       244\n",
            "\tG       236\n",
            "\tI       231\n",
            "\tJF      192\n",
            "\tZ       187\n",
            "\tJ       169\n",
            "\tM       153\n",
            "\tC2      152\n",
            "\tD4      107\n",
            "\tZ4       94\n",
            "\tK        93\n",
            "\tW        84\n",
            "\tV1       70\n",
            "\tU1       56\n",
            "\tEM       46\n",
            "\tB2       42\n",
            "\tY        38\n",
            "\tEC       32\n",
            "\tO        24\n",
            "\tCY       21\n",
            "\tE2       19\n",
            "\tCC       19\n",
            "\tD5       16\n",
            "\tC5       14\n",
            "\tIF       14\n",
            "\tZY       12\n",
            "\tZ1       11\n",
            "\tZ5        8\n",
            "\tH         8\n",
            "\tTP        5\n",
            "\tD2        5\n",
            "\tGY        5\n",
            "\tL         4\n",
            "\tEF        4\n",
            "\tZ2        4\n",
            "\tA3        3\n",
            "\tP1        2\n",
            "\tS         1\n",
            "\tV         1\n",
            "\tZF        1\n",
            "\n",
            "\n",
            "asl_flag\n",
            "\tN    79401\n",
            "\tY    10599\n",
            "\n",
            "\n",
            "prizm_social_one\n",
            "\tS    29203\n",
            "\tU    20935\n",
            "\tC    15244\n",
            "\tT    13705\n",
            "\tR     4376\n",
            "\n",
            "\n",
            "area\n",
            "\tNEW YORK CITY AREA               10293\n",
            "\tDC/MARYLAND/VIRGINIA AREA         5924\n",
            "\tMIDWEST AREA                      5891\n",
            "\tATLANTIC SOUTH AREA               5526\n",
            "\tCALIFORNIA NORTH AREA             5476\n",
            "\tDALLAS AREA                       5106\n",
            "\tNEW ENGLAND AREA                  5090\n",
            "\tSOUTHWEST AREA                    5006\n",
            "\tCHICAGO AREA                      4762\n",
            "\tLOS ANGELES AREA                  4556\n",
            "\tGREAT LAKES AREA                  4276\n",
            "\tOHIO AREA                         4260\n",
            "\tNORTHWEST/ROCKY MOUNTAIN AREA     4013\n",
            "\tNORTH FLORIDA AREA                3996\n",
            "\tCENTRAL/SOUTH TEXAS AREA          3962\n",
            "\tHOUSTON AREA                      3887\n",
            "\tSOUTH FLORIDA AREA                3119\n",
            "\tTENNESSEE AREA                    2554\n",
            "\tPHILADELPHIA AREA                 2263\n",
            "\n",
            "\n",
            "dualband\n",
            "\tY    65977\n",
            "\tN    20418\n",
            "\tT     3413\n",
            "\tU      191\n",
            "\n",
            "\n",
            "refurb_new\n",
            "\tN    76624\n",
            "\tR    13375\n",
            "\n",
            "\n",
            "hnd_webcap\n",
            "\tWCMB    67396\n",
            "\tWC      12883\n",
            "\tUNKW      202\n",
            "\n",
            "\n",
            "ownrent\n",
            "\tO    58729\n",
            "\tR     1780\n",
            "\n",
            "\n",
            "dwlltype\n",
            "\tS    44521\n",
            "\tM    17501\n",
            "\n",
            "\n",
            "marital\n",
            "\tU    33050\n",
            "\tM    28419\n",
            "\tS    15951\n",
            "\tB     6391\n",
            "\tA     4738\n",
            "\n",
            "\n",
            "infobase\n",
            "\tM    70597\n",
            "\n",
            "\n",
            "HHstatin\n",
            "\tC    36093\n",
            "\tI    11385\n",
            "\tA     4194\n",
            "\tB     2908\n",
            "\tG     1558\n",
            "\tH      830\n",
            "\n",
            "\n",
            "dwllsize\n",
            "\tA    43118\n",
            "\tB     4743\n",
            "\tC     1357\n",
            "\tJ     1280\n",
            "\tO     1079\n",
            "\tN      905\n",
            "\tD      678\n",
            "\tK      595\n",
            "\tE      490\n",
            "\tL      449\n",
            "\tF      373\n",
            "\tM      344\n",
            "\tG      319\n",
            "\tH      265\n",
            "\tI      241\n",
            "\n",
            "\n",
            "ethnic\n",
            "\tN    30400\n",
            "\tH    11971\n",
            "\tS    11624\n",
            "\tU     9977\n",
            "\tG     5456\n",
            "\tZ     3980\n",
            "\tO     3811\n",
            "\tI     3509\n",
            "\tJ     2622\n",
            "\tF     1940\n",
            "\tB     1279\n",
            "\tR      947\n",
            "\tD      800\n",
            "\tM      137\n",
            "\tP       92\n",
            "\tX        4\n",
            "\n",
            "\n",
            "kid0_2\n",
            "\tU    84938\n",
            "\tY     3611\n",
            "\n",
            "\n",
            "kid3_5\n",
            "\tU    84308\n",
            "\tY     4241\n",
            "\n",
            "\n",
            "kid6_10\n",
            "\tU    81196\n",
            "\tY     7353\n",
            "\n",
            "\n",
            "kid11_15\n",
            "\tU    80497\n",
            "\tY     8052\n",
            "\n",
            "\n",
            "kid16_17\n",
            "\tU    79419\n",
            "\tY     9130\n",
            "\n",
            "\n",
            "creditcd\n",
            "\tY    61716\n",
            "\tN    26833\n",
            "\n",
            "\n"
          ]
        }
      ]
    },
    {
      "cell_type": "code",
      "source": [],
      "metadata": {
        "id": "B-NGmihKZ61H"
      },
      "execution_count": null,
      "outputs": []
    },
    {
      "cell_type": "markdown",
      "source": [
        "# EDA: Analisis Exploratorio"
      ],
      "metadata": {
        "id": "Rwvb_8jJYkJq"
      }
    },
    {
      "cell_type": "code",
      "source": [
        "df_churn_num = df.select_dtypes(include=['int64', 'float64'])"
      ],
      "metadata": {
        "id": "_nliDIbuaA4J"
      },
      "execution_count": 14,
      "outputs": []
    },
    {
      "cell_type": "code",
      "source": [
        "df_churn_num.info()"
      ],
      "metadata": {
        "colab": {
          "base_uri": "https://localhost:8080/"
        },
        "id": "OZKkOq8_aISW",
        "outputId": "c0b98660-040e-4685-9f7a-bdefdf7c9e0e"
      },
      "execution_count": 15,
      "outputs": [
        {
          "output_type": "stream",
          "name": "stdout",
          "text": [
            "<class 'pandas.core.frame.DataFrame'>\n",
            "RangeIndex: 90000 entries, 0 to 89999\n",
            "Data columns (total 79 columns):\n",
            " #   Column       Non-Null Count  Dtype  \n",
            "---  ------       --------------  -----  \n",
            " 0   rev          89866 non-null  float64\n",
            " 1   mou          89866 non-null  float64\n",
            " 2   totmrc       89866 non-null  float64\n",
            " 3   da           89866 non-null  float64\n",
            " 4   ovrmou       89866 non-null  float64\n",
            " 5   ovrrev       89866 non-null  float64\n",
            " 6   vceovr       89866 non-null  float64\n",
            " 7   datovr       89866 non-null  float64\n",
            " 8   roam         89866 non-null  float64\n",
            " 9   change_mou   89405 non-null  float64\n",
            " 10  change_rev   89405 non-null  float64\n",
            " 11  drop_vce     90000 non-null  float64\n",
            " 12  drop_dat     90000 non-null  float64\n",
            " 13  blck_vce     90000 non-null  float64\n",
            " 14  blck_dat     90000 non-null  float64\n",
            " 15  unan_vce     90000 non-null  float64\n",
            " 16  unan_dat     90000 non-null  float64\n",
            " 17  plcd_vce     90000 non-null  float64\n",
            " 18  plcd_dat     90000 non-null  float64\n",
            " 19  recv_vce     90000 non-null  float64\n",
            " 20  recv_sms     90000 non-null  float64\n",
            " 21  comp_vce     90000 non-null  float64\n",
            " 22  comp_dat     90000 non-null  float64\n",
            " 23  custcare     90000 non-null  float64\n",
            " 24  ccrndmou     90000 non-null  float64\n",
            " 25  cc_mou       90000 non-null  float64\n",
            " 26  inonemin     90000 non-null  float64\n",
            " 27  threeway     90000 non-null  float64\n",
            " 28  mou_cvce     90000 non-null  float64\n",
            " 29  mou_cdat     90000 non-null  float64\n",
            " 30  mou_rvce     90000 non-null  float64\n",
            " 31  owylis_vce   90000 non-null  float64\n",
            " 32  mouowylisv   90000 non-null  float64\n",
            " 33  iwylis_vce   90000 non-null  float64\n",
            " 34  mouiwylisv   90000 non-null  float64\n",
            " 35  peak_vce     90000 non-null  float64\n",
            " 36  peak_dat     90000 non-null  float64\n",
            " 37  mou_peav     90000 non-null  float64\n",
            " 38  mou_pead     90000 non-null  float64\n",
            " 39  opk_vce      90000 non-null  float64\n",
            " 40  opk_dat      90000 non-null  float64\n",
            " 41  mou_opkv     90000 non-null  float64\n",
            " 42  mou_opkd     90000 non-null  float64\n",
            " 43  drop_blk     90000 non-null  float64\n",
            " 44  attempt      90000 non-null  float64\n",
            " 45  complete     90000 non-null  float64\n",
            " 46  callfwdv     90000 non-null  float64\n",
            " 47  callwait     90000 non-null  float64\n",
            " 48  churn        90000 non-null  int64  \n",
            " 49  months       90000 non-null  int64  \n",
            " 50  uniqsubs     90000 non-null  int64  \n",
            " 51  actvsubs     90000 non-null  int64  \n",
            " 52  totcalls     90000 non-null  int64  \n",
            " 53  totmou       90000 non-null  float64\n",
            " 54  totrev       90000 non-null  float64\n",
            " 55  adjrev       90000 non-null  float64\n",
            " 56  adjmou       90000 non-null  float64\n",
            " 57  adjqty       90000 non-null  int64  \n",
            " 58  avgrev       90000 non-null  float64\n",
            " 59  avgmou       90000 non-null  float64\n",
            " 60  avgqty       90000 non-null  float64\n",
            " 61  avg3mou      90000 non-null  int64  \n",
            " 62  avg3qty      90000 non-null  int64  \n",
            " 63  avg3rev      90000 non-null  int64  \n",
            " 64  avg6mou      88593 non-null  float64\n",
            " 65  avg6qty      88593 non-null  float64\n",
            " 66  avg6rev      88593 non-null  float64\n",
            " 67  hnd_price    89296 non-null  float64\n",
            " 68  phones       89999 non-null  float64\n",
            " 69  models       89999 non-null  float64\n",
            " 70  truck        88549 non-null  float64\n",
            " 71  rv           88549 non-null  float64\n",
            " 72  lor          63498 non-null  float64\n",
            " 73  adults       69967 non-null  float64\n",
            " 74  income       67804 non-null  float64\n",
            " 75  numbcars     46432 non-null  float64\n",
            " 76  forgntvl     88549 non-null  float64\n",
            " 77  eqpdays      89999 non-null  float64\n",
            " 78  Customer_ID  90000 non-null  int64  \n",
            "dtypes: float64(69), int64(10)\n",
            "memory usage: 54.2 MB\n"
          ]
        }
      ]
    },
    {
      "cell_type": "code",
      "source": [
        "# rellenar\n",
        "def fill_na(df_churn_num, columnas_rellenar):\n",
        "    for col in columnas_rellenar:\n",
        "        # Proporciones calculadas\n",
        "        value_counts = df_churn_num[col].value_counts(normalize=True)\n",
        "\n",
        "        # Lista de valores para rellenar\n",
        "        fill_values = np.random.choice(value_counts.index, size=df_churn_num[col].isna().sum(), p=value_counts.values)\n",
        "\n",
        "        # Rellenando los nulos\n",
        "        df_churn_num.loc[df_churn_num[col].isna(), col] = fill_values\n",
        "\n",
        "    return df_churn_num\n",
        "\n",
        "# Columnas a rellenar\n",
        "columnas_rellenar = ['lor', 'adults', 'income', 'numbcars']\n",
        "\n",
        "# Rellenando\n",
        "df_churn_num = fill_na(df_churn_num, columnas_rellenar)"
      ],
      "metadata": {
        "id": "65RFE7T4fhVA"
      },
      "execution_count": 18,
      "outputs": []
    },
    {
      "cell_type": "code",
      "source": [
        "df_churn_num.info()"
      ],
      "metadata": {
        "colab": {
          "base_uri": "https://localhost:8080/"
        },
        "id": "ySUE0W94foA-",
        "outputId": "f2dd66f4-b140-4f9f-e12d-da4194a2739f"
      },
      "execution_count": 20,
      "outputs": [
        {
          "output_type": "stream",
          "name": "stdout",
          "text": [
            "<class 'pandas.core.frame.DataFrame'>\n",
            "RangeIndex: 90000 entries, 0 to 89999\n",
            "Data columns (total 79 columns):\n",
            " #   Column       Non-Null Count  Dtype  \n",
            "---  ------       --------------  -----  \n",
            " 0   rev          89866 non-null  float64\n",
            " 1   mou          89866 non-null  float64\n",
            " 2   totmrc       89866 non-null  float64\n",
            " 3   da           89866 non-null  float64\n",
            " 4   ovrmou       89866 non-null  float64\n",
            " 5   ovrrev       89866 non-null  float64\n",
            " 6   vceovr       89866 non-null  float64\n",
            " 7   datovr       89866 non-null  float64\n",
            " 8   roam         89866 non-null  float64\n",
            " 9   change_mou   89405 non-null  float64\n",
            " 10  change_rev   89405 non-null  float64\n",
            " 11  drop_vce     90000 non-null  float64\n",
            " 12  drop_dat     90000 non-null  float64\n",
            " 13  blck_vce     90000 non-null  float64\n",
            " 14  blck_dat     90000 non-null  float64\n",
            " 15  unan_vce     90000 non-null  float64\n",
            " 16  unan_dat     90000 non-null  float64\n",
            " 17  plcd_vce     90000 non-null  float64\n",
            " 18  plcd_dat     90000 non-null  float64\n",
            " 19  recv_vce     90000 non-null  float64\n",
            " 20  recv_sms     90000 non-null  float64\n",
            " 21  comp_vce     90000 non-null  float64\n",
            " 22  comp_dat     90000 non-null  float64\n",
            " 23  custcare     90000 non-null  float64\n",
            " 24  ccrndmou     90000 non-null  float64\n",
            " 25  cc_mou       90000 non-null  float64\n",
            " 26  inonemin     90000 non-null  float64\n",
            " 27  threeway     90000 non-null  float64\n",
            " 28  mou_cvce     90000 non-null  float64\n",
            " 29  mou_cdat     90000 non-null  float64\n",
            " 30  mou_rvce     90000 non-null  float64\n",
            " 31  owylis_vce   90000 non-null  float64\n",
            " 32  mouowylisv   90000 non-null  float64\n",
            " 33  iwylis_vce   90000 non-null  float64\n",
            " 34  mouiwylisv   90000 non-null  float64\n",
            " 35  peak_vce     90000 non-null  float64\n",
            " 36  peak_dat     90000 non-null  float64\n",
            " 37  mou_peav     90000 non-null  float64\n",
            " 38  mou_pead     90000 non-null  float64\n",
            " 39  opk_vce      90000 non-null  float64\n",
            " 40  opk_dat      90000 non-null  float64\n",
            " 41  mou_opkv     90000 non-null  float64\n",
            " 42  mou_opkd     90000 non-null  float64\n",
            " 43  drop_blk     90000 non-null  float64\n",
            " 44  attempt      90000 non-null  float64\n",
            " 45  complete     90000 non-null  float64\n",
            " 46  callfwdv     90000 non-null  float64\n",
            " 47  callwait     90000 non-null  float64\n",
            " 48  churn        90000 non-null  int64  \n",
            " 49  months       90000 non-null  int64  \n",
            " 50  uniqsubs     90000 non-null  int64  \n",
            " 51  actvsubs     90000 non-null  int64  \n",
            " 52  totcalls     90000 non-null  int64  \n",
            " 53  totmou       90000 non-null  float64\n",
            " 54  totrev       90000 non-null  float64\n",
            " 55  adjrev       90000 non-null  float64\n",
            " 56  adjmou       90000 non-null  float64\n",
            " 57  adjqty       90000 non-null  int64  \n",
            " 58  avgrev       90000 non-null  float64\n",
            " 59  avgmou       90000 non-null  float64\n",
            " 60  avgqty       90000 non-null  float64\n",
            " 61  avg3mou      90000 non-null  int64  \n",
            " 62  avg3qty      90000 non-null  int64  \n",
            " 63  avg3rev      90000 non-null  int64  \n",
            " 64  avg6mou      88593 non-null  float64\n",
            " 65  avg6qty      88593 non-null  float64\n",
            " 66  avg6rev      88593 non-null  float64\n",
            " 67  hnd_price    89296 non-null  float64\n",
            " 68  phones       89999 non-null  float64\n",
            " 69  models       89999 non-null  float64\n",
            " 70  truck        88549 non-null  float64\n",
            " 71  rv           88549 non-null  float64\n",
            " 72  lor          90000 non-null  float64\n",
            " 73  adults       90000 non-null  float64\n",
            " 74  income       90000 non-null  float64\n",
            " 75  numbcars     90000 non-null  float64\n",
            " 76  forgntvl     88549 non-null  float64\n",
            " 77  eqpdays      89999 non-null  float64\n",
            " 78  Customer_ID  90000 non-null  int64  \n",
            "dtypes: float64(69), int64(10)\n",
            "memory usage: 54.2 MB\n"
          ]
        }
      ]
    },
    {
      "cell_type": "code",
      "source": [
        "df_churn_num.dropna(inplace=True)"
      ],
      "metadata": {
        "id": "bGLf-idahp9i"
      },
      "execution_count": 21,
      "outputs": []
    },
    {
      "cell_type": "code",
      "source": [
        "df_churn_num.reset_index(drop=True, inplace=True)"
      ],
      "metadata": {
        "id": "Wajsad-0h0HB"
      },
      "execution_count": 22,
      "outputs": []
    },
    {
      "cell_type": "code",
      "source": [
        "df_churn_num.info()"
      ],
      "metadata": {
        "colab": {
          "base_uri": "https://localhost:8080/"
        },
        "id": "YOJ5inCah4ql",
        "outputId": "5059fbbc-c74e-4f56-b54c-46b4740c8aa8"
      },
      "execution_count": 23,
      "outputs": [
        {
          "output_type": "stream",
          "name": "stdout",
          "text": [
            "<class 'pandas.core.frame.DataFrame'>\n",
            "RangeIndex: 85963 entries, 0 to 85962\n",
            "Data columns (total 79 columns):\n",
            " #   Column       Non-Null Count  Dtype  \n",
            "---  ------       --------------  -----  \n",
            " 0   rev          85963 non-null  float64\n",
            " 1   mou          85963 non-null  float64\n",
            " 2   totmrc       85963 non-null  float64\n",
            " 3   da           85963 non-null  float64\n",
            " 4   ovrmou       85963 non-null  float64\n",
            " 5   ovrrev       85963 non-null  float64\n",
            " 6   vceovr       85963 non-null  float64\n",
            " 7   datovr       85963 non-null  float64\n",
            " 8   roam         85963 non-null  float64\n",
            " 9   change_mou   85963 non-null  float64\n",
            " 10  change_rev   85963 non-null  float64\n",
            " 11  drop_vce     85963 non-null  float64\n",
            " 12  drop_dat     85963 non-null  float64\n",
            " 13  blck_vce     85963 non-null  float64\n",
            " 14  blck_dat     85963 non-null  float64\n",
            " 15  unan_vce     85963 non-null  float64\n",
            " 16  unan_dat     85963 non-null  float64\n",
            " 17  plcd_vce     85963 non-null  float64\n",
            " 18  plcd_dat     85963 non-null  float64\n",
            " 19  recv_vce     85963 non-null  float64\n",
            " 20  recv_sms     85963 non-null  float64\n",
            " 21  comp_vce     85963 non-null  float64\n",
            " 22  comp_dat     85963 non-null  float64\n",
            " 23  custcare     85963 non-null  float64\n",
            " 24  ccrndmou     85963 non-null  float64\n",
            " 25  cc_mou       85963 non-null  float64\n",
            " 26  inonemin     85963 non-null  float64\n",
            " 27  threeway     85963 non-null  float64\n",
            " 28  mou_cvce     85963 non-null  float64\n",
            " 29  mou_cdat     85963 non-null  float64\n",
            " 30  mou_rvce     85963 non-null  float64\n",
            " 31  owylis_vce   85963 non-null  float64\n",
            " 32  mouowylisv   85963 non-null  float64\n",
            " 33  iwylis_vce   85963 non-null  float64\n",
            " 34  mouiwylisv   85963 non-null  float64\n",
            " 35  peak_vce     85963 non-null  float64\n",
            " 36  peak_dat     85963 non-null  float64\n",
            " 37  mou_peav     85963 non-null  float64\n",
            " 38  mou_pead     85963 non-null  float64\n",
            " 39  opk_vce      85963 non-null  float64\n",
            " 40  opk_dat      85963 non-null  float64\n",
            " 41  mou_opkv     85963 non-null  float64\n",
            " 42  mou_opkd     85963 non-null  float64\n",
            " 43  drop_blk     85963 non-null  float64\n",
            " 44  attempt      85963 non-null  float64\n",
            " 45  complete     85963 non-null  float64\n",
            " 46  callfwdv     85963 non-null  float64\n",
            " 47  callwait     85963 non-null  float64\n",
            " 48  churn        85963 non-null  int64  \n",
            " 49  months       85963 non-null  int64  \n",
            " 50  uniqsubs     85963 non-null  int64  \n",
            " 51  actvsubs     85963 non-null  int64  \n",
            " 52  totcalls     85963 non-null  int64  \n",
            " 53  totmou       85963 non-null  float64\n",
            " 54  totrev       85963 non-null  float64\n",
            " 55  adjrev       85963 non-null  float64\n",
            " 56  adjmou       85963 non-null  float64\n",
            " 57  adjqty       85963 non-null  int64  \n",
            " 58  avgrev       85963 non-null  float64\n",
            " 59  avgmou       85963 non-null  float64\n",
            " 60  avgqty       85963 non-null  float64\n",
            " 61  avg3mou      85963 non-null  int64  \n",
            " 62  avg3qty      85963 non-null  int64  \n",
            " 63  avg3rev      85963 non-null  int64  \n",
            " 64  avg6mou      85963 non-null  float64\n",
            " 65  avg6qty      85963 non-null  float64\n",
            " 66  avg6rev      85963 non-null  float64\n",
            " 67  hnd_price    85963 non-null  float64\n",
            " 68  phones       85963 non-null  float64\n",
            " 69  models       85963 non-null  float64\n",
            " 70  truck        85963 non-null  float64\n",
            " 71  rv           85963 non-null  float64\n",
            " 72  lor          85963 non-null  float64\n",
            " 73  adults       85963 non-null  float64\n",
            " 74  income       85963 non-null  float64\n",
            " 75  numbcars     85963 non-null  float64\n",
            " 76  forgntvl     85963 non-null  float64\n",
            " 77  eqpdays      85963 non-null  float64\n",
            " 78  Customer_ID  85963 non-null  int64  \n",
            "dtypes: float64(69), int64(10)\n",
            "memory usage: 51.8 MB\n"
          ]
        }
      ]
    },
    {
      "cell_type": "code",
      "source": [
        "from sklearn.preprocessing import MinMaxScaler\n",
        "scaler = MinMaxScaler()\n",
        "X_scaled = scaler.fit_transform(df_churn_num)"
      ],
      "metadata": {
        "id": "63_JMYEyiJwD"
      },
      "execution_count": 25,
      "outputs": []
    },
    {
      "cell_type": "code",
      "source": [
        "del df_churn_num['Customer_ID']\n",
        "\n"
      ],
      "metadata": {
        "id": "RfSwbu3MlXn2"
      },
      "execution_count": 28,
      "outputs": []
    },
    {
      "cell_type": "code",
      "source": [
        "df_churn_num.info()"
      ],
      "metadata": {
        "colab": {
          "base_uri": "https://localhost:8080/"
        },
        "id": "aoqogEq8l8u0",
        "outputId": "edf373c1-d4bf-4be0-ebb9-bf833685c3f9"
      },
      "execution_count": 29,
      "outputs": [
        {
          "output_type": "stream",
          "name": "stdout",
          "text": [
            "<class 'pandas.core.frame.DataFrame'>\n",
            "RangeIndex: 85963 entries, 0 to 85962\n",
            "Data columns (total 78 columns):\n",
            " #   Column      Non-Null Count  Dtype  \n",
            "---  ------      --------------  -----  \n",
            " 0   rev         85963 non-null  float64\n",
            " 1   mou         85963 non-null  float64\n",
            " 2   totmrc      85963 non-null  float64\n",
            " 3   da          85963 non-null  float64\n",
            " 4   ovrmou      85963 non-null  float64\n",
            " 5   ovrrev      85963 non-null  float64\n",
            " 6   vceovr      85963 non-null  float64\n",
            " 7   datovr      85963 non-null  float64\n",
            " 8   roam        85963 non-null  float64\n",
            " 9   change_mou  85963 non-null  float64\n",
            " 10  change_rev  85963 non-null  float64\n",
            " 11  drop_vce    85963 non-null  float64\n",
            " 12  drop_dat    85963 non-null  float64\n",
            " 13  blck_vce    85963 non-null  float64\n",
            " 14  blck_dat    85963 non-null  float64\n",
            " 15  unan_vce    85963 non-null  float64\n",
            " 16  unan_dat    85963 non-null  float64\n",
            " 17  plcd_vce    85963 non-null  float64\n",
            " 18  plcd_dat    85963 non-null  float64\n",
            " 19  recv_vce    85963 non-null  float64\n",
            " 20  recv_sms    85963 non-null  float64\n",
            " 21  comp_vce    85963 non-null  float64\n",
            " 22  comp_dat    85963 non-null  float64\n",
            " 23  custcare    85963 non-null  float64\n",
            " 24  ccrndmou    85963 non-null  float64\n",
            " 25  cc_mou      85963 non-null  float64\n",
            " 26  inonemin    85963 non-null  float64\n",
            " 27  threeway    85963 non-null  float64\n",
            " 28  mou_cvce    85963 non-null  float64\n",
            " 29  mou_cdat    85963 non-null  float64\n",
            " 30  mou_rvce    85963 non-null  float64\n",
            " 31  owylis_vce  85963 non-null  float64\n",
            " 32  mouowylisv  85963 non-null  float64\n",
            " 33  iwylis_vce  85963 non-null  float64\n",
            " 34  mouiwylisv  85963 non-null  float64\n",
            " 35  peak_vce    85963 non-null  float64\n",
            " 36  peak_dat    85963 non-null  float64\n",
            " 37  mou_peav    85963 non-null  float64\n",
            " 38  mou_pead    85963 non-null  float64\n",
            " 39  opk_vce     85963 non-null  float64\n",
            " 40  opk_dat     85963 non-null  float64\n",
            " 41  mou_opkv    85963 non-null  float64\n",
            " 42  mou_opkd    85963 non-null  float64\n",
            " 43  drop_blk    85963 non-null  float64\n",
            " 44  attempt     85963 non-null  float64\n",
            " 45  complete    85963 non-null  float64\n",
            " 46  callfwdv    85963 non-null  float64\n",
            " 47  callwait    85963 non-null  float64\n",
            " 48  churn       85963 non-null  int64  \n",
            " 49  months      85963 non-null  int64  \n",
            " 50  uniqsubs    85963 non-null  int64  \n",
            " 51  actvsubs    85963 non-null  int64  \n",
            " 52  totcalls    85963 non-null  int64  \n",
            " 53  totmou      85963 non-null  float64\n",
            " 54  totrev      85963 non-null  float64\n",
            " 55  adjrev      85963 non-null  float64\n",
            " 56  adjmou      85963 non-null  float64\n",
            " 57  adjqty      85963 non-null  int64  \n",
            " 58  avgrev      85963 non-null  float64\n",
            " 59  avgmou      85963 non-null  float64\n",
            " 60  avgqty      85963 non-null  float64\n",
            " 61  avg3mou     85963 non-null  int64  \n",
            " 62  avg3qty     85963 non-null  int64  \n",
            " 63  avg3rev     85963 non-null  int64  \n",
            " 64  avg6mou     85963 non-null  float64\n",
            " 65  avg6qty     85963 non-null  float64\n",
            " 66  avg6rev     85963 non-null  float64\n",
            " 67  hnd_price   85963 non-null  float64\n",
            " 68  phones      85963 non-null  float64\n",
            " 69  models      85963 non-null  float64\n",
            " 70  truck       85963 non-null  float64\n",
            " 71  rv          85963 non-null  float64\n",
            " 72  lor         85963 non-null  float64\n",
            " 73  adults      85963 non-null  float64\n",
            " 74  income      85963 non-null  float64\n",
            " 75  numbcars    85963 non-null  float64\n",
            " 76  forgntvl    85963 non-null  float64\n",
            " 77  eqpdays     85963 non-null  float64\n",
            "dtypes: float64(69), int64(9)\n",
            "memory usage: 51.2 MB\n"
          ]
        }
      ]
    },
    {
      "cell_type": "code",
      "source": [
        "#feature importance\n",
        "params = {'random_state': 42, 'n_jobs': 4, 'n_estimators': 100, 'max_depth': 4}\n",
        "# se entrena un RandomForest y se plotean las variables que tuvieron más importancia en el modelo\n",
        "y = df_churn_num['churn']\n",
        "x = df_churn_num.drop('churn' ,axis=1)\n",
        "# entrena un RandomForest Classifier\n",
        "clf = RandomForestClassifier(**params)\n",
        "clf = clf.fit(x, y)\n",
        "# Plotea las 25 mejores Features importances\n",
        "features = clf.feature_importances_[:25]\n",
        "columnas = x.columns[:25]\n",
        "imp = pd.Series(data=features, index=columnas).sort_values(ascending=False)\n",
        "plt.figure(figsize=(10,8))\n",
        "plt.title(\"Feature importance\")\n",
        "ax = sns.barplot(y=imp.index, x=imp.values, orient='h')\n",
        "plt.show()"
      ],
      "metadata": {
        "colab": {
          "base_uri": "https://localhost:8080/",
          "height": 699
        },
        "id": "uN418FI8mBOY",
        "outputId": "abe1b9b4-354d-4d1a-af1b-19a8a558de93"
      },
      "execution_count": 33,
      "outputs": [
        {
          "output_type": "display_data",
          "data": {
            "text/plain": [
              "<Figure size 1000x800 with 1 Axes>"
            ],
            "image/png": "[encoded data removed]"
          },
          "metadata": {}
        }
      ]
    },
    {
      "cell_type": "code",
      "source": [
        "columnas = x.columns[:12]"
      ],
      "metadata": {
        "id": "NtZPtbKXp_OW"
      },
      "execution_count": 34,
      "outputs": []
    },
    {
      "cell_type": "code",
      "source": [
        "print(columnas)"
      ],
      "metadata": {
        "colab": {
          "base_uri": "https://localhost:8080/"
        },
        "id": "gMqp9yDhqDqC",
        "outputId": "cee0b198-2334-441e-e97f-53eaf05d32c4"
      },
      "execution_count": 35,
      "outputs": [
        {
          "output_type": "stream",
          "name": "stdout",
          "text": [
            "Index(['rev', 'mou', 'totmrc', 'da', 'ovrmou', 'ovrrev', 'vceovr', 'datovr',\n",
            "       'roam', 'change_mou', 'change_rev', 'drop_vce'],\n",
            "      dtype='object')\n"
          ]
        }
      ]
    },
    {
      "cell_type": "code",
      "source": [
        "df_churn_num_top12 = df_churn_num[columnas]"
      ],
      "metadata": {
        "id": "LAXXYR7eqN_m"
      },
      "execution_count": 36,
      "outputs": []
    },
    {
      "cell_type": "code",
      "source": [
        "df_churn_num_top12.info()"
      ],
      "metadata": {
        "colab": {
          "base_uri": "https://localhost:8080/"
        },
        "id": "uuOlss9DqVhB",
        "outputId": "b27355d8-7df5-4baa-80ac-80df8de4d422"
      },
      "execution_count": 37,
      "outputs": [
        {
          "output_type": "stream",
          "name": "stdout",
          "text": [
            "<class 'pandas.core.frame.DataFrame'>\n",
            "RangeIndex: 85963 entries, 0 to 85962\n",
            "Data columns (total 12 columns):\n",
            " #   Column      Non-Null Count  Dtype  \n",
            "---  ------      --------------  -----  \n",
            " 0   rev         85963 non-null  float64\n",
            " 1   mou         85963 non-null  float64\n",
            " 2   totmrc      85963 non-null  float64\n",
            " 3   da          85963 non-null  float64\n",
            " 4   ovrmou      85963 non-null  float64\n",
            " 5   ovrrev      85963 non-null  float64\n",
            " 6   vceovr      85963 non-null  float64\n",
            " 7   datovr      85963 non-null  float64\n",
            " 8   roam        85963 non-null  float64\n",
            " 9   change_mou  85963 non-null  float64\n",
            " 10  change_rev  85963 non-null  float64\n",
            " 11  drop_vce    85963 non-null  float64\n",
            "dtypes: float64(12)\n",
            "memory usage: 7.9 MB\n"
          ]
        }
      ]
    },
    {
      "cell_type": "markdown",
      "source": [
        "## Distribución del target"
      ],
      "metadata": {
        "id": "-isx8tpFpF87"
      }
    },
    {
      "cell_type": "code",
      "source": [],
      "metadata": {
        "id": "5yl-QMPgpFAF"
      },
      "execution_count": 6,
      "outputs": []
    },
    {
      "cell_type": "markdown",
      "source": [
        "## Analisis Univariable"
      ],
      "metadata": {
        "id": "uREYzhY3oTmV"
      }
    },
    {
      "cell_type": "markdown",
      "source": [
        "* Distribucion de cada variable"
      ],
      "metadata": {
        "id": "v1YyQI4toei3"
      }
    },
    {
      "cell_type": "code",
      "source": [],
      "metadata": {
        "id": "HEQ8OfFBoS4t"
      },
      "execution_count": 6,
      "outputs": []
    },
    {
      "cell_type": "markdown",
      "source": [
        "## Analisis Variable-Target"
      ],
      "metadata": {
        "id": "wloaUU9_oah3"
      }
    },
    {
      "cell_type": "markdown",
      "source": [
        "* Relacion target-variable"
      ],
      "metadata": {
        "id": "qr8NQbZOo0ew"
      }
    },
    {
      "cell_type": "code",
      "source": [],
      "metadata": {
        "id": "iYr9AG0OYpl9"
      },
      "execution_count": 6,
      "outputs": []
    },
    {
      "cell_type": "code",
      "source": [],
      "metadata": {
        "id": "TkaV0RilViVr"
      },
      "execution_count": null,
      "outputs": []
    },
    {
      "cell_type": "code",
      "source": [],
      "metadata": {
        "id": "dW16vRDOV4mm"
      },
      "execution_count": null,
      "outputs": []
    },
    {
      "cell_type": "code",
      "source": [],
      "metadata": {
        "id": "smxagtwdZ-kM"
      },
      "execution_count": null,
      "outputs": []
    },
    {
      "cell_type": "markdown",
      "source": [
        "# Data Cleaning"
      ],
      "metadata": {
        "id": "dN3dn7g8Y2RC"
      }
    },
    {
      "cell_type": "markdown",
      "source": [
        "* Eliminar filas sin target informado.\n",
        "* Eliminar filas duplicadas (si tenemos ID, solo puede haber 1 registro por ID)\n",
        "* Eliminar filas/columnas vacías y columnas irrelevantes\n",
        "* Corregir data types incorrectos\n",
        "* Categoricos: Corregir literales incorrectos (acentos, erratas, etc)\n",
        "* Fechas y textos: convertir a variables numericas (hour, day, month, year...) o categoricas (weekday_name...)"
      ],
      "metadata": {
        "id": "xG4KJVo7cFDQ"
      }
    },
    {
      "cell_type": "code",
      "source": [],
      "metadata": {
        "id": "ou_z_TB_cEMe"
      },
      "execution_count": null,
      "outputs": []
    },
    {
      "cell_type": "markdown",
      "source": [
        "# Imputación de nulos"
      ],
      "metadata": {
        "id": "KecnBKigY9jA"
      }
    },
    {
      "cell_type": "markdown",
      "source": [
        "* MODELOS DE ARBOLES: Imputar valor outlier.\n",
        "* MODELOS LINEALES: imputar media, mediana o moda.\n",
        "* Si vamos a practicar un Torneo de Modelos, preferible imputar valor outlier."
      ],
      "metadata": {
        "id": "RQ9TA95Rn9iO"
      }
    },
    {
      "cell_type": "code",
      "source": [],
      "metadata": {
        "id": "9cv9O8lEcZ0b"
      },
      "execution_count": null,
      "outputs": []
    },
    {
      "cell_type": "markdown",
      "source": [
        "# Encoding categóricos"
      ],
      "metadata": {
        "id": "QGswKrzNeiUN"
      }
    },
    {
      "cell_type": "markdown",
      "source": [
        "* Si tienen sentido ordinal, es decir, se pueden ordenar, encodear con una escala numerica. Ejemplo: {\"Bajo\":1, \"Medio\":2, \"Alto\":3}.\n",
        "* Si tienen unicamente 2 clases, indicador booleano\n",
        "* One Hot Encoding en resto de categoricos"
      ],
      "metadata": {
        "id": "671Y_eb2kULA"
      }
    },
    {
      "cell_type": "code",
      "source": [],
      "metadata": {
        "id": "PRlVr04AdaYx"
      },
      "execution_count": null,
      "outputs": []
    },
    {
      "cell_type": "markdown",
      "source": [
        "# Eliminar alta correlación"
      ],
      "metadata": {
        "id": "q850_HUNb_QE"
      }
    },
    {
      "cell_type": "markdown",
      "source": [
        "* Analizar variables (X) altamente correlacionadas\n",
        "* Eliminar una variable de cada pareja altamente correlacionada (>95% o >99%...) en el dataset (df)"
      ],
      "metadata": {
        "id": "bWLk8KgvlfwS"
      }
    },
    {
      "cell_type": "code",
      "source": [],
      "metadata": {
        "id": "H4GUo_mvDhB7"
      },
      "execution_count": null,
      "outputs": []
    },
    {
      "cell_type": "markdown",
      "source": [
        "# Eliminar baja varianza"
      ],
      "metadata": {
        "id": "khGcWSUVl-gI"
      }
    },
    {
      "cell_type": "markdown",
      "source": [
        "* Eliminar variables (X) practicamente constantes con un threshold minimo (1% o menos)"
      ],
      "metadata": {
        "id": "AKGQ4xdWlVG9"
      }
    },
    {
      "cell_type": "code",
      "source": [],
      "metadata": {
        "id": "nVL68mQqk0Xu"
      },
      "execution_count": null,
      "outputs": []
    },
    {
      "cell_type": "markdown",
      "source": [
        "# Guardar clean data"
      ],
      "metadata": {
        "id": "qmoTO8djVYIk"
      }
    },
    {
      "cell_type": "markdown",
      "source": [
        "* Guardar en data path y mostrar el resultado en un head()"
      ],
      "metadata": {
        "id": "MeZX1-9AGpd1"
      }
    },
    {
      "cell_type": "code",
      "source": [],
      "metadata": {
        "id": "Pju9xAbgGlJM"
      },
      "execution_count": null,
      "outputs": []
    }
  ]
}